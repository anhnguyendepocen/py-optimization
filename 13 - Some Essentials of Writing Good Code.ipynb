{
 "cells": [
  {
   "cell_type": "markdown",
   "metadata": {
    "toc": true
   },
   "source": [
    "<h1>Table of Contents<span class=\"tocSkip\"></span></h1>\n",
    "<div class=\"toc\"><ul class=\"toc-item\"><li><span><a href=\"#Some-Essentials-of-Writing-Good-Code\" data-toc-modified-id=\"Some-Essentials-of-Writing-Good-Code-1\">Some Essentials of Writing Good Code</a></span><ul class=\"toc-item\"><li><span><a href=\"#Encapsulation\" data-toc-modified-id=\"Encapsulation-1.1\">Encapsulation</a></span><ul class=\"toc-item\"><li><span><a href=\"#Private-(i.e.-weak-internal-use)-Variables\" data-toc-modified-id=\"Private-(i.e.-weak-internal-use)-Variables-1.1.1\">Private (i.e. <em>weak internal use</em>) Variables</a></span></li><li><span><a href=\"#Attributes\" data-toc-modified-id=\"Attributes-1.1.2\">Attributes</a></span></li><li><span><a href=\"#Properties-as-getters-and-setters\" data-toc-modified-id=\"Properties-as-getters-and-setters-1.1.3\"><em>Properties</em> as <code>getters</code> and <code>setters</code></a></span></li></ul></li><li><span><a href=\"#Writing-Better-Functions\" data-toc-modified-id=\"Writing-Better-Functions-1.2\">Writing Better Functions</a></span><ul class=\"toc-item\"><li><span><a href=\"#Tenets-of-good-function-design\" data-toc-modified-id=\"Tenets-of-good-function-design-1.2.1\">Tenets of good function design</a></span><ul class=\"toc-item\"><li><span><a href=\"#Function-should-be....\" data-toc-modified-id=\"Function-should-be....-1.2.1.1\">Function should be....</a></span></li><li><span><a href=\"#A-Note:-Positional-vs.-Keyword-Arguments\" data-toc-modified-id=\"A-Note:-Positional-vs.-Keyword-Arguments-1.2.1.2\"><strong>A Note</strong>: Positional vs. Keyword Arguments</a></span></li><li><span><a href=\"#Positional-Arguments:\" data-toc-modified-id=\"Positional-Arguments:-1.2.1.3\">Positional Arguments:</a></span></li><li><span><a href=\"#Keyword-Arguments:\" data-toc-modified-id=\"Keyword-Arguments:-1.2.1.4\">Keyword Arguments:</a></span></li></ul></li></ul></li></ul></li></ul></div>"
   ]
  },
  {
   "cell_type": "markdown",
   "metadata": {},
   "source": [
    "# Some Essentials of Writing Good Code\n",
    "\n",
    "__Resources:__\n",
    "\n",
    "1. Pep8 Coding Conventions\n",
    "https://www.python.org/dev/peps/pep-0008/\n",
    "\n",
    "2. Bad Code vs. Good Clean Code \n",
    "https://github.com/zedr/clean-code-python\n",
    "\n",
    "3. Writing Clean, testable code\n",
    "https://developer.ibm.com/articles/au-cleancode/"
   ]
  },
  {
   "cell_type": "markdown",
   "metadata": {},
   "source": [
    "## Encapsulation\n",
    "\n",
    "All modern Object Oriented languages offer ways to encapsulate object attributes, which means regulating access and modification of attributes.\n",
    "\n",
    "\n",
    "In plain language, this is how we can hide internal methods from our users."
   ]
  },
  {
   "cell_type": "markdown",
   "metadata": {},
   "source": [
    "### Private (i.e. *weak internal use*) Variables\n",
    "\n",
    "`_single_leading_underscore`\n",
    "\n",
    "By default in Python, everything is public, whereas in other languages attributes are coded to have a particular scope (i.e. pubplic, private, protected). So in Python, the *convention* is to add a leading underscore to the component/variable/attribute/etc. in order to declare the variable as being private (meaning that it is for internal use).\n",
    "\n",
    "For example:"
   ]
  },
  {
   "cell_type": "code",
   "execution_count": 1,
   "metadata": {},
   "outputs": [],
   "source": [
    "class MyClass:\n",
    "    _private_variable = \"blah\"\n",
    "    public_variable = \"meh\"\n",
    "    \n",
    "    def _private_method(self):\n",
    "        pass\n",
    "    \n",
    "    def public_method(self):\n",
    "        pass"
   ]
  },
  {
   "cell_type": "markdown",
   "metadata": {},
   "source": [
    "Something *very* important to note here is that private variables *can still be accessed just like public variables*. The key word here is that *private* variables are a *convention*.\n",
    "\n",
    "The incentive to respect this convention is for the sake of enabling good, reliable code that won't break or screw over those who inherit your code base."
   ]
  },
  {
   "cell_type": "markdown",
   "metadata": {},
   "source": [
    "### Attributes\n",
    "\n",
    "`__double_leading_underscores`\n",
    "\n",
    "This invokes name mangling (inside `class FooBar`, `__boo` becomes `_FooBar__boo`)."
   ]
  },
  {
   "cell_type": "code",
   "execution_count": 40,
   "metadata": {},
   "outputs": [],
   "source": [
    "class MyOtherClass:\n",
    "    __private_variable = \"ugh\"\n",
    "    public_variable = \"woot\"\n",
    "    \n",
    "    def __private_method(self):\n",
    "        print(\"You can't use a private method outside of its class!\")\n",
    "        pass\n",
    "    \n",
    "    def public_method(self):\n",
    "        print(\"{}... It's silly to do this, but... {}!!\".format(self.__private_variable, \n",
    "                                                                self.public_variable))\n",
    "        self.__private_method()\n",
    "        pass"
   ]
  },
  {
   "cell_type": "code",
   "execution_count": 41,
   "metadata": {},
   "outputs": [],
   "source": [
    "a = MyOtherClass()"
   ]
  },
  {
   "cell_type": "markdown",
   "metadata": {},
   "source": [
    "Notice what happens when we try to print the private variable:"
   ]
  },
  {
   "cell_type": "code",
   "execution_count": 42,
   "metadata": {},
   "outputs": [
    {
     "ename": "AttributeError",
     "evalue": "'MyOtherClass' object has no attribute '__private_variable'",
     "output_type": "error",
     "traceback": [
      "\u001b[1;31m---------------------------------------------------------------------------\u001b[0m",
      "\u001b[1;31mAttributeError\u001b[0m                            Traceback (most recent call last)",
      "\u001b[1;32m<ipython-input-42-6bfa904f0f92>\u001b[0m in \u001b[0;36m<module>\u001b[1;34m()\u001b[0m\n\u001b[1;32m----> 1\u001b[1;33m \u001b[0mprint\u001b[0m\u001b[1;33m(\u001b[0m\u001b[0ma\u001b[0m\u001b[1;33m.\u001b[0m\u001b[0m__private_variable\u001b[0m\u001b[1;33m)\u001b[0m\u001b[1;33m\u001b[0m\u001b[0m\n\u001b[0m",
      "\u001b[1;31mAttributeError\u001b[0m: 'MyOtherClass' object has no attribute '__private_variable'"
     ]
    }
   ],
   "source": [
    "print(a.__private_variable)"
   ]
  },
  {
   "cell_type": "markdown",
   "metadata": {},
   "source": [
    "Now observe how the public methods and variables work:"
   ]
  },
  {
   "cell_type": "code",
   "execution_count": 43,
   "metadata": {},
   "outputs": [
    {
     "name": "stdout",
     "output_type": "stream",
     "text": [
      "ugh... It's silly to do this, but... woot!!\n",
      "You can't use a private method outside of its class!\n"
     ]
    }
   ],
   "source": [
    "a.public_method()"
   ]
  },
  {
   "cell_type": "markdown",
   "metadata": {},
   "source": [
    "### *Properties* as `getters` and `setters`\n",
    "\n",
    "The most proper way to use private variables is via `getters` and `setters`, which in Python have a convenient implementation: **properties**.\n",
    "\n",
    "So, if you declare a variable as a property using the `@property` decorator (the getter) and the `@<property_name>.setter` decorator, you can add getters and setters to it. These can still be used like normal attributes, but they are routed through the getter and setter.\n",
    "\n",
    "Observe:"
   ]
  },
  {
   "cell_type": "code",
   "execution_count": 6,
   "metadata": {},
   "outputs": [],
   "source": [
    "class DrillBit:\n",
    "    _size = None\n",
    "    \n",
    "    @property\n",
    "    def size(self):\n",
    "        print(\"getting drill bit size\")\n",
    "        if not self._size:\n",
    "            print(\"SIZE NOT SET\")\n",
    "        return self._size\n",
    "    \n",
    "    @size.setter\n",
    "    def size(self, value):\n",
    "        if value<0:\n",
    "            print(\"Enter a valid size. Drill bits only come in sizes larger than zero.\")\n",
    "        else:\n",
    "            self._size = value\n",
    "            print(\"Size has been set.\")"
   ]
  },
  {
   "cell_type": "code",
   "execution_count": 7,
   "metadata": {},
   "outputs": [],
   "source": [
    "drill = DrillBit()"
   ]
  },
  {
   "cell_type": "code",
   "execution_count": 8,
   "metadata": {},
   "outputs": [
    {
     "name": "stdout",
     "output_type": "stream",
     "text": [
      "getting drill bit size\n",
      "SIZE NOT SET\n"
     ]
    }
   ],
   "source": [
    "drill.size"
   ]
  },
  {
   "cell_type": "code",
   "execution_count": 9,
   "metadata": {},
   "outputs": [
    {
     "name": "stdout",
     "output_type": "stream",
     "text": [
      "Size has been set.\n"
     ]
    }
   ],
   "source": [
    "drill.size = 5/16"
   ]
  },
  {
   "cell_type": "code",
   "execution_count": 10,
   "metadata": {},
   "outputs": [
    {
     "name": "stdout",
     "output_type": "stream",
     "text": [
      "getting drill bit size\n"
     ]
    },
    {
     "data": {
      "text/plain": [
       "0.3125"
      ]
     },
     "execution_count": 10,
     "metadata": {},
     "output_type": "execute_result"
    }
   ],
   "source": [
    "drill.size"
   ]
  },
  {
   "cell_type": "markdown",
   "metadata": {},
   "source": [
    "__Study this closely and you will see that by using the `@property` and ` @property.setter` decorators, we can have getters and setters without having to use function names like `set_x` and `get_x`.__"
   ]
  },
  {
   "cell_type": "markdown",
   "metadata": {},
   "source": [
    "## Writing Better Functions\n",
    "\n",
    "Lets imagine a scenario:\n",
    "\n",
    "You are working with someone who is new at coding. On one hand, they have high competency in some areas--perhaps mathematics, strategy, confidence, whatever. Despite their capacity to turn mathematics into readable procedural code, they suck at the essentials of Function Oriented and/or Object Oriented paradigm coding.\n",
    "\n",
    "In your work with them, you happen to inherit some codebase (or part of a codebase) that contains one or more *really* gnarly functions / classes.\n",
    "\n",
    "It's most likely that the problem with the function is that it attempts to do more than its fair share, and it doesn't do any of it as well as it could. That is to say: the function doesn't have a single clearly defined, easy to read purpose.\n",
    "\n",
    "This brings us to the core, foundational principle of writing better functions:\n",
    "\n",
    "**A function should have a single, specific, and clearly defined purpose.**\n",
    "\n",
    "In terms of OO design, functions can be thought of as atomized systems that act upon the state of the classes in which they live. In Terms of Functional design, functions are atomic, interoperative parts of a system that act on the central state of an environment."
   ]
  },
  {
   "cell_type": "markdown",
   "metadata": {},
   "source": [
    "### Tenets of good function design\n",
    "\n",
    "> __What is cyclomatic complexity?__<br /><br />\n",
    "Cyclomatic complexity is a software metric, developed by Thomas J. McCabe in 1976, to determine a program’s complexity. The metric measures the number of linearly independent paths, or branches, through source code. According to McCabe, it is best to keep the complexity of a method below 10. This is important because research into human memory has determined that 7 (plus or minus 2) is the magical number of items that a human can hold in short term memory. \n",
    "<br /><br />If a developer is working on code that has 50 linearly independent paths, then they are roughly exceeding fives times the capacity of short term memory in keeping track of what is occurring in that method. Simpler methods that don’t tax all of a human’s short term memory are easier to work with and have been proven to be less error prone. A 2008 study by Enerjy found a strong correlation between cyclomatic complexity and faultiness. Classes that had a complexity of 11 had a probability of being fault-prone of 0.28 but rose to 0.98 with classes of a complexity of 74. <br /><br />*- IBM Developer Blog*"
   ]
  },
  {
   "cell_type": "markdown",
   "metadata": {},
   "source": [
    "#### Function should be...."
   ]
  },
  {
   "cell_type": "markdown",
   "metadata": {},
   "source": [
    "##### Small\n",
    "\n",
    "By keeping functions small, we make them easy to debug, easy to test, and easy to read. According to <a href=\"https://hackernoon.com/dont-be-that-guy-write-better-functions-f5423aa01c1f\">this author</a>, some experts say that a function is optimal in size at 15 lines of code. 25 lines of code is the maximum.\n",
    "\n",
    "1. *Readability*: Especially in Python, when a function is small, it is easier to understand its inferred type signature, and its easy to read and comprehend the purpose of the function.\n",
    "\n",
    "2. *Understandability*: Keeping functions small helps us to code in a way that doesn't deviate from the atomized behavioral design of our code. The more straight forward and small something is, the more bite-sized and readable it is.\n",
    "\n",
    "3. *Testability*: The shorter the function, the easier it is to unit test. Us and those who inherit our code will never have to wade throigh a mire of conflated types.\n",
    "\n",
    "4. *Compilability* & *Parallelization*: Finally, the key to attaining parallelization and compiling in Python is the ability to statically type our code. When our functions are short and to the point, it's easy to help tools like `Numba` and `Cython` compile our code to GIL-unlocked C++."
   ]
  },
  {
   "cell_type": "markdown",
   "metadata": {},
   "source": [
    "##### Clean\n",
    "\n",
    "Very straight forward: How maintainable is your code?\n",
    "\n",
    "Can a novice programmer look at it and get a good idea of what it does? Does your code follow spacing and naming conventions?"
   ]
  },
  {
   "cell_type": "markdown",
   "metadata": {},
   "source": [
    "##### Simple\n",
    "\n",
    "Basically, if a function requires a lot of effort, then theres a good chance it may be overly complex. That means it's time to stop and re-think the solution.\n",
    "\n",
    "By making solutions modular, we make them easier to debug.\n",
    "\n",
    ">“In software development, effort doesn’t grow linearly with complexity — it grows exponentially. Therefore, it is easier to manage two sets of four scenarios each than one with six.” *— Abraham Marín-Pérez*"
   ]
  },
  {
   "cell_type": "markdown",
   "metadata": {},
   "source": [
    "##### Deterministic\n",
    "\n",
    "<a href=\"https://www.geeksforgeeks.org/difference-between-deterministic-and-non-deterministic-algorithms/\"> See here for a definition of determism in coding.</a>\n",
    "\n",
    "Functions need to promise to do one thing and fulfill it without potential side effects. Every time a deterministic function is run with the same inputs, it returns the same outputs. There are no side effects caused by a deterministic function, and a deterministic function should not be effected by the side effects of any other function..\n",
    "\n",
    "Functions that have side effects contain code that doesn't have a specific purpose. Examples of non-deterministic may include search functions that are arbitrarily dependent on the order of input."
   ]
  },
  {
   "cell_type": "markdown",
   "metadata": {},
   "source": [
    "##### Modular\n",
    "\n",
    "The essence of modular code is that it can be broken apart for unit testing. If you can easily type and perform unit tests on your code, then it is probably modular."
   ]
  },
  {
   "cell_type": "markdown",
   "metadata": {},
   "source": [
    "#### **A Note**: Positional vs. Keyword Arguments\n",
    "\n",
    "Some functions are definted to accept any arbitrary number of positional arguments and keyword arguments. You have seen this if you've ever noticed that some functions are defined to take arguments `*args` and `**kwards`.\n",
    "\n",
    "Compare positoinal arguments to keyword arguments:"
   ]
  },
  {
   "cell_type": "markdown",
   "metadata": {},
   "source": [
    "#### Positional Arguments:\n",
    "\n",
    "Note that it is essential that when the function is called, that all of the positional arguments are in the right place--hence the name *positional*."
   ]
  },
  {
   "cell_type": "code",
   "execution_count": 12,
   "metadata": {},
   "outputs": [],
   "source": [
    "def volume(L, W, H):\n",
    "    return length*width*height"
   ]
  },
  {
   "cell_type": "markdown",
   "metadata": {},
   "source": [
    "#### Keyword Arguments:"
   ]
  },
  {
   "cell_type": "code",
   "execution_count": 7,
   "metadata": {},
   "outputs": [],
   "source": [
    "def sort_multiple_datasets(*args):\n",
    "    '''IN-PLACE SORT FOR MULTIPLE LISTS'''\n",
    "    for dataset in args:\n",
    "        dataset.sort()"
   ]
  },
  {
   "cell_type": "code",
   "execution_count": 6,
   "metadata": {},
   "outputs": [],
   "source": [
    "def simple_search(*args, **kwargs):\n",
    "    '''Takes a list of users and a dictionary of groups containing group names\n",
    "       and user lists for each group. Searches the groups and prints out which \n",
    "       users are in which groups.'''\n",
    "    for group in kwargs.keys():\n",
    "        for user in args:\n",
    "            if user in kwargs[group]:\n",
    "                print(\"{} is in the group '{}'\".format(user, group))"
   ]
  },
  {
   "cell_type": "code",
   "execution_count": null,
   "metadata": {},
   "outputs": [],
   "source": []
  }
 ],
 "metadata": {
  "kernelspec": {
   "display_name": "Python 3",
   "language": "python",
   "name": "python3"
  },
  "language_info": {
   "codemirror_mode": {
    "name": "ipython",
    "version": 3
   },
   "file_extension": ".py",
   "mimetype": "text/x-python",
   "name": "python",
   "nbconvert_exporter": "python",
   "pygments_lexer": "ipython3",
   "version": "3.6.7"
  },
  "toc": {
   "base_numbering": 1,
   "nav_menu": {},
   "number_sections": false,
   "sideBar": true,
   "skip_h1_title": false,
   "title_cell": "Table of Contents",
   "title_sidebar": "Contents",
   "toc_cell": true,
   "toc_position": {},
   "toc_section_display": true,
   "toc_window_display": true
  }
 },
 "nbformat": 4,
 "nbformat_minor": 2
}
