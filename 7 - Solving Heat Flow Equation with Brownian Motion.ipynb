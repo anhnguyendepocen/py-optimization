{
 "cells": [
  {
   "cell_type": "markdown",
   "metadata": {
    "toc": true
   },
   "source": [
    "<h1>Table of Contents<span class=\"tocSkip\"></span></h1>\n",
    "<div class=\"toc\"><ul class=\"toc-item\"><li><span><a href=\"#Solving-Laplace's-Equation-with-Brownian-Motion\" data-toc-modified-id=\"Solving-Laplace's-Equation-with-Brownian-Motion-1\"><span class=\"toc-item-num\">1&nbsp;&nbsp;</span>Solving Laplace's Equation with Brownian Motion</a></span><ul class=\"toc-item\"><li><span><a href=\"#Brownian-Motion\" data-toc-modified-id=\"Brownian-Motion-1.1\"><span class=\"toc-item-num\">1.1&nbsp;&nbsp;</span>Brownian Motion</a></span></li><li><span><a href=\"#Laplace's-Equation-(Steady-state-Heat-Equation)\" data-toc-modified-id=\"Laplace's-Equation-(Steady-state-Heat-Equation)-1.2\"><span class=\"toc-item-num\">1.2&nbsp;&nbsp;</span>Laplace's Equation (Steady-state Heat Equation)</a></span></li></ul></li><li><span><a href=\"#Parallelism-with-Joblib\" data-toc-modified-id=\"Parallelism-with-Joblib-2\"><span class=\"toc-item-num\">2&nbsp;&nbsp;</span>Parallelism with Joblib</a></span><ul class=\"toc-item\"><li><span><a href=\"#Joblib-examples\" data-toc-modified-id=\"Joblib-examples-2.1\"><span class=\"toc-item-num\">2.1&nbsp;&nbsp;</span>Joblib examples</a></span><ul class=\"toc-item\"><li><span><a href=\"#Parallelized-square-root\" data-toc-modified-id=\"Parallelized-square-root-2.1.1\"><span class=\"toc-item-num\">2.1.1&nbsp;&nbsp;</span>Parallelized square root</a></span></li><li><span><a href=\"#Busy-sleep\" data-toc-modified-id=\"Busy-sleep-2.1.2\"><span class=\"toc-item-num\">2.1.2&nbsp;&nbsp;</span>Busy sleep</a></span></li></ul></li><li><span><a href=\"#Random-Number-Generators\" data-toc-modified-id=\"Random-Number-Generators-2.2\"><span class=\"toc-item-num\">2.2&nbsp;&nbsp;</span>Random Number Generators</a></span><ul class=\"toc-item\"><li><span><a href=\"#Random-Seeds-in-numpy-vs-randomgen\" data-toc-modified-id=\"Random-Seeds-in-numpy-vs-randomgen-2.2.1\"><span class=\"toc-item-num\">2.2.1&nbsp;&nbsp;</span>Random Seeds in <code>numpy</code> vs <code>randomgen</code></a></span></li><li><span><a href=\"#Parallelizing-random-number-generation\" data-toc-modified-id=\"Parallelizing-random-number-generation-2.2.2\"><span class=\"toc-item-num\">2.2.2&nbsp;&nbsp;</span>Parallelizing random number generation</a></span><ul class=\"toc-item\"><li><span><a href=\"#Single-core-with-np.random:\" data-toc-modified-id=\"Single-core-with-np.random:-2.2.2.1\"><span class=\"toc-item-num\">2.2.2.1&nbsp;&nbsp;</span>Single-core with <code>np.random</code>:</a></span></li><li><span><a href=\"#Thread-based-parallelism-with-np.random-&amp;-joblib:\" data-toc-modified-id=\"Thread-based-parallelism-with-np.random-&amp;-joblib:-2.2.2.2\"><span class=\"toc-item-num\">2.2.2.2&nbsp;&nbsp;</span>Thread-based parallelism with <code>np.random</code> &amp; <code>joblib</code>:</a></span></li><li><span><a href=\"#Process-based-parallelism-with-np.random-&amp;-joblib:\" data-toc-modified-id=\"Process-based-parallelism-with-np.random-&amp;-joblib:-2.2.2.3\"><span class=\"toc-item-num\">2.2.2.3&nbsp;&nbsp;</span>Process-based parallelism with <code>np.random</code> &amp; <code>joblib</code>:</a></span></li><li><span><a href=\"#Single-core-with-randomgen:\" data-toc-modified-id=\"Single-core-with-randomgen:-2.2.2.4\"><span class=\"toc-item-num\">2.2.2.4&nbsp;&nbsp;</span>Single-core with <code>randomgen</code>:</a></span></li><li><span><a href=\"#Thread-based-parallelism-with-randomgen-&amp;-joblib:\" data-toc-modified-id=\"Thread-based-parallelism-with-randomgen-&amp;-joblib:-2.2.2.5\"><span class=\"toc-item-num\">2.2.2.5&nbsp;&nbsp;</span>Thread-based parallelism with <code>randomgen</code> &amp; <code>joblib</code>:</a></span></li><li><span><a href=\"#Process-based-parallelism-with-randomgen-&amp;-joblib:\" data-toc-modified-id=\"Process-based-parallelism-with-randomgen-&amp;-joblib:-2.2.2.6\"><span class=\"toc-item-num\">2.2.2.6&nbsp;&nbsp;</span>Process-based parallelism with <code>randomgen</code> &amp; <code>joblib</code>:</a></span></li><li><span><a href=\"#Raw-speed-test,-default-generators\" data-toc-modified-id=\"Raw-speed-test,-default-generators-2.2.2.7\"><span class=\"toc-item-num\">2.2.2.7&nbsp;&nbsp;</span>Raw speed test, default generators</a></span></li><li><span><a href=\"#Conclusion\" data-toc-modified-id=\"Conclusion-2.2.2.8\"><span class=\"toc-item-num\">2.2.2.8&nbsp;&nbsp;</span>Conclusion</a></span></li></ul></li><li><span><a href=\"#randomgen's-various-generators\" data-toc-modified-id=\"randomgen's-various-generators-2.2.3\"><span class=\"toc-item-num\">2.2.3&nbsp;&nbsp;</span><code>randomgen</code>'s various generators</a></span><ul class=\"toc-item\"><li><span><a href=\"#MT19937,-Numpy's-Generator\" data-toc-modified-id=\"MT19937,-Numpy's-Generator-2.2.3.1\"><span class=\"toc-item-num\">2.2.3.1&nbsp;&nbsp;</span>MT19937, Numpy's Generator</a></span></li><li><span><a href=\"#Xoroshiro128\" data-toc-modified-id=\"Xoroshiro128-2.2.3.2\"><span class=\"toc-item-num\">2.2.3.2&nbsp;&nbsp;</span>Xoroshiro128</a></span></li><li><span><a href=\"#DSFMT\" data-toc-modified-id=\"DSFMT-2.2.3.3\"><span class=\"toc-item-num\">2.2.3.3&nbsp;&nbsp;</span>DSFMT</a></span></li><li><span><a href=\"#PCG64\" data-toc-modified-id=\"PCG64-2.2.3.4\"><span class=\"toc-item-num\">2.2.3.4&nbsp;&nbsp;</span>PCG64</a></span></li><li><span><a href=\"#ThreeFry-and-Philox\" data-toc-modified-id=\"ThreeFry-and-Philox-2.2.3.5\"><span class=\"toc-item-num\">2.2.3.5&nbsp;&nbsp;</span>ThreeFry and Philox</a></span></li></ul></li><li><span><a href=\"#randomgen's-various-features-and-functions\" data-toc-modified-id=\"randomgen's-various-features-and-functions-2.2.4\"><span class=\"toc-item-num\">2.2.4&nbsp;&nbsp;</span><code>randomgen</code>'s various features and functions</a></span><ul class=\"toc-item\"><li><span><a href=\"#DSFMT-vs-MT19937\" data-toc-modified-id=\"DSFMT-vs-MT19937-2.2.4.1\"><span class=\"toc-item-num\">2.2.4.1&nbsp;&nbsp;</span>DSFMT vs MT19937</a></span></li><li><span><a href=\"#Conclusions:-Parallelizing-is-not-worth-it-for-random-number-generation\" data-toc-modified-id=\"Conclusions:-Parallelizing-is-not-worth-it-for-random-number-generation-2.2.4.2\"><span class=\"toc-item-num\">2.2.4.2&nbsp;&nbsp;</span>Conclusions: Parallelizing is not worth it for random number generation</a></span></li></ul></li></ul></li></ul></li><li><span><a href=\"#Parallelize-Brownian-Motion-of-Particles\" data-toc-modified-id=\"Parallelize-Brownian-Motion-of-Particles-3\"><span class=\"toc-item-num\">3&nbsp;&nbsp;</span>Parallelize Brownian Motion of Particles</a></span><ul class=\"toc-item\"><li><span><a href=\"#Reference-Code---Pure-Python\" data-toc-modified-id=\"Reference-Code---Pure-Python-3.1\"><span class=\"toc-item-num\">3.1&nbsp;&nbsp;</span>Reference Code - Pure Python</a></span></li></ul></li><li><span><a href=\"#Parallelize-Cython\" data-toc-modified-id=\"Parallelize-Cython-4\"><span class=\"toc-item-num\">4&nbsp;&nbsp;</span>Parallelize Cython</a></span><ul class=\"toc-item\"><li><span><a href=\"#Optimizing-norm-with-libc.math\" data-toc-modified-id=\"Optimizing-norm-with-libc.math-4.1\"><span class=\"toc-item-num\">4.1&nbsp;&nbsp;</span>Optimizing <code>norm</code> with <code>libc.math</code></a></span><ul class=\"toc-item\"><li><span><a href=\"#np.linalg.norm\" data-toc-modified-id=\"np.linalg.norm-4.1.1\"><span class=\"toc-item-num\">4.1.1&nbsp;&nbsp;</span><code>np.linalg.norm</code></a></span></li><li><span><a href=\"#math\" data-toc-modified-id=\"math-4.1.2\"><span class=\"toc-item-num\">4.1.2&nbsp;&nbsp;</span><code>math</code></a></span></li><li><span><a href=\"#Cython-and-libc.math\" data-toc-modified-id=\"Cython-and-libc.math-4.1.3\"><span class=\"toc-item-num\">4.1.3&nbsp;&nbsp;</span>Cython and <code>libc.math</code></a></span></li><li><span><a href=\"#Results-/-Conclusions\" data-toc-modified-id=\"Results-/-Conclusions-4.1.4\"><span class=\"toc-item-num\">4.1.4&nbsp;&nbsp;</span>Results / Conclusions</a></span><ul class=\"toc-item\"><li><span><a href=\"#Python-Only\" data-toc-modified-id=\"Python-Only-4.1.4.1\"><span class=\"toc-item-num\">4.1.4.1&nbsp;&nbsp;</span>Python Only</a></span></li><li><span><a href=\"#with-Cython-norm-function\" data-toc-modified-id=\"with-Cython-norm-function-4.1.4.2\"><span class=\"toc-item-num\">4.1.4.2&nbsp;&nbsp;</span>with Cython norm function</a></span></li></ul></li></ul></li></ul></li><li><span><a href=\"#Numba\" data-toc-modified-id=\"Numba-5\"><span class=\"toc-item-num\">5&nbsp;&nbsp;</span>Numba</a></span><ul class=\"toc-item\"><li><span><a href=\"#Cython-with-@jit\" data-toc-modified-id=\"Cython-with-@jit-5.1\"><span class=\"toc-item-num\">5.1&nbsp;&nbsp;</span>Cython with <code>@jit</code></a></span></li><li><span><a href=\"#Python-with-@jit\" data-toc-modified-id=\"Python-with-@jit-5.2\"><span class=\"toc-item-num\">5.2&nbsp;&nbsp;</span>Python with <code>@jit</code></a></span></li><li><span><a href=\"#Python-with-@guvectorize\" data-toc-modified-id=\"Python-with-@guvectorize-5.3\"><span class=\"toc-item-num\">5.3&nbsp;&nbsp;</span>Python with <code>@guvectorize</code></a></span><ul class=\"toc-item\"><li><span><a href=\"#Results\" data-toc-modified-id=\"Results-5.3.1\"><span class=\"toc-item-num\">5.3.1&nbsp;&nbsp;</span>Results</a></span></li></ul></li></ul></li><li><span><a href=\"#Final-Optimiziations\" data-toc-modified-id=\"Final-Optimiziations-6\"><span class=\"toc-item-num\">6&nbsp;&nbsp;</span>Final Optimiziations</a></span><ul class=\"toc-item\"><li><span><a href=\"#Optimal-Random-Generator\" data-toc-modified-id=\"Optimal-Random-Generator-6.1\"><span class=\"toc-item-num\">6.1&nbsp;&nbsp;</span>Optimal Random Generator</a></span></li></ul></li><li><span><a href=\"#Conclusion-/-Results\" data-toc-modified-id=\"Conclusion-/-Results-7\"><span class=\"toc-item-num\">7&nbsp;&nbsp;</span>Conclusion / Results</a></span></li><li><span><a href=\"#Future-Improvements\" data-toc-modified-id=\"Future-Improvements-8\"><span class=\"toc-item-num\">8&nbsp;&nbsp;</span>Future Improvements</a></span></li></ul></div>"
   ]
  },
  {
   "cell_type": "markdown",
   "metadata": {},
   "source": [
    "# Solving Laplace's Equation with Brownian Motion"
   ]
  },
  {
   "cell_type": "markdown",
   "metadata": {},
   "source": [
    "## Brownian Motion\n",
    "\n",
    "(Credit for mathematical explanation: <a href=\"https://srome.github.io/On-Solving-Partial-Differential-Equations-with-Brownian-Motion-in-Python/\">here</a>)\n",
    "\n",
    "Brownian Motion is defined by the random variable $H_t$, which satisfies:\n",
    "\n",
    "$$H_t - H_s \\approx N(0, t-s)$$\n",
    "\n",
    "$$H_0 = 0$$\n",
    "\n",
    "<center>Each $H_t$ is independent and $H_t$ has a continuous motion</center>\n",
    "\n",
    "<center>$N(\\mu, \\sigma)$ is a random, normally distributed increment defined by mean and std. dev.\n",
    "\n",
    "<br />\n",
    "<br />\n",
    "<br />\n",
    "\n",
    "Furthermore, if we want to simulate Brownian Motion which walks until time $t$, then we can partition an interva of time as such:\n",
    "\n",
    "$$\\Delta t = \\frac{t}{n}$$\n",
    "\n",
    "<center>where $n$ is the number of evenly-spaced increments in time</center>\n",
    "\n",
    "<br />\n",
    "<br />\n",
    "<br />\n",
    "\n",
    "So, for each $H_k$, where $k = 1 = , ..., n$. \n",
    "\n",
    "We know that\n",
    "\n",
    "$$H_k - H_{k-1} \\approx N(0, \\Delta t) = \\sqrt{\\Delta t} N(0, 1)$$\n",
    "\n",
    "And we realize that:\n",
    "\n",
    "$$H_k = H_{k-1} + dW_{k-1}$$"
   ]
  },
  {
   "cell_type": "code",
   "execution_count": 2,
   "metadata": {
    "ExecuteTime": {
     "end_time": "2019-05-08T15:36:23.960097Z",
     "start_time": "2019-05-08T15:36:23.787518Z"
    }
   },
   "outputs": [
    {
     "data": {
      "text/plain": [
       "[<matplotlib.lines.Line2D at 0x1acd07b0048>]"
      ]
     },
     "execution_count": 2,
     "metadata": {},
     "output_type": "execute_result"
    },
    {
     "data": {
      "image/png": "[encoded data removed]",
      "text/plain": [
       "<Figure size 576x360 with 1 Axes>"
      ]
     },
     "metadata": {},
     "output_type": "display_data"
    }
   ],
   "source": [
    "%matplotlib inline\n",
    "import numpy as np\n",
    "import matplotlib.pyplot as plt\n",
    "from jupyterthemes import jtplot\n",
    "jtplot.style()\n",
    "\n",
    "\n",
    "t = 2         # how much time passes\n",
    "n = 1000    # how many increments\n",
    "dt = t/n    # define dt\n",
    "\n",
    "dH = np.sqrt(dt) * np.random.normal(0,1,size=n)\n",
    "H = np.zeros(n+1)\n",
    "\n",
    "# H_{k-1} + dH_{k-1} = H_k \n",
    "H[1:] = np.cumsum(dH)\n",
    "\n",
    "plt.figure(figsize = (8,5))\n",
    "plt.plot(H)"
   ]
  },
  {
   "cell_type": "markdown",
   "metadata": {},
   "source": [
    "## Laplace's Equation (Steady-state Heat Equation)\n",
    "\n",
    "One of the first rules of applied mathematics is that if you can avoid doing an annoying differential equation, then by all means do so. \n",
    "\n",
    "Let's approach Laplace's Equation. While this is given in two dimensions, it is known to extend to $n$ dimensions.\n",
    "\n",
    "\n",
    "Laplace's Equation is given by \n",
    "\n",
    "$$\\Delta u(x) = 0$$ \n",
    "\n",
    "for $x \\in {\\rm I\\!R^n}$ where $z, y \\in {\\rm I\\!R}$ with $n=2$\n",
    "\n",
    "$$u_{zz}(z, y) + u_{yy}(z, y) = 0$$\n",
    "\n",
    "<br />\n",
    "<br />\n",
    "<br />\n",
    "\n",
    "##### Boundary Value Problem for Laplace's Equation\n",
    "Suppose now we wanted to find a solution $u$ that satisfies Labplace's Equation on the boundary $\\partial D$ of some domain $D$, such that the solution can be given as a function $f(x)$:\n",
    "\n",
    "$$\\Delta u(x) = 0 \\in D$$\n",
    "\n",
    "$$u(x) = f(x) \\in \\partial D$$\n",
    "\n",
    "\n",
    "Supposing we let $D$ denote the unit circle in ${\\rm I\\!R^2}$, with $f(\\theta) = cos(\\theta)$, a solution can be found analytically. To illustrate just how tedious and arduous this can be, see a thorough derivation <a href=\"https://www.math.hmc.edu/~ajb/PCMI/lecture11.pdf\">here</a>.\n",
    "\n",
    "The analytical solution is found to be:\n",
    "\n",
    "$$u(x, y) = \\sqrt{x^2 + y^2}cos(arctan2(x, y))$$\n",
    "\n",
    "where $arctan2$ is a special variant of $arctan$ as defined <a href=\"https://docs.scipy.org/doc/numpy/reference/generated/numpy.arctan2.html\">here</a>, which allows us to correctly choose the quadrant of interest.\n",
    "\n",
    "\n",
    "##### Using Brownian Motion to solve the PDE\n",
    "\n",
    "The mean-value theorem of calculus allows us to give a simple proof stating that a particle exhibiting brownian motion will eventually exit the elliptical boundary.\n",
    "\n",
    "If we start the particle at some $x \\in D$, if will eventually intersect $\\partial D$, and at that point will exit $D$.\n",
    "\n",
    "The point of exit is defined as $Exit(x, D)$. With this definition we write a formula for the solution $u$:\n",
    "\n",
    "$$u(x) = {\\rm I\\!E}f(Exit(x,D)))$$\n",
    "\n",
    "\n",
    "We can now begin to write a simulation, and we can check its precision and accuracy given the analytical solution."
   ]
  },
  {
   "cell_type": "code",
   "execution_count": 3,
   "metadata": {
    "ExecuteTime": {
     "end_time": "2019-05-08T15:36:26.177006Z",
     "start_time": "2019-05-08T15:36:26.065313Z"
    }
   },
   "outputs": [
    {
     "data": {
      "text/plain": [
       "[<matplotlib.lines.Line2D at 0x1acd083f160>]"
      ]
     },
     "execution_count": 3,
     "metadata": {},
     "output_type": "execute_result"
    },
    {
     "data": {
      "image/png": "[encoded data removed]",
      "text/plain": [
       "<Figure size 360x360 with 1 Axes>"
      ]
     },
     "metadata": {},
     "output_type": "display_data"
    }
   ],
   "source": [
    "t = 1\n",
    "n = 1000\n",
    "# move the square root to the variable definiton so we only calculate it once\n",
    "dt = np.sqrt(t/n)\n",
    "\n",
    "dH = dt * np.random.normal(0,1,size=(2, n))\n",
    "H = np.zeros((n+1,2))\n",
    " \n",
    "H[1:,0] = np.cumsum(dH[0])\n",
    "H[1:,1] = np.cumsum(dH[1])\n",
    "\n",
    "plt.figure(figsize = (5,5))\n",
    "plt.plot(H[:,0],H[:,1], '-')\n"
   ]
  },
  {
   "cell_type": "markdown",
   "metadata": {},
   "source": [
    "##### Simulating and Exit Point\n",
    "\n",
    "**Note:** The best choice of the simulation is dependent on $\\Delta t$. Computation time is shorter for smaller $\\Delta t$, meaning faster simulation. Points that appear outside of the circle have jumped out of the domain due to the time resolution of a large $\\Delta t$."
   ]
  },
  {
   "cell_type": "code",
   "execution_count": 5,
   "metadata": {
    "ExecuteTime": {
     "end_time": "2019-05-08T15:36:41.874591Z",
     "start_time": "2019-05-08T15:36:36.362256Z"
    }
   },
   "outputs": [
    {
     "data": {
      "text/plain": [
       "<matplotlib.collections.PathCollection at 0x1acd0907c88>"
      ]
     },
     "execution_count": 5,
     "metadata": {},
     "output_type": "execute_result"
    },
    {
     "data": {
      "image/png": "[encoded data removed]",
      "text/plain": [
       "<Figure size 360x360 with 1 Axes>"
      ]
     },
     "metadata": {},
     "output_type": "display_data"
    }
   ],
   "source": [
    "np.random.seed(42) # random seed for reproducible results\n",
    "\n",
    "exit_check = lambda v: True if np.linalg.norm(v , 2) >=1 else False\n",
    "    \n",
    "def exit_time_sim(v):\n",
    "    dt = np.sqrt(.0001)\n",
    "    x = v.copy()\n",
    "    while not exit_check(x):\n",
    "        x = x + dt * np.random.normal(0, 1, size=2)\n",
    "    return x\n",
    "\n",
    "v=np.array((0,0)) # origin\n",
    "exit_times = np.array([exit_time_sim(v) for k in range(0,100)])\n",
    "\n",
    "\n",
    "plt.figure(figsize = (5,5))\n",
    "\n",
    "circle = plt.Circle((0,0), 1, color='c', alpha=0.5)\n",
    "plt.gcf().gca().add_artist(circle)\n",
    "\n",
    "plt.axis([-1.1, 1.1, -1.1, 1.1])\n",
    "plt.scatter(exit_times[:,0], exit_times[:,1], c='y', alpha=1)"
   ]
  },
  {
   "cell_type": "markdown",
   "metadata": {},
   "source": [
    "##### Comparing to Analytical Solution"
   ]
  },
  {
   "cell_type": "code",
   "execution_count": 6,
   "metadata": {
    "ExecuteTime": {
     "end_time": "2019-05-08T15:37:46.270482Z",
     "start_time": "2019-05-08T15:36:51.006640Z"
    }
   },
   "outputs": [
    {
     "name": "stdout",
     "output_type": "stream",
     "text": [
      " The value u(v) = 0.5000000000000001 \n",
      " The value of Exp(f(Exit)) = 0.48213629603471486\n"
     ]
    }
   ],
   "source": [
    "v = np.array((0.5, 0.5))\n",
    "\n",
    "# analytical solution\n",
    "f = lambda x : np.cos(np.arctan2(x[1], x[0]))\n",
    "u = lambda x : np.linalg.norm(x, 2) * f(x)\n",
    "\n",
    "\n",
    "def f_expected(start_point, n_trials):\n",
    "    return np.mean([f(exit_time_sim(start_point)) for k in range(0, n_trials)])\n",
    "\n",
    "expected = f_expected(v,2000) # Expected value of f(Exit(x,d))\n",
    "\n",
    "print(' The value u(v) = %s \\n' %(u(v)),\n",
    "      'The value of Exp(f(Exit)) = %s' %(expected)) "
   ]
  },
  {
   "cell_type": "code",
   "execution_count": 92,
   "metadata": {
    "ExecuteTime": {
     "end_time": "2019-05-07T20:50:31.810534Z",
     "start_time": "2019-05-07T20:50:31.801517Z"
    }
   },
   "outputs": [
    {
     "data": {
      "text/plain": [
       "(array([0.5, 0.5]), 0.6543785110576585)"
      ]
     },
     "execution_count": 92,
     "metadata": {},
     "output_type": "execute_result"
    }
   ],
   "source": [
    "(v, f(exit_time_sim(v)))"
   ]
  },
  {
   "cell_type": "markdown",
   "metadata": {},
   "source": [
    "# Parallelism with Joblib\n",
    "\n",
    "[Joblib](https://joblib.readthedocs.io/) provides a *very* simple API for both **thread-based** and **process-based** parallelism (as well as memoization)."
   ]
  },
  {
   "cell_type": "markdown",
   "metadata": {},
   "source": [
    "## Joblib examples\n",
    "\n",
    "*Reference: [Embarrassingly parallel for loops](https://joblib.readthedocs.io/en/latest/parallel.html)*"
   ]
  },
  {
   "cell_type": "code",
   "execution_count": 4,
   "metadata": {
    "ExecuteTime": {
     "end_time": "2019-05-08T15:42:07.911115Z",
     "start_time": "2019-05-08T15:42:07.906129Z"
    }
   },
   "outputs": [],
   "source": [
    "from joblib import Parallel, delayed\n",
    "import math"
   ]
  },
  {
   "cell_type": "markdown",
   "metadata": {},
   "source": [
    "### Parallelized square root\n",
    "\n",
    "**Note**: Parallelizing this actually slows us down due to parallel overhead!"
   ]
  },
  {
   "cell_type": "code",
   "execution_count": 9,
   "metadata": {
    "ExecuteTime": {
     "end_time": "2019-05-09T04:05:37.667051Z",
     "start_time": "2019-05-09T04:05:37.662672Z"
    }
   },
   "outputs": [],
   "source": [
    "#help(delayed)"
   ]
  },
  {
   "cell_type": "code",
   "execution_count": 5,
   "metadata": {
    "ExecuteTime": {
     "end_time": "2019-05-08T15:42:08.570151Z",
     "start_time": "2019-05-08T15:42:08.558151Z"
    }
   },
   "outputs": [
    {
     "data": {
      "text/plain": [
       "9.0"
      ]
     },
     "execution_count": 5,
     "metadata": {},
     "output_type": "execute_result"
    }
   ],
   "source": [
    "a = [math.sqrt(i ** 2) for i in range(10)]\n",
    "a[-1]"
   ]
  },
  {
   "cell_type": "code",
   "execution_count": 6,
   "metadata": {
    "ExecuteTime": {
     "end_time": "2019-05-08T15:42:09.622479Z",
     "start_time": "2019-05-08T15:42:09.243077Z"
    }
   },
   "outputs": [
    {
     "data": {
      "text/plain": [
       "9.0"
      ]
     },
     "execution_count": 6,
     "metadata": {},
     "output_type": "execute_result"
    }
   ],
   "source": [
    "b = Parallel(n_jobs=2)(delayed(math.sqrt)(i ** 2) for i in range(10))\n",
    "b[-1]"
   ]
  },
  {
   "cell_type": "code",
   "execution_count": 13,
   "metadata": {
    "ExecuteTime": {
     "end_time": "2019-05-08T15:45:53.275040Z",
     "start_time": "2019-05-08T15:45:53.125445Z"
    }
   },
   "outputs": [
    {
     "name": "stdout",
     "output_type": "stream",
     "text": [
      "480 µs ± 70.1 µs per loop (mean ± std. dev. of 3 runs, 100 loops each)\n"
     ]
    }
   ],
   "source": [
    "%%timeit -n100 -r3\n",
    "[math.sqrt(i ** 2) for i in range(1000)]"
   ]
  },
  {
   "cell_type": "code",
   "execution_count": 57,
   "metadata": {
    "ExecuteTime": {
     "end_time": "2019-05-08T16:06:06.776941Z",
     "start_time": "2019-05-08T16:05:57.871712Z"
    }
   },
   "outputs": [
    {
     "name": "stdout",
     "output_type": "stream",
     "text": [
      "29.6 ms ± 979 µs per loop (mean ± std. dev. of 3 runs, 100 loops each)\n"
     ]
    }
   ],
   "source": [
    "%%timeit -n100 -r3\n",
    "Parallel(n_jobs=4)(delayed(math.sqrt)(i ** 2) for i in range(1000))"
   ]
  },
  {
   "cell_type": "markdown",
   "metadata": {},
   "source": [
    "### Busy sleep"
   ]
  },
  {
   "cell_type": "code",
   "execution_count": 43,
   "metadata": {
    "ExecuteTime": {
     "end_time": "2019-05-08T15:58:22.366624Z",
     "start_time": "2019-05-08T15:58:22.362598Z"
    }
   },
   "outputs": [],
   "source": [
    "import os, time\n",
    "\n",
    "def verbose_sleep(n):\n",
    "    print(f'PID: {os.getpid()} - busy sleeping', flush=True)\n",
    "    time.sleep(n)\n",
    "    print(f'PID: {os.getpid()} - done sleeping\\n', flush=True)\n",
    "    return n"
   ]
  },
  {
   "cell_type": "code",
   "execution_count": 44,
   "metadata": {
    "ExecuteTime": {
     "end_time": "2019-05-08T15:58:43.358181Z",
     "start_time": "2019-05-08T15:58:23.332998Z"
    }
   },
   "outputs": [
    {
     "name": "stdout",
     "output_type": "stream",
     "text": [
      "PID: 47152 - busy sleeping\n",
      "PID: 47152 - done sleeping\n",
      "\n",
      "PID: 47152 - busy sleeping\n",
      "PID: 47152 - done sleeping\n",
      "\n",
      "PID: 47152 - busy sleeping\n",
      "PID: 47152 - done sleeping\n",
      "\n",
      "PID: 47152 - busy sleeping\n",
      "PID: 47152 - done sleeping\n",
      "\n",
      "20 s ± 0 ns per loop (mean ± std. dev. of 1 run, 1 loop each)\n"
     ]
    }
   ],
   "source": [
    "%%timeit -n1 -r1\n",
    "[verbose_sleep(5) for i in range(4)]"
   ]
  },
  {
   "cell_type": "code",
   "execution_count": 45,
   "metadata": {
    "ExecuteTime": {
     "end_time": "2019-05-08T15:58:53.629434Z",
     "start_time": "2019-05-08T15:58:48.321052Z"
    }
   },
   "outputs": [
    {
     "name": "stdout",
     "output_type": "stream",
     "text": [
      "5.3 s ± 0 ns per loop (mean ± std. dev. of 1 run, 1 loop each)\n"
     ]
    }
   ],
   "source": [
    "%%timeit -n1 -r1\n",
    "Parallel(n_jobs=4)(delayed(verbose_sleep)(5) for i in range(4))"
   ]
  },
  {
   "cell_type": "markdown",
   "metadata": {},
   "source": [
    "## Random Number Generators"
   ]
  },
  {
   "cell_type": "markdown",
   "metadata": {},
   "source": [
    "### Random Seeds in `numpy` vs `randomgen`"
   ]
  },
  {
   "cell_type": "code",
   "execution_count": 72,
   "metadata": {
    "ExecuteTime": {
     "end_time": "2019-05-08T16:14:45.153644Z",
     "start_time": "2019-05-08T16:14:45.148692Z"
    }
   },
   "outputs": [
    {
     "data": {
      "text/plain": [
       "array([ 0.49671415, -0.1382643 ,  0.64768854,  1.52302986, -0.23415337])"
      ]
     },
     "execution_count": 72,
     "metadata": {},
     "output_type": "execute_result"
    }
   ],
   "source": [
    "# in numpy, you set the seed as a state\n",
    "np.random.seed(42)\n",
    "np.random.randn(5)"
   ]
  },
  {
   "cell_type": "code",
   "execution_count": null,
   "metadata": {
    "ExecuteTime": {
     "end_time": "2019-05-08T16:17:12.444935Z",
     "start_time": "2019-05-08T16:17:12.440895Z"
    }
   },
   "outputs": [],
   "source": [
    "# with randomgen the seed is passed directly to the inner generator\n",
    "randseed = 42\n",
    "RandomGenerator(Xoroshiro128( randseed )).randn(5)"
   ]
  },
  {
   "cell_type": "markdown",
   "metadata": {},
   "source": [
    "### Parallelizing random number generation"
   ]
  },
  {
   "cell_type": "code",
   "execution_count": 142,
   "metadata": {
    "ExecuteTime": {
     "end_time": "2019-05-08T16:56:00.290408Z",
     "start_time": "2019-05-08T16:56:00.285425Z"
    }
   },
   "outputs": [],
   "source": [
    "from randomgen import RandomGenerator, Xoroshiro128\n",
    "\n",
    "n_steps = int(1e4)\n",
    "n_sim = 8\n",
    "\n",
    "#rg = RandomGenerator(Xoroshiro128(42))"
   ]
  },
  {
   "cell_type": "code",
   "execution_count": 7,
   "metadata": {
    "ExecuteTime": {
     "end_time": "2019-05-09T04:05:18.951381Z",
     "start_time": "2019-05-09T04:05:18.946219Z"
    }
   },
   "outputs": [],
   "source": [
    "#help(Parallel)"
   ]
  },
  {
   "cell_type": "markdown",
   "metadata": {},
   "source": [
    "#### Single-core with `np.random`:"
   ]
  },
  {
   "cell_type": "code",
   "execution_count": 143,
   "metadata": {
    "ExecuteTime": {
     "end_time": "2019-05-08T16:56:02.264652Z",
     "start_time": "2019-05-08T16:56:00.998031Z"
    }
   },
   "outputs": [
    {
     "name": "stdout",
     "output_type": "stream",
     "text": [
      "1.8 ms ± 26.8 µs per loop (mean ± std. dev. of 7 runs, 100 loops each)\n"
     ]
    }
   ],
   "source": [
    "%%timeit -r7 -n100\n",
    "np.random.seed(42)\n",
    "np.random.randn(n_sim*n_steps)"
   ]
  },
  {
   "cell_type": "markdown",
   "metadata": {},
   "source": [
    "#### Thread-based parallelism with `np.random` & `joblib`:"
   ]
  },
  {
   "cell_type": "code",
   "execution_count": 181,
   "metadata": {
    "ExecuteTime": {
     "end_time": "2019-05-08T17:32:33.718564Z",
     "start_time": "2019-05-08T17:31:20.575983Z"
    }
   },
   "outputs": [
    {
     "name": "stdout",
     "output_type": "stream",
     "text": [
      "104 ms ± 319 µs per loop (mean ± std. dev. of 7 runs, 100 loops each)\n"
     ]
    }
   ],
   "source": [
    "%%timeit -r7 -n100\n",
    "np.random.seed(42)\n",
    "Parallel(n_jobs=4, prefer='threads')(delayed(np.random.randn)(n_steps) \n",
    "                                     for i in range(n_sim))"
   ]
  },
  {
   "cell_type": "code",
   "execution_count": 186,
   "metadata": {
    "ExecuteTime": {
     "end_time": "2019-05-08T17:37:52.783329Z",
     "start_time": "2019-05-08T17:36:39.596301Z"
    }
   },
   "outputs": [
    {
     "name": "stdout",
     "output_type": "stream",
     "text": [
      "105 ms ± 179 µs per loop (mean ± std. dev. of 7 runs, 100 loops each)\n"
     ]
    }
   ],
   "source": [
    "%%timeit -r7 -n100\n",
    "np.random.seed(42)\n",
    "Parallel(n_jobs=4, backend='threading')(delayed(np.random.randn)(n_steps) \n",
    "                                     for i in range(n_sim))"
   ]
  },
  {
   "cell_type": "markdown",
   "metadata": {},
   "source": [
    "#### Process-based parallelism with `np.random` & `joblib`:"
   ]
  },
  {
   "cell_type": "code",
   "execution_count": 182,
   "metadata": {
    "ExecuteTime": {
     "end_time": "2019-05-08T17:33:15.926380Z",
     "start_time": "2019-05-08T17:32:33.720532Z"
    }
   },
   "outputs": [
    {
     "name": "stdout",
     "output_type": "stream",
     "text": [
      "60.2 ms ± 1.68 ms per loop (mean ± std. dev. of 7 runs, 100 loops each)\n"
     ]
    }
   ],
   "source": [
    "%%timeit -r7 -n100\n",
    "np.random.seed(42)\n",
    "Parallel(n_jobs=4)(delayed(np.random.randn)(n_steps) \n",
    "                                     for i in range(n_sim))"
   ]
  },
  {
   "cell_type": "markdown",
   "metadata": {},
   "source": [
    "#### Single-core with `randomgen`:"
   ]
  },
  {
   "cell_type": "code",
   "execution_count": 148,
   "metadata": {
    "ExecuteTime": {
     "end_time": "2019-05-08T17:00:51.596482Z",
     "start_time": "2019-05-08T17:00:51.187537Z"
    }
   },
   "outputs": [
    {
     "name": "stdout",
     "output_type": "stream",
     "text": [
      "577 µs ± 26 µs per loop (mean ± std. dev. of 7 runs, 100 loops each)\n"
     ]
    }
   ],
   "source": [
    "%%timeit -r7 -n100\n",
    "RandomGenerator(Xoroshiro128(42)).randn(n_sim*n_steps)"
   ]
  },
  {
   "cell_type": "markdown",
   "metadata": {},
   "source": [
    "#### Thread-based parallelism with `randomgen` & `joblib`:"
   ]
  },
  {
   "cell_type": "code",
   "execution_count": 183,
   "metadata": {
    "ExecuteTime": {
     "end_time": "2019-05-08T17:34:28.983328Z",
     "start_time": "2019-05-08T17:33:15.928343Z"
    }
   },
   "outputs": [
    {
     "name": "stdout",
     "output_type": "stream",
     "text": [
      "104 ms ± 412 µs per loop (mean ± std. dev. of 7 runs, 100 loops each)\n"
     ]
    }
   ],
   "source": [
    "%%timeit -r7 -n100\n",
    "Parallel(n_jobs=4, prefer='threads')(delayed(RandomGenerator(Xoroshiro128(42)).randn)(n_steps) \n",
    "                                     for i in range(n_sim))"
   ]
  },
  {
   "cell_type": "markdown",
   "metadata": {},
   "source": [
    "#### Process-based parallelism with `randomgen` & `joblib`:"
   ]
  },
  {
   "cell_type": "code",
   "execution_count": 184,
   "metadata": {
    "ExecuteTime": {
     "end_time": "2019-05-08T17:34:54.511171Z",
     "start_time": "2019-05-08T17:34:28.988285Z"
    }
   },
   "outputs": [
    {
     "name": "stdout",
     "output_type": "stream",
     "text": [
      "36.4 ms ± 599 µs per loop (mean ± std. dev. of 7 runs, 100 loops each)\n"
     ]
    }
   ],
   "source": [
    "%%timeit -r7 -n100\n",
    "Parallel(n_jobs=4)(delayed(RandomGenerator(Xoroshiro128(42)).randn)(n_steps) \n",
    "                                     for i in range(n_sim))"
   ]
  },
  {
   "cell_type": "markdown",
   "metadata": {},
   "source": [
    "#### Raw speed test, default generators"
   ]
  },
  {
   "cell_type": "markdown",
   "metadata": {},
   "source": [
    "##### Small Arrays"
   ]
  },
  {
   "cell_type": "code",
   "execution_count": 134,
   "metadata": {
    "ExecuteTime": {
     "end_time": "2019-05-08T16:52:41.359232Z",
     "start_time": "2019-05-08T16:52:41.260451Z"
    }
   },
   "outputs": [
    {
     "name": "stdout",
     "output_type": "stream",
     "text": [
      "13.5 µs ± 1.68 µs per loop (mean ± std. dev. of 7 runs, 1000 loops each)\n"
     ]
    }
   ],
   "source": [
    "%%timeit -r7 -n100\n",
    "np.random.randn(500)"
   ]
  },
  {
   "cell_type": "code",
   "execution_count": 135,
   "metadata": {
    "ExecuteTime": {
     "end_time": "2019-05-08T16:52:42.963701Z",
     "start_time": "2019-05-08T16:52:42.134866Z"
    }
   },
   "outputs": [
    {
     "name": "stdout",
     "output_type": "stream",
     "text": [
      "117 µs ± 4.52 µs per loop (mean ± std. dev. of 7 runs, 1000 loops each)\n"
     ]
    }
   ],
   "source": [
    "%%timeit -r7 -n100\n",
    "RandomGenerator().randn(500)"
   ]
  },
  {
   "cell_type": "markdown",
   "metadata": {},
   "source": [
    "##### Massive Arrays"
   ]
  },
  {
   "cell_type": "code",
   "execution_count": 150,
   "metadata": {
    "ExecuteTime": {
     "end_time": "2019-05-08T17:02:35.858011Z",
     "start_time": "2019-05-08T17:02:34.525539Z"
    }
   },
   "outputs": [
    {
     "name": "stdout",
     "output_type": "stream",
     "text": [
      "1.89 ms ± 26.1 µs per loop (mean ± std. dev. of 7 runs, 100 loops each)\n"
     ]
    }
   ],
   "source": [
    "%%timeit -r7 -n100\n",
    "np.random.randn(n_sim*n_steps)"
   ]
  },
  {
   "cell_type": "code",
   "execution_count": 151,
   "metadata": {
    "ExecuteTime": {
     "end_time": "2019-05-08T17:02:36.392570Z",
     "start_time": "2019-05-08T17:02:35.859970Z"
    }
   },
   "outputs": [
    {
     "name": "stdout",
     "output_type": "stream",
     "text": [
      "754 µs ± 78.8 µs per loop (mean ± std. dev. of 7 runs, 100 loops each)\n"
     ]
    }
   ],
   "source": [
    "%%timeit -r7 -n100\n",
    "RandomGenerator().randn(n_sim*n_steps)"
   ]
  },
  {
   "cell_type": "markdown",
   "metadata": {},
   "source": [
    "#### Conclusion\n",
    "\n",
    "\n",
    "##### NumPy\n",
    "__Wins:__\n",
    "Wins out on small, single-core arrays.\n",
    "\n",
    "__Loses:__\n",
    "Loses on large arrays and multi-threaded random number generation.\n",
    "\n",
    "##### randomgen\n",
    "__Wins:__\n",
    "Wins on large arrays and multi-threaded random number generation.\n",
    "\n",
    "__Loses:__\n",
    "Small arrays of random numbers."
   ]
  },
  {
   "cell_type": "markdown",
   "metadata": {},
   "source": [
    "### `randomgen`'s various generators"
   ]
  },
  {
   "cell_type": "code",
   "execution_count": null,
   "metadata": {},
   "outputs": [],
   "source": [
    "from randomgen import RandomGenerator"
   ]
  },
  {
   "cell_type": "markdown",
   "metadata": {},
   "source": [
    "#### MT19937, Numpy's Generator"
   ]
  },
  {
   "cell_type": "code",
   "execution_count": 98,
   "metadata": {
    "ExecuteTime": {
     "end_time": "2019-05-08T16:30:24.035762Z",
     "start_time": "2019-05-08T16:30:24.032769Z"
    }
   },
   "outputs": [],
   "source": [
    "from randomgen import MT19937"
   ]
  },
  {
   "cell_type": "code",
   "execution_count": 105,
   "metadata": {
    "ExecuteTime": {
     "end_time": "2019-05-08T16:33:11.008192Z",
     "start_time": "2019-05-08T16:33:02.859982Z"
    }
   },
   "outputs": [
    {
     "name": "stdout",
     "output_type": "stream",
     "text": [
      "10 µs ± 148 ns per loop (mean ± std. dev. of 7 runs, 100000 loops each)\n"
     ]
    }
   ],
   "source": [
    "%%timeit -r7 -n100000\n",
    "RandomGenerator(MT19937(42)).randn(100, dtype=np.float64)"
   ]
  },
  {
   "cell_type": "markdown",
   "metadata": {},
   "source": [
    "#### Xoroshiro128\n",
    "\n",
    "Default Generator. Quite fast."
   ]
  },
  {
   "cell_type": "code",
   "execution_count": 113,
   "metadata": {
    "ExecuteTime": {
     "end_time": "2019-05-08T16:36:29.595590Z",
     "start_time": "2019-05-08T16:36:29.592602Z"
    }
   },
   "outputs": [],
   "source": [
    "from randomgen import Xoroshiro128"
   ]
  },
  {
   "cell_type": "code",
   "execution_count": 106,
   "metadata": {
    "ExecuteTime": {
     "end_time": "2019-05-08T16:33:26.158676Z",
     "start_time": "2019-05-08T16:33:11.010187Z"
    }
   },
   "outputs": [
    {
     "name": "stdout",
     "output_type": "stream",
     "text": [
      "21.6 µs ± 518 ns per loop (mean ± std. dev. of 7 runs, 100000 loops each)\n"
     ]
    }
   ],
   "source": [
    "%%timeit -r7 -n100000\n",
    "RandomGenerator(Xoroshiro128( 42 )).randn(100, dtype=np.float64)"
   ]
  },
  {
   "cell_type": "markdown",
   "metadata": {},
   "source": [
    "#### DSFMT\n",
    "\n",
    "SSE2-aware version of MT19937\n",
    "\n",
    "Very fast double-precision generator. Designed to be parallelized and aware of various CPU optimizations."
   ]
  },
  {
   "cell_type": "code",
   "execution_count": null,
   "metadata": {
    "ExecuteTime": {
     "end_time": "2019-05-08T16:26:35.402170Z",
     "start_time": "2019-05-08T16:26:35.397216Z"
    }
   },
   "outputs": [],
   "source": [
    "from randomgen import DSFMT"
   ]
  },
  {
   "cell_type": "code",
   "execution_count": 107,
   "metadata": {
    "ExecuteTime": {
     "end_time": "2019-05-08T16:33:34.222113Z",
     "start_time": "2019-05-08T16:33:26.160672Z"
    }
   },
   "outputs": [
    {
     "name": "stdout",
     "output_type": "stream",
     "text": [
      "11.5 µs ± 268 ns per loop (mean ± std. dev. of 7 runs, 100000 loops each)\n"
     ]
    }
   ],
   "source": [
    "%%timeit -r7 -n100000\n",
    "RandomGenerator(DSFMT(42)).randn(100, dtype=np.float64)"
   ]
  },
  {
   "cell_type": "markdown",
   "metadata": {},
   "source": [
    "#### PCG64"
   ]
  },
  {
   "cell_type": "code",
   "execution_count": 108,
   "metadata": {
    "ExecuteTime": {
     "end_time": "2019-05-08T16:33:47.857992Z",
     "start_time": "2019-05-08T16:33:47.854979Z"
    }
   },
   "outputs": [],
   "source": [
    "from randomgen import PCG64"
   ]
  },
  {
   "cell_type": "code",
   "execution_count": 109,
   "metadata": {
    "ExecuteTime": {
     "end_time": "2019-05-08T16:33:58.666907Z",
     "start_time": "2019-05-08T16:33:49.501441Z"
    }
   },
   "outputs": [
    {
     "name": "stdout",
     "output_type": "stream",
     "text": [
      "13.1 µs ± 179 ns per loop (mean ± std. dev. of 7 runs, 100000 loops each)\n"
     ]
    }
   ],
   "source": [
    "%%timeit -r7 -n100000\n",
    "RandomGenerator(PCG64(42)).randn(100, dtype=np.float64)"
   ]
  },
  {
   "cell_type": "markdown",
   "metadata": {},
   "source": [
    "#### ThreeFry and Philox"
   ]
  },
  {
   "cell_type": "code",
   "execution_count": 117,
   "metadata": {
    "ExecuteTime": {
     "end_time": "2019-05-08T16:38:11.755227Z",
     "start_time": "2019-05-08T16:38:11.751237Z"
    }
   },
   "outputs": [],
   "source": [
    "from randomgen import ThreeFry, Philox"
   ]
  },
  {
   "cell_type": "code",
   "execution_count": 115,
   "metadata": {
    "ExecuteTime": {
     "end_time": "2019-05-08T16:37:51.226803Z",
     "start_time": "2019-05-08T16:37:31.339492Z"
    }
   },
   "outputs": [
    {
     "name": "stdout",
     "output_type": "stream",
     "text": [
      "28.4 µs ± 1.03 µs per loop (mean ± std. dev. of 7 runs, 100000 loops each)\n"
     ]
    }
   ],
   "source": [
    "%%timeit -r7 -n100000\n",
    "RandomGenerator(ThreeFry(42)).randn(100, dtype=np.float64)"
   ]
  },
  {
   "cell_type": "code",
   "execution_count": 118,
   "metadata": {
    "ExecuteTime": {
     "end_time": "2019-05-08T16:38:34.518669Z",
     "start_time": "2019-05-08T16:38:13.294401Z"
    }
   },
   "outputs": [
    {
     "name": "stdout",
     "output_type": "stream",
     "text": [
      "30.3 µs ± 401 ns per loop (mean ± std. dev. of 7 runs, 100000 loops each)\n"
     ]
    }
   ],
   "source": [
    "%%timeit -r7 -n100000\n",
    "RandomGenerator(Philox(42)).randn(100, dtype=np.float64)"
   ]
  },
  {
   "cell_type": "markdown",
   "metadata": {},
   "source": [
    "### `randomgen`'s various features and functions\n",
    "\n",
    "\n",
    "##### Differences from numpy.random.RandomState\n",
    "\n",
    "In addition to the same API that NumPy uses, `randomgen` offers the following additional functions and features:\n",
    "\n",
    "__Features__\n",
    " - `standard_normal`, `normal`, `randn` and `multivariate_normal` all use the much faster (100%+) Ziggurat method.\n",
    " - `standard_gamma` and `gamma` both use the much faster Ziggurat method.\n",
    " - `standard_exponential` & `exponential` both support an additional method keyword argument which can be `inv` or `zig` where `inv` corresponds to the current method using the inverse CDF and `zig` uses the much faster (100%+) Ziggurat method.\n",
    " - Core random number generators can produce either single precision (`np.float32`) or double precision (`np.float64`, the default) using the optional keyword argument dtype\n",
    " - Core random number generators can fill existing arrays using the out keyword argument\n",
    " - Standardizes integer-values random values as int64 for all platforms.\n",
    " - `randint` supports generating using rejection sampling on masked values (the default) or Lemire’s method. Lemire’s method can be much faster when the required interval length is much smaller than the closes power of 2.\n",
    " \n",
    "__Functions__\n",
    " - `random_entropy` - Read from the system entropy provider, which is commonly used in cryptographic applications\n",
    " - `random_raw` - Direct access to the values produced by the underlying PRNG. The range of the values returned depends on the specifics of the PRNG implementation.\n",
    " - `random_uintegers` - unsigned integers, either 32- ([0, 2**32-1]) or 64-bit ([0, 2**64-1])\n",
    " - `jump` - Jumps RNGs that support it. jump moves the state a great distance. Only available if supported by the RNG.\n",
    " - `advance` - Advanced the RNG ‘as-if’ a number of draws were made, without actually drawing the numbers. Only available if supported by the RNG."
   ]
  },
  {
   "cell_type": "code",
   "execution_count": null,
   "metadata": {},
   "outputs": [],
   "source": [
    "n_steps = int(1e4)\n",
    "n_sim = 8"
   ]
  },
  {
   "cell_type": "markdown",
   "metadata": {},
   "source": [
    "#### DSFMT vs MT19937\n",
    "\n",
    "These are the two fastest generators we have at our disposal within the `randomgen` package."
   ]
  },
  {
   "cell_type": "markdown",
   "metadata": {},
   "source": [
    "##### Single-core, massive arrays"
   ]
  },
  {
   "cell_type": "code",
   "execution_count": 161,
   "metadata": {
    "ExecuteTime": {
     "end_time": "2019-05-08T17:13:38.356169Z",
     "start_time": "2019-05-08T17:13:30.360543Z"
    }
   },
   "outputs": [
    {
     "name": "stdout",
     "output_type": "stream",
     "text": [
      "1.14 ms ± 39.8 µs per loop (mean ± std. dev. of 7 runs, 1000 loops each)\n"
     ]
    }
   ],
   "source": [
    "%%timeit -r7 -n1000\n",
    "# DSFMT\n",
    "\n",
    "RandomGenerator(DSFMT()).randn(n_sim*n_steps, dtype=np.float64)"
   ]
  },
  {
   "cell_type": "code",
   "execution_count": 162,
   "metadata": {
    "ExecuteTime": {
     "end_time": "2019-05-08T17:13:47.113828Z",
     "start_time": "2019-05-08T17:13:38.357160Z"
    }
   },
   "outputs": [
    {
     "name": "stdout",
     "output_type": "stream",
     "text": [
      "1.25 ms ± 14.4 µs per loop (mean ± std. dev. of 7 runs, 1000 loops each)\n"
     ]
    }
   ],
   "source": [
    "%%timeit -r7 -n1000\n",
    "# MT19937\n",
    "\n",
    "RandomGenerator(MT19937()).randn(n_sim*n_steps, dtype=np.float64)"
   ]
  },
  {
   "cell_type": "markdown",
   "metadata": {},
   "source": [
    "##### Multi-threaded, massive arrays"
   ]
  },
  {
   "cell_type": "code",
   "execution_count": 163,
   "metadata": {
    "ExecuteTime": {
     "end_time": "2019-05-08T17:15:49.338767Z",
     "start_time": "2019-05-08T17:14:36.055431Z"
    }
   },
   "outputs": [
    {
     "name": "stdout",
     "output_type": "stream",
     "text": [
      "105 ms ± 372 µs per loop (mean ± std. dev. of 7 runs, 100 loops each)\n"
     ]
    }
   ],
   "source": [
    "%%timeit -r7 -n100\n",
    "# DSFMT\n",
    "\n",
    "Parallel(n_jobs=4)(delayed(RandomGenerator(DSFMT()).randn)(n_steps) \n",
    "                                     for i in range(n_sim))"
   ]
  },
  {
   "cell_type": "code",
   "execution_count": 164,
   "metadata": {
    "ExecuteTime": {
     "end_time": "2019-05-08T17:17:02.951584Z",
     "start_time": "2019-05-08T17:15:49.340762Z"
    }
   },
   "outputs": [
    {
     "name": "stdout",
     "output_type": "stream",
     "text": [
      "105 ms ± 223 µs per loop (mean ± std. dev. of 7 runs, 100 loops each)\n"
     ]
    }
   ],
   "source": [
    "%%timeit -r7 -n100\n",
    "# MT19937\n",
    "\n",
    "Parallel(n_jobs=4)(delayed(RandomGenerator(MT19937()).randn)(n_steps) \n",
    "                                     for i in range(n_sim))"
   ]
  },
  {
   "cell_type": "markdown",
   "metadata": {},
   "source": [
    "#### Conclusions: Parallelizing is not worth it for random number generation\n",
    "\n",
    "`DSMFT` is the winner for massive arrays of random numbers. Both generators give the same performance for multi-threaded RNG, which as it turns out incurs massive overhead."
   ]
  },
  {
   "cell_type": "markdown",
   "metadata": {},
   "source": [
    "# Parallelize Brownian Motion of Particles\n",
    "\n",
    "As seen in another notebook, *3.3 - Solving Heat Flow Equation with Brownian Motion*."
   ]
  },
  {
   "cell_type": "markdown",
   "metadata": {},
   "source": [
    "## Reference Code - Pure Python"
   ]
  },
  {
   "cell_type": "code",
   "execution_count": 188,
   "metadata": {
    "ExecuteTime": {
     "end_time": "2019-05-08T23:53:53.548152Z",
     "start_time": "2019-05-08T23:53:53.540174Z"
    }
   },
   "outputs": [],
   "source": [
    "from joblib import Parallel, delayed\n",
    "\n",
    "def exit_time_sim(v):\n",
    "    dt = np.sqrt(.0001)\n",
    "    x = v.copy()\n",
    "    while not np.linalg.norm(x , 2) >=1:\n",
    "        x = x + dt * np.random.normal(0, 1, size=2)\n",
    "    return x\n",
    "\n",
    "v=np.array((0,0)) # origin"
   ]
  },
  {
   "cell_type": "code",
   "execution_count": 177,
   "metadata": {
    "ExecuteTime": {
     "end_time": "2019-05-08T17:30:17.871993Z",
     "start_time": "2019-05-08T17:29:39.476664Z"
    }
   },
   "outputs": [
    {
     "name": "stdout",
     "output_type": "stream",
     "text": [
      "4.85 s ± 501 ms per loop (mean ± std. dev. of 7 runs, 1 loop each)\n"
     ]
    }
   ],
   "source": [
    "%%timeit\n",
    "exit_times0 = np.array([exit_time_sim(v) for k in range(0,100)])"
   ]
  },
  {
   "cell_type": "code",
   "execution_count": 180,
   "metadata": {
    "ExecuteTime": {
     "end_time": "2019-05-08T17:31:11.594708Z",
     "start_time": "2019-05-08T17:31:00.386647Z"
    }
   },
   "outputs": [
    {
     "name": "stdout",
     "output_type": "stream",
     "text": [
      "1.39 s ± 124 ms per loop (mean ± std. dev. of 7 runs, 1 loop each)\n"
     ]
    }
   ],
   "source": [
    "%%timeit\n",
    "exit_times1 = np.array(Parallel(n_jobs=8)(delayed(exit_time_sim)(v) for i in range(0,100)))"
   ]
  },
  {
   "cell_type": "markdown",
   "metadata": {},
   "source": [
    "# Parallelize Cython \n",
    "\n",
    "We need to release the GIL. How?\n",
    "\n",
    "- cython functions only callable from C (`cdef`) can release the gil using\n",
    "      cdef function_name() nogil:\n",
    "- cython functions callable from python (`def`, `cpdef`) \n",
    "  can release the gil using a `with nogil:` block.\n",
    "  \n",
    "Since our function needs to be called from python, we use the second approach."
   ]
  },
  {
   "cell_type": "markdown",
   "metadata": {},
   "source": [
    "## Optimizing `norm` with `libc.math`\n",
    "\n",
    "One of the bottlenecks in our code may be the `np.linalg.norm` function.\n",
    "\n",
    "Lets benchmark normalization with `np.linalg.norm`, with Python's `math` library, then lets write our own function in Cython with `libc.math`."
   ]
  },
  {
   "cell_type": "code",
   "execution_count": 77,
   "metadata": {
    "ExecuteTime": {
     "end_time": "2019-05-08T23:12:54.928085Z",
     "start_time": "2019-05-08T23:12:54.923606Z"
    }
   },
   "outputs": [],
   "source": [
    "from math import sqrt, pow\n",
    "import numpy as np\n",
    "\n",
    "v = np.array([0.5, 0.5])"
   ]
  },
  {
   "cell_type": "markdown",
   "metadata": {},
   "source": [
    "### `np.linalg.norm`"
   ]
  },
  {
   "cell_type": "code",
   "execution_count": 78,
   "metadata": {
    "ExecuteTime": {
     "end_time": "2019-05-08T23:13:03.124657Z",
     "start_time": "2019-05-08T23:12:56.387168Z"
    }
   },
   "outputs": [
    {
     "name": "stdout",
     "output_type": "stream",
     "text": [
      "8.33 µs ± 838 ns per loop (mean ± std. dev. of 7 runs, 100000 loops each)\n"
     ]
    }
   ],
   "source": [
    "%%timeit\n",
    "np.linalg.norm(v , 2)"
   ]
  },
  {
   "cell_type": "markdown",
   "metadata": {},
   "source": [
    "### `math`"
   ]
  },
  {
   "cell_type": "code",
   "execution_count": 79,
   "metadata": {
    "ExecuteTime": {
     "end_time": "2019-05-08T23:13:05.656146Z",
     "start_time": "2019-05-08T23:13:03.127650Z"
    }
   },
   "outputs": [
    {
     "name": "stdout",
     "output_type": "stream",
     "text": [
      "3.13 µs ± 243 ns per loop (mean ± std. dev. of 7 runs, 100000 loops each)\n"
     ]
    }
   ],
   "source": [
    "%%timeit\n",
    "sqrt(sum(pow(v[i], 2) for i in range(len(v))))"
   ]
  },
  {
   "cell_type": "markdown",
   "metadata": {},
   "source": [
    "### Cython and `libc.math`"
   ]
  },
  {
   "cell_type": "code",
   "execution_count": 27,
   "metadata": {
    "ExecuteTime": {
     "end_time": "2019-05-08T23:00:54.742614Z",
     "start_time": "2019-05-08T23:00:54.738000Z"
    }
   },
   "outputs": [],
   "source": [
    "import numpy as np\n",
    "\n",
    "u = np.asarray([0.5, 0.5])\n",
    "v = np.asarray([0.0, 0.0])"
   ]
  },
  {
   "cell_type": "code",
   "execution_count": 4,
   "metadata": {
    "ExecuteTime": {
     "end_time": "2019-05-08T22:55:32.063792Z",
     "start_time": "2019-05-08T22:55:31.601937Z"
    }
   },
   "outputs": [],
   "source": [
    "%load_ext cython"
   ]
  },
  {
   "cell_type": "code",
   "execution_count": 27,
   "metadata": {
    "ExecuteTime": {
     "end_time": "2019-05-09T00:21:55.426316Z",
     "start_time": "2019-05-09T00:21:48.576847Z"
    }
   },
   "outputs": [],
   "source": [
    "%%cython\n",
    "\n",
    "from libc.math cimport pow as cpow\n",
    "from libc.math cimport sqrt as csqrt\n",
    "import numpy as np\n",
    "cimport numpy as np\n",
    "\n",
    "cdef double[:] a = np.array([0.5,0.5])\n",
    "cdef double[:] b = np.array([0.0, 0.0])\n",
    "\n",
    "DTYPE = np.float64\n",
    "ctypedef np.float64_t DTYPE_t\n",
    "\n",
    "def csum(np.ndarray[DTYPE_t, ndim=1] y):\n",
    "    cdef:\n",
    "        double x = y[0]\n",
    "        int N = y.size\n",
    "        int i\n",
    "    for i in range(1,N): x += y[i]\n",
    "    return x\n",
    "\n",
    "def cy_norm(double[:] x):\n",
    "    cdef int i\n",
    "    return csqrt(csum(np.array([cpow(x[i], 2) for i in range(x.size)])))\n",
    "\n",
    "def cy_norm0(x):\n",
    "    \n",
    "    cdef:\n",
    "        np.ndarray[double] v = x.copy()\n",
    "        int m = v.size\n",
    "        int i = 0\n",
    "\n",
    "    while i<m:\n",
    "        v[i] = cpow(v[i], 2)\n",
    "        i+=1\n",
    "    \n",
    "    return csqrt(csum(v))"
   ]
  },
  {
   "cell_type": "code",
   "execution_count": 24,
   "metadata": {
    "ExecuteTime": {
     "end_time": "2019-05-09T00:21:26.041461Z",
     "start_time": "2019-05-09T00:21:23.577018Z"
    }
   },
   "outputs": [
    {
     "name": "stdout",
     "output_type": "stream",
     "text": [
      "3.51 µs ± 254 ns per loop (mean ± std. dev. of 7 runs, 100000 loops each)\n"
     ]
    }
   ],
   "source": [
    "%%timeit -r7 -n100000\n",
    "cy_norm(u)"
   ]
  },
  {
   "cell_type": "code",
   "execution_count": 25,
   "metadata": {
    "ExecuteTime": {
     "end_time": "2019-05-09T00:21:28.388196Z",
     "start_time": "2019-05-09T00:21:26.043437Z"
    }
   },
   "outputs": [
    {
     "name": "stdout",
     "output_type": "stream",
     "text": [
      "3.34 µs ± 315 ns per loop (mean ± std. dev. of 7 runs, 100000 loops each)\n"
     ]
    }
   ],
   "source": [
    "%%timeit -r7 -n100000\n",
    "cy_norm(v)"
   ]
  },
  {
   "cell_type": "code",
   "execution_count": 28,
   "metadata": {
    "ExecuteTime": {
     "end_time": "2019-05-09T00:21:57.014933Z",
     "start_time": "2019-05-09T00:21:55.428139Z"
    }
   },
   "outputs": [
    {
     "name": "stdout",
     "output_type": "stream",
     "text": [
      "2.26 µs ± 188 ns per loop (mean ± std. dev. of 7 runs, 100000 loops each)\n"
     ]
    }
   ],
   "source": [
    "%%timeit -r7 -n100000\n",
    "cy_norm0(u)"
   ]
  },
  {
   "cell_type": "code",
   "execution_count": 29,
   "metadata": {
    "ExecuteTime": {
     "end_time": "2019-05-09T00:21:58.549803Z",
     "start_time": "2019-05-09T00:21:57.018888Z"
    }
   },
   "outputs": [
    {
     "name": "stdout",
     "output_type": "stream",
     "text": [
      "2.18 µs ± 351 ns per loop (mean ± std. dev. of 7 runs, 100000 loops each)\n"
     ]
    }
   ],
   "source": [
    "%%timeit -r7 -n100000\n",
    "cy_norm0(v)"
   ]
  },
  {
   "cell_type": "markdown",
   "metadata": {},
   "source": [
    "### Results / Conclusions\n",
    "\n",
    "Wow, that's a big speedup! That addresses the biggest bottleneck in our code. Lets see how our code performs with this new speedup."
   ]
  },
  {
   "cell_type": "code",
   "execution_count": 1,
   "metadata": {
    "ExecuteTime": {
     "end_time": "2019-05-09T00:15:53.875359Z",
     "start_time": "2019-05-09T00:15:53.869404Z"
    }
   },
   "outputs": [],
   "source": [
    "# reference code, pure python\n",
    "def exit_time_sim(v):\n",
    "    dt = np.sqrt(.0001)\n",
    "    x = v.copy()\n",
    "    while not np.linalg.norm(x , 2) >=1:\n",
    "        x = x + dt * np.random.normal(0, 1, size=2)\n",
    "    return x"
   ]
  },
  {
   "cell_type": "code",
   "execution_count": 2,
   "metadata": {
    "ExecuteTime": {
     "end_time": "2019-05-09T00:15:54.641683Z",
     "start_time": "2019-05-09T00:15:54.247568Z"
    }
   },
   "outputs": [],
   "source": [
    "%load_ext cython"
   ]
  },
  {
   "cell_type": "code",
   "execution_count": 220,
   "metadata": {
    "ExecuteTime": {
     "end_time": "2019-05-09T01:48:15.080696Z",
     "start_time": "2019-05-09T01:48:10.233781Z"
    }
   },
   "outputs": [],
   "source": [
    "%%cython\n",
    "\n",
    "from libc.math cimport pow as cpow\n",
    "from libc.math cimport sqrt as csqrt\n",
    "import numpy as np\n",
    "cimport numpy as np\n",
    "\n",
    "cdef double[:] a = np.array([0.5,0.5])\n",
    "cdef double[:] b = np.array([0.0, 0.0])\n",
    "\n",
    "DTYPE = np.float64\n",
    "ctypedef np.float64_t DTYPE_t\n",
    "\n",
    "\n",
    "def csum(np.ndarray[DTYPE_t, ndim=1] y):\n",
    "    cdef:\n",
    "        double x = y[0]\n",
    "        int N = y.size\n",
    "        int i\n",
    "    for i in range(1,N): x += y[i]\n",
    "    return x\n",
    "\n",
    "def cy_norm(x):\n",
    "    cdef:\n",
    "        np.ndarray[double] v = x.copy()\n",
    "        int m = v.size\n",
    "        int i = 0\n",
    "\n",
    "    while i<m:\n",
    "        v[i] = cpow(v[i], 2)\n",
    "        i+=1\n",
    "    \n",
    "    return csqrt(csum(v))\n",
    "\n",
    "\n",
    "def exit_time_sim_cy0(np.ndarray[DTYPE_t, ndim=1] x):\n",
    "    cdef: \n",
    "        double dt = csqrt(.0001)\n",
    "        #np.ndarray[DTYPE_t, ndim=1] x = v.copy()\n",
    "    while cy_norm(x) <= 1:\n",
    "        x = x + dt * np.random.normal(0, 1, size=2)\n",
    "    return x"
   ]
  },
  {
   "cell_type": "code",
   "execution_count": 5,
   "metadata": {
    "ExecuteTime": {
     "end_time": "2019-05-09T00:16:03.319051Z",
     "start_time": "2019-05-09T00:16:03.314068Z"
    }
   },
   "outputs": [],
   "source": [
    "u = np.array((0.5,0.5))\n",
    "v = np.array((0.0,0.0))"
   ]
  },
  {
   "cell_type": "markdown",
   "metadata": {},
   "source": [
    "#### Python Only"
   ]
  },
  {
   "cell_type": "code",
   "execution_count": 32,
   "metadata": {
    "ExecuteTime": {
     "end_time": "2019-05-09T00:23:35.131218Z",
     "start_time": "2019-05-09T00:23:29.652914Z"
    }
   },
   "outputs": [
    {
     "name": "stdout",
     "output_type": "stream",
     "text": [
      "5.47 s ± 0 ns per loop (mean ± std. dev. of 1 run, 1 loop each)\n"
     ]
    }
   ],
   "source": [
    "%%timeit -r1 -n1\n",
    "np.array([exit_time_sim(u) for i in range(0,100)])"
   ]
  },
  {
   "cell_type": "code",
   "execution_count": 33,
   "metadata": {
    "ExecuteTime": {
     "end_time": "2019-05-09T00:23:40.456976Z",
     "start_time": "2019-05-09T00:23:35.133215Z"
    }
   },
   "outputs": [
    {
     "name": "stdout",
     "output_type": "stream",
     "text": [
      "5.32 s ± 0 ns per loop (mean ± std. dev. of 1 run, 1 loop each)\n"
     ]
    }
   ],
   "source": [
    "%%timeit -r1 -n1\n",
    "np.array([exit_time_sim(v) for i in range(0,100)])"
   ]
  },
  {
   "cell_type": "markdown",
   "metadata": {},
   "source": [
    "#### with Cython norm function"
   ]
  },
  {
   "cell_type": "code",
   "execution_count": 221,
   "metadata": {
    "ExecuteTime": {
     "end_time": "2019-05-09T01:48:24.678870Z",
     "start_time": "2019-05-09T01:48:21.651948Z"
    }
   },
   "outputs": [
    {
     "name": "stdout",
     "output_type": "stream",
     "text": [
      "3.02 s ± 0 ns per loop (mean ± std. dev. of 1 run, 1 loop each)\n"
     ]
    }
   ],
   "source": [
    "%%timeit -r1 -n1\n",
    "np.array([exit_time_sim_cy0(u) for i in range(0,100)])"
   ]
  },
  {
   "cell_type": "code",
   "execution_count": 48,
   "metadata": {
    "ExecuteTime": {
     "end_time": "2019-05-09T00:34:30.587509Z",
     "start_time": "2019-05-09T00:34:27.481768Z"
    }
   },
   "outputs": [
    {
     "name": "stdout",
     "output_type": "stream",
     "text": [
      "3.1 s ± 0 ns per loop (mean ± std. dev. of 1 run, 1 loop each)\n"
     ]
    }
   ],
   "source": [
    "%%timeit -r1 -n1\n",
    "np.array([exit_time_sim_cy0(v) for i in range(0,100)])"
   ]
  },
  {
   "cell_type": "markdown",
   "metadata": {},
   "source": [
    "# Numba"
   ]
  },
  {
   "cell_type": "code",
   "execution_count": 8,
   "metadata": {
    "ExecuteTime": {
     "end_time": "2019-05-09T04:05:30.739556Z",
     "start_time": "2019-05-09T04:05:30.735041Z"
    }
   },
   "outputs": [],
   "source": [
    "#help(guvectorize)"
   ]
  },
  {
   "cell_type": "code",
   "execution_count": 222,
   "metadata": {
    "ExecuteTime": {
     "end_time": "2019-05-09T01:48:41.445338Z",
     "start_time": "2019-05-09T01:48:41.072978Z"
    }
   },
   "outputs": [],
   "source": [
    "from numba import jit, guvectorize, float64\n",
    "from math import sqrt\n",
    "\n",
    "@jit('float64[:](float64[:])', fastmath=True)\n",
    "def exit_time_sim_nb0(x):\n",
    "    dt = np.sqrt(.0001)\n",
    "        #np.ndarray[DTYPE_t, ndim=1] x = v.copy()\n",
    "    while cy_norm(x) <= 1:\n",
    "        x = x + dt * np.random.normal(0, 1, size=2)\n",
    "    return x\n",
    "\n",
    "@jit('float64[:](float64[:])', nopython=True, fastmath=True)\n",
    "def exit_time_sim_nb1(x):\n",
    "    dt = np.sqrt(.0001)\n",
    "        #np.ndarray[DTYPE_t, ndim=1] x = v.copy()\n",
    "    while np.linalg.norm(x , 2) <= 1:\n",
    "        x = x + dt * np.random.normal(0, 1, size=2)\n",
    "    return x\n",
    "\n",
    "@guvectorize('void(float64[:])', signature='(n)', target='parallel', fastmath=True)\n",
    "def exit_time_sim_nb2(x):\n",
    "    dt = np.sqrt(.0001)\n",
    "        #np.ndarray[DTYPE_t, ndim=1] x = v.copy()\n",
    "    while np.linalg.norm(x , 2) <= 1:\n",
    "        x = x + dt * np.random.normal(0, 1, size=2)\n",
    "        \n",
    "@jit('float64[:](float64[:])', fastmath=True)\n",
    "def exit_time_sim_nb3(x):\n",
    "    dt = sqrt(.0001)\n",
    "        #np.ndarray[DTYPE_t, ndim=1] x = v.copy()\n",
    "    while np.linalg.norm(x , 2) <= 1:\n",
    "        x = x + dt * np.random.normal(0, 1, size=2)\n",
    "    return x"
   ]
  },
  {
   "cell_type": "markdown",
   "metadata": {},
   "source": [
    "## Cython with `@jit`"
   ]
  },
  {
   "cell_type": "code",
   "execution_count": 223,
   "metadata": {
    "ExecuteTime": {
     "end_time": "2019-05-09T01:48:48.240715Z",
     "start_time": "2019-05-09T01:48:44.818874Z"
    }
   },
   "outputs": [
    {
     "name": "stdout",
     "output_type": "stream",
     "text": [
      "3.42 s ± 0 ns per loop (mean ± std. dev. of 1 run, 1 loop each)\n"
     ]
    }
   ],
   "source": [
    "%%timeit -r1 -n1\n",
    "np.array([exit_time_sim_nb0(u) for i in range(0,100)])"
   ]
  },
  {
   "cell_type": "code",
   "execution_count": 224,
   "metadata": {
    "ExecuteTime": {
     "end_time": "2019-05-09T01:48:52.017632Z",
     "start_time": "2019-05-09T01:48:48.242696Z"
    }
   },
   "outputs": [
    {
     "name": "stdout",
     "output_type": "stream",
     "text": [
      "3.77 s ± 0 ns per loop (mean ± std. dev. of 1 run, 1 loop each)\n"
     ]
    }
   ],
   "source": [
    "%%timeit -r1 -n1\n",
    "np.array([exit_time_sim_nb0(v) for i in range(0,100)])"
   ]
  },
  {
   "cell_type": "markdown",
   "metadata": {},
   "source": [
    "## Python with `@jit`"
   ]
  },
  {
   "cell_type": "markdown",
   "metadata": {},
   "source": [
    "##### with `np.sqrt`"
   ]
  },
  {
   "cell_type": "code",
   "execution_count": 225,
   "metadata": {
    "ExecuteTime": {
     "end_time": "2019-05-09T01:48:59.761885Z",
     "start_time": "2019-05-09T01:48:52.018587Z"
    }
   },
   "outputs": [
    {
     "name": "stdout",
     "output_type": "stream",
     "text": [
      "258 ms ± 4.66 ms per loop (mean ± std. dev. of 3 runs, 10 loops each)\n"
     ]
    }
   ],
   "source": [
    "%%timeit -r3 -n10\n",
    "np.array([exit_time_sim_nb1(u) for i in range(0,100)])"
   ]
  },
  {
   "cell_type": "code",
   "execution_count": 226,
   "metadata": {
    "ExecuteTime": {
     "end_time": "2019-05-09T01:49:08.308026Z",
     "start_time": "2019-05-09T01:48:59.763875Z"
    }
   },
   "outputs": [
    {
     "name": "stdout",
     "output_type": "stream",
     "text": [
      "285 ms ± 11.4 ms per loop (mean ± std. dev. of 3 runs, 10 loops each)\n"
     ]
    }
   ],
   "source": [
    "%%timeit -r3 -n10\n",
    "np.array([exit_time_sim_nb1(v) for i in range(0,100)])"
   ]
  },
  {
   "cell_type": "markdown",
   "metadata": {},
   "source": [
    "##### with `math.sqrt`"
   ]
  },
  {
   "cell_type": "code",
   "execution_count": 227,
   "metadata": {
    "ExecuteTime": {
     "end_time": "2019-05-09T01:49:15.579581Z",
     "start_time": "2019-05-09T01:49:08.309024Z"
    }
   },
   "outputs": [
    {
     "name": "stdout",
     "output_type": "stream",
     "text": [
      "242 ms ± 7.14 ms per loop (mean ± std. dev. of 3 runs, 10 loops each)\n"
     ]
    }
   ],
   "source": [
    "%%timeit -r3 -n10\n",
    "np.array([exit_time_sim_nb3(u) for i in range(0,100)])"
   ]
  },
  {
   "cell_type": "code",
   "execution_count": 228,
   "metadata": {
    "ExecuteTime": {
     "end_time": "2019-05-09T01:49:24.137699Z",
     "start_time": "2019-05-09T01:49:15.581595Z"
    }
   },
   "outputs": [
    {
     "name": "stdout",
     "output_type": "stream",
     "text": [
      "285 ms ± 7.14 ms per loop (mean ± std. dev. of 3 runs, 10 loops each)\n"
     ]
    }
   ],
   "source": [
    "%%timeit -r3 -n10\n",
    "np.array([exit_time_sim_nb3(v) for i in range(0,100)])"
   ]
  },
  {
   "cell_type": "markdown",
   "metadata": {},
   "source": [
    "## Python with `@guvectorize`"
   ]
  },
  {
   "cell_type": "code",
   "execution_count": 229,
   "metadata": {
    "ExecuteTime": {
     "end_time": "2019-05-09T01:49:32.221095Z",
     "start_time": "2019-05-09T01:49:24.139689Z"
    }
   },
   "outputs": [
    {
     "name": "stdout",
     "output_type": "stream",
     "text": [
      "269 ms ± 5.69 ms per loop (mean ± std. dev. of 3 runs, 10 loops each)\n"
     ]
    }
   ],
   "source": [
    "%%timeit -r3 -n10\n",
    "np.array([exit_time_sim_nb2(u) for i in range(0,100)])"
   ]
  },
  {
   "cell_type": "code",
   "execution_count": 230,
   "metadata": {
    "ExecuteTime": {
     "end_time": "2019-05-09T01:49:41.413559Z",
     "start_time": "2019-05-09T01:49:32.223074Z"
    }
   },
   "outputs": [
    {
     "name": "stdout",
     "output_type": "stream",
     "text": [
      "306 ms ± 6.63 ms per loop (mean ± std. dev. of 3 runs, 10 loops each)\n"
     ]
    }
   ],
   "source": [
    "%%timeit -r3 -n10\n",
    "np.array([exit_time_sim_nb2(v) for i in range(0,100)])"
   ]
  },
  {
   "cell_type": "markdown",
   "metadata": {},
   "source": [
    "### Results\n",
    "\n",
    "So far *the fastest possible code that we've managed to get* is **Python + Numpy + @numba.jit**."
   ]
  },
  {
   "cell_type": "markdown",
   "metadata": {},
   "source": [
    "# Final Optimiziations"
   ]
  },
  {
   "cell_type": "markdown",
   "metadata": {},
   "source": [
    "## Optimal Random Generator"
   ]
  },
  {
   "cell_type": "code",
   "execution_count": 277,
   "metadata": {
    "ExecuteTime": {
     "end_time": "2019-05-09T02:01:53.259114Z",
     "start_time": "2019-05-09T02:01:53.063297Z"
    }
   },
   "outputs": [],
   "source": [
    "@jit('float64[:](float64[:])', fastmath=True)\n",
    "def exit_time_sim_f0(x):\n",
    "    dt = sqrt(.0001)\n",
    "        #np.ndarray[DTYPE_t, ndim=1] x = v.copy()\n",
    "    while np.linalg.norm(x , 2) <= 1:\n",
    "        x = x + dt * np.random.normal(0, 1, size=2)\n",
    "    return x\n",
    "\n",
    "@jit('float64[:](float64[:])', fastmath=True)\n",
    "def exit_time_sim_f1(x):\n",
    "    dt = sqrt(.0001)\n",
    "        #np.ndarray[DTYPE_t, ndim=1] x = v.copy()\n",
    "    while np.linalg.norm(x , 2) <= 1:\n",
    "        x = x + dt * np.random.randn(2)\n",
    "    return x"
   ]
  },
  {
   "cell_type": "code",
   "execution_count": 280,
   "metadata": {
    "ExecuteTime": {
     "end_time": "2019-05-09T02:03:00.681037Z",
     "start_time": "2019-05-09T02:02:25.879055Z"
    }
   },
   "outputs": [
    {
     "name": "stdout",
     "output_type": "stream",
     "text": [
      "278 ms ± 7.2 ms per loop (mean ± std. dev. of 5 runs, 25 loops each)\n"
     ]
    }
   ],
   "source": [
    "%%timeit -r5 -n25\n",
    "np.array([exit_time_sim_f0(v) for i in range(0,100)])"
   ]
  },
  {
   "cell_type": "code",
   "execution_count": 281,
   "metadata": {
    "ExecuteTime": {
     "end_time": "2019-05-09T02:03:34.823781Z",
     "start_time": "2019-05-09T02:03:00.683031Z"
    }
   },
   "outputs": [
    {
     "name": "stdout",
     "output_type": "stream",
     "text": [
      "273 ms ± 6.63 ms per loop (mean ± std. dev. of 5 runs, 25 loops each)\n"
     ]
    }
   ],
   "source": [
    "%%timeit -r5 -n25\n",
    "np.array([exit_time_sim_f1(v) for i in range(0,100)])"
   ]
  },
  {
   "cell_type": "code",
   "execution_count": 11,
   "metadata": {
    "ExecuteTime": {
     "end_time": "2019-05-09T04:08:48.695851Z",
     "start_time": "2019-05-09T04:08:13.310761Z"
    }
   },
   "outputs": [
    {
     "name": "stdout",
     "output_type": "stream",
     "text": [
      "4.46 s ± 387 ms per loop (mean ± std. dev. of 7 runs, 1 loop each)\n"
     ]
    }
   ],
   "source": [
    "%%timeit\n",
    "np.array([exit_time_sim(v) for i in range(0,100)])"
   ]
  },
  {
   "cell_type": "markdown",
   "metadata": {},
   "source": [
    "# Conclusion / Results\n",
    "\n",
    "In the end we achieved a **~16x** speedup by using Numpy and Numba's JIT compiling."
   ]
  },
  {
   "cell_type": "markdown",
   "metadata": {},
   "source": [
    "# Future Improvements\n",
    "\n",
    "Future improvements involve implementation of a relaxation method wherein the point is started from a point known to be within the area of interest, but closer to an exit point."
   ]
  },
  {
   "cell_type": "code",
   "execution_count": null,
   "metadata": {},
   "outputs": [],
   "source": []
  }
 ],
 "metadata": {
  "kernelspec": {
   "display_name": "Python 3",
   "language": "python",
   "name": "python3"
  },
  "language_info": {
   "codemirror_mode": {
    "name": "ipython",
    "version": 3
   },
   "file_extension": ".py",
   "mimetype": "text/x-python",
   "name": "python",
   "nbconvert_exporter": "python",
   "pygments_lexer": "ipython3",
   "version": "3.6.7"
  },
  "toc": {
   "base_numbering": 1,
   "nav_menu": {},
   "number_sections": true,
   "sideBar": true,
   "skip_h1_title": false,
   "title_cell": "Table of Contents",
   "title_sidebar": "Contents",
   "toc_cell": true,
   "toc_position": {},
   "toc_section_display": true,
   "toc_window_display": false
  }
 },
 "nbformat": 4,
 "nbformat_minor": 2
}
