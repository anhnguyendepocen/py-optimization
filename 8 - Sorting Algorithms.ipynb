{
 "cells": [
  {
   "cell_type": "markdown",
   "metadata": {
    "toc": true
   },
   "source": [
    "<h1>Table of Contents<span class=\"tocSkip\"></span></h1>\n",
    "<div class=\"toc\"><ul class=\"toc-item\"><li><span><a href=\"#Test-Data\" data-toc-modified-id=\"Test-Data-1\">Test Data</a></span><ul class=\"toc-item\"><li><ul class=\"toc-item\"><li><span><a href=\"#Uniform-distribution\" data-toc-modified-id=\"Uniform-distribution-1.0.1\">Uniform distribution</a></span></li><li><span><a href=\"#Normal-distribution\" data-toc-modified-id=\"Normal-distribution-1.0.2\">Normal distribution</a></span></li><li><span><a href=\"#Nearly-sorted\" data-toc-modified-id=\"Nearly-sorted-1.0.3\">Nearly sorted</a></span></li><li><span><a href=\"#Fully-sorted\" data-toc-modified-id=\"Fully-sorted-1.0.4\">Fully-sorted</a></span></li><li><span><a href=\"#Reversed\" data-toc-modified-id=\"Reversed-1.0.5\">Reversed</a></span></li><li><span><a href=\"#Few-unique-values\" data-toc-modified-id=\"Few-unique-values-1.0.6\">Few unique values</a></span></li></ul></li><li><span><a href=\"#Save-test-data-to-file\" data-toc-modified-id=\"Save-test-data-to-file-1.1\">Save test data to file</a></span></li><li><span><a href=\"#Open-test-data-file\" data-toc-modified-id=\"Open-test-data-file-1.2\">Open test data file</a></span></li></ul></li><li><span><a href=\"#Performance-Test\" data-toc-modified-id=\"Performance-Test-2\">Performance Test</a></span></li><li><span><a href=\"#Sorting-Algorithms\" data-toc-modified-id=\"Sorting-Algorithms-3\">Sorting Algorithms</a></span><ul class=\"toc-item\"><li><span><a href=\"#Bubble-Sort\" data-toc-modified-id=\"Bubble-Sort-3.1\">Bubble Sort</a></span></li><li><span><a href=\"#Merge-Sort\" data-toc-modified-id=\"Merge-Sort-3.2\">Merge Sort</a></span></li><li><span><a href=\"#Insertion-Sort\" data-toc-modified-id=\"Insertion-Sort-3.3\">Insertion Sort</a></span></li><li><span><a href=\"#Selection-Sort\" data-toc-modified-id=\"Selection-Sort-3.4\">Selection Sort</a></span></li></ul></li><li><span><a href=\"#Sorting-Algorithms-(in-place)\" data-toc-modified-id=\"Sorting-Algorithms-(in-place)-4\">Sorting Algorithms (in-place)</a></span><ul class=\"toc-item\"><li><span><a href=\"#Bubble-Sort\" data-toc-modified-id=\"Bubble-Sort-4.1\">Bubble Sort</a></span></li><li><span><a href=\"#Insertion-Sort\" data-toc-modified-id=\"Insertion-Sort-4.2\">Insertion Sort</a></span></li><li><span><a href=\"#Merge-Sort\" data-toc-modified-id=\"Merge-Sort-4.3\">Merge Sort</a></span></li><li><span><a href=\"#Quick-Sort\" data-toc-modified-id=\"Quick-Sort-4.4\">Quick Sort</a></span></li><li><span><a href=\"#Heapsort\" data-toc-modified-id=\"Heapsort-4.5\">Heapsort</a></span></li></ul></li><li><span><a href=\"#Reference-Sort-Functions\" data-toc-modified-id=\"Reference-Sort-Functions-5\">Reference Sort Functions</a></span><ul class=\"toc-item\"><li><span><a href=\"#Default-Python-Sort\" data-toc-modified-id=\"Default-Python-Sort-5.1\">Default Python Sort</a></span></li><li><span><a href=\"#NumPy-Sort\" data-toc-modified-id=\"NumPy-Sort-5.2\">NumPy Sort</a></span></li></ul></li><li><span><a href=\"#Run-Tests\" data-toc-modified-id=\"Run-Tests-6\">Run Tests</a></span></li><li><span><a href=\"#Results\" data-toc-modified-id=\"Results-7\">Results</a></span></li><li><span><a href=\"#Further-optimization\" data-toc-modified-id=\"Further-optimization-8\">Further optimization</a></span></li><li><span><a href=\"#Related-Bookmarks\" data-toc-modified-id=\"Related-Bookmarks-9\">Related Bookmarks</a></span></li></ul></div>"
   ]
  },
  {
   "cell_type": "markdown",
   "metadata": {},
   "source": [
    "# Test Data\n",
    "\n",
    "Produce several synthetic datasets for benchmarking our sorting algorithms."
   ]
  },
  {
   "cell_type": "code",
   "execution_count": 1,
   "metadata": {
    "ExecuteTime": {
     "end_time": "2019-05-10T18:07:00.119845Z",
     "start_time": "2019-05-10T18:06:55.786014Z"
    }
   },
   "outputs": [],
   "source": [
    "import pandas as pd\n",
    "import numpy as np\n",
    "import matplotlib.pyplot as plt\n",
    "from jupyterthemes import jtplot\n",
    "jtplot.style()\n",
    "%matplotlib inline"
   ]
  },
  {
   "cell_type": "markdown",
   "metadata": {},
   "source": [
    "### Uniform distribution"
   ]
  },
  {
   "cell_type": "code",
   "execution_count": 146,
   "metadata": {
    "ExecuteTime": {
     "end_time": "2019-05-10T19:00:10.932352Z",
     "start_time": "2019-05-10T19:00:10.926386Z"
    }
   },
   "outputs": [],
   "source": [
    "u0 = np.random.randint(low = 0, high = 10000, size = 10000)"
   ]
  },
  {
   "cell_type": "code",
   "execution_count": 147,
   "metadata": {
    "ExecuteTime": {
     "end_time": "2019-05-10T19:00:11.693948Z",
     "start_time": "2019-05-10T19:00:11.569258Z"
    },
    "collapsed": true
   },
   "outputs": [
    {
     "data": {
      "text/plain": [
       "(array([337., 336., 316., 349., 350., 341., 328., 341., 332., 349., 346.,\n",
       "        312., 353., 317., 340., 362., 327., 330., 311., 352., 301., 321.,\n",
       "        329., 344., 298., 336., 341., 355., 325., 321.]),\n",
       " array([   0. ,  333.3,  666.6,  999.9, 1333.2, 1666.5, 1999.8, 2333.1,\n",
       "        2666.4, 2999.7, 3333. , 3666.3, 3999.6, 4332.9, 4666.2, 4999.5,\n",
       "        5332.8, 5666.1, 5999.4, 6332.7, 6666. , 6999.3, 7332.6, 7665.9,\n",
       "        7999.2, 8332.5, 8665.8, 8999.1, 9332.4, 9665.7, 9999. ]),\n",
       " <a list of 30 Patch objects>)"
      ]
     },
     "execution_count": 147,
     "metadata": {},
     "output_type": "execute_result"
    },
    {
     "data": {
      "image/png": "[encoded data removed]",
      "text/plain": [
       "<Figure size 432x288 with 1 Axes>"
      ]
     },
     "metadata": {},
     "output_type": "display_data"
    }
   ],
   "source": [
    "plt.hist(u0, bins=30)"
   ]
  },
  {
   "cell_type": "markdown",
   "metadata": {},
   "source": [
    "### Normal distribution"
   ]
  },
  {
   "cell_type": "code",
   "execution_count": 148,
   "metadata": {
    "ExecuteTime": {
     "end_time": "2019-05-10T19:00:16.757686Z",
     "start_time": "2019-05-10T19:00:16.751701Z"
    }
   },
   "outputs": [],
   "source": [
    "g0 = np.random.normal(loc=0,scale=10000,size=10000).astype(int)"
   ]
  },
  {
   "cell_type": "code",
   "execution_count": 149,
   "metadata": {
    "ExecuteTime": {
     "end_time": "2019-05-10T19:00:17.828387Z",
     "start_time": "2019-05-10T19:00:17.677772Z"
    },
    "collapsed": true
   },
   "outputs": [
    {
     "data": {
      "text/plain": [
       "(array([  2.,   4.,   1.,   2.,   5.,  11.,   8.,  19.,  26.,  32.,  41.,\n",
       "         81.,  86., 127., 134., 182., 235., 309., 301., 369., 437., 486.,\n",
       "        489., 495., 528., 538., 573., 539., 552., 480., 471., 393., 368.,\n",
       "        303., 308., 244., 169., 162., 136., 100.,  69.,  57.,  38.,  34.,\n",
       "         20.,  15.,   9.,   5.,   5.,   2.]),\n",
       " array([-36989. , -35576.9, -34164.8, -32752.7, -31340.6, -29928.5,\n",
       "        -28516.4, -27104.3, -25692.2, -24280.1, -22868. , -21455.9,\n",
       "        -20043.8, -18631.7, -17219.6, -15807.5, -14395.4, -12983.3,\n",
       "        -11571.2, -10159.1,  -8747. ,  -7334.9,  -5922.8,  -4510.7,\n",
       "         -3098.6,  -1686.5,   -274.4,   1137.7,   2549.8,   3961.9,\n",
       "          5374. ,   6786.1,   8198.2,   9610.3,  11022.4,  12434.5,\n",
       "         13846.6,  15258.7,  16670.8,  18082.9,  19495. ,  20907.1,\n",
       "         22319.2,  23731.3,  25143.4,  26555.5,  27967.6,  29379.7,\n",
       "         30791.8,  32203.9,  33616. ]),\n",
       " <a list of 50 Patch objects>)"
      ]
     },
     "execution_count": 149,
     "metadata": {},
     "output_type": "execute_result"
    },
    {
     "data": {
      "image/png": "[encoded data removed]",
      "text/plain": [
       "<Figure size 432x288 with 1 Axes>"
      ]
     },
     "metadata": {},
     "output_type": "display_data"
    }
   ],
   "source": [
    "plt.hist(g0, bins=50)"
   ]
  },
  {
   "cell_type": "markdown",
   "metadata": {},
   "source": [
    "### Nearly sorted"
   ]
  },
  {
   "cell_type": "code",
   "execution_count": 150,
   "metadata": {
    "ExecuteTime": {
     "end_time": "2019-05-10T19:00:22.537506Z",
     "start_time": "2019-05-10T19:00:22.484648Z"
    }
   },
   "outputs": [],
   "source": [
    "n0 = np.array(([i if (np.random.randint(0, 9)%np.random.randint(1,9)%7==0 or \n",
    "             np.random.randint(0,2)%2==0 or \n",
    "             np.random.randint(0, 9)%np.random.randint(1,9)%3==0) \n",
    "       else np.random.randint(0, 10000) for i in range(10000)]))"
   ]
  },
  {
   "cell_type": "code",
   "execution_count": 374,
   "metadata": {
    "ExecuteTime": {
     "end_time": "2019-05-10T22:41:58.899273Z",
     "start_time": "2019-05-10T22:41:58.273372Z"
    },
    "collapsed": true
   },
   "outputs": [
    {
     "data": {
      "text/plain": [
       "<matplotlib.collections.PathCollection at 0x23892d7d2e8>"
      ]
     },
     "execution_count": 374,
     "metadata": {},
     "output_type": "execute_result"
    },
    {
     "data": {
      "image/png": "[encoded data removed]",
      "text/plain": [
       "<Figure size 1080x792 with 1 Axes>"
      ]
     },
     "metadata": {},
     "output_type": "display_data"
    }
   ],
   "source": [
    "plt.figure(figsize=(15,11))\n",
    "plt.scatter([i for i in range(len(n0))], n0, c='c', marker='o', s=72, alpha=0.5)"
   ]
  },
  {
   "cell_type": "markdown",
   "metadata": {},
   "source": [
    "### Fully-sorted"
   ]
  },
  {
   "cell_type": "code",
   "execution_count": 152,
   "metadata": {
    "ExecuteTime": {
     "end_time": "2019-05-10T19:00:28.261616Z",
     "start_time": "2019-05-10T19:00:28.256676Z"
    }
   },
   "outputs": [],
   "source": [
    "f0 = np.array([i for i in range(10000)])"
   ]
  },
  {
   "cell_type": "code",
   "execution_count": 153,
   "metadata": {
    "ExecuteTime": {
     "end_time": "2019-05-10T19:00:29.192300Z",
     "start_time": "2019-05-10T19:00:29.094529Z"
    },
    "collapsed": true
   },
   "outputs": [
    {
     "data": {
      "text/plain": [
       "[<matplotlib.lines.Line2D at 0x238876c4470>]"
      ]
     },
     "execution_count": 153,
     "metadata": {},
     "output_type": "execute_result"
    },
    {
     "data": {
      "image/png": "[encoded data removed]",
      "text/plain": [
       "<Figure size 432x288 with 1 Axes>"
      ]
     },
     "metadata": {},
     "output_type": "display_data"
    }
   ],
   "source": [
    "plt.plot([i for i in range(len(f0))], f0)"
   ]
  },
  {
   "cell_type": "markdown",
   "metadata": {},
   "source": [
    "### Reversed"
   ]
  },
  {
   "cell_type": "code",
   "execution_count": 154,
   "metadata": {
    "ExecuteTime": {
     "end_time": "2019-05-10T19:00:31.826655Z",
     "start_time": "2019-05-10T19:00:31.821673Z"
    }
   },
   "outputs": [],
   "source": [
    "r0 = np.array([i for i in range(10000)][::-1])"
   ]
  },
  {
   "cell_type": "code",
   "execution_count": 155,
   "metadata": {
    "ExecuteTime": {
     "end_time": "2019-05-10T19:00:32.392724Z",
     "start_time": "2019-05-10T19:00:32.290997Z"
    },
    "collapsed": true
   },
   "outputs": [
    {
     "data": {
      "text/plain": [
       "[<matplotlib.lines.Line2D at 0x2388770ddd8>]"
      ]
     },
     "execution_count": 155,
     "metadata": {},
     "output_type": "execute_result"
    },
    {
     "data": {
      "image/png": "[encoded data removed]",
      "text/plain": [
       "<Figure size 432x288 with 1 Axes>"
      ]
     },
     "metadata": {},
     "output_type": "display_data"
    }
   ],
   "source": [
    "plt.plot([i for i in range(len(r0))], r0)"
   ]
  },
  {
   "cell_type": "markdown",
   "metadata": {},
   "source": [
    "### Few unique values"
   ]
  },
  {
   "cell_type": "code",
   "execution_count": 156,
   "metadata": {
    "ExecuteTime": {
     "end_time": "2019-05-10T19:00:37.232403Z",
     "start_time": "2019-05-10T19:00:37.204473Z"
    }
   },
   "outputs": [],
   "source": [
    "p0 = np.append(np.random.randint(low = 0, high = 10, size = 9000),\n",
    "               np.random.choice(r1, 1000, replace=False))"
   ]
  },
  {
   "cell_type": "code",
   "execution_count": 157,
   "metadata": {
    "ExecuteTime": {
     "end_time": "2019-05-10T19:00:37.805965Z",
     "start_time": "2019-05-10T19:00:37.697107Z"
    },
    "collapsed": true
   },
   "outputs": [
    {
     "data": {
      "text/plain": [
       "(array([4.000e+00, 1.300e+01, 5.600e+01, 1.460e+02, 2.700e+02, 9.265e+03,\n",
       "        1.590e+02, 6.800e+01, 1.500e+01, 4.000e+00]),\n",
       " array([-3476568. , -2789816.1, -2103064.2, -1416312.3,  -729560.4,\n",
       "          -42808.5,   643943.4,  1330695.3,  2017447.2,  2704199.1,\n",
       "         3390951. ]),\n",
       " <a list of 10 Patch objects>)"
      ]
     },
     "execution_count": 157,
     "metadata": {},
     "output_type": "execute_result"
    },
    {
     "data": {
      "image/png": "[encoded data removed]",
      "text/plain": [
       "<Figure size 432x288 with 1 Axes>"
      ]
     },
     "metadata": {},
     "output_type": "display_data"
    }
   ],
   "source": [
    "plt.hist(p0, bins=10)"
   ]
  },
  {
   "cell_type": "markdown",
   "metadata": {},
   "source": [
    "## Save test data to file\n",
    "\n",
    "Wow! That nearly-sprted data took an awful long time to generate. Lets save the data to a csv file for future use..."
   ]
  },
  {
   "cell_type": "code",
   "execution_count": 158,
   "metadata": {
    "ExecuteTime": {
     "end_time": "2019-05-10T19:00:40.484865Z",
     "start_time": "2019-05-10T19:00:40.478923Z"
    }
   },
   "outputs": [],
   "source": [
    "dataset = pd.DataFrame(np.row_stack((u0, g0, n0, f0, r0, p0))).T#, \n",
    "dataset.columns=[\"Uniform\", \"Gaussian\", \"Nearly Sorted\", \"Fully Sorted\", \"Reversed\", \"Few Unique Values\"]"
   ]
  },
  {
   "cell_type": "code",
   "execution_count": 159,
   "metadata": {
    "ExecuteTime": {
     "end_time": "2019-05-10T19:00:40.959631Z",
     "start_time": "2019-05-10T19:00:40.950618Z"
    }
   },
   "outputs": [
    {
     "data": {
      "text/html": [
       "<div>\n",
       "<style scoped>\n",
       "    .dataframe tbody tr th:only-of-type {\n",
       "        vertical-align: middle;\n",
       "    }\n",
       "\n",
       "    .dataframe tbody tr th {\n",
       "        vertical-align: top;\n",
       "    }\n",
       "\n",
       "    .dataframe thead th {\n",
       "        text-align: right;\n",
       "    }\n",
       "</style>\n",
       "<table border=\"1\" class=\"dataframe\">\n",
       "  <thead>\n",
       "    <tr style=\"text-align: right;\">\n",
       "      <th></th>\n",
       "      <th>Uniform</th>\n",
       "      <th>Gaussian</th>\n",
       "      <th>Nearly Sorted</th>\n",
       "      <th>Fully Sorted</th>\n",
       "      <th>Reversed</th>\n",
       "      <th>Few Unique Values</th>\n",
       "    </tr>\n",
       "  </thead>\n",
       "  <tbody>\n",
       "    <tr>\n",
       "      <th>0</th>\n",
       "      <td>7360</td>\n",
       "      <td>6276</td>\n",
       "      <td>0</td>\n",
       "      <td>0</td>\n",
       "      <td>9999</td>\n",
       "      <td>9</td>\n",
       "    </tr>\n",
       "    <tr>\n",
       "      <th>1</th>\n",
       "      <td>8362</td>\n",
       "      <td>-9910</td>\n",
       "      <td>1</td>\n",
       "      <td>1</td>\n",
       "      <td>9998</td>\n",
       "      <td>9</td>\n",
       "    </tr>\n",
       "    <tr>\n",
       "      <th>2</th>\n",
       "      <td>7517</td>\n",
       "      <td>-33478</td>\n",
       "      <td>2</td>\n",
       "      <td>2</td>\n",
       "      <td>9997</td>\n",
       "      <td>1</td>\n",
       "    </tr>\n",
       "    <tr>\n",
       "      <th>3</th>\n",
       "      <td>142</td>\n",
       "      <td>15773</td>\n",
       "      <td>3</td>\n",
       "      <td>3</td>\n",
       "      <td>9996</td>\n",
       "      <td>2</td>\n",
       "    </tr>\n",
       "    <tr>\n",
       "      <th>4</th>\n",
       "      <td>4688</td>\n",
       "      <td>4289</td>\n",
       "      <td>4</td>\n",
       "      <td>4</td>\n",
       "      <td>9995</td>\n",
       "      <td>5</td>\n",
       "    </tr>\n",
       "  </tbody>\n",
       "</table>\n",
       "</div>"
      ],
      "text/plain": [
       "   Uniform  Gaussian  Nearly Sorted  Fully Sorted  Reversed  Few Unique Values\n",
       "0     7360      6276              0             0      9999                  9\n",
       "1     8362     -9910              1             1      9998                  9\n",
       "2     7517    -33478              2             2      9997                  1\n",
       "3      142     15773              3             3      9996                  2\n",
       "4     4688      4289              4             4      9995                  5"
      ]
     },
     "execution_count": 159,
     "metadata": {},
     "output_type": "execute_result"
    }
   ],
   "source": [
    "dataset.head()"
   ]
  },
  {
   "cell_type": "code",
   "execution_count": 160,
   "metadata": {
    "ExecuteTime": {
     "end_time": "2019-05-10T19:00:43.454261Z",
     "start_time": "2019-05-10T19:00:43.373105Z"
    }
   },
   "outputs": [],
   "source": [
    "dataset.to_csv(\"sortme.csv\")"
   ]
  },
  {
   "cell_type": "markdown",
   "metadata": {},
   "source": [
    "## Open test data file"
   ]
  },
  {
   "cell_type": "code",
   "execution_count": 2,
   "metadata": {},
   "outputs": [],
   "source": [
    "dataset = pd.read_csv(\"sortme.csv\")"
   ]
  },
  {
   "cell_type": "code",
   "execution_count": 56,
   "metadata": {},
   "outputs": [],
   "source": [
    "del dataset['Unnamed: 0']"
   ]
  },
  {
   "cell_type": "code",
   "execution_count": 57,
   "metadata": {},
   "outputs": [
    {
     "data": {
      "text/html": [
       "<div>\n",
       "<style scoped>\n",
       "    .dataframe tbody tr th:only-of-type {\n",
       "        vertical-align: middle;\n",
       "    }\n",
       "\n",
       "    .dataframe tbody tr th {\n",
       "        vertical-align: top;\n",
       "    }\n",
       "\n",
       "    .dataframe thead th {\n",
       "        text-align: right;\n",
       "    }\n",
       "</style>\n",
       "<table border=\"1\" class=\"dataframe\">\n",
       "  <thead>\n",
       "    <tr style=\"text-align: right;\">\n",
       "      <th></th>\n",
       "      <th>Uniform</th>\n",
       "      <th>Gaussian</th>\n",
       "      <th>Nearly Sorted</th>\n",
       "      <th>Fully Sorted</th>\n",
       "      <th>Reversed</th>\n",
       "      <th>Few Unique Values</th>\n",
       "    </tr>\n",
       "  </thead>\n",
       "  <tbody>\n",
       "    <tr>\n",
       "      <th>0</th>\n",
       "      <td>7360</td>\n",
       "      <td>6276</td>\n",
       "      <td>0</td>\n",
       "      <td>0</td>\n",
       "      <td>9999</td>\n",
       "      <td>9</td>\n",
       "    </tr>\n",
       "    <tr>\n",
       "      <th>1</th>\n",
       "      <td>8362</td>\n",
       "      <td>-9910</td>\n",
       "      <td>1</td>\n",
       "      <td>1</td>\n",
       "      <td>9998</td>\n",
       "      <td>9</td>\n",
       "    </tr>\n",
       "    <tr>\n",
       "      <th>2</th>\n",
       "      <td>7517</td>\n",
       "      <td>-33478</td>\n",
       "      <td>2</td>\n",
       "      <td>2</td>\n",
       "      <td>9997</td>\n",
       "      <td>1</td>\n",
       "    </tr>\n",
       "    <tr>\n",
       "      <th>3</th>\n",
       "      <td>142</td>\n",
       "      <td>15773</td>\n",
       "      <td>3</td>\n",
       "      <td>3</td>\n",
       "      <td>9996</td>\n",
       "      <td>2</td>\n",
       "    </tr>\n",
       "    <tr>\n",
       "      <th>4</th>\n",
       "      <td>4688</td>\n",
       "      <td>4289</td>\n",
       "      <td>4</td>\n",
       "      <td>4</td>\n",
       "      <td>9995</td>\n",
       "      <td>5</td>\n",
       "    </tr>\n",
       "  </tbody>\n",
       "</table>\n",
       "</div>"
      ],
      "text/plain": [
       "   Uniform  Gaussian  Nearly Sorted  Fully Sorted  Reversed  Few Unique Values\n",
       "0     7360      6276              0             0      9999                  9\n",
       "1     8362     -9910              1             1      9998                  9\n",
       "2     7517    -33478              2             2      9997                  1\n",
       "3      142     15773              3             3      9996                  2\n",
       "4     4688      4289              4             4      9995                  5"
      ]
     },
     "execution_count": 57,
     "metadata": {},
     "output_type": "execute_result"
    }
   ],
   "source": [
    "dataset.head()"
   ]
  },
  {
   "cell_type": "markdown",
   "metadata": {},
   "source": [
    "# Performance Test"
   ]
  },
  {
   "cell_type": "code",
   "execution_count": 54,
   "metadata": {
    "ExecuteTime": {
     "end_time": "2019-05-11T15:37:32.721863Z",
     "start_time": "2019-05-11T15:37:32.713073Z"
    }
   },
   "outputs": [],
   "source": [
    "def sort_test(SORTING_FUNCTIONS, dataset, n_trials):\n",
    "    import sys\n",
    "    from time import time\n",
    "    \n",
    "    results = {function.__name__:[] for function in SORTING_FUNCTIONS}\n",
    "    for SORTING_FUNCTION in SORTING_FUNCTIONS:\n",
    "        for SET_NAME in dataset:\n",
    "            trial_results = []\n",
    "            for n in range(n_trials):\n",
    "                DATA = list(dataset[SET_NAME].copy())\n",
    "\n",
    "                if 'quicksort' in SORTING_FUNCTION.__name__:\n",
    "                    try:\n",
    "                        # change maximum recursion depth to avoid max_depth error with quicksort\n",
    "                        sys.setrecursionlimit(30000)\n",
    "\n",
    "                        tstart = time()\n",
    "                        SORTING_FUNCTION(DATA)\n",
    "                        tfinish = time()\n",
    "\n",
    "                        # change maximum recursion depth back to default\n",
    "                        sys.setrecursionlimit(999)\n",
    "                    except:\n",
    "                        print(SORTING_FUNCTION.__name__,\n",
    "                              \" could not evaluate {}, most likely due to max recursion error.\".format(SET_NAME))\n",
    "\n",
    "                else:\n",
    "                    tstart = time()\n",
    "                    SORTING_FUNCTION(DATA)\n",
    "                    tfinish = time()\n",
    "                    \n",
    "                trial_results.append(tfinish-tstart)\n",
    "                \n",
    "            print((SORTING_FUNCTION.__name__, SET_NAME, sum(trial_results)/len(trial_results)))\n",
    "            results[SORTING_FUNCTION.__name__].append((SET_NAME, sum(trial_results)/len(trial_results)))\n",
    "        \n",
    "    return results"
   ]
  },
  {
   "cell_type": "code",
   "execution_count": 66,
   "metadata": {
    "ExecuteTime": {
     "end_time": "2019-05-11T15:25:40.238404Z",
     "start_time": "2019-05-11T15:25:40.230852Z"
    }
   },
   "outputs": [],
   "source": [
    "def sort_test_single(SORTING_FUNCTION, dataset):\n",
    "    from time import time\n",
    "    times = []\n",
    "    for i in dataset:\n",
    "        a = list(dataset[i].copy())\n",
    "\n",
    "        tstart = time()\n",
    "        SORTING_FUNCTION(a)\n",
    "        tfinish = time()\n",
    "        \n",
    "        times.append((SORTING_FUNCTION.__name__, i, tfinish-tstart))\n",
    "        \n",
    "    return times"
   ]
  },
  {
   "cell_type": "code",
   "execution_count": 7,
   "metadata": {},
   "outputs": [],
   "source": [
    "# test data for on-the-spot testing while writing code\n",
    "xs = list(np.random.randint(0,10,1000))"
   ]
  },
  {
   "cell_type": "code",
   "execution_count": 73,
   "metadata": {},
   "outputs": [],
   "source": [
    "import numba"
   ]
  },
  {
   "cell_type": "code",
   "execution_count": 74,
   "metadata": {},
   "outputs": [
    {
     "data": {
      "text/plain": [
       "reflected list(int32)"
      ]
     },
     "execution_count": 74,
     "metadata": {},
     "output_type": "execute_result"
    }
   ],
   "source": [
    "numba.typeof(xs)"
   ]
  },
  {
   "cell_type": "markdown",
   "metadata": {},
   "source": [
    "# Sorting Algorithms"
   ]
  },
  {
   "cell_type": "code",
   "execution_count": 8,
   "metadata": {
    "ExecuteTime": {
     "end_time": "2019-05-11T17:58:53.299019Z",
     "start_time": "2019-05-11T17:58:53.291078Z"
    }
   },
   "outputs": [],
   "source": [
    "%load_ext cython"
   ]
  },
  {
   "cell_type": "markdown",
   "metadata": {},
   "source": [
    "## Bubble Sort\n",
    "It is a comparison-based algorithm in which each pair of adjacent elements is compared and the elements are swapped if they are not in order."
   ]
  },
  {
   "cell_type": "code",
   "execution_count": 9,
   "metadata": {
    "ExecuteTime": {
     "end_time": "2019-05-10T19:11:37.957953Z",
     "start_time": "2019-05-10T19:11:37.951968Z"
    }
   },
   "outputs": [],
   "source": [
    "from toolz import curry\n",
    "\n",
    "def bubblesort(xs):\n",
    "    list_ = xs.copy()\n",
    "    for i in range(len(list_)-1,0,-1):\n",
    "        for j in range(i):\n",
    "            if list_[j] > list_[j+1]:\n",
    "                list_[j], list_[j+1]= list_[j+1], list_[j]\n",
    "    return list_\n",
    "\n",
    "# curry the function:\n",
    "bubblesort = curry(bubblesort)"
   ]
  },
  {
   "cell_type": "code",
   "execution_count": 10,
   "metadata": {
    "ExecuteTime": {
     "end_time": "2019-05-10T22:46:23.920122Z",
     "start_time": "2019-05-10T22:46:23.531068Z"
    }
   },
   "outputs": [],
   "source": [
    "from numba import jit\n",
    "from toolz import curry\n",
    "\n",
    "@jit(nopython=True, fastmath=True)\n",
    "def bubblesort_jit(xs):\n",
    "    list_ = [i for i in xs]\n",
    "    for i in range(len(list_)-1,0,-1):\n",
    "        for j in range(i):\n",
    "            if list_[j] > list_[j+1]:\n",
    "                list_[j], list_[j+1]= list_[j+1], list_[j]\n",
    "    return list_\n",
    "\n",
    "# curry the function:\n",
    "bubblesort_jit = curry(bubblesort_jit)"
   ]
  },
  {
   "cell_type": "code",
   "execution_count": 11,
   "metadata": {},
   "outputs": [],
   "source": [
    "%%cython\n",
    "from cytoolz import curry\n",
    "\n",
    "cdef bubblesort_cy_(list xs):\n",
    "    cdef:\n",
    "        int i\n",
    "        int j\n",
    "        list list_ = xs.copy()\n",
    "    for i in range(len(list_)-1,0,-1):\n",
    "        for j in range(i):\n",
    "            if list_[j] > list_[j+1]:\n",
    "                list_[j], list_[j+1] = list_[j+1], list_[j]\n",
    "    return list_\n",
    "\n",
    "def bubblesort_cy(xs): \n",
    "    return curry(bubblesort_cy_)(xs)"
   ]
  },
  {
   "cell_type": "markdown",
   "metadata": {},
   "source": [
    "## Merge Sort\n",
    "Merge sort first divides the array into equal halves and then combines them in a sorted manner."
   ]
  },
  {
   "cell_type": "code",
   "execution_count": 12,
   "metadata": {
    "ExecuteTime": {
     "end_time": "2019-05-10T22:51:08.648553Z",
     "start_time": "2019-05-10T22:51:08.638861Z"
    },
    "scrolled": true
   },
   "outputs": [],
   "source": [
    "from toolz import curry\n",
    "\n",
    "def merge_sort(xs):\n",
    "    if len(xs) <= 1: return xs\n",
    "    mid = len(xs) // 2\n",
    "    left_xs, right_xs = merge_sort(xs[:mid]), merge_sort(xs[mid:])\n",
    "    return list(merge(left_xs, right_xs))\n",
    "\n",
    "def merge(left,right):\n",
    "    res = []\n",
    "    while len(left) != 0 and len(right) != 0:\n",
    "        if left[0] < right[0]: res.append(left[0]); left.remove(left[0])\n",
    "        else: res.append(right[0]); right.remove(right[0])\n",
    "    res = res + right if len(left)==0 else res + left\n",
    "    return res\n",
    "\n",
    "# curry the function\n",
    "merge_sort = curry(merge_sort)"
   ]
  },
  {
   "cell_type": "code",
   "execution_count": 13,
   "metadata": {
    "ExecuteTime": {
     "end_time": "2019-05-10T22:52:29.598073Z",
     "start_time": "2019-05-10T22:52:29.580391Z"
    },
    "scrolled": true
   },
   "outputs": [],
   "source": [
    "from numba import jit\n",
    "from toolz import curry\n",
    "\n",
    "@jit(nopython=True, fastmath=True)\n",
    "def merge_sort_jit_(xs):\n",
    "    if len(xs) <= 1: return xs\n",
    "    mid = len(xs) // 2\n",
    "    left_xs, right_xs = merge_sort_jit_(xs[:mid]), merge_sort_jit_(xs[mid:])\n",
    "    return list(merge_jit(left_xs, right_xs))\n",
    "\n",
    "@jit(nopython=True, fastmath=True)\n",
    "def merge_jit(left,right):\n",
    "    res = []\n",
    "    while len(left) != 0 and len(right) != 0:\n",
    "        if left[0] < right[0]: res.append(left[0]); left.remove(left[0])\n",
    "        else: res.append(right[0]); right.remove(right[0])\n",
    "    res = res + right if len(left)==0 else res + left\n",
    "    return res\n",
    "\n",
    "# curry the function\n",
    "merge_sort_jit = curry(merge_sort_jit_)"
   ]
  },
  {
   "cell_type": "code",
   "execution_count": 14,
   "metadata": {},
   "outputs": [],
   "source": [
    "%%cython\n",
    "from cytoolz import curry\n",
    "\n",
    "cdef merge_sort_cy_(list xs):\n",
    "    \n",
    "    if len(xs) <= 1: \n",
    "        return xs\n",
    "    \n",
    "    cdef: \n",
    "        int mid = len(xs) // 2\n",
    "        list left_xs = merge_sort_cy_(xs[:mid])\n",
    "        list right_xs = merge_sort_cy_(xs[mid:])\n",
    "        \n",
    "    return merge_cy(left_xs, right_xs)\n",
    "\n",
    "cdef merge_cy(left, right):\n",
    "    cdef:\n",
    "        list res = []\n",
    "        \n",
    "    while len(left) != 0 and len(right) != 0:\n",
    "        \n",
    "        if left[0] < right[0]: \n",
    "            res.append(left[0])\n",
    "            left.remove(left[0])  \n",
    "        else: \n",
    "            res.append(right[0])\n",
    "            right.remove(right[0])\n",
    "            \n",
    "    res = res + right if len(left)==0 else res + left\n",
    "        \n",
    "    return res\n",
    "\n",
    "# curry the function\n",
    "def merge_sort_cy(xs): \n",
    "    return curry(merge_sort_cy_)(xs)"
   ]
  },
  {
   "cell_type": "markdown",
   "metadata": {},
   "source": [
    "## Insertion Sort\n",
    "Insertion sort involves finding the right place for a given element in a sorted list. So in beginning we compare the first two elements and sort them by comparing them. Then we pick the third element and find its proper position among the previous two sorted elements. This way we gradually go on adding more elements to the already sorted list by putting them in their proper position."
   ]
  },
  {
   "cell_type": "code",
   "execution_count": 15,
   "metadata": {
    "ExecuteTime": {
     "end_time": "2019-05-10T22:53:31.178974Z",
     "start_time": "2019-05-10T22:53:31.171316Z"
    }
   },
   "outputs": [],
   "source": [
    "from toolz import curry\n",
    "\n",
    "def insertion_sort(xs):\n",
    "    xs = xs.copy()\n",
    "    for i in range(1, len(xs)):\n",
    "        j, nxt = i-1, xs[i]\n",
    "        # Compare the current element with next\n",
    "        while (xs[j] > nxt) and (j >= 0):\n",
    "            xs[j+1], j = xs[j], j-1\n",
    "        xs[j+1] = nxt\n",
    "    return xs\n",
    "        \n",
    "# curry the function\n",
    "insertion_sort = curry(insertion_sort)"
   ]
  },
  {
   "cell_type": "code",
   "execution_count": 16,
   "metadata": {
    "ExecuteTime": {
     "end_time": "2019-05-10T22:53:31.738943Z",
     "start_time": "2019-05-10T22:53:31.730865Z"
    }
   },
   "outputs": [],
   "source": [
    "from numba import jit\n",
    "from toolz import curry\n",
    "\n",
    "@jit(nopython=True, fastmath=True)\n",
    "def insertion_sort_jit(xs):\n",
    "    xs = [i for i in xs]\n",
    "    for i in range(1, len(xs)):\n",
    "        j, nxt = i-1, xs[i]\n",
    "        # Compare the current element with next\n",
    "        while (xs[j] > nxt) and (j >= 0):\n",
    "            xs[j+1], j = xs[j], j-1\n",
    "        xs[j+1] = nxt\n",
    "    return xs\n",
    "        \n",
    "# curry the function\n",
    "insertion_sort_jit = curry(insertion_sort_jit)"
   ]
  },
  {
   "cell_type": "code",
   "execution_count": 17,
   "metadata": {},
   "outputs": [],
   "source": [
    "%%cython\n",
    "from cytoolz import curry\n",
    "\n",
    "cdef insertion_sort_cy_(list xs_):\n",
    "    cdef:\n",
    "        int i\n",
    "        int j\n",
    "        list xs = xs_.copy()\n",
    "        \n",
    "    for i in range(1, len(xs)):\n",
    "        j, nxt = i-1, xs[i]\n",
    "        \n",
    "        # Compare the current element with next\n",
    "        while (xs[j] > nxt) and (j >= 0):\n",
    "            xs[j+1], j = xs[j], j-1\n",
    "            \n",
    "        xs[j+1] = nxt\n",
    "    \n",
    "    return xs\n",
    "        \n",
    "# curry the function\n",
    "def insertion_sort_cy(xs):\n",
    "    curry(insertion_sort_cy_)(xs)"
   ]
  },
  {
   "cell_type": "markdown",
   "metadata": {},
   "source": [
    "## Selection Sort\n",
    "In selection sort we start by finding the minimum value in a given list and move it to a sorted list. Then we repeat the process for each of the remaining elements in the unsorted list. The next element entering the sorted list is compared with the existing elements and placed at its correct position. So at the end all the elements from the unsorted list are sorted."
   ]
  },
  {
   "cell_type": "code",
   "execution_count": 18,
   "metadata": {
    "ExecuteTime": {
     "end_time": "2019-05-10T22:54:30.411407Z",
     "start_time": "2019-05-10T22:54:30.403537Z"
    }
   },
   "outputs": [],
   "source": [
    "from toolz import curry\n",
    "\n",
    "def selection_sort(xs):\n",
    "    xs = xs.copy()\n",
    "    for i in range(len(xs)):\n",
    "        min_i = i\n",
    "        for j in range(i+1, len(xs)):\n",
    "            if xs[min_i] > xs[j]:\n",
    "                min_i = j\n",
    "        xs[i], xs[min_i] = xs[min_i], xs[i]\n",
    "        \n",
    "    return xs\n",
    "        \n",
    "# curry the function\n",
    "selection_sort = curry(selection_sort)"
   ]
  },
  {
   "cell_type": "code",
   "execution_count": 19,
   "metadata": {
    "ExecuteTime": {
     "end_time": "2019-05-10T22:54:46.440421Z",
     "start_time": "2019-05-10T22:54:46.432441Z"
    }
   },
   "outputs": [],
   "source": [
    "from numba import jit\n",
    "from toolz import curry\n",
    "\n",
    "@jit(nopython=True, fastmath=True)\n",
    "def selection_sort_jit(xs):\n",
    "    xs = [i for i in xs]\n",
    "    for i in range(len(xs)):\n",
    "        min_i = i\n",
    "        for j in range(i+1, len(xs)):\n",
    "            if xs[min_i] > xs[j]:\n",
    "                min_i = j\n",
    "        # swap min value with the current value\n",
    "        xs[i], xs[min_i] = xs[min_i], xs[i]\n",
    "    return xs\n",
    "        \n",
    "# curry the function\n",
    "selection_sort_jit = curry(selection_sort_jit)"
   ]
  },
  {
   "cell_type": "code",
   "execution_count": 20,
   "metadata": {},
   "outputs": [],
   "source": [
    "%%cython\n",
    "from cytoolz import curry\n",
    "\n",
    "cdef selection_sort_cy_(list xs_):\n",
    "    cdef:\n",
    "        int i\n",
    "        int j\n",
    "        int min_i\n",
    "        list xs = xs_.copy()\n",
    "    for i in range(len(xs)):\n",
    "        min_i = i\n",
    "        for j in range(i+1, len(xs)):\n",
    "            if xs[min_i] > xs[j]:\n",
    "                min_i = j\n",
    "        # swap min value with the current value\n",
    "        xs[i], xs[min_i] = xs[min_i], xs[i]\n",
    "    return xs\n",
    "        \n",
    "# curry the function\n",
    "def selection_sort_cy(xs):\n",
    "    curry(selection_sort_cy_)(xs)"
   ]
  },
  {
   "cell_type": "markdown",
   "metadata": {},
   "source": [
    "# Sorting Algorithms (in-place)\n",
    "These perform in-place sorting."
   ]
  },
  {
   "cell_type": "markdown",
   "metadata": {},
   "source": [
    "## Bubble Sort"
   ]
  },
  {
   "cell_type": "code",
   "execution_count": 21,
   "metadata": {
    "ExecuteTime": {
     "end_time": "2019-05-10T19:13:44.402581Z",
     "start_time": "2019-05-10T19:13:44.397562Z"
    }
   },
   "outputs": [],
   "source": [
    "from toolz import curry\n",
    "\n",
    "def bubblesort_i(xs):\n",
    "    for i in range(len(xs)):\n",
    "        for j in range(len(xs)-1-i):\n",
    "            if xs[j] > xs[j+1]: \n",
    "                xs[j], xs[j+1] = xs[j+1], xs[j]\n",
    "                \n",
    "# curry the function\n",
    "bubblesort_i = curry(bubblesort_i)"
   ]
  },
  {
   "cell_type": "code",
   "execution_count": 22,
   "metadata": {
    "ExecuteTime": {
     "end_time": "2019-05-11T15:41:03.602668Z",
     "start_time": "2019-05-11T15:41:03.590371Z"
    }
   },
   "outputs": [],
   "source": [
    "from numba import jit\n",
    "from toolz import curry\n",
    "\n",
    "@jit(nopython=True, fastmath=True)\n",
    "def bubblesort_i_jit(xs):\n",
    "    for i in range(len(xs)):\n",
    "        for j in range(len(xs)-1-i):\n",
    "            if xs[j] > xs[j+1]: xs[j], xs[j+1] = xs[j+1], xs[j]\n",
    "                \n",
    "# curry the function\n",
    "bubblesort_i_jit = curry(bubblesort_i_jit)"
   ]
  },
  {
   "cell_type": "code",
   "execution_count": 23,
   "metadata": {},
   "outputs": [],
   "source": [
    "%%cython\n",
    "from cytoolz import curry\n",
    "\n",
    "cdef bubblesort_i_cy_(list xs):\n",
    "    cdef:\n",
    "        int i\n",
    "        int j\n",
    "    for i in range(len(xs)):\n",
    "        for j in range(len(xs)-1-i):\n",
    "            if xs[j] > xs[j+1]: xs[j], xs[j+1] = xs[j+1], xs[j]\n",
    "                \n",
    "# curry the function\n",
    "def bubblesort_i_cy(xs):\n",
    "    curry(bubblesort_i_cy_)(xs)"
   ]
  },
  {
   "cell_type": "markdown",
   "metadata": {},
   "source": [
    "## Insertion Sort"
   ]
  },
  {
   "cell_type": "code",
   "execution_count": 24,
   "metadata": {
    "ExecuteTime": {
     "end_time": "2019-05-10T19:14:30.975216Z",
     "start_time": "2019-05-10T19:14:30.971267Z"
    }
   },
   "outputs": [],
   "source": [
    "from toolz import curry\n",
    "\n",
    "def insertion_sort_i(xs):\n",
    "    i = 0\n",
    "    while i < len(xs):\n",
    "        j, i = i, i+1\n",
    "        while j > 0 and xs[j] < xs[j-1]:\n",
    "            xs[j], xs[j-1], j = xs[j-1], xs[j], j-1\n",
    "            \n",
    "# curry the function\n",
    "insertion_sort_i = curry(insertion_sort_i)"
   ]
  },
  {
   "cell_type": "code",
   "execution_count": 25,
   "metadata": {
    "ExecuteTime": {
     "end_time": "2019-05-11T15:41:29.466542Z",
     "start_time": "2019-05-11T15:41:29.455231Z"
    }
   },
   "outputs": [],
   "source": [
    "from numba import jit\n",
    "from toolz import curry\n",
    "\n",
    "@jit(nopython=True, fastmath=True)\n",
    "def insertion_sort_i_jit(xs):\n",
    "    i = 0\n",
    "    while i < len(xs):\n",
    "        j, i = i, i+1\n",
    "        while j > 0 and xs[j] < xs[j-1]:\n",
    "            xs[j], xs[j-1], j = xs[j-1], xs[j], j-1\n",
    "            \n",
    "# curry the function\n",
    "insertion_sort_i_jit = curry(insertion_sort_i_jit)"
   ]
  },
  {
   "cell_type": "code",
   "execution_count": 26,
   "metadata": {},
   "outputs": [],
   "source": [
    "%%cython\n",
    "from cytoolz import curry\n",
    "\n",
    "cdef insertion_sort_i_cy_(list xs):\n",
    "    cdef:\n",
    "        int i = 0\n",
    "        int j\n",
    "    while i < len(xs):\n",
    "        j, i = i, i+1\n",
    "        while j > 0 and xs[j] < xs[j-1]:\n",
    "            xs[j], xs[j-1], j = xs[j-1], xs[j], j-1\n",
    "            \n",
    "# curry the function\n",
    "def insertion_sort_i_cy(xs):\n",
    "    curry(insertion_sort_i_cy_)(xs)"
   ]
  },
  {
   "cell_type": "markdown",
   "metadata": {},
   "source": [
    "## Merge Sort"
   ]
  },
  {
   "cell_type": "code",
   "execution_count": 27,
   "metadata": {
    "ExecuteTime": {
     "end_time": "2019-05-10T19:16:24.303074Z",
     "start_time": "2019-05-10T19:16:24.297127Z"
    }
   },
   "outputs": [],
   "source": [
    "from toolz import curry\n",
    "\n",
    "def merge_sort_i(xs):\n",
    "    if len(xs) > 1:\n",
    "        # split at midpoint\n",
    "        mid   = len(xs) // 2\n",
    "        left, right  = xs[0:mid], xs[mid:]\n",
    "        # Sort left and right lists in-place\n",
    "        merge_sort_i(left); merge_sort_i(right)           \n",
    "        # merge the two halves\n",
    "        l, r = 0, 0 # left index, right index\n",
    "        for i in range(len(xs)):     \n",
    "            lval = left[l]  if l < len(left)  else None\n",
    "            rval = right[r] if r < len(right) else None\n",
    "            if   (lval and rval and lval <  rval) or rval is None: xs[i], l = lval, l+1\n",
    "            elif (lval and rval and lval >= rval) or lval is None: xs[i], r = rval, r+1\n",
    "                \n",
    "# curry the function\n",
    "merge_sort_i = curry(merge_sort_i)"
   ]
  },
  {
   "cell_type": "code",
   "execution_count": 28,
   "metadata": {
    "ExecuteTime": {
     "end_time": "2019-05-11T15:42:32.135751Z",
     "start_time": "2019-05-11T15:42:32.118819Z"
    }
   },
   "outputs": [],
   "source": [
    "# BROKEN, TYPE ERROR\n",
    "\n",
    "from numba import jit\n",
    "from toolz import curry\n",
    "\n",
    "@jit(nopython=True, fastmath=True)\n",
    "def merge_sort_i_jit_(xs):\n",
    "    \n",
    "    if len(xs) > 1:\n",
    "        # split at midpoint\n",
    "        mid   = len(xs) // 2    \n",
    "        left, right  = xs[0:mid], xs[mid:]\n",
    "        \n",
    "        # Sort left and right lists in-place\n",
    "        merge_sort_i_jit_(left)\n",
    "        merge_sort_i_jit_(right)    \n",
    "        \n",
    "        # merge the two halves\n",
    "        l, r = 0, 0 # left index, right index\n",
    "        for i in range(len(xs)):\n",
    "            lval = left[l]  if l < len(left)  else None\n",
    "            rval = right[r] if r < len(right) else None\n",
    "            \n",
    "            if   (lval and rval and lval <  rval) or rval is None: \n",
    "                xs[i], l = lval, l+1\n",
    "            elif (lval and rval and lval >=\n",
    "                  rval) or lval is None: \n",
    "                xs[i], r = rval, r+1\n",
    "    else:\n",
    "        pass\n",
    "                \n",
    "# curry the function\n",
    "merge_sort_i_jit = curry(merge_sort_i_jit_)"
   ]
  },
  {
   "cell_type": "code",
   "execution_count": 29,
   "metadata": {},
   "outputs": [],
   "source": [
    "%%cython\n",
    "from cytoolz import curry\n",
    "\n",
    "cdef merge_sort_i_cy_(list xs):\n",
    "    cdef:\n",
    "        int mid\n",
    "        list left\n",
    "        list right\n",
    "        int l\n",
    "        int r\n",
    "        \n",
    "    if len(xs) > 1:\n",
    "        # split at midpoint\n",
    "        mid   = len(xs) // 2    \n",
    "        left, right  = xs[0:mid], xs[mid:]\n",
    "        # Sort left and right lists in-place\n",
    "        merge_sort_i_cy_(left); merge_sort_i_cy_(right)           \n",
    "        # merge the two halves\n",
    "        l, r = 0, 0 # left index, right index\n",
    "        for i in range(len(xs)):     \n",
    "            lval = left[l]  if l < len(left)  else None\n",
    "            rval = right[r] if r < len(right) else None\n",
    "            if   (lval and rval and lval <  rval) or rval is None: xs[i], l = lval, l+1\n",
    "            elif (lval and rval and lval >= rval) or lval is None: xs[i], r = rval, r+1\n",
    "                \n",
    "# curry the function\n",
    "def merge_sort_i_cy(xs):\n",
    "    curry(merge_sort_i_cy_)(xs)"
   ]
  },
  {
   "cell_type": "markdown",
   "metadata": {},
   "source": [
    "## Quick Sort"
   ]
  },
  {
   "cell_type": "code",
   "execution_count": 30,
   "metadata": {
    "ExecuteTime": {
     "end_time": "2019-05-10T19:15:53.272165Z",
     "start_time": "2019-05-10T19:15:53.268189Z"
    }
   },
   "outputs": [],
   "source": [
    "from toolz import curry\n",
    "\n",
    "def quicksort_i(xs):\n",
    "        if len(xs) > 1:\n",
    "                mid = len(xs) // 2\n",
    "                small, large = [], []\n",
    "                for i, val in enumerate(xs):\n",
    "                        if i != mid:\n",
    "                                if val < xs[mid]: small.append(val)\n",
    "                                else: large.append(val)\n",
    "                quicksort_i(small); quicksort_i(large)\n",
    "                xs[:] = small + [xs[mid]] + large\n",
    "                \n",
    "# curry the function\n",
    "quicksort_i = curry(quicksort_i)"
   ]
  },
  {
   "cell_type": "code",
   "execution_count": 71,
   "metadata": {
    "ExecuteTime": {
     "end_time": "2019-05-11T15:43:10.214888Z",
     "start_time": "2019-05-11T15:43:10.202330Z"
    }
   },
   "outputs": [],
   "source": [
    "from numba import jit\n",
    "from toolz import curry\n",
    "\n",
    "@jit(nopython=True, fastmath=True)\n",
    "def quicksort_i_jit_(xs):\n",
    "        if len(xs) > 1:\n",
    "                mid = len(xs) // 2\n",
    "                small, large = [], []\n",
    "                for i, val in enumerate(xs):\n",
    "                        if i != mid:\n",
    "                                if val < xs[mid]: small.append(val)\n",
    "                                else: large.append(val)\n",
    "                quicksort_i_jit_(small); quicksort_i_jit_(large)\n",
    "                xs[:] = small + [xs[mid]] + large\n",
    "                \n",
    "# curry the function\n",
    "quicksort_i_jit = curry(quicksort_i_jit_)"
   ]
  },
  {
   "cell_type": "code",
   "execution_count": 32,
   "metadata": {},
   "outputs": [],
   "source": [
    "%%cython\n",
    "from cytoolz import curry\n",
    "\n",
    "cdef quicksort_i_cy_(list xs):\n",
    "    cdef:\n",
    "        int mid\n",
    "        list small\n",
    "        list large\n",
    "        int i\n",
    "        \n",
    "    if len(xs) > 1:\n",
    "        mid = len(xs) // 2\n",
    "        small = []\n",
    "        large = []\n",
    "                    \n",
    "        for i, val in enumerate(xs):\n",
    "            if i != mid:\n",
    "                if val < xs[mid]: small.append(val)\n",
    "                else: large.append(val)\n",
    "                            \n",
    "        quicksort_i_cy_(small); quicksort_i_cy_(large)\n",
    "        xs[:] = small + [xs[mid]] + large\n",
    "                \n",
    "# curry the function\n",
    "def quicksort_i_cy(xs):\n",
    "    curry(quicksort_i_cy_)(xs)"
   ]
  },
  {
   "cell_type": "markdown",
   "metadata": {},
   "source": [
    "## Heapsort"
   ]
  },
  {
   "cell_type": "code",
   "execution_count": 33,
   "metadata": {
    "ExecuteTime": {
     "end_time": "2019-05-10T19:22:50.751057Z",
     "start_time": "2019-05-10T19:22:50.746105Z"
    }
   },
   "outputs": [],
   "source": [
    "import heapq as HQ\n",
    "\n",
    "def heap_sort_i(xs):\n",
    "        HQ.heapify(xs)\n",
    "        xs[:] = [HQ.heappop(xs) for i in range(len(xs))]\n",
    "        \n",
    "# curry the function\n",
    "heap_sort_i = curry(heap_sort_i)"
   ]
  },
  {
   "cell_type": "code",
   "execution_count": 34,
   "metadata": {},
   "outputs": [],
   "source": [
    "%%cython\n",
    "import heapq as HQ\n",
    "from cytoolz import curry\n",
    "\n",
    "cdef heap_sort_i_cy_(list xs):\n",
    "    cdef int i\n",
    "    HQ.heapify(xs)\n",
    "    xs[:] = [HQ.heappop(xs) for i in range(len(xs))]\n",
    "        \n",
    "# curry the function\n",
    "def heap_sort_i_cy(xs):\n",
    "    curry(heap_sort_i_cy_)(xs)"
   ]
  },
  {
   "cell_type": "markdown",
   "metadata": {},
   "source": [
    "# Reference Sort Functions"
   ]
  },
  {
   "cell_type": "markdown",
   "metadata": {},
   "source": [
    "## Default Python Sort"
   ]
  },
  {
   "cell_type": "code",
   "execution_count": 35,
   "metadata": {
    "ExecuteTime": {
     "end_time": "2019-05-10T22:03:43.430847Z",
     "start_time": "2019-05-10T22:03:43.423487Z"
    }
   },
   "outputs": [],
   "source": [
    "#help(list.sort)"
   ]
  },
  {
   "cell_type": "code",
   "execution_count": 36,
   "metadata": {
    "ExecuteTime": {
     "end_time": "2019-05-10T22:05:06.445013Z",
     "start_time": "2019-05-10T22:05:06.437823Z"
    }
   },
   "outputs": [],
   "source": [
    "#help(sorted)"
   ]
  },
  {
   "cell_type": "code",
   "execution_count": 37,
   "metadata": {
    "ExecuteTime": {
     "end_time": "2019-05-11T15:10:16.949515Z",
     "start_time": "2019-05-11T15:10:16.941419Z"
    }
   },
   "outputs": [],
   "source": [
    "def sort_py(xs):\n",
    "    return sorted(xs)\n",
    "\n",
    "def sort_py_i(xs):\n",
    "    return xs.sort()"
   ]
  },
  {
   "cell_type": "markdown",
   "metadata": {},
   "source": [
    "## NumPy Sort"
   ]
  },
  {
   "cell_type": "code",
   "execution_count": 38,
   "metadata": {
    "ExecuteTime": {
     "end_time": "2019-05-11T15:16:29.665146Z",
     "start_time": "2019-05-11T15:16:29.652457Z"
    }
   },
   "outputs": [],
   "source": [
    "#help(np.ndarray.sort)"
   ]
  },
  {
   "cell_type": "code",
   "execution_count": 39,
   "metadata": {
    "ExecuteTime": {
     "end_time": "2019-05-11T15:17:12.297907Z",
     "start_time": "2019-05-11T15:17:12.284737Z"
    }
   },
   "outputs": [],
   "source": [
    "from toolz import curry\n",
    "\n",
    "sort_np = curry(np.sort)\n",
    "    \n",
    "sort_np_i = curry(lambda xs, kind_: np.array(xs).sort(kind=kind_))\n",
    "\n",
    "# non-in-place functions\n",
    "def quicksort_np(xs):\n",
    "    return sort_np(xs, kind='quicksort')\n",
    "\n",
    "def mergesort_np(xs):\n",
    "    return sort_np(xs, kind='mergesort')\n",
    "\n",
    "def heapsort_np(xs):\n",
    "    return sort_np(xs, kind='heapsort')\n",
    "\n",
    "def stablesort_np(xs):\n",
    "    return sort_np(xs, kind='stable')\n",
    "\n",
    "# in-place functions\n",
    "def quicksort_np_i(xs):\n",
    "    return sort_np_i(xs, kind_='quicksort')\n",
    "\n",
    "def mergesort_np_i(xs): \n",
    "    return sort_np_i(xs, kind_='mergesort')\n",
    "\n",
    "def heapsort_np_i(xs): \n",
    "    return sort_np_i(xs, kind_='heapsort')\n",
    "\n",
    "def stablesort_np_i(xs):\n",
    "    return sort_np_i(xs, kind_='stable')"
   ]
  },
  {
   "cell_type": "markdown",
   "metadata": {},
   "source": [
    "# Run Tests"
   ]
  },
  {
   "cell_type": "code",
   "execution_count": 40,
   "metadata": {},
   "outputs": [],
   "source": [
    "SORT_FUNCS = \\\n",
    "[sort_py,\n",
    "quicksort_np,\n",
    "mergesort_np,\n",
    "heapsort_np,\n",
    "stablesort_np,\n",
    "\n",
    "sort_py_i,\n",
    "quicksort_np_i,\n",
    "mergesort_np_i,\n",
    "heapsort_np_i,\n",
    "stablesort_np_i,\n",
    "\n",
    "bubblesort,\n",
    "merge_sort,\n",
    "insertion_sort,\n",
    "selection_sort,\n",
    "\n",
    "bubblesort_jit,\n",
    "merge_sort_jit,\n",
    "insertion_sort_jit,\n",
    "selection_sort_jit,\n",
    "\n",
    "bubblesort_cy,\n",
    "merge_sort_cy,\n",
    "insertion_sort_cy,\n",
    "selection_sort_cy,\n",
    "\n",
    "bubblesort_i,\n",
    "insertion_sort_i,\n",
    "merge_sort_i,\n",
    "quicksort_i,\n",
    "#heap_sort_i,\n",
    "\n",
    "bubblesort_i_jit,\n",
    "insertion_sort_i_jit,\n",
    "#merge_sort_i_jit,\n",
    "quicksort_i_jit,\n",
    "#heap_sort_i_jit,\n",
    "\n",
    "bubblesort_i_cy,\n",
    "insertion_sort_i_cy,\n",
    "merge_sort_i_cy,\n",
    "quicksort_i_cy]\n",
    "#heap_sort_i_cy]"
   ]
  },
  {
   "cell_type": "code",
   "execution_count": 75,
   "metadata": {},
   "outputs": [
    {
     "name": "stdout",
     "output_type": "stream",
     "text": [
      "('sort_py', 'Uniform', 0.00433500607808431)\n",
      "('sort_py', 'Gaussian', 0.003541072209676107)\n",
      "('sort_py', 'Nearly Sorted', 0.001968224843343099)\n",
      "('sort_py', 'Fully Sorted', 0.0)\n",
      "('sort_py', 'Reversed', 0.0)\n",
      "('sort_py', 'Few Unique Values', 0.0021497408548990884)\n",
      "('quicksort_np', 'Uniform', 0.0022710959116617837)\n",
      "('quicksort_np', 'Gaussian', 0.0015617211659749348)\n",
      "('quicksort_np', 'Nearly Sorted', 0.0013953844706217449)\n",
      "('quicksort_np', 'Fully Sorted', 0.0017153422037760417)\n",
      "('quicksort_np', 'Reversed', 0.0010139942169189453)\n",
      "('quicksort_np', 'Few Unique Values', 0.0012692610422770183)\n",
      "('mergesort_np', 'Uniform', 0.001756111780802409)\n",
      "('mergesort_np', 'Gaussian', 0.002006053924560547)\n",
      "('mergesort_np', 'Nearly Sorted', 0.0014065901438395183)\n",
      "('mergesort_np', 'Fully Sorted', 0.0018244584401448567)\n",
      "('mergesort_np', 'Reversed', 0.002051830291748047)\n",
      "('mergesort_np', 'Few Unique Values', 0.0010644594828287761)\n",
      "('heapsort_np', 'Uniform', 0.002023458480834961)\n",
      "('heapsort_np', 'Gaussian', 0.002441883087158203)\n",
      "('heapsort_np', 'Nearly Sorted', 0.0014026959737141926)\n",
      "('heapsort_np', 'Fully Sorted', 0.0013611316680908203)\n",
      "('heapsort_np', 'Reversed', 0.0015996297200520833)\n",
      "('heapsort_np', 'Few Unique Values', 0.001309792200724284)\n",
      "('stablesort_np', 'Uniform', 0.0014470418294270833)\n",
      "('stablesort_np', 'Gaussian', 0.0014101664225260417)\n",
      "('stablesort_np', 'Nearly Sorted', 0.0019598801930745444)\n",
      "('stablesort_np', 'Fully Sorted', 0.0010251998901367188)\n",
      "('stablesort_np', 'Reversed', 0.0010135173797607422)\n",
      "('stablesort_np', 'Few Unique Values', 0.0012952486673990886)\n",
      "('sort_py_i', 'Uniform', 0.003328561782836914)\n",
      "('sort_py_i', 'Gaussian', 0.003874063491821289)\n",
      "('sort_py_i', 'Nearly Sorted', 0.0025027592976888022)\n",
      "('sort_py_i', 'Fully Sorted', 0.0004342397054036458)\n",
      "('sort_py_i', 'Reversed', 0.0)\n",
      "('sort_py_i', 'Few Unique Values', 0.0032585461934407554)\n",
      "('quicksort_np_i', 'Uniform', 0.0023895899454752603)\n",
      "('quicksort_np_i', 'Gaussian', 0.005235910415649414)\n",
      "('quicksort_np_i', 'Nearly Sorted', 0.0035140514373779297)\n",
      "('quicksort_np_i', 'Fully Sorted', 0.0015110174814860027)\n",
      "('quicksort_np_i', 'Reversed', 0.001830736796061198)\n",
      "('quicksort_np_i', 'Few Unique Values', 0.001474459966023763)\n",
      "('mergesort_np_i', 'Uniform', 0.0015297730763753254)\n",
      "('mergesort_np_i', 'Gaussian', 0.0016748905181884766)\n",
      "('mergesort_np_i', 'Nearly Sorted', 0.0017664432525634766)\n",
      "('mergesort_np_i', 'Fully Sorted', 0.0010013580322265625)\n",
      "('mergesort_np_i', 'Reversed', 0.000997304916381836)\n",
      "('mergesort_np_i', 'Few Unique Values', 0.0010151068369547527)\n",
      "('heapsort_np_i', 'Uniform', 0.0018747647603352864)\n",
      "('heapsort_np_i', 'Gaussian', 0.002635320027669271)\n",
      "('heapsort_np_i', 'Nearly Sorted', 0.002651691436767578)\n",
      "('heapsort_np_i', 'Fully Sorted', 0.0018845399220784504)\n",
      "('heapsort_np_i', 'Reversed', 0.0022896130879720054)\n",
      "('heapsort_np_i', 'Few Unique Values', 0.002384821573893229)\n",
      "('stablesort_np_i', 'Uniform', 0.0024663607279459634)\n",
      "('stablesort_np_i', 'Gaussian', 0.0017439524332682292)\n",
      "('stablesort_np_i', 'Nearly Sorted', 0.002741098403930664)\n",
      "('stablesort_np_i', 'Fully Sorted', 0.0015727678934733074)\n",
      "('stablesort_np_i', 'Reversed', 0.0016353130340576172)\n",
      "('stablesort_np_i', 'Few Unique Values', 0.002021630605061849)\n",
      "('bubblesort', 'Uniform', 20.179659446080525)\n",
      "('bubblesort', 'Gaussian', 19.59384250640869)\n",
      "('bubblesort', 'Nearly Sorted', 12.440871159235636)\n",
      "('bubblesort', 'Fully Sorted', 10.567704677581787)\n",
      "('bubblesort', 'Reversed', 28.70425796508789)\n",
      "('bubblesort', 'Few Unique Values', 19.230440934499104)\n",
      "('merge_sort', 'Uniform', 0.14447808265686035)\n",
      "('merge_sort', 'Gaussian', 0.13383928934733072)\n",
      "('merge_sort', 'Nearly Sorted', 0.13396175702412924)\n",
      "('merge_sort', 'Fully Sorted', 0.08392143249511719)\n",
      "('merge_sort', 'Reversed', 0.10446333885192871)\n",
      "('merge_sort', 'Few Unique Values', 0.12668689092000326)\n",
      "('insertion_sort', 'Uniform', 8.835829496383667)\n",
      "('insertion_sort', 'Gaussian', 9.138432582219442)\n",
      "('insertion_sort', 'Nearly Sorted', 1.5419700145721436)\n",
      "('insertion_sort', 'Fully Sorted', 0.004584074020385742)\n",
      "('insertion_sort', 'Reversed', 17.950135946273804)\n",
      "('insertion_sort', 'Few Unique Values', 8.192609786987305)\n",
      "('selection_sort', 'Uniform', 7.400631904602051)\n",
      "('selection_sort', 'Gaussian', 7.463115135828654)\n",
      "('selection_sort', 'Nearly Sorted', 7.187666893005371)\n",
      "('selection_sort', 'Fully Sorted', 7.164087533950806)\n",
      "('selection_sort', 'Reversed', 7.801092227300008)\n",
      "('selection_sort', 'Few Unique Values', 7.766453266143799)\n",
      "('bubblesort_jit', 'Uniform', 0.28967849413553876)\n",
      "('bubblesort_jit', 'Gaussian', 0.2814703782399495)\n",
      "('bubblesort_jit', 'Nearly Sorted', 0.11025110880533855)\n",
      "('bubblesort_jit', 'Fully Sorted', 0.06726781527201335)\n",
      "('bubblesort_jit', 'Reversed', 0.11146712303161621)\n",
      "('bubblesort_jit', 'Few Unique Values', 0.26851924260457355)\n",
      "('merge_sort_jit_', 'Uniform', 0.05616259574890137)\n",
      "('merge_sort_jit_', 'Gaussian', 0.05637788772583008)\n",
      "('merge_sort_jit_', 'Nearly Sorted', 0.05793841679890951)\n",
      "('merge_sort_jit_', 'Fully Sorted', 0.04239137967427572)\n",
      "('merge_sort_jit_', 'Reversed', 0.031970580418904625)\n",
      "('merge_sort_jit_', 'Few Unique Values', 0.041214545567830406)\n",
      "('insertion_sort_jit', 'Uniform', 0.06574598948160808)\n",
      "('insertion_sort_jit', 'Gaussian', 0.0713361104329427)\n",
      "('insertion_sort_jit', 'Nearly Sorted', 0.015082438786824545)\n",
      "('insertion_sort_jit', 'Fully Sorted', 0.001684427261352539)\n",
      "('insertion_sort_jit', 'Reversed', 0.12035004297892253)\n",
      "('insertion_sort_jit', 'Few Unique Values', 0.062435309092203774)\n",
      "('selection_sort_jit', 'Uniform', 0.262936274210612)\n",
      "('selection_sort_jit', 'Gaussian', 0.2853073279062907)\n",
      "('selection_sort_jit', 'Nearly Sorted', 0.331204891204834)\n",
      "('selection_sort_jit', 'Fully Sorted', 0.2924038569132487)\n",
      "('selection_sort_jit', 'Reversed', 0.3249211311340332)\n",
      "('selection_sort_jit', 'Few Unique Values', 0.309082825978597)\n",
      "('bubblesort_cy', 'Uniform', 3.2137157122294107)\n",
      "('bubblesort_cy', 'Gaussian', 3.2833184401194253)\n",
      "('bubblesort_cy', 'Nearly Sorted', 2.2653871377309165)\n",
      "('bubblesort_cy', 'Fully Sorted', 1.9091355800628662)\n",
      "('bubblesort_cy', 'Reversed', 3.474626143773397)\n",
      "('bubblesort_cy', 'Few Unique Values', 2.762037754058838)\n",
      "('merge_sort_cy', 'Uniform', 0.04107173283894857)\n",
      "('merge_sort_cy', 'Gaussian', 0.03374012311299642)\n",
      "('merge_sort_cy', 'Nearly Sorted', 0.03339139620463053)\n",
      "('merge_sort_cy', 'Fully Sorted', 0.021469990412394207)\n",
      "('merge_sort_cy', 'Reversed', 0.024789969126383465)\n",
      "('merge_sort_cy', 'Few Unique Values', 0.03332130114237467)\n",
      "('insertion_sort_cy', 'Uniform', 0.9931650956471761)\n",
      "('insertion_sort_cy', 'Gaussian', 0.9941349029541016)\n",
      "('insertion_sort_cy', 'Nearly Sorted', 0.21396946907043457)\n",
      "('insertion_sort_cy', 'Fully Sorted', 0.0004978179931640625)\n",
      "('insertion_sort_cy', 'Reversed', 2.0433727900187173)\n",
      "('insertion_sort_cy', 'Few Unique Values', 0.8469455242156982)\n",
      "('selection_sort_cy', 'Uniform', 2.1324514547983804)\n",
      "('selection_sort_cy', 'Gaussian', 2.393126964569092)\n",
      "('selection_sort_cy', 'Nearly Sorted', 2.0471264521280923)\n",
      "('selection_sort_cy', 'Fully Sorted', 2.1212886969248452)\n",
      "('selection_sort_cy', 'Reversed', 2.009544531504313)\n",
      "('selection_sort_cy', 'Few Unique Values', 2.1108678181966147)\n",
      "('bubblesort_i', 'Uniform', 20.15692416826884)\n",
      "('bubblesort_i', 'Gaussian', 20.605151573816936)\n",
      "('bubblesort_i', 'Nearly Sorted', 12.279067436854044)\n",
      "('bubblesort_i', 'Fully Sorted', 10.72393568356832)\n",
      "('bubblesort_i', 'Reversed', 27.75730609893799)\n",
      "('bubblesort_i', 'Few Unique Values', 18.90439200401306)\n",
      "('insertion_sort_i', 'Uniform', 15.343326568603516)\n",
      "('insertion_sort_i', 'Gaussian', 15.796717643737793)\n",
      "('insertion_sort_i', 'Nearly Sorted', 2.7962094148000083)\n",
      "('insertion_sort_i', 'Fully Sorted', 0.0059659481048583984)\n",
      "('insertion_sort_i', 'Reversed', 30.77988799413045)\n",
      "('insertion_sort_i', 'Few Unique Values', 14.902637004852295)\n",
      "('merge_sort_i', 'Uniform', 0.1334240436553955)\n",
      "('merge_sort_i', 'Gaussian', 0.14568463961283365)\n",
      "('merge_sort_i', 'Nearly Sorted', 0.12079540888468425)\n",
      "('merge_sort_i', 'Fully Sorted', 0.1162714163462321)\n",
      "('merge_sort_i', 'Reversed', 0.12549535433451334)\n",
      "('merge_sort_i', 'Few Unique Values', 0.11577224731445312)\n",
      "('quicksort_i', 'Uniform', 0.09208917617797852)\n",
      "('quicksort_i', 'Gaussian', 0.08800506591796875)\n",
      "('quicksort_i', 'Nearly Sorted', 0.055359601974487305)\n"
     ]
    },
    {
     "name": "stdout",
     "output_type": "stream",
     "text": [
      "('quicksort_i', 'Fully Sorted', 0.05761822064717611)\n",
      "('quicksort_i', 'Reversed', 0.05897792180379232)\n",
      "('quicksort_i', 'Few Unique Values', 1.5855016708374023)\n",
      "('bubblesort_i_jit', 'Uniform', 0.2804211775461833)\n",
      "('bubblesort_i_jit', 'Gaussian', 0.28818496068318683)\n",
      "('bubblesort_i_jit', 'Nearly Sorted', 0.13391939798990884)\n",
      "('bubblesort_i_jit', 'Fully Sorted', 0.10178701082865398)\n",
      "('bubblesort_i_jit', 'Reversed', 0.17059795061747232)\n",
      "('bubblesort_i_jit', 'Few Unique Values', 0.2993289629618327)\n",
      "('insertion_sort_i_jit', 'Uniform', 0.08370669682820638)\n",
      "('insertion_sort_i_jit', 'Gaussian', 0.08434303601582845)\n",
      "('insertion_sort_i_jit', 'Nearly Sorted', 0.01682583491007487)\n",
      "('insertion_sort_i_jit', 'Fully Sorted', 0.0003510316212972005)\n",
      "('insertion_sort_i_jit', 'Reversed', 0.17266130447387695)\n",
      "('insertion_sort_i_jit', 'Few Unique Values', 0.07479627927144368)\n",
      "quicksort_i_jit  could not evaluate Uniform, most likely due to max recursion error.\n",
      "quicksort_i_jit  could not evaluate Uniform, most likely due to max recursion error.\n",
      "quicksort_i_jit  could not evaluate Uniform, most likely due to max recursion error.\n",
      "('quicksort_i_jit', 'Uniform', -0.02482946713765462)\n",
      "quicksort_i_jit  could not evaluate Gaussian, most likely due to max recursion error.\n",
      "quicksort_i_jit  could not evaluate Gaussian, most likely due to max recursion error.\n",
      "quicksort_i_jit  could not evaluate Gaussian, most likely due to max recursion error.\n",
      "('quicksort_i_jit', 'Gaussian', -0.08854405085245769)\n",
      "quicksort_i_jit  could not evaluate Nearly Sorted, most likely due to max recursion error.\n",
      "quicksort_i_jit  could not evaluate Nearly Sorted, most likely due to max recursion error.\n",
      "quicksort_i_jit  could not evaluate Nearly Sorted, most likely due to max recursion error.\n",
      "('quicksort_i_jit', 'Nearly Sorted', -0.15360649426778158)\n",
      "quicksort_i_jit  could not evaluate Fully Sorted, most likely due to max recursion error.\n",
      "quicksort_i_jit  could not evaluate Fully Sorted, most likely due to max recursion error.\n",
      "quicksort_i_jit  could not evaluate Fully Sorted, most likely due to max recursion error.\n",
      "('quicksort_i_jit', 'Fully Sorted', -0.21525192260742188)\n",
      "quicksort_i_jit  could not evaluate Reversed, most likely due to max recursion error.\n",
      "quicksort_i_jit  could not evaluate Reversed, most likely due to max recursion error.\n",
      "quicksort_i_jit  could not evaluate Reversed, most likely due to max recursion error.\n",
      "('quicksort_i_jit', 'Reversed', -0.28195985158284503)\n",
      "quicksort_i_jit  could not evaluate Few Unique Values, most likely due to max recursion error.\n",
      "quicksort_i_jit  could not evaluate Few Unique Values, most likely due to max recursion error.\n",
      "quicksort_i_jit  could not evaluate Few Unique Values, most likely due to max recursion error.\n",
      "('quicksort_i_jit', 'Few Unique Values', -0.3436551094055176)\n",
      "('bubblesort_i_cy', 'Uniform', 3.274000406265259)\n",
      "('bubblesort_i_cy', 'Gaussian', 3.3900884787241616)\n",
      "('bubblesort_i_cy', 'Nearly Sorted', 2.346156279246012)\n",
      "('bubblesort_i_cy', 'Fully Sorted', 2.0107007026672363)\n",
      "('bubblesort_i_cy', 'Reversed', 3.516536315282186)\n",
      "('bubblesort_i_cy', 'Few Unique Values', 2.8122191429138184)\n",
      "('insertion_sort_i_cy', 'Uniform', 1.4078040917714436)\n",
      "('insertion_sort_i_cy', 'Gaussian', 1.4201260407765706)\n",
      "('insertion_sort_i_cy', 'Nearly Sorted', 0.4675322373708089)\n",
      "('insertion_sort_i_cy', 'Fully Sorted', 0.0006798903147379557)\n",
      "('insertion_sort_i_cy', 'Reversed', 2.8088388442993164)\n",
      "('insertion_sort_i_cy', 'Few Unique Values', 1.2336467901865642)\n",
      "('merge_sort_i_cy', 'Uniform', 0.017941395441691082)\n",
      "('merge_sort_i_cy', 'Gaussian', 0.017789363861083984)\n",
      "('merge_sort_i_cy', 'Nearly Sorted', 0.01626110076904297)\n",
      "('merge_sort_i_cy', 'Fully Sorted', 0.01194302241007487)\n",
      "('merge_sort_i_cy', 'Reversed', 0.022404193878173828)\n",
      "('merge_sort_i_cy', 'Few Unique Values', 0.014292240142822266)\n",
      "('quicksort_i_cy', 'Uniform', 0.018861770629882812)\n",
      "('quicksort_i_cy', 'Gaussian', 0.016507069269816082)\n",
      "('quicksort_i_cy', 'Nearly Sorted', 0.01369937260945638)\n",
      "('quicksort_i_cy', 'Fully Sorted', 0.012045701344807943)\n",
      "('quicksort_i_cy', 'Reversed', 0.015242894490559896)\n",
      "('quicksort_i_cy', 'Few Unique Values', 0.3835279146830241)\n"
     ]
    }
   ],
   "source": [
    "results = sort_test(SORT_FUNCS, dataset, n_trials=3)"
   ]
  },
  {
   "cell_type": "markdown",
   "metadata": {},
   "source": [
    "# Results"
   ]
  },
  {
   "cell_type": "code",
   "execution_count": 76,
   "metadata": {},
   "outputs": [],
   "source": [
    "# prepare data for presentation in dataframe\n",
    "results_ = {key:[] for key in results.keys()}\n",
    "\n",
    "for key in results.keys():\n",
    "    for result in results[key]:\n",
    "        results_[key].append(result[1])"
   ]
  },
  {
   "cell_type": "code",
   "execution_count": 87,
   "metadata": {},
   "outputs": [
    {
     "data": {
      "text/html": [
       "<div>\n",
       "<style scoped>\n",
       "    .dataframe tbody tr th:only-of-type {\n",
       "        vertical-align: middle;\n",
       "    }\n",
       "\n",
       "    .dataframe tbody tr th {\n",
       "        vertical-align: top;\n",
       "    }\n",
       "\n",
       "    .dataframe thead th {\n",
       "        text-align: right;\n",
       "    }\n",
       "</style>\n",
       "<table border=\"1\" class=\"dataframe\">\n",
       "  <thead>\n",
       "    <tr style=\"text-align: right;\">\n",
       "      <th></th>\n",
       "      <th>Uniform</th>\n",
       "      <th>Gaussian</th>\n",
       "      <th>Nearly Sorted</th>\n",
       "      <th>Fully Sorted</th>\n",
       "      <th>Reversed</th>\n",
       "      <th>Few Unique Values</th>\n",
       "    </tr>\n",
       "  </thead>\n",
       "  <tbody>\n",
       "    <tr>\n",
       "      <th>sort_py</th>\n",
       "      <td>0.004335</td>\n",
       "      <td>0.003541</td>\n",
       "      <td>0.001968</td>\n",
       "      <td>0.000000</td>\n",
       "      <td>0.000000</td>\n",
       "      <td>0.002150</td>\n",
       "    </tr>\n",
       "    <tr>\n",
       "      <th>quicksort_np</th>\n",
       "      <td>0.002271</td>\n",
       "      <td>0.001562</td>\n",
       "      <td>0.001395</td>\n",
       "      <td>0.001715</td>\n",
       "      <td>0.001014</td>\n",
       "      <td>0.001269</td>\n",
       "    </tr>\n",
       "    <tr>\n",
       "      <th>mergesort_np</th>\n",
       "      <td>0.001756</td>\n",
       "      <td>0.002006</td>\n",
       "      <td>0.001407</td>\n",
       "      <td>0.001824</td>\n",
       "      <td>0.002052</td>\n",
       "      <td>0.001064</td>\n",
       "    </tr>\n",
       "    <tr>\n",
       "      <th>heapsort_np</th>\n",
       "      <td>0.002023</td>\n",
       "      <td>0.002442</td>\n",
       "      <td>0.001403</td>\n",
       "      <td>0.001361</td>\n",
       "      <td>0.001600</td>\n",
       "      <td>0.001310</td>\n",
       "    </tr>\n",
       "    <tr>\n",
       "      <th>stablesort_np</th>\n",
       "      <td>0.001447</td>\n",
       "      <td>0.001410</td>\n",
       "      <td>0.001960</td>\n",
       "      <td>0.001025</td>\n",
       "      <td>0.001014</td>\n",
       "      <td>0.001295</td>\n",
       "    </tr>\n",
       "    <tr>\n",
       "      <th>sort_py_i</th>\n",
       "      <td>0.003329</td>\n",
       "      <td>0.003874</td>\n",
       "      <td>0.002503</td>\n",
       "      <td>0.000434</td>\n",
       "      <td>0.000000</td>\n",
       "      <td>0.003259</td>\n",
       "    </tr>\n",
       "    <tr>\n",
       "      <th>quicksort_np_i</th>\n",
       "      <td>0.002390</td>\n",
       "      <td>0.005236</td>\n",
       "      <td>0.003514</td>\n",
       "      <td>0.001511</td>\n",
       "      <td>0.001831</td>\n",
       "      <td>0.001474</td>\n",
       "    </tr>\n",
       "    <tr>\n",
       "      <th>mergesort_np_i</th>\n",
       "      <td>0.001530</td>\n",
       "      <td>0.001675</td>\n",
       "      <td>0.001766</td>\n",
       "      <td>0.001001</td>\n",
       "      <td>0.000997</td>\n",
       "      <td>0.001015</td>\n",
       "    </tr>\n",
       "    <tr>\n",
       "      <th>heapsort_np_i</th>\n",
       "      <td>0.001875</td>\n",
       "      <td>0.002635</td>\n",
       "      <td>0.002652</td>\n",
       "      <td>0.001885</td>\n",
       "      <td>0.002290</td>\n",
       "      <td>0.002385</td>\n",
       "    </tr>\n",
       "    <tr>\n",
       "      <th>stablesort_np_i</th>\n",
       "      <td>0.002466</td>\n",
       "      <td>0.001744</td>\n",
       "      <td>0.002741</td>\n",
       "      <td>0.001573</td>\n",
       "      <td>0.001635</td>\n",
       "      <td>0.002022</td>\n",
       "    </tr>\n",
       "    <tr>\n",
       "      <th>bubblesort</th>\n",
       "      <td>20.179659</td>\n",
       "      <td>19.593843</td>\n",
       "      <td>12.440871</td>\n",
       "      <td>10.567705</td>\n",
       "      <td>28.704258</td>\n",
       "      <td>19.230441</td>\n",
       "    </tr>\n",
       "    <tr>\n",
       "      <th>merge_sort</th>\n",
       "      <td>0.144478</td>\n",
       "      <td>0.133839</td>\n",
       "      <td>0.133962</td>\n",
       "      <td>0.083921</td>\n",
       "      <td>0.104463</td>\n",
       "      <td>0.126687</td>\n",
       "    </tr>\n",
       "    <tr>\n",
       "      <th>insertion_sort</th>\n",
       "      <td>8.835829</td>\n",
       "      <td>9.138433</td>\n",
       "      <td>1.541970</td>\n",
       "      <td>0.004584</td>\n",
       "      <td>17.950136</td>\n",
       "      <td>8.192610</td>\n",
       "    </tr>\n",
       "    <tr>\n",
       "      <th>selection_sort</th>\n",
       "      <td>7.400632</td>\n",
       "      <td>7.463115</td>\n",
       "      <td>7.187667</td>\n",
       "      <td>7.164088</td>\n",
       "      <td>7.801092</td>\n",
       "      <td>7.766453</td>\n",
       "    </tr>\n",
       "    <tr>\n",
       "      <th>bubblesort_jit</th>\n",
       "      <td>0.289678</td>\n",
       "      <td>0.281470</td>\n",
       "      <td>0.110251</td>\n",
       "      <td>0.067268</td>\n",
       "      <td>0.111467</td>\n",
       "      <td>0.268519</td>\n",
       "    </tr>\n",
       "    <tr>\n",
       "      <th>merge_sort_jit_</th>\n",
       "      <td>0.056163</td>\n",
       "      <td>0.056378</td>\n",
       "      <td>0.057938</td>\n",
       "      <td>0.042391</td>\n",
       "      <td>0.031971</td>\n",
       "      <td>0.041215</td>\n",
       "    </tr>\n",
       "    <tr>\n",
       "      <th>insertion_sort_jit</th>\n",
       "      <td>0.065746</td>\n",
       "      <td>0.071336</td>\n",
       "      <td>0.015082</td>\n",
       "      <td>0.001684</td>\n",
       "      <td>0.120350</td>\n",
       "      <td>0.062435</td>\n",
       "    </tr>\n",
       "    <tr>\n",
       "      <th>selection_sort_jit</th>\n",
       "      <td>0.262936</td>\n",
       "      <td>0.285307</td>\n",
       "      <td>0.331205</td>\n",
       "      <td>0.292404</td>\n",
       "      <td>0.324921</td>\n",
       "      <td>0.309083</td>\n",
       "    </tr>\n",
       "    <tr>\n",
       "      <th>bubblesort_cy</th>\n",
       "      <td>3.213716</td>\n",
       "      <td>3.283318</td>\n",
       "      <td>2.265387</td>\n",
       "      <td>1.909136</td>\n",
       "      <td>3.474626</td>\n",
       "      <td>2.762038</td>\n",
       "    </tr>\n",
       "    <tr>\n",
       "      <th>merge_sort_cy</th>\n",
       "      <td>0.041072</td>\n",
       "      <td>0.033740</td>\n",
       "      <td>0.033391</td>\n",
       "      <td>0.021470</td>\n",
       "      <td>0.024790</td>\n",
       "      <td>0.033321</td>\n",
       "    </tr>\n",
       "    <tr>\n",
       "      <th>insertion_sort_cy</th>\n",
       "      <td>0.993165</td>\n",
       "      <td>0.994135</td>\n",
       "      <td>0.213969</td>\n",
       "      <td>0.000498</td>\n",
       "      <td>2.043373</td>\n",
       "      <td>0.846946</td>\n",
       "    </tr>\n",
       "    <tr>\n",
       "      <th>selection_sort_cy</th>\n",
       "      <td>2.132451</td>\n",
       "      <td>2.393127</td>\n",
       "      <td>2.047126</td>\n",
       "      <td>2.121289</td>\n",
       "      <td>2.009545</td>\n",
       "      <td>2.110868</td>\n",
       "    </tr>\n",
       "    <tr>\n",
       "      <th>bubblesort_i</th>\n",
       "      <td>20.156924</td>\n",
       "      <td>20.605152</td>\n",
       "      <td>12.279067</td>\n",
       "      <td>10.723936</td>\n",
       "      <td>27.757306</td>\n",
       "      <td>18.904392</td>\n",
       "    </tr>\n",
       "    <tr>\n",
       "      <th>insertion_sort_i</th>\n",
       "      <td>15.343327</td>\n",
       "      <td>15.796718</td>\n",
       "      <td>2.796209</td>\n",
       "      <td>0.005966</td>\n",
       "      <td>30.779888</td>\n",
       "      <td>14.902637</td>\n",
       "    </tr>\n",
       "    <tr>\n",
       "      <th>merge_sort_i</th>\n",
       "      <td>0.133424</td>\n",
       "      <td>0.145685</td>\n",
       "      <td>0.120795</td>\n",
       "      <td>0.116271</td>\n",
       "      <td>0.125495</td>\n",
       "      <td>0.115772</td>\n",
       "    </tr>\n",
       "    <tr>\n",
       "      <th>quicksort_i</th>\n",
       "      <td>0.092089</td>\n",
       "      <td>0.088005</td>\n",
       "      <td>0.055360</td>\n",
       "      <td>0.057618</td>\n",
       "      <td>0.058978</td>\n",
       "      <td>1.585502</td>\n",
       "    </tr>\n",
       "    <tr>\n",
       "      <th>bubblesort_i_jit</th>\n",
       "      <td>0.280421</td>\n",
       "      <td>0.288185</td>\n",
       "      <td>0.133919</td>\n",
       "      <td>0.101787</td>\n",
       "      <td>0.170598</td>\n",
       "      <td>0.299329</td>\n",
       "    </tr>\n",
       "    <tr>\n",
       "      <th>insertion_sort_i_jit</th>\n",
       "      <td>0.083707</td>\n",
       "      <td>0.084343</td>\n",
       "      <td>0.016826</td>\n",
       "      <td>0.000351</td>\n",
       "      <td>0.172661</td>\n",
       "      <td>0.074796</td>\n",
       "    </tr>\n",
       "    <tr>\n",
       "      <th>bubblesort_i_cy</th>\n",
       "      <td>3.274000</td>\n",
       "      <td>3.390088</td>\n",
       "      <td>2.346156</td>\n",
       "      <td>2.010701</td>\n",
       "      <td>3.516536</td>\n",
       "      <td>2.812219</td>\n",
       "    </tr>\n",
       "    <tr>\n",
       "      <th>insertion_sort_i_cy</th>\n",
       "      <td>1.407804</td>\n",
       "      <td>1.420126</td>\n",
       "      <td>0.467532</td>\n",
       "      <td>0.000680</td>\n",
       "      <td>2.808839</td>\n",
       "      <td>1.233647</td>\n",
       "    </tr>\n",
       "    <tr>\n",
       "      <th>merge_sort_i_cy</th>\n",
       "      <td>0.017941</td>\n",
       "      <td>0.017789</td>\n",
       "      <td>0.016261</td>\n",
       "      <td>0.011943</td>\n",
       "      <td>0.022404</td>\n",
       "      <td>0.014292</td>\n",
       "    </tr>\n",
       "    <tr>\n",
       "      <th>quicksort_i_cy</th>\n",
       "      <td>0.018862</td>\n",
       "      <td>0.016507</td>\n",
       "      <td>0.013699</td>\n",
       "      <td>0.012046</td>\n",
       "      <td>0.015243</td>\n",
       "      <td>0.383528</td>\n",
       "    </tr>\n",
       "  </tbody>\n",
       "</table>\n",
       "</div>"
      ],
      "text/plain": [
       "                        Uniform   Gaussian  Nearly Sorted  Fully Sorted  \\\n",
       "sort_py                0.004335   0.003541       0.001968      0.000000   \n",
       "quicksort_np           0.002271   0.001562       0.001395      0.001715   \n",
       "mergesort_np           0.001756   0.002006       0.001407      0.001824   \n",
       "heapsort_np            0.002023   0.002442       0.001403      0.001361   \n",
       "stablesort_np          0.001447   0.001410       0.001960      0.001025   \n",
       "sort_py_i              0.003329   0.003874       0.002503      0.000434   \n",
       "quicksort_np_i         0.002390   0.005236       0.003514      0.001511   \n",
       "mergesort_np_i         0.001530   0.001675       0.001766      0.001001   \n",
       "heapsort_np_i          0.001875   0.002635       0.002652      0.001885   \n",
       "stablesort_np_i        0.002466   0.001744       0.002741      0.001573   \n",
       "bubblesort            20.179659  19.593843      12.440871     10.567705   \n",
       "merge_sort             0.144478   0.133839       0.133962      0.083921   \n",
       "insertion_sort         8.835829   9.138433       1.541970      0.004584   \n",
       "selection_sort         7.400632   7.463115       7.187667      7.164088   \n",
       "bubblesort_jit         0.289678   0.281470       0.110251      0.067268   \n",
       "merge_sort_jit_        0.056163   0.056378       0.057938      0.042391   \n",
       "insertion_sort_jit     0.065746   0.071336       0.015082      0.001684   \n",
       "selection_sort_jit     0.262936   0.285307       0.331205      0.292404   \n",
       "bubblesort_cy          3.213716   3.283318       2.265387      1.909136   \n",
       "merge_sort_cy          0.041072   0.033740       0.033391      0.021470   \n",
       "insertion_sort_cy      0.993165   0.994135       0.213969      0.000498   \n",
       "selection_sort_cy      2.132451   2.393127       2.047126      2.121289   \n",
       "bubblesort_i          20.156924  20.605152      12.279067     10.723936   \n",
       "insertion_sort_i      15.343327  15.796718       2.796209      0.005966   \n",
       "merge_sort_i           0.133424   0.145685       0.120795      0.116271   \n",
       "quicksort_i            0.092089   0.088005       0.055360      0.057618   \n",
       "bubblesort_i_jit       0.280421   0.288185       0.133919      0.101787   \n",
       "insertion_sort_i_jit   0.083707   0.084343       0.016826      0.000351   \n",
       "bubblesort_i_cy        3.274000   3.390088       2.346156      2.010701   \n",
       "insertion_sort_i_cy    1.407804   1.420126       0.467532      0.000680   \n",
       "merge_sort_i_cy        0.017941   0.017789       0.016261      0.011943   \n",
       "quicksort_i_cy         0.018862   0.016507       0.013699      0.012046   \n",
       "\n",
       "                       Reversed  Few Unique Values  \n",
       "sort_py                0.000000           0.002150  \n",
       "quicksort_np           0.001014           0.001269  \n",
       "mergesort_np           0.002052           0.001064  \n",
       "heapsort_np            0.001600           0.001310  \n",
       "stablesort_np          0.001014           0.001295  \n",
       "sort_py_i              0.000000           0.003259  \n",
       "quicksort_np_i         0.001831           0.001474  \n",
       "mergesort_np_i         0.000997           0.001015  \n",
       "heapsort_np_i          0.002290           0.002385  \n",
       "stablesort_np_i        0.001635           0.002022  \n",
       "bubblesort            28.704258          19.230441  \n",
       "merge_sort             0.104463           0.126687  \n",
       "insertion_sort        17.950136           8.192610  \n",
       "selection_sort         7.801092           7.766453  \n",
       "bubblesort_jit         0.111467           0.268519  \n",
       "merge_sort_jit_        0.031971           0.041215  \n",
       "insertion_sort_jit     0.120350           0.062435  \n",
       "selection_sort_jit     0.324921           0.309083  \n",
       "bubblesort_cy          3.474626           2.762038  \n",
       "merge_sort_cy          0.024790           0.033321  \n",
       "insertion_sort_cy      2.043373           0.846946  \n",
       "selection_sort_cy      2.009545           2.110868  \n",
       "bubblesort_i          27.757306          18.904392  \n",
       "insertion_sort_i      30.779888          14.902637  \n",
       "merge_sort_i           0.125495           0.115772  \n",
       "quicksort_i            0.058978           1.585502  \n",
       "bubblesort_i_jit       0.170598           0.299329  \n",
       "insertion_sort_i_jit   0.172661           0.074796  \n",
       "bubblesort_i_cy        3.516536           2.812219  \n",
       "insertion_sort_i_cy    2.808839           1.233647  \n",
       "merge_sort_i_cy        0.022404           0.014292  \n",
       "quicksort_i_cy         0.015243           0.383528  "
      ]
     },
     "execution_count": 87,
     "metadata": {},
     "output_type": "execute_result"
    }
   ],
   "source": [
    "results_df = pd.DataFrame(results_).rename(index={0: 'Uniform', \n",
    "                                                  1: 'Gaussian', \n",
    "                                                  2: 'Nearly Sorted', \n",
    "                                                  3: 'Fully Sorted', \n",
    "                                                  4: 'Reversed',\n",
    "                                                  5: 'Few Unique Values'}).T\n",
    "\n",
    "# drop row of a botched test\n",
    "results_df = results_df.drop(results_df.index[-5])\n",
    "\n",
    "# show dataframe\n",
    "results_df"
   ]
  },
  {
   "cell_type": "code",
   "execution_count": 88,
   "metadata": {
    "ExecuteTime": {
     "end_time": "2019-05-10T21:36:45.637339Z",
     "start_time": "2019-05-10T21:36:45.322488Z"
    },
    "scrolled": false
   },
   "outputs": [
    {
     "data": {
      "image/png": "[encoded data removed]",
      "text/plain": [
       "<Figure size 504x936 with 2 Axes>"
      ]
     },
     "metadata": {},
     "output_type": "display_data"
    }
   ],
   "source": [
    "plt.figure(figsize=(7,13))\n",
    "plt.title(\"Sorting Algorithm Performances (Darker = Better)\")\n",
    "plt.pcolor(np.array(results_df.values).astype(np.float64))\n",
    "plt.colorbar(label=\"time (seconds)\")\n",
    "plt.yticks(np.arange(0.5, len(results_df.index), 1), results_df.index)\n",
    "plt.xticks(np.arange(0.5, len(results_df.columns), 1), results_df.columns, rotation=70)\n",
    "plt.show()"
   ]
  },
  {
   "cell_type": "code",
   "execution_count": 89,
   "metadata": {},
   "outputs": [
    {
     "name": "stdout",
     "output_type": "stream",
     "text": [
      "Top performers for Uniform data:\n"
     ]
    },
    {
     "data": {
      "text/html": [
       "<div>\n",
       "<style scoped>\n",
       "    .dataframe tbody tr th:only-of-type {\n",
       "        vertical-align: middle;\n",
       "    }\n",
       "\n",
       "    .dataframe tbody tr th {\n",
       "        vertical-align: top;\n",
       "    }\n",
       "\n",
       "    .dataframe thead th {\n",
       "        text-align: right;\n",
       "    }\n",
       "</style>\n",
       "<table border=\"1\" class=\"dataframe\">\n",
       "  <thead>\n",
       "    <tr style=\"text-align: right;\">\n",
       "      <th></th>\n",
       "      <th>Uniform</th>\n",
       "      <th>Gaussian</th>\n",
       "      <th>Nearly Sorted</th>\n",
       "      <th>Fully Sorted</th>\n",
       "      <th>Reversed</th>\n",
       "      <th>Few Unique Values</th>\n",
       "    </tr>\n",
       "  </thead>\n",
       "  <tbody>\n",
       "    <tr>\n",
       "      <th>stablesort_np</th>\n",
       "      <td>0.001447</td>\n",
       "      <td>0.001410</td>\n",
       "      <td>0.001960</td>\n",
       "      <td>0.001025</td>\n",
       "      <td>0.001014</td>\n",
       "      <td>0.001295</td>\n",
       "    </tr>\n",
       "    <tr>\n",
       "      <th>mergesort_np_i</th>\n",
       "      <td>0.001530</td>\n",
       "      <td>0.001675</td>\n",
       "      <td>0.001766</td>\n",
       "      <td>0.001001</td>\n",
       "      <td>0.000997</td>\n",
       "      <td>0.001015</td>\n",
       "    </tr>\n",
       "    <tr>\n",
       "      <th>mergesort_np</th>\n",
       "      <td>0.001756</td>\n",
       "      <td>0.002006</td>\n",
       "      <td>0.001407</td>\n",
       "      <td>0.001824</td>\n",
       "      <td>0.002052</td>\n",
       "      <td>0.001064</td>\n",
       "    </tr>\n",
       "    <tr>\n",
       "      <th>heapsort_np_i</th>\n",
       "      <td>0.001875</td>\n",
       "      <td>0.002635</td>\n",
       "      <td>0.002652</td>\n",
       "      <td>0.001885</td>\n",
       "      <td>0.002290</td>\n",
       "      <td>0.002385</td>\n",
       "    </tr>\n",
       "    <tr>\n",
       "      <th>heapsort_np</th>\n",
       "      <td>0.002023</td>\n",
       "      <td>0.002442</td>\n",
       "      <td>0.001403</td>\n",
       "      <td>0.001361</td>\n",
       "      <td>0.001600</td>\n",
       "      <td>0.001310</td>\n",
       "    </tr>\n",
       "  </tbody>\n",
       "</table>\n",
       "</div>"
      ],
      "text/plain": [
       "                 Uniform  Gaussian  Nearly Sorted  Fully Sorted  Reversed  \\\n",
       "stablesort_np   0.001447  0.001410       0.001960      0.001025  0.001014   \n",
       "mergesort_np_i  0.001530  0.001675       0.001766      0.001001  0.000997   \n",
       "mergesort_np    0.001756  0.002006       0.001407      0.001824  0.002052   \n",
       "heapsort_np_i   0.001875  0.002635       0.002652      0.001885  0.002290   \n",
       "heapsort_np     0.002023  0.002442       0.001403      0.001361  0.001600   \n",
       "\n",
       "                Few Unique Values  \n",
       "stablesort_np            0.001295  \n",
       "mergesort_np_i           0.001015  \n",
       "mergesort_np             0.001064  \n",
       "heapsort_np_i            0.002385  \n",
       "heapsort_np              0.001310  "
      ]
     },
     "metadata": {},
     "output_type": "display_data"
    },
    {
     "name": "stdout",
     "output_type": "stream",
     "text": [
      "\n",
      "\n",
      "Top performers for Gaussian data:\n"
     ]
    },
    {
     "data": {
      "text/html": [
       "<div>\n",
       "<style scoped>\n",
       "    .dataframe tbody tr th:only-of-type {\n",
       "        vertical-align: middle;\n",
       "    }\n",
       "\n",
       "    .dataframe tbody tr th {\n",
       "        vertical-align: top;\n",
       "    }\n",
       "\n",
       "    .dataframe thead th {\n",
       "        text-align: right;\n",
       "    }\n",
       "</style>\n",
       "<table border=\"1\" class=\"dataframe\">\n",
       "  <thead>\n",
       "    <tr style=\"text-align: right;\">\n",
       "      <th></th>\n",
       "      <th>Uniform</th>\n",
       "      <th>Gaussian</th>\n",
       "      <th>Nearly Sorted</th>\n",
       "      <th>Fully Sorted</th>\n",
       "      <th>Reversed</th>\n",
       "      <th>Few Unique Values</th>\n",
       "    </tr>\n",
       "  </thead>\n",
       "  <tbody>\n",
       "    <tr>\n",
       "      <th>stablesort_np</th>\n",
       "      <td>0.001447</td>\n",
       "      <td>0.001410</td>\n",
       "      <td>0.001960</td>\n",
       "      <td>0.001025</td>\n",
       "      <td>0.001014</td>\n",
       "      <td>0.001295</td>\n",
       "    </tr>\n",
       "    <tr>\n",
       "      <th>quicksort_np</th>\n",
       "      <td>0.002271</td>\n",
       "      <td>0.001562</td>\n",
       "      <td>0.001395</td>\n",
       "      <td>0.001715</td>\n",
       "      <td>0.001014</td>\n",
       "      <td>0.001269</td>\n",
       "    </tr>\n",
       "    <tr>\n",
       "      <th>mergesort_np_i</th>\n",
       "      <td>0.001530</td>\n",
       "      <td>0.001675</td>\n",
       "      <td>0.001766</td>\n",
       "      <td>0.001001</td>\n",
       "      <td>0.000997</td>\n",
       "      <td>0.001015</td>\n",
       "    </tr>\n",
       "    <tr>\n",
       "      <th>stablesort_np_i</th>\n",
       "      <td>0.002466</td>\n",
       "      <td>0.001744</td>\n",
       "      <td>0.002741</td>\n",
       "      <td>0.001573</td>\n",
       "      <td>0.001635</td>\n",
       "      <td>0.002022</td>\n",
       "    </tr>\n",
       "    <tr>\n",
       "      <th>mergesort_np</th>\n",
       "      <td>0.001756</td>\n",
       "      <td>0.002006</td>\n",
       "      <td>0.001407</td>\n",
       "      <td>0.001824</td>\n",
       "      <td>0.002052</td>\n",
       "      <td>0.001064</td>\n",
       "    </tr>\n",
       "  </tbody>\n",
       "</table>\n",
       "</div>"
      ],
      "text/plain": [
       "                  Uniform  Gaussian  Nearly Sorted  Fully Sorted  Reversed  \\\n",
       "stablesort_np    0.001447  0.001410       0.001960      0.001025  0.001014   \n",
       "quicksort_np     0.002271  0.001562       0.001395      0.001715  0.001014   \n",
       "mergesort_np_i   0.001530  0.001675       0.001766      0.001001  0.000997   \n",
       "stablesort_np_i  0.002466  0.001744       0.002741      0.001573  0.001635   \n",
       "mergesort_np     0.001756  0.002006       0.001407      0.001824  0.002052   \n",
       "\n",
       "                 Few Unique Values  \n",
       "stablesort_np             0.001295  \n",
       "quicksort_np              0.001269  \n",
       "mergesort_np_i            0.001015  \n",
       "stablesort_np_i           0.002022  \n",
       "mergesort_np              0.001064  "
      ]
     },
     "metadata": {},
     "output_type": "display_data"
    },
    {
     "name": "stdout",
     "output_type": "stream",
     "text": [
      "\n",
      "\n",
      "Top performers for Nearly Sorted data:\n"
     ]
    },
    {
     "data": {
      "text/html": [
       "<div>\n",
       "<style scoped>\n",
       "    .dataframe tbody tr th:only-of-type {\n",
       "        vertical-align: middle;\n",
       "    }\n",
       "\n",
       "    .dataframe tbody tr th {\n",
       "        vertical-align: top;\n",
       "    }\n",
       "\n",
       "    .dataframe thead th {\n",
       "        text-align: right;\n",
       "    }\n",
       "</style>\n",
       "<table border=\"1\" class=\"dataframe\">\n",
       "  <thead>\n",
       "    <tr style=\"text-align: right;\">\n",
       "      <th></th>\n",
       "      <th>Uniform</th>\n",
       "      <th>Gaussian</th>\n",
       "      <th>Nearly Sorted</th>\n",
       "      <th>Fully Sorted</th>\n",
       "      <th>Reversed</th>\n",
       "      <th>Few Unique Values</th>\n",
       "    </tr>\n",
       "  </thead>\n",
       "  <tbody>\n",
       "    <tr>\n",
       "      <th>quicksort_np</th>\n",
       "      <td>0.002271</td>\n",
       "      <td>0.001562</td>\n",
       "      <td>0.001395</td>\n",
       "      <td>0.001715</td>\n",
       "      <td>0.001014</td>\n",
       "      <td>0.001269</td>\n",
       "    </tr>\n",
       "    <tr>\n",
       "      <th>heapsort_np</th>\n",
       "      <td>0.002023</td>\n",
       "      <td>0.002442</td>\n",
       "      <td>0.001403</td>\n",
       "      <td>0.001361</td>\n",
       "      <td>0.001600</td>\n",
       "      <td>0.001310</td>\n",
       "    </tr>\n",
       "    <tr>\n",
       "      <th>mergesort_np</th>\n",
       "      <td>0.001756</td>\n",
       "      <td>0.002006</td>\n",
       "      <td>0.001407</td>\n",
       "      <td>0.001824</td>\n",
       "      <td>0.002052</td>\n",
       "      <td>0.001064</td>\n",
       "    </tr>\n",
       "    <tr>\n",
       "      <th>mergesort_np_i</th>\n",
       "      <td>0.001530</td>\n",
       "      <td>0.001675</td>\n",
       "      <td>0.001766</td>\n",
       "      <td>0.001001</td>\n",
       "      <td>0.000997</td>\n",
       "      <td>0.001015</td>\n",
       "    </tr>\n",
       "    <tr>\n",
       "      <th>stablesort_np</th>\n",
       "      <td>0.001447</td>\n",
       "      <td>0.001410</td>\n",
       "      <td>0.001960</td>\n",
       "      <td>0.001025</td>\n",
       "      <td>0.001014</td>\n",
       "      <td>0.001295</td>\n",
       "    </tr>\n",
       "  </tbody>\n",
       "</table>\n",
       "</div>"
      ],
      "text/plain": [
       "                 Uniform  Gaussian  Nearly Sorted  Fully Sorted  Reversed  \\\n",
       "quicksort_np    0.002271  0.001562       0.001395      0.001715  0.001014   \n",
       "heapsort_np     0.002023  0.002442       0.001403      0.001361  0.001600   \n",
       "mergesort_np    0.001756  0.002006       0.001407      0.001824  0.002052   \n",
       "mergesort_np_i  0.001530  0.001675       0.001766      0.001001  0.000997   \n",
       "stablesort_np   0.001447  0.001410       0.001960      0.001025  0.001014   \n",
       "\n",
       "                Few Unique Values  \n",
       "quicksort_np             0.001269  \n",
       "heapsort_np              0.001310  \n",
       "mergesort_np             0.001064  \n",
       "mergesort_np_i           0.001015  \n",
       "stablesort_np            0.001295  "
      ]
     },
     "metadata": {},
     "output_type": "display_data"
    },
    {
     "name": "stdout",
     "output_type": "stream",
     "text": [
      "\n",
      "\n",
      "Top performers for Fully Sorted data:\n"
     ]
    },
    {
     "data": {
      "text/html": [
       "<div>\n",
       "<style scoped>\n",
       "    .dataframe tbody tr th:only-of-type {\n",
       "        vertical-align: middle;\n",
       "    }\n",
       "\n",
       "    .dataframe tbody tr th {\n",
       "        vertical-align: top;\n",
       "    }\n",
       "\n",
       "    .dataframe thead th {\n",
       "        text-align: right;\n",
       "    }\n",
       "</style>\n",
       "<table border=\"1\" class=\"dataframe\">\n",
       "  <thead>\n",
       "    <tr style=\"text-align: right;\">\n",
       "      <th></th>\n",
       "      <th>Uniform</th>\n",
       "      <th>Gaussian</th>\n",
       "      <th>Nearly Sorted</th>\n",
       "      <th>Fully Sorted</th>\n",
       "      <th>Reversed</th>\n",
       "      <th>Few Unique Values</th>\n",
       "    </tr>\n",
       "  </thead>\n",
       "  <tbody>\n",
       "    <tr>\n",
       "      <th>sort_py</th>\n",
       "      <td>0.004335</td>\n",
       "      <td>0.003541</td>\n",
       "      <td>0.001968</td>\n",
       "      <td>0.000000</td>\n",
       "      <td>0.000000</td>\n",
       "      <td>0.002150</td>\n",
       "    </tr>\n",
       "    <tr>\n",
       "      <th>insertion_sort_i_jit</th>\n",
       "      <td>0.083707</td>\n",
       "      <td>0.084343</td>\n",
       "      <td>0.016826</td>\n",
       "      <td>0.000351</td>\n",
       "      <td>0.172661</td>\n",
       "      <td>0.074796</td>\n",
       "    </tr>\n",
       "    <tr>\n",
       "      <th>sort_py_i</th>\n",
       "      <td>0.003329</td>\n",
       "      <td>0.003874</td>\n",
       "      <td>0.002503</td>\n",
       "      <td>0.000434</td>\n",
       "      <td>0.000000</td>\n",
       "      <td>0.003259</td>\n",
       "    </tr>\n",
       "    <tr>\n",
       "      <th>insertion_sort_cy</th>\n",
       "      <td>0.993165</td>\n",
       "      <td>0.994135</td>\n",
       "      <td>0.213969</td>\n",
       "      <td>0.000498</td>\n",
       "      <td>2.043373</td>\n",
       "      <td>0.846946</td>\n",
       "    </tr>\n",
       "    <tr>\n",
       "      <th>insertion_sort_i_cy</th>\n",
       "      <td>1.407804</td>\n",
       "      <td>1.420126</td>\n",
       "      <td>0.467532</td>\n",
       "      <td>0.000680</td>\n",
       "      <td>2.808839</td>\n",
       "      <td>1.233647</td>\n",
       "    </tr>\n",
       "  </tbody>\n",
       "</table>\n",
       "</div>"
      ],
      "text/plain": [
       "                       Uniform  Gaussian  Nearly Sorted  Fully Sorted  \\\n",
       "sort_py               0.004335  0.003541       0.001968      0.000000   \n",
       "insertion_sort_i_jit  0.083707  0.084343       0.016826      0.000351   \n",
       "sort_py_i             0.003329  0.003874       0.002503      0.000434   \n",
       "insertion_sort_cy     0.993165  0.994135       0.213969      0.000498   \n",
       "insertion_sort_i_cy   1.407804  1.420126       0.467532      0.000680   \n",
       "\n",
       "                      Reversed  Few Unique Values  \n",
       "sort_py               0.000000           0.002150  \n",
       "insertion_sort_i_jit  0.172661           0.074796  \n",
       "sort_py_i             0.000000           0.003259  \n",
       "insertion_sort_cy     2.043373           0.846946  \n",
       "insertion_sort_i_cy   2.808839           1.233647  "
      ]
     },
     "metadata": {},
     "output_type": "display_data"
    },
    {
     "name": "stdout",
     "output_type": "stream",
     "text": [
      "\n",
      "\n",
      "Top performers for Reversed data:\n"
     ]
    },
    {
     "data": {
      "text/html": [
       "<div>\n",
       "<style scoped>\n",
       "    .dataframe tbody tr th:only-of-type {\n",
       "        vertical-align: middle;\n",
       "    }\n",
       "\n",
       "    .dataframe tbody tr th {\n",
       "        vertical-align: top;\n",
       "    }\n",
       "\n",
       "    .dataframe thead th {\n",
       "        text-align: right;\n",
       "    }\n",
       "</style>\n",
       "<table border=\"1\" class=\"dataframe\">\n",
       "  <thead>\n",
       "    <tr style=\"text-align: right;\">\n",
       "      <th></th>\n",
       "      <th>Uniform</th>\n",
       "      <th>Gaussian</th>\n",
       "      <th>Nearly Sorted</th>\n",
       "      <th>Fully Sorted</th>\n",
       "      <th>Reversed</th>\n",
       "      <th>Few Unique Values</th>\n",
       "    </tr>\n",
       "  </thead>\n",
       "  <tbody>\n",
       "    <tr>\n",
       "      <th>sort_py</th>\n",
       "      <td>0.004335</td>\n",
       "      <td>0.003541</td>\n",
       "      <td>0.001968</td>\n",
       "      <td>0.000000</td>\n",
       "      <td>0.000000</td>\n",
       "      <td>0.002150</td>\n",
       "    </tr>\n",
       "    <tr>\n",
       "      <th>sort_py_i</th>\n",
       "      <td>0.003329</td>\n",
       "      <td>0.003874</td>\n",
       "      <td>0.002503</td>\n",
       "      <td>0.000434</td>\n",
       "      <td>0.000000</td>\n",
       "      <td>0.003259</td>\n",
       "    </tr>\n",
       "    <tr>\n",
       "      <th>mergesort_np_i</th>\n",
       "      <td>0.001530</td>\n",
       "      <td>0.001675</td>\n",
       "      <td>0.001766</td>\n",
       "      <td>0.001001</td>\n",
       "      <td>0.000997</td>\n",
       "      <td>0.001015</td>\n",
       "    </tr>\n",
       "    <tr>\n",
       "      <th>stablesort_np</th>\n",
       "      <td>0.001447</td>\n",
       "      <td>0.001410</td>\n",
       "      <td>0.001960</td>\n",
       "      <td>0.001025</td>\n",
       "      <td>0.001014</td>\n",
       "      <td>0.001295</td>\n",
       "    </tr>\n",
       "    <tr>\n",
       "      <th>quicksort_np</th>\n",
       "      <td>0.002271</td>\n",
       "      <td>0.001562</td>\n",
       "      <td>0.001395</td>\n",
       "      <td>0.001715</td>\n",
       "      <td>0.001014</td>\n",
       "      <td>0.001269</td>\n",
       "    </tr>\n",
       "  </tbody>\n",
       "</table>\n",
       "</div>"
      ],
      "text/plain": [
       "                 Uniform  Gaussian  Nearly Sorted  Fully Sorted  Reversed  \\\n",
       "sort_py         0.004335  0.003541       0.001968      0.000000  0.000000   \n",
       "sort_py_i       0.003329  0.003874       0.002503      0.000434  0.000000   \n",
       "mergesort_np_i  0.001530  0.001675       0.001766      0.001001  0.000997   \n",
       "stablesort_np   0.001447  0.001410       0.001960      0.001025  0.001014   \n",
       "quicksort_np    0.002271  0.001562       0.001395      0.001715  0.001014   \n",
       "\n",
       "                Few Unique Values  \n",
       "sort_py                  0.002150  \n",
       "sort_py_i                0.003259  \n",
       "mergesort_np_i           0.001015  \n",
       "stablesort_np            0.001295  \n",
       "quicksort_np             0.001269  "
      ]
     },
     "metadata": {},
     "output_type": "display_data"
    },
    {
     "name": "stdout",
     "output_type": "stream",
     "text": [
      "\n",
      "\n",
      "Top performers for Few Unique Values data:\n"
     ]
    },
    {
     "data": {
      "text/html": [
       "<div>\n",
       "<style scoped>\n",
       "    .dataframe tbody tr th:only-of-type {\n",
       "        vertical-align: middle;\n",
       "    }\n",
       "\n",
       "    .dataframe tbody tr th {\n",
       "        vertical-align: top;\n",
       "    }\n",
       "\n",
       "    .dataframe thead th {\n",
       "        text-align: right;\n",
       "    }\n",
       "</style>\n",
       "<table border=\"1\" class=\"dataframe\">\n",
       "  <thead>\n",
       "    <tr style=\"text-align: right;\">\n",
       "      <th></th>\n",
       "      <th>Uniform</th>\n",
       "      <th>Gaussian</th>\n",
       "      <th>Nearly Sorted</th>\n",
       "      <th>Fully Sorted</th>\n",
       "      <th>Reversed</th>\n",
       "      <th>Few Unique Values</th>\n",
       "    </tr>\n",
       "  </thead>\n",
       "  <tbody>\n",
       "    <tr>\n",
       "      <th>mergesort_np_i</th>\n",
       "      <td>0.001530</td>\n",
       "      <td>0.001675</td>\n",
       "      <td>0.001766</td>\n",
       "      <td>0.001001</td>\n",
       "      <td>0.000997</td>\n",
       "      <td>0.001015</td>\n",
       "    </tr>\n",
       "    <tr>\n",
       "      <th>mergesort_np</th>\n",
       "      <td>0.001756</td>\n",
       "      <td>0.002006</td>\n",
       "      <td>0.001407</td>\n",
       "      <td>0.001824</td>\n",
       "      <td>0.002052</td>\n",
       "      <td>0.001064</td>\n",
       "    </tr>\n",
       "    <tr>\n",
       "      <th>quicksort_np</th>\n",
       "      <td>0.002271</td>\n",
       "      <td>0.001562</td>\n",
       "      <td>0.001395</td>\n",
       "      <td>0.001715</td>\n",
       "      <td>0.001014</td>\n",
       "      <td>0.001269</td>\n",
       "    </tr>\n",
       "    <tr>\n",
       "      <th>stablesort_np</th>\n",
       "      <td>0.001447</td>\n",
       "      <td>0.001410</td>\n",
       "      <td>0.001960</td>\n",
       "      <td>0.001025</td>\n",
       "      <td>0.001014</td>\n",
       "      <td>0.001295</td>\n",
       "    </tr>\n",
       "    <tr>\n",
       "      <th>heapsort_np</th>\n",
       "      <td>0.002023</td>\n",
       "      <td>0.002442</td>\n",
       "      <td>0.001403</td>\n",
       "      <td>0.001361</td>\n",
       "      <td>0.001600</td>\n",
       "      <td>0.001310</td>\n",
       "    </tr>\n",
       "  </tbody>\n",
       "</table>\n",
       "</div>"
      ],
      "text/plain": [
       "                 Uniform  Gaussian  Nearly Sorted  Fully Sorted  Reversed  \\\n",
       "mergesort_np_i  0.001530  0.001675       0.001766      0.001001  0.000997   \n",
       "mergesort_np    0.001756  0.002006       0.001407      0.001824  0.002052   \n",
       "quicksort_np    0.002271  0.001562       0.001395      0.001715  0.001014   \n",
       "stablesort_np   0.001447  0.001410       0.001960      0.001025  0.001014   \n",
       "heapsort_np     0.002023  0.002442       0.001403      0.001361  0.001600   \n",
       "\n",
       "                Few Unique Values  \n",
       "mergesort_np_i           0.001015  \n",
       "mergesort_np             0.001064  \n",
       "quicksort_np             0.001269  \n",
       "stablesort_np            0.001295  \n",
       "heapsort_np              0.001310  "
      ]
     },
     "metadata": {},
     "output_type": "display_data"
    },
    {
     "name": "stdout",
     "output_type": "stream",
     "text": [
      "\n",
      "\n"
     ]
    }
   ],
   "source": [
    "for i in results_df.columns:\n",
    "    print(\"Top performers for {} data:\".format(i))\n",
    "    display(results_df.sort_values(i).head())\n",
    "    print(\"\\n\")"
   ]
  },
  {
   "cell_type": "markdown",
   "metadata": {},
   "source": [
    "# Further optimization\n",
    "\n",
    "We'll take our fastest sort algorithms and optimize them further"
   ]
  },
  {
   "cell_type": "code",
   "execution_count": 191,
   "metadata": {
    "ExecuteTime": {
     "end_time": "2019-05-15T09:09:24.509900Z",
     "start_time": "2019-05-15T09:09:24.494064Z"
    }
   },
   "outputs": [],
   "source": [
    "from numba import *\n",
    "from numba.types import *\n",
    "from cytoolz import curry\n",
    "\n",
    "@jit(nopython=True, fastmath=True)\n",
    "def heapsort( xs ):\n",
    "    # convert aList to heap\n",
    "    length = len( xs ) - 1\n",
    "    leastParent = length // 2\n",
    "    \n",
    "    for i in range ( leastParent, -1, -1 ):\n",
    "        moveDown( xs, i, length )\n",
    "\n",
    "    # flatten heap into sorted array\n",
    "    for i in range ( length, 0, -1 ):\n",
    "        if xs[0] > xs[i]:\n",
    "            # swap\n",
    "            xs[0], xs[i] = xs[i], xs[0]\n",
    "            moveDown( xs, 0, i - 1 )\n",
    "\n",
    "                \n",
    "@jit(nopython=True, fastmath=True)\n",
    "def moveDown( xs, first, last ):\n",
    "    largest = 2 * first + 1\n",
    "    while largest <= last:\n",
    "        # right child exists and is larger than left child\n",
    "        if ( largest < last ) and ( xs[largest] < xs[largest + 1] ):\n",
    "            largest += 1\n",
    "\n",
    "        # right child is larger than parent\n",
    "        if xs[largest] > xs[first]:\n",
    "            # swap\n",
    "            xs[largest], xs[first] = xs[first], xs[largest]\n",
    "            # move down to largest child\n",
    "            first = largest;\n",
    "            largest = 2 * first + 1\n",
    "        else:\n",
    "            break\n",
    "        \n",
    "heapsort_jit = curry(heapsort)"
   ]
  },
  {
   "cell_type": "code",
   "execution_count": 197,
   "metadata": {
    "ExecuteTime": {
     "end_time": "2019-05-15T09:10:08.355599Z",
     "start_time": "2019-05-15T09:09:52.747067Z"
    }
   },
   "outputs": [
    {
     "name": "stdout",
     "output_type": "stream",
     "text": [
      "194 µs ± 3.66 µs per loop (mean ± std. dev. of 7 runs, 10000 loops each)\n"
     ]
    }
   ],
   "source": [
    "%%timeit\n",
    "heapsort_jit(xs.copy())"
   ]
  },
  {
   "cell_type": "code",
   "execution_count": 195,
   "metadata": {
    "ExecuteTime": {
     "end_time": "2019-05-15T09:09:41.570747Z",
     "start_time": "2019-05-15T09:09:39.660623Z"
    }
   },
   "outputs": [
    {
     "name": "stdout",
     "output_type": "stream",
     "text": [
      "230 µs ± 9.73 µs per loop (mean ± std. dev. of 7 runs, 1000 loops each)\n"
     ]
    }
   ],
   "source": [
    "%%timeit\n",
    "stablesort_np(xs.copy())"
   ]
  },
  {
   "cell_type": "code",
   "execution_count": 193,
   "metadata": {
    "ExecuteTime": {
     "end_time": "2019-05-15T09:09:35.711702Z",
     "start_time": "2019-05-15T09:09:32.762223Z"
    }
   },
   "outputs": [
    {
     "name": "stdout",
     "output_type": "stream",
     "text": [
      "3.68 ms ± 180 µs per loop (mean ± std. dev. of 7 runs, 100 loops each)\n"
     ]
    }
   ],
   "source": [
    "%%timeit\n",
    "merge_sort_jit(xs.copy())"
   ]
  },
  {
   "cell_type": "code",
   "execution_count": 194,
   "metadata": {
    "ExecuteTime": {
     "end_time": "2019-05-15T09:09:39.656674Z",
     "start_time": "2019-05-15T09:09:35.714731Z"
    }
   },
   "outputs": [
    {
     "name": "stdout",
     "output_type": "stream",
     "text": [
      "4.84 ms ± 110 µs per loop (mean ± std. dev. of 7 runs, 100 loops each)\n"
     ]
    }
   ],
   "source": [
    "%%timeit\n",
    "quicksort_i_jit(xs.copy())"
   ]
  },
  {
   "cell_type": "code",
   "execution_count": 196,
   "metadata": {
    "ExecuteTime": {
     "end_time": "2019-05-15T09:09:47.785907Z",
     "start_time": "2019-05-15T09:09:41.574150Z"
    }
   },
   "outputs": [
    {
     "name": "stdout",
     "output_type": "stream",
     "text": [
      "762 µs ± 8.06 µs per loop (mean ± std. dev. of 7 runs, 1000 loops each)\n"
     ]
    }
   ],
   "source": [
    "%%timeit\n",
    "insertion_sort_jit(xs.copy())"
   ]
  },
  {
   "cell_type": "code",
   "execution_count": null,
   "metadata": {},
   "outputs": [],
   "source": []
  },
  {
   "cell_type": "code",
   "execution_count": null,
   "metadata": {},
   "outputs": [],
   "source": [
    "SORT_FUNCS = \\\n",
    "[sort_py,\n",
    "stablesort_np,\n",
    "\n",
    "merge_sort,\n",
    "merge_sort_jit,\n",
    "merge_sort_cy,\n",
    " \n",
    "insertion_sort_jit,\n",
    " \n",
    "quicksort_i,\n",
    "quicksort_i_jit,\n",
    "quicksort_i_cy]"
   ]
  },
  {
   "cell_type": "code",
   "execution_count": null,
   "metadata": {},
   "outputs": [],
   "source": []
  },
  {
   "cell_type": "code",
   "execution_count": null,
   "metadata": {},
   "outputs": [],
   "source": []
  },
  {
   "cell_type": "markdown",
   "metadata": {},
   "source": [
    "# Related Bookmarks"
   ]
  },
  {
   "cell_type": "markdown",
   "metadata": {},
   "source": [
    "Good stuff: https://towardsdatascience.com/top-algorithms-and-data-structures-you-really-need-to-know-ab9a2a91c7b5"
   ]
  },
  {
   "cell_type": "markdown",
   "metadata": {},
   "source": [
    "Animated sorting: https://www.toptal.com/developers/sorting-algorithms"
   ]
  },
  {
   "cell_type": "markdown",
   "metadata": {},
   "source": [
    "Video about how the mighty `dict` works (great stuff): https://www.youtube.com/watch?v=C4Kc8xzcA68"
   ]
  },
  {
   "cell_type": "markdown",
   "metadata": {},
   "source": [
    "__Fact: a `set` is a dictionary without without storage for the value.__ So in <a href=\"https://www.youtube.com/watch?v=XKu_SEDAykw\">this video</a> about interviewing to work at google, in python we might use a `set` to do what the interviewee does with a `hash table` in C++.\n",
    "\n",
    "https://dbader.org/blog/fundamental-data-structures-in-python"
   ]
  }
 ],
 "metadata": {
  "kernelspec": {
   "display_name": "Python 3",
   "language": "python",
   "name": "python3"
  },
  "language_info": {
   "codemirror_mode": {
    "name": "ipython",
    "version": 3
   },
   "file_extension": ".py",
   "mimetype": "text/x-python",
   "name": "python",
   "nbconvert_exporter": "python",
   "pygments_lexer": "ipython3",
   "version": "3.6.7"
  },
  "toc": {
   "base_numbering": 1,
   "nav_menu": {},
   "number_sections": false,
   "sideBar": true,
   "skip_h1_title": false,
   "title_cell": "Table of Contents",
   "title_sidebar": "Contents",
   "toc_cell": true,
   "toc_position": {
    "height": "calc(100% - 180px)",
    "left": "10px",
    "top": "150px",
    "width": "307px"
   },
   "toc_section_display": true,
   "toc_window_display": true
  }
 },
 "nbformat": 4,
 "nbformat_minor": 2
}
