{
 "cells": [
  {
   "cell_type": "markdown",
   "metadata": {
    "toc": true
   },
   "source": [
    "<h1>Table of Contents<span class=\"tocSkip\"></span></h1>\n",
    "<div class=\"toc\"><ul class=\"toc-item\"><li><span><a href=\"#Solving-Differential-Equations-with-Neural-Networks\" data-toc-modified-id=\"Solving-Differential-Equations-with-Neural-Networks-1\"><span class=\"toc-item-num\">1&nbsp;&nbsp;</span>Solving Differential Equations with Neural Networks</a></span><ul class=\"toc-item\"><li><span><a href=\"#Universal-Approximation-Theorems\" data-toc-modified-id=\"Universal-Approximation-Theorems-1.1\"><span class=\"toc-item-num\">1.1&nbsp;&nbsp;</span>Universal Approximation Theorems</a></span></li><li><span><a href=\"#Description-of-Method\" data-toc-modified-id=\"Description-of-Method-1.2\"><span class=\"toc-item-num\">1.2&nbsp;&nbsp;</span>Description of Method</a></span><ul class=\"toc-item\"><li><span><a href=\"#General-Description\" data-toc-modified-id=\"General-Description-1.2.1\"><span class=\"toc-item-num\">1.2.1&nbsp;&nbsp;</span>General Description</a></span></li><li><span><a href=\"#Gradient-Computation\" data-toc-modified-id=\"Gradient-Computation-1.2.2\"><span class=\"toc-item-num\">1.2.2&nbsp;&nbsp;</span>Gradient Computation</a></span></li></ul></li><li><span><a href=\"#Illustration-of-Method\" data-toc-modified-id=\"Illustration-of-Method-1.3\"><span class=\"toc-item-num\">1.3&nbsp;&nbsp;</span>Illustration of Method</a></span><ul class=\"toc-item\"><li><span><a href=\"#Solving-single-ODEs-and-systems-of-coupled-ODEs\" data-toc-modified-id=\"Solving-single-ODEs-and-systems-of-coupled-ODEs-1.3.1\"><span class=\"toc-item-num\">1.3.1&nbsp;&nbsp;</span>Solving single ODEs and systems of coupled ODEs</a></span><ul class=\"toc-item\"><li><span><a href=\"#First-order-ODEs\" data-toc-modified-id=\"First-order-ODEs-1.3.1.1\"><span class=\"toc-item-num\">1.3.1.1&nbsp;&nbsp;</span>First order ODEs</a></span></li><li><span><a href=\"#Second-order-ODEs\" data-toc-modified-id=\"Second-order-ODEs-1.3.1.2\"><span class=\"toc-item-num\">1.3.1.2&nbsp;&nbsp;</span>Second order ODEs</a></span></li><li><span><a href=\"#Systems-of-K-first-order-ODEs\" data-toc-modified-id=\"Systems-of-K-first-order-ODEs-1.3.1.3\"><span class=\"toc-item-num\">1.3.1.3&nbsp;&nbsp;</span>Systems of <em>K</em> first order ODEs</a></span></li></ul></li><li><span><a href=\"#Solving-single-PDEs\" data-toc-modified-id=\"Solving-single-PDEs-1.3.2\"><span class=\"toc-item-num\">1.3.2&nbsp;&nbsp;</span>Solving single PDEs</a></span></li></ul></li><li><span><a href=\"#Automatic-Differentiation-(Autograd)-and-Backpropagation\" data-toc-modified-id=\"Automatic-Differentiation-(Autograd)-and-Backpropagation-1.4\"><span class=\"toc-item-num\">1.4&nbsp;&nbsp;</span>Automatic Differentiation (Autograd) and Backpropagation</a></span></li><li><span><a href=\"#Problems\" data-toc-modified-id=\"Problems-1.5\"><span class=\"toc-item-num\">1.5&nbsp;&nbsp;</span>Problems</a></span><ul class=\"toc-item\"><li><span><a href=\"#Problem-1:-Single-ODE\" data-toc-modified-id=\"Problem-1:-Single-ODE-1.5.1\"><span class=\"toc-item-num\">1.5.1&nbsp;&nbsp;</span>Problem 1: Single ODE</a></span></li><li><span><a href=\"#Problem-2:-Second-order-ODE\" data-toc-modified-id=\"Problem-2:-Second-order-ODE-1.5.2\"><span class=\"toc-item-num\">1.5.2&nbsp;&nbsp;</span>Problem 2: Second-order ODE</a></span></li><li><span><a href=\"#Problem:-Single-ODE\" data-toc-modified-id=\"Problem:-Single-ODE-1.5.3\"><span class=\"toc-item-num\">1.5.3&nbsp;&nbsp;</span>Problem: Single ODE</a></span></li></ul></li></ul></li></ul></div>"
   ]
  },
  {
   "cell_type": "markdown",
   "metadata": {},
   "source": [
    "# Solving Differential Equations with Neural Networks"
   ]
  },
  {
   "cell_type": "markdown",
   "metadata": {},
   "source": [
    "## Universal Approximation Theorems\n",
    "A thorough, techincal rewrite of the original <a href=\"https://en.wikipedia.org/wiki/Universal_approximation_theorem\">Cybenko Theorem (aka Universal Approximation Theorem for Neural Networks)</a> can be found <a href=\"http://mcneela.github.io/machine_learning/2017/03/21/Universal-Approximation-Theorem.html\">here</a>."
   ]
  },
  {
   "cell_type": "markdown",
   "metadata": {},
   "source": [
    "Briefly, the Cybenko-Hornik-Funahasi Theorem is as such:\n",
    "\n",
    "Let $\\sigma$ be an sigmoidal function. Let all inputs be on $[0, 1]$ or another finite interval.\n",
    "\n",
    "Let $I_d$ be the $d$-dimensional cube $[0, 1]^d$\n",
    "\n",
    "Then a sum of the form:\n",
    "$$f_a(\\vec{x}) = \\sum_j w_j \\sigma(b_j + \\vec{v}_j \\cdot \\vec{x})$$\n",
    "\n",
    "can approximate any continuous function $f$ to any accuracy. It might require any number of hidden neurons.\n",
    "\n",
    "*A continued explanation and its underlying theorems can be found <a href=\"http://www.cs.utsa.edu/~bylander/cs4793/univ-approx.pdf\">here</a>.*"
   ]
  },
  {
   "cell_type": "markdown",
   "metadata": {},
   "source": [
    "## Description of Method\n",
    "\n",
    "As described by the following papers: \n",
    "\n",
    "(1) *Artificial Neural Networks for Solving Ordinary and Partial Differential Equations* by Lagaris, Likas, and Fotiadis\n",
    "\n",
    "(2) *Solving differential equautions using neural networks* by Chiaramonte and Kiener"
   ]
  },
  {
   "cell_type": "markdown",
   "metadata": {},
   "source": [
    "### General Description"
   ]
  },
  {
   "cell_type": "markdown",
   "metadata": {},
   "source": [
    "This approach is illustrated in terms of the following general definition of differential  equations:\n",
    "\n",
    "\\begin{equation}\n",
    "G(\\vec{x},\\psi(\\vec{x}),\\nabla\\psi(\\vec{x}),\\nabla^2\\psi(\\vec{x})) = 0, \\vec{x}\\in{D}\n",
    "\\end{equation}\n",
    "\n",
    "where $\\psi(\\vec{x})$ is the scalar-valued solution to be computed."
   ]
  },
  {
   "cell_type": "markdown",
   "metadata": {},
   "source": [
    "This definition is subject to certain boundary conditions (such as Dirichlet and/or Neumann), where $\\vec{x} = (x_1,...,x_n) \\in{R^n}, D \\subset R^n$ denotes the definition domain."
   ]
  },
  {
   "cell_type": "markdown",
   "metadata": {},
   "source": [
    "A solution to the above differential equation is attained by assuming a discretized domain $D$ and its boundary $S$ into a set of points $\\hat{D}$ and $\\hat{S}$.\n",
    "\n",
    "The problem is then transformed thusly:\n",
    "\n",
    "\\begin{equation}\n",
    "G(\\vec{x_i},\\psi(\\vec{x_i}),\\nabla\\psi(\\vec{x_i}),\\nabla^2\\psi(\\vec{x_i})) = 0, \\forall\\vec{x_i}\\in{D}\n",
    "\\end{equation}\n",
    "\n",
    "Also subject to any boundary condition-imposed constraints."
   ]
  },
  {
   "cell_type": "markdown",
   "metadata": {},
   "source": [
    "If $\\psi_t(\\vec{x},\\vec{p})$ denotes the optimal trial solution with adjustable parameters $\\vec{p} = arg min_{\\vec p} J(\\vec p)$, the problem is transformed to:\n",
    "\n",
    "\\begin{equation}\n",
    "J(p) = min_{\\vec{p}} \\sum_{\\vec{x_i}\\in{\\hat{D}}} G(\\vec{x_i},\\psi(\\vec{x_i}, \\vec{p}),\\nabla\\psi(\\vec{x_i}, \\vec{p}),\\nabla^2\\psi(\\vec{x_i}, \\vec{p}))^2\n",
    "\\end{equation}\n",
    "\n",
    "subject to any constraints imposed by boundary conditions."
   ]
  },
  {
   "cell_type": "markdown",
   "metadata": {},
   "source": [
    "The trial solution $\\psi_t$ employs a feedforward neural network and the parameters $\\vec{p}$ correspond to the weights and biases of the neural architecture. \n",
    "\n",
    "One the parameters $\\vec p$ have been attained, the trial solution $\\psi_t (\\vec x, \\vec p)$ is a smooth, continuous, differentiable approximation to the true solution."
   ]
  },
  {
   "cell_type": "markdown",
   "metadata": {},
   "source": [
    "In order to satisfy the boundary conditions a form is constructed for the trial function $\\psi_t(\\vec{x})$ as a sum of two terms:\n",
    "\n",
    "\\begin{equation}\n",
    "\\psi_t(\\vec{x}) = A(\\vec{x}) + F(\\vec{x}, N(\\vec{x},\\vec{p}))\n",
    "\\end{equation}\n",
    "\n",
    "where $N(\\vec{x},\\vec{p})$ is a single-output feedforward neural network with parameter $\\vec{p}$ and $n$ input units fed with the input vector $\\vec{x}$."
   ]
  },
  {
   "cell_type": "markdown",
   "metadata": {},
   "source": [
    "The term $A(x)$ contains no adjustable parameters and satisfies the boundary conditions and often must be constructed from piecewise boundary conditions. \n",
    "\n",
    "The second term $F$ is constructed so as not to contribute to the boundary conditions, since $\\psi_t(\\vec{x})$ must also satisfy them, and employs a neural network whose weights and biases are to be adjusted in order to deal with the minimization problem."
   ]
  },
  {
   "cell_type": "markdown",
   "metadata": {},
   "source": [
    "Due to the choice of form, the problem which was originally a constained problem is now unconstrained and therefore much easier to deal with."
   ]
  },
  {
   "cell_type": "markdown",
   "metadata": {},
   "source": [
    "Now, all that is left to do is detail a systematic way to construct the trial solution (i.e. the functional forms of both $A$ and $F$.)"
   ]
  },
  {
   "cell_type": "markdown",
   "metadata": {},
   "source": [
    "### Gradient Computation"
   ]
  },
  {
   "cell_type": "markdown",
   "metadata": {},
   "source": [
    "The efficient minimization of equation **(3)** is part of the training process of the neural network, where the error corresponding ot each input vector $\\vec{x_i}$ is the value of $G(\\vec{x_i})$ which has to come as close to zero as possible.\n",
    "\n",
    "\n",
    "Computation of this error value involves the network output (as is the case in conventional training) as well as the derivatives of the output with respect to its inputs.\n",
    "\n",
    "\n",
    "Therefore, in computing the gradient of the error with respect to the network weights, the gradient of the network as well as the gradient of the network derivatives (with respect to its inputs) must be computed."
   ]
  },
  {
   "cell_type": "markdown",
   "metadata": {},
   "source": [
    "Consider a multilayer perceptron with $n$ input units, one hidden with $H$ sigmoid units and a linear output unit. \n",
    "\n",
    "The case of more than one hidden layers can be likewise obtained as well."
   ]
  },
  {
   "cell_type": "markdown",
   "metadata": {},
   "source": [
    "![neural_network_schematic](img/nn_schematic.png)\n",
    "\n",
    "*Schematic of NN with n + 1 input nodes, H hidden nodes, and 1 output node __taken from paper (2)__*"
   ]
  },
  {
   "cell_type": "markdown",
   "metadata": {},
   "source": [
    "For a given input vector $\\vec{x}=(x_1,...,x_n)$ the output of the network is $N=\\sum^H_{i=1}v_i\\sigma(z_i)$ where $z_i=\\sum^N_{j=1}w_{ij}x_j+u_i$. $w_{ij}$ denotes the weight from the input unit $j$ to the hidden unit $i$; $v_i$ denotes the weight from the hidden unit $i$ to the output; $u_i$ denotes the bias of the hidden unit $i$ and $\\sigma(z)$ is the sigmoid transfer function."
   ]
  },
  {
   "cell_type": "markdown",
   "metadata": {},
   "source": [
    "It is straightforward to show that:\n",
    "\n",
    "\\begin{equation}\n",
    "\\frac{\\partial^k{N}}{\\partial{x^k_j}} = \\sum^H_{i=1}v_i w_{ij}^k\\sigma_i^{(k)}\n",
    "\\end{equation}\n",
    "\n",
    "where $\\sigma_i = \\sigma(z_i)$ and $\\sigma^{(k)}$ denotes the $k^th$ order derivative of the sigmoid."
   ]
  },
  {
   "cell_type": "markdown",
   "metadata": {},
   "source": [
    "\\begin{equation}\n",
    "\\frac{\\partial^{\\lambda _1}{}}{\\partial{x^{\\lambda _1}_1}} \\frac{\\partial^{\\lambda_2}{}}{\\partial{x^{\\lambda _2}_2}} ... \\frac{\\partial^{\\lambda_n}{}}{\\partial{x^{\\lambda _n}_n}} N = \\sum^n_{i=1}v_i P_i \\sigma_i^{(\\Lambda)}\n",
    "\\end{equation}\n",
    "\n",
    "where\n",
    "\n",
    "\\begin{equation}\n",
    "P_i = \\prod^n_{k=1}w^{\\lambda_k}_{ik}\n",
    "\\end{equation}\n",
    "\n",
    "and $\\Lambda=\\sum^n_{i=1}\\lambda_i$"
   ]
  },
  {
   "cell_type": "markdown",
   "metadata": {},
   "source": [
    "\\begin{equation}\n",
    "\\frac{\\partial{N_g}}{\\partial{v_i}} = P_i\\sigma_i^{(\\Lambda)}\n",
    "\\end{equation}\n",
    "\n",
    "\\begin{equation}\n",
    "\\frac{\\partial{N_g}}{\\partial{u_i}} = v_i P_i\\sigma_i^{(\\Lambda + 1)}\n",
    "\\end{equation}\n",
    "\n",
    "\\begin{equation}\n",
    "\\frac{\\partial{N_g}}{\\partial{w_{ij}}} = x_j v_i P_i\\sigma_i^{(\\Lambda + 1)} + v_i \\lambda_j w_{ij}^{\\lambda_j - 1} (\\prod_{k=1,k \\ne j} w_{ik}^{\\lambda_k})\\sigma_i^{(\\Lambda)}\n",
    "\\end{equation}"
   ]
  },
  {
   "cell_type": "markdown",
   "metadata": {},
   "source": [
    "Once the derivative of the error with respect to the network parameters has been defined, it is straightforward to employ nearly any minimization technique. This is especially true since the problem has been constructed to have an unconstrained form.\n",
    "\n",
    "What does this mean? It means that it is possible to use a steepest ascent method (i.e. backpropogation or any variant thereof), the conjugate gradient method, or any technique at all described in literature such as *Practical Methods of Optimization 2nd Ed.* by R. Fletcher (1987).\n",
    "\n",
    "Furthermore, optimization is parallelizable and in the case of backpropagation, weights can be updated in batches."
   ]
  },
  {
   "cell_type": "markdown",
   "metadata": {},
   "source": [
    "## Illustration of Method\n",
    "\n",
    "Here we cover several cases commonly encountered by scientists in various fields."
   ]
  },
  {
   "cell_type": "markdown",
   "metadata": {},
   "source": [
    "### Solving single ODEs and systems of coupled ODEs"
   ]
  },
  {
   "cell_type": "markdown",
   "metadata": {},
   "source": [
    "#### First order ODEs"
   ]
  },
  {
   "cell_type": "markdown",
   "metadata": {},
   "source": [
    "Consider this first order ODE:\n",
    "\n",
    "$$\\frac{\\partial{\\psi}}{\\partial{x}} = f(x,\\psi)$$\n",
    "\n",
    "with $x \\in [0,1]$ and initial conditions $\\psi(0)=A$.\n",
    "\n",
    "\n",
    "A trial solution is written as:\n",
    "\n",
    "\\begin{equation}\n",
    "\\psi_t(x)=A+xN(x,\\vec{p})\n",
    "\\end{equation}\n",
    "\n",
    "where $N(x,\\vec{p})$ is the output of the feedforward neural network with a single input unit for x and weights $\\vec{p}$. Note that $\\psi_t(x)$ satisfies the initial conditions by construction. The error quantity to be minimized is\n",
    "\n",
    "\\begin{equation}\n",
    "E[\\vec{p}] = \\sum_i \\{\\frac{\\partial{\\psi_t(x_i)}}{dx} - f(x_i,\\psi_t(x_i))\\}^2\n",
    "\\end{equation}\n",
    "\n",
    "where $x_i$'s are points on $[0,1]$. Since $d\\psi_t(x)/dx = N(x, \\vec{p}) + x dN/dx$ it is also straightforward to compute the gradient of the error with respect to the parameters $\\vec{p}$ using equations **(5)** - **(10)**. The same holds for all subsequent model problems."
   ]
  },
  {
   "cell_type": "markdown",
   "metadata": {},
   "source": [
    "#### Second order ODEs"
   ]
  },
  {
   "cell_type": "markdown",
   "metadata": {},
   "source": [
    "The same procedure applies:\n",
    "\n",
    "$$\\frac{\\partial^2{\\psi}}{\\partial{x^2}} = f(x,\\psi, \\frac{\\partial{\\psi}}{\\partial{x}})$$"
   ]
  },
  {
   "cell_type": "markdown",
   "metadata": {},
   "source": [
    "For the *initial value* problem: $\\psi(0)=A$ and $\\frac{d}{dx}\\psi(0)=A'$, the trial solution can be written as:\n",
    "\n",
    "\\begin{equation}\n",
    "\\psi_t(x) = A + A'x + x^2N(x,\\vec{p})\n",
    "\\end{equation}"
   ]
  },
  {
   "cell_type": "markdown",
   "metadata": {},
   "source": [
    "For the *two-point Dirichlet* boundary condition problem: $\\psi(0)=A$ and $\\frac{d}{dx}\\psi(0)=A'$, the trial solution can be written as:\n",
    "\n",
    "\\begin{equation}\n",
    "\\psi_t(x) = A(1 - x) + Bx + x(1 - x)N(x,\\vec{p})\n",
    "\\end{equation}"
   ]
  },
  {
   "cell_type": "markdown",
   "metadata": {},
   "source": [
    "In these two cases of second order ODEs, the error function to be minimized is given by equation **(12)**."
   ]
  },
  {
   "cell_type": "markdown",
   "metadata": {},
   "source": [
    "#### Systems of *K* first order ODEs"
   ]
  },
  {
   "cell_type": "markdown",
   "metadata": {},
   "source": [
    "$$\\frac{d\\psi_i}{dx} = f_i(x,\\psi_1,\\psi_2,...,\\psi_K)$$\n",
    "\n",
    "with $\\psi_i(0) = A_i,  i=(1,...,K)$ we consider one neural network for each trial solution $\\psi_{t_i} (i = 1,...,K)$ which is written as:\n",
    "\n",
    "\\begin{equation}\n",
    "\\psi_{t_i}(x) = A_i + xN_i(x,\\vec{p_i})\n",
    "\\end{equation}\n",
    "\n",
    "and we minimize the quantity:\n",
    "\n",
    "\\begin{equation}\n",
    "E[\\vec{p}] = \\sum^K_{k=1} \\sum_i \\{ \\frac{d\\psi_{t_k}(x_i)}{dx} = f_k(x_i, \\psi_{t_1}, \\psi_{t_2}, ..., \\psi_{t_K}) \\}\n",
    "\\end{equation}"
   ]
  },
  {
   "cell_type": "markdown",
   "metadata": {},
   "source": [
    "### Solving single PDEs\n",
    "\n",
    "Though we only address the case of two-dimensional problems, extension to more dimensions follows straightforwardly."
   ]
  },
  {
   "cell_type": "markdown",
   "metadata": {},
   "source": [
    "Consider the *Poisson equation*:\n",
    "\n",
    "$$\\frac{\\partial{^2}}{\\partial{x^2}}\\psi{(x,y)} + \\frac{\\partial{^2}}{\\partial{y^2}}\\psi{(x,y)} = f(x, y)$$\n",
    "\n",
    "$x \\in [0,1]$, $ \\in [0,1]$"
   ]
  },
  {
   "cell_type": "markdown",
   "metadata": {},
   "source": [
    "with *Dirichlet boundary conditions*: $\\psi{(0,y)} = f_0(y)$, $\\psi{(1,y)} = f_1(y)$ and $\\psi{(x,0)} = g_0(x)$, $\\psi{(x,1)} = g_1(x)$.\n",
    "\n",
    "The trial solution is written as:\n",
    "\n",
    "\\begin{equation}\n",
    "\\psi_t(x,y) = A(x,y) + x(1-x) y(1-y) N(x,y,\\vec{p})\n",
    "\\end{equation}\n",
    "\n",
    "where $A(x,y)$ is chosen so as to satisfy the boundary conditions such that:\n",
    "\n",
    "\\begin{equation}\n",
    "A(x,y) = (1-x) f_0(y) + xf_1(y) + (1-y) \\{ g_0(x) - [(1-x)]g_0(0) + xg_0(1)]\\} + y \\{ g_1(x) - [(1-x)g_1(0) + xg_1(1)] \\}\n",
    "\\end{equation}"
   ]
  },
  {
   "cell_type": "markdown",
   "metadata": {},
   "source": [
    "with *mixed boundary conditions* (ie. Dirichlet on part of the boundary and Neumann elsewhere) of the form: $\\psi{(0,y)} = f_0(y)$, $\\psi{(1,y)} = f_1(y)$, $\\psi{(x,0)} = g_0(x)$, and $\\frac{\\partial}{\\partial{x}}\\psi{(x,1)} = g_1(x)$.\n",
    "\n",
    "The trial solution is written as:\n",
    "\n",
    "\\begin{equation}\n",
    "\\psi_t(x,y) = B(x,y) + x(1-x) y[N(x,y,\\vec{p}) - N(x,1,\\vec{p}) - \\frac{\\partial}{\\partial{y}}N(x,1,\\vec{p})]\n",
    "\\end{equation}\n",
    "\n",
    "where $B(x,y)$ is chosen so as to satisfy the boundary conditions such that:\n",
    "\n",
    "\\begin{equation}\n",
    "B(x,y) = (1-x) f_0(y) + xf_1(y) + g_0(x) - [(1-x)g_0(0) + xg_0(1)] + y \\{ g_1(x) - [(1-x)g_1(0) + xg_1(1)]\\}\n",
    "\\end{equation}"
   ]
  },
  {
   "cell_type": "markdown",
   "metadata": {},
   "source": [
    "Note that the second term of this trial solution does not affect the boundary conditions since it vanishes at the part of the boundary where the Dirichlet conditions are imposed, and its gradient component normal to the boundary vanishes at the part where the Neumann conditions are imposed."
   ]
  },
  {
   "cell_type": "markdown",
   "metadata": {},
   "source": [
    "The error to be minimized in all PDE problems above is given:\n",
    "\n",
    "\\begin{equation}\n",
    "E[\\vec{p}] = \\sum_i \\{ \\frac{\\partial{^2}}{\\partial{x^2}}\\psi(x_i,y_i) + \\frac{\\partial{^2}}{\\partial{y^2}}\\psi(x_i,y_i) - f(x_i,y_i) \\}^2\n",
    "\\end{equation}\n",
    "\n",
    "where $(x_i,y_i)$ are points in $[0,1] \\times [0,1]$."
   ]
  },
  {
   "cell_type": "markdown",
   "metadata": {},
   "source": [
    "## Automatic Differentiation (Autograd) and Backpropagation\n",
    "\n",
    "Study Sources: \n",
    " - https://ml-cheatsheet.readthedocs.io/en/latest/backpropagation.html\n",
    " - https://www.youtube.com/watch?v=MswxJw-8PvE\n",
    " - https://towardsdatascience.com/pytorch-autograd-understanding-the-heart-of-pytorchs-magic-2686cd94ec95 (see additional reading at bottom)"
   ]
  },
  {
   "cell_type": "markdown",
   "metadata": {},
   "source": [
    "What is `autograd`? What are we using it for?\n",
    "\n",
    "The answer lies in the construction and definition of an artificial neural network, specifically a step called __Backpropagation__."
   ]
  },
  {
   "cell_type": "markdown",
   "metadata": {},
   "source": [
    "The goal of backpropagation is straightforward: update the weights according to their respective errors in order to minimize the overall error as much as possible and necessary. \n",
    "\n",
    "As the overall error approaches zero, the network's ability to model and predict becomes increasingly accurate."
   ]
  },
  {
   "cell_type": "code",
   "execution_count": null,
   "metadata": {},
   "outputs": [],
   "source": []
  },
  {
   "cell_type": "markdown",
   "metadata": {},
   "source": [
    "## Problems\n",
    "\n",
    "Note: For automatic differentiation we use the following module: https://github.com/HIPS/autograd"
   ]
  },
  {
   "cell_type": "markdown",
   "metadata": {},
   "source": [
    "### Problem 1: Single ODE"
   ]
  },
  {
   "cell_type": "markdown",
   "metadata": {},
   "source": [
    "Consider a simple ordinary differential equation in the following form:\n",
    "\n",
    "$$\\frac{\\partial{\\psi}}{\\partial{x}} = f(x,\\psi)$$\n",
    "\n",
    "Suppose that\n",
    "\n",
    "$$f(x,\\psi) + \\psi \\cdot A(x)= B(x)$$"
   ]
  },
  {
   "cell_type": "markdown",
   "metadata": {},
   "source": [
    "Where\n",
    "$$A(x) = x + \\frac{(1 + 3x^2)}{1 + x + x^3} $$\n",
    "$$B(x) = x^3 + 2x + x^2 \\frac{1 + 3x^2}{1 + x + x^3}$$\n",
    "\n",
    "With $\\psi(0) = 1$ and $x \\in [0,1]$"
   ]
  },
  {
   "cell_type": "markdown",
   "metadata": {},
   "source": [
    "Therefore we have\n",
    "\n",
    "$$f(x,\\psi) = (x^3 + 2x + x^2 \\frac{1 + 3x^2}{1 + x + x^3}) - \\psi (x + \\frac{(1 + 3x^2)}{1 + x + x^3})$$"
   ]
  },
  {
   "cell_type": "markdown",
   "metadata": {},
   "source": [
    "The analytic solution to this problem is\n",
    "\n",
    "$$\\psi_a(x) = \\frac{e^{\\frac{-x^2}{2}}}{1+x+x^3} + x^2$$"
   ]
  },
  {
   "cell_type": "code",
   "execution_count": 8,
   "metadata": {
    "ExecuteTime": {
     "end_time": "2019-06-05T21:12:29.014462Z",
     "start_time": "2019-06-05T21:12:06.255789Z"
    }
   },
   "outputs": [
    {
     "name": "stdout",
     "output_type": "stream",
     "text": [
      "0.10005159751990923\n",
      "[array([[-0.95184713, -1.1065391 ,  0.50911579,  0.98587853, -0.69351543,\n",
      "        -1.220991  , -0.68710567, -1.2549278 ,  0.02622794,  0.22489203]]), array([[-0.15130773],\n",
      "       [-1.06580747],\n",
      "       [ 0.94946716],\n",
      "       [ 0.25938481],\n",
      "       [-1.90215291],\n",
      "       [-0.22650725],\n",
      "       [-0.88515897],\n",
      "       [-1.21579563],\n",
      "       [ 2.55441696],\n",
      "       [-0.55015239]])]\n"
     ]
    },
    {
     "data": {
      "image/png": "[encoded data removed]",
      "text/plain": [
       "<Figure size 432x288 with 1 Axes>"
      ]
     },
     "metadata": {},
     "output_type": "display_data"
    }
   ],
   "source": [
    "import autograd.numpy as np\n",
    "from autograd import grad \n",
    "import autograd.numpy.random as npr\n",
    "import matplotlib.pyplot as plt\n",
    "%matplotlib inline\n",
    "\n",
    "# Number of disceret points in x dimension\n",
    "nx = 10\n",
    "\n",
    "# discrete change in x\n",
    "dx = 1. / nx\n",
    "\n",
    "# left side of initial equation\n",
    "def A(x):\n",
    "    return x + (1. + 3.*x**2) / (1. + x + x**3)\n",
    "\n",
    "# right side of equation\n",
    "def B(x):\n",
    "    return x**3 + 2.*x + x**2 * ((1. + 3.*x**2) / (1. + x + x**3))\n",
    "\n",
    "# unconstrained form which can satisfyboundary conditions\n",
    "def f(x, psi):\n",
    "    return B(x) - psi * A(x)\n",
    "\n",
    "# analytic solution for comparison\n",
    "def psi_analytic(x):\n",
    "    return (np.exp((-x**2)/2.)) / (1. + x + x**3) + x**2\n",
    "\n",
    "x_space = np.linspace(0, 1, nx)    \n",
    "y_space = psi_analytic(x_space)\n",
    "\n",
    "#psi_fd = np.zeros_like(y_space)\n",
    "#psi_fd[0] = 1. # Initial Conditions\n",
    "\n",
    "#for i in range(1, len(x_space)):\n",
    "#    psi_fd[i] = psi_fd[i-1] + B(x_space[i]) * dx - psi_fd[i-1] * A(x_space[i]) * dx\n",
    "    \n",
    "def sigmoid(x):\n",
    "    return 1 / (1 + np.exp(-x))\n",
    "\n",
    "def sigmoid_grad(x):\n",
    "    return sigmoid(x) * (1 - sigmoid(x))\n",
    "\n",
    "def neural_network(W, x):\n",
    "    a1 = sigmoid(np.dot(x, W[0]))\n",
    "    return np.dot(a1, W[1])\n",
    "\n",
    "def d_neural_network_dx(W, x, k=1):\n",
    "    return np.dot(np.dot(W[1].T, W[0].T**k), sigmoid_grad(x))\n",
    "\n",
    "def loss_function(W, x):\n",
    "    loss_sum = 0.\n",
    "    for xi in x:\n",
    "        net_out = neural_network(W, xi)[0][0]\n",
    "        psi_t = 1. + xi * net_out\n",
    "        d_net_out = d_neural_network_dx(W, xi)[0][0]\n",
    "        d_psi_t = net_out + xi * d_net_out\n",
    "        func = f(xi, psi_t)       \n",
    "        err_sqr = (d_psi_t - func)**2\n",
    "\n",
    "        loss_sum += err_sqr\n",
    "    return loss_sum\n",
    "\n",
    "# Initialize weights with random values\n",
    "W = [npr.randn(1, 10), npr.randn(10, 1)]\n",
    "\n",
    "# Set learning rate\n",
    "lmb = 0.001\n",
    "\n",
    "for i in range(1000):\n",
    "    loss_grad =  grad(loss_function)(W, x_space)\n",
    "    \n",
    "    W[0] = W[0] - lmb * loss_grad[0]\n",
    "    W[1] = W[1] - lmb * loss_grad[1]\n",
    "    \n",
    "#     print(loss_function(W, x_space))\n",
    "\n",
    "print(loss_function(W, x_space))\n",
    "res = [1 + xi * neural_network(W, xi)[0][0] for xi in x_space] \n",
    "\n",
    "print(W)\n",
    "\n",
    "plt.figure()\n",
    "plt.plot(x_space, y_space, c='c') \n",
    "#plt.plot(x_space, psi_fd, c='m')\n",
    "plt.plot(x_space, res, c='y')\n",
    "plt.show()"
   ]
  },
  {
   "cell_type": "markdown",
   "metadata": {
    "collapsed": true
   },
   "source": [
    "### Problem 2: Second-order ODE\n",
    "\n",
    "$$\\frac{d^2}{dx^2}\\psi + \\frac{1}{5}\\frac{d}{dx}\\psi +\\psi = -\\frac{1}{5} e^{-\\frac{x}{5}}cos(x)$$\n",
    "\n",
    "with $\\psi(0) = 0$ and $\\frac{d}{dx}\\psi(0)=1$ and $x \\in [0,2]$\n",
    "\n",
    "\n",
    "The analytic solution is $\\psi_a(x) = e^{-\\frac{x}{5}}sin(x)$\n",
    "\n",
    "and the trial solution of the neural network is $\\psi_t(x) = x + x^2 N(x, \\vec{p})$ according to equation (13)."
   ]
  },
  {
   "cell_type": "code",
   "execution_count": 29,
   "metadata": {
    "ExecuteTime": {
     "end_time": "2019-06-05T18:11:03.354748Z",
     "start_time": "2019-06-05T18:11:00.500071Z"
    }
   },
   "outputs": [
    {
     "name": "stdout",
     "output_type": "stream",
     "text": [
      "0.7748732841821071\n"
     ]
    },
    {
     "data": {
      "image/png": "[encoded data removed]",
      "text/plain": [
       "<Figure size 432x288 with 1 Axes>"
      ]
     },
     "metadata": {},
     "output_type": "display_data"
    }
   ],
   "source": [
    "import autograd.numpy as np\n",
    "from autograd import grad \n",
    "import autograd.numpy.random as npr\n",
    "\n",
    "%matplotlib inline\n",
    "\n",
    "nx = 10\n",
    "dx = 1. / nx\n",
    "\n",
    "def f(x, psi, dpsi):\n",
    "    return -1./5. * np.exp(-x/5.) * np.cos(x) - 1./5. * dpsi - psi\n",
    "\n",
    "def psi_analytic(x):\n",
    "    return np.exp(-x/5.) * np.sin(x)\n",
    "\n",
    "x_space = np.linspace(0, 2, nx)    \n",
    "y_space = psi_analytic(x_space)\n",
    "\n",
    "def sigmoid(x):\n",
    "    return 1. / (1. + np.exp(-x))\n",
    "\n",
    "def neural_network(W, x):\n",
    "    a1 = sigmoid(np.dot(x, W[0]))\n",
    "    return np.dot(a1, W[1])\n",
    "\n",
    "def neural_network_x(x):\n",
    "    a1 = sigmoid(np.dot(x, W[0]))\n",
    "    return np.dot(a1, W[1])\n",
    "\n",
    "def psi_trial(xi, net_out):\n",
    "    return xi + xi**2 * net_out\n",
    "\n",
    "psi_grad = grad(psi_trial)\n",
    "psi_grad2 = grad(psi_grad)\n",
    "\n",
    "def loss_function(W, x):\n",
    "    loss_sum = 0.\n",
    "    \n",
    "    for xi in x:\n",
    "        net_out = neural_network(W, xi)[0][0]\n",
    "\n",
    "        net_out_d = grad(neural_network_x)(xi)\n",
    "        net_out_dd = grad(grad(neural_network_x))(xi)\n",
    "        \n",
    "        psi_t = psi_trial(xi, net_out)\n",
    "        \n",
    "        gradient_of_trial = psi_grad(xi, net_out)\n",
    "        second_gradient_of_trial = psi_grad2(xi, net_out)\n",
    "        \n",
    "        func = f(xi, psi_t, gradient_of_trial) # right part function\n",
    "        \n",
    "        err_sqr = (second_gradient_of_trial - func)**2\n",
    "        loss_sum += err_sqr\n",
    "        \n",
    "    return loss_sum\n",
    "\n",
    "W = [npr.randn(1, 10), npr.randn(10, 1)]\n",
    "lmb = 0.001\n",
    "\n",
    "for i in range(50):\n",
    "    loss_grad =  grad(loss_function)(W, x_space)\n",
    "\n",
    "    W[0] = W[0] - lmb * loss_grad[0]\n",
    "    W[1] = W[1] - lmb * loss_grad[1]\n",
    "\n",
    "print(loss_function(W, x_space))\n",
    "res = [psi_trial(xi, neural_network(W, xi)[0][0]) for xi in x_space] \n",
    "\n",
    "\n",
    "plt.figure()\n",
    "plt.plot(x_space, y_space, c='c') \n",
    "plt.plot(x_space, res, c='m')\n",
    "plt.show()"
   ]
  },
  {
   "cell_type": "markdown",
   "metadata": {},
   "source": [
    "### Problem: Single ODE\n",
    "\n",
    "$$\\frac{d}{dx}\\psi + \\frac{1}{5}\\psi = e^{-\\frac{x}{5}}cos(x)$$\n",
    "\n",
    "with $\\psi(0) = 0$ and $x \\in [0,2]$\n",
    "\n",
    " $\\psi_a(x) = e^{-\\frac{x}{5}}sin(x)$\n",
    " \n",
    " The trial solution is again $\\psi_t(x) = xN(x, \\vec p)$"
   ]
  },
  {
   "cell_type": "code",
   "execution_count": 26,
   "metadata": {
    "ExecuteTime": {
     "end_time": "2019-06-05T21:20:48.480163Z",
     "start_time": "2019-06-05T21:20:25.145035Z"
    }
   },
   "outputs": [
    {
     "name": "stdout",
     "output_type": "stream",
     "text": [
      "0.03184458360186081\n"
     ]
    },
    {
     "data": {
      "image/png": "[encoded data removed]",
      "text/plain": [
       "<Figure size 432x288 with 1 Axes>"
      ]
     },
     "metadata": {},
     "output_type": "display_data"
    }
   ],
   "source": [
    "import autograd.numpy as np\n",
    "from autograd import grad \n",
    "import autograd.numpy.random as npr\n",
    "\n",
    "%matplotlib inline\n",
    "\n",
    "nx = 10\n",
    "dx = 1. / nx\n",
    "\n",
    "def f(x, psi):\n",
    "    return np.exp(-x/5.) * np.cos(x) - 1./5. * psi\n",
    "\n",
    "def psi_analytic(x):\n",
    "    return np.exp(-x/5.) * np.sin(x)\n",
    "\n",
    "x_space = np.linspace(0, 2, nx)    \n",
    "y_space = psi_analytic(x_space)\n",
    "\n",
    "def sigmoid(x):\n",
    "    return 1. / (1. + np.exp(-x))\n",
    "\n",
    "def neural_network(W, x):\n",
    "    a1 = sigmoid(np.dot(x, W[0]))\n",
    "    return np.dot(a1, W[1])\n",
    "\n",
    "def neural_network_x(x):\n",
    "    a1 = sigmoid(np.dot(x, W[0]))\n",
    "    return np.dot(a1, W[1])\n",
    "\n",
    "def psi_trial(xi, net_out):\n",
    "    return xi * net_out\n",
    "\n",
    "d_psi_trial = grad(psi_trial)\n",
    "\n",
    "def loss_function(W, x):\n",
    "    loss_sum = 0.\n",
    "    \n",
    "    for xi in x:\n",
    "        net_out = neural_network(W, xi)[0][0]\n",
    "        d_net_out = grad(neural_network_x)(xi)\n",
    "        psi_t = psi_trial(xi, net_out)\n",
    "        d_psi_t = d_psi_trial(xi, net_out)\n",
    "        func = f(xi, psi_t)\n",
    "        err_sqr = (d_psi_t - func)**2        \n",
    "        loss_sum += err_sqr\n",
    "        \n",
    "    return loss_sum\n",
    "\n",
    "W = [npr.randn(1, 10), npr.randn(10, 1)]\n",
    "lmb = 0.005\n",
    "\n",
    "for i in range(1000):\n",
    "    loss_grad =  grad(loss_function)(W, x_space)\n",
    "\n",
    "    W[0] = W[0] - lmb * loss_grad[0]\n",
    "    W[1] = W[1] - lmb * loss_grad[1]\n",
    "\n",
    "print(loss_function(W, x_space))\n",
    "res = [psi_trial(xi, neural_network(W, xi)[0][0]) for xi in x_space] \n",
    "\n",
    "\n",
    "plt.figure()\n",
    "plt.plot(x_space, y_space, c='c') # analytic solution\n",
    "plt.plot(x_space, res, c='y') # neural network\n",
    "plt.show()"
   ]
  }
 ],
 "metadata": {
  "kernelspec": {
   "display_name": "Python 3",
   "language": "python",
   "name": "python3"
  },
  "language_info": {
   "codemirror_mode": {
    "name": "ipython",
    "version": 3
   },
   "file_extension": ".py",
   "mimetype": "text/x-python",
   "name": "python",
   "nbconvert_exporter": "python",
   "pygments_lexer": "ipython3",
   "version": "3.6.7"
  },
  "toc": {
   "base_numbering": 1,
   "nav_menu": {},
   "number_sections": true,
   "sideBar": true,
   "skip_h1_title": false,
   "title_cell": "Table of Contents",
   "title_sidebar": "Contents",
   "toc_cell": true,
   "toc_position": {},
   "toc_section_display": true,
   "toc_window_display": false
  }
 },
 "nbformat": 4,
 "nbformat_minor": 2
}
