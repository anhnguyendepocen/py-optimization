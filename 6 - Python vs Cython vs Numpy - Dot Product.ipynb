{
 "cells": [
  {
   "cell_type": "markdown",
   "metadata": {
    "toc": true
   },
   "source": [
    "<h1>Table of Contents<span class=\"tocSkip\"></span></h1>\n",
    "<div class=\"toc\"><ul class=\"toc-item\"><li><span><a href=\"#Cython\" data-toc-modified-id=\"Cython-1\"><span class=\"toc-item-num\">1&nbsp;&nbsp;</span>Cython</a></span><ul class=\"toc-item\"><li><span><a href=\"#Dot-Product\" data-toc-modified-id=\"Dot-Product-1.1\"><span class=\"toc-item-num\">1.1&nbsp;&nbsp;</span>Dot Product</a></span><ul class=\"toc-item\"><li><span><a href=\"#Pure-Python\" data-toc-modified-id=\"Pure-Python-1.1.1\"><span class=\"toc-item-num\">1.1.1&nbsp;&nbsp;</span>Pure Python</a></span></li><li><span><a href=\"#Simple-Cython\" data-toc-modified-id=\"Simple-Cython-1.1.2\"><span class=\"toc-item-num\">1.1.2&nbsp;&nbsp;</span>Simple Cython</a></span></li><li><span><a href=\"#Cython-with-Type-Declarations\" data-toc-modified-id=\"Cython-with-Type-Declarations-1.1.3\"><span class=\"toc-item-num\">1.1.3&nbsp;&nbsp;</span>Cython with Type Declarations</a></span></li><li><span><a href=\"#Cython-with-Numpy-and-Type-Declarations\" data-toc-modified-id=\"Cython-with-Numpy-and-Type-Declarations-1.1.4\"><span class=\"toc-item-num\">1.1.4&nbsp;&nbsp;</span>Cython with Numpy and Type Declarations</a></span></li></ul></li><li><span><a href=\"#Conclusion:\" data-toc-modified-id=\"Conclusion:-1.2\"><span class=\"toc-item-num\">1.2&nbsp;&nbsp;</span>Conclusion:</a></span></li></ul></li></ul></div>"
   ]
  },
  {
   "cell_type": "markdown",
   "metadata": {},
   "source": [
    "# Cython"
   ]
  },
  {
   "cell_type": "markdown",
   "metadata": {},
   "source": [
    "## Dot Product\n",
    "\n",
    "The dot product of a vector is defined as:\n",
    "\n",
    "$$u \\cdot v =  \\sum_{i=1}^{N} u_i * v_i $$"
   ]
  },
  {
   "cell_type": "code",
   "execution_count": null,
   "metadata": {},
   "outputs": [],
   "source": []
  },
  {
   "cell_type": "code",
   "execution_count": 8,
   "metadata": {
    "ExecuteTime": {
     "end_time": "2019-05-15T01:00:48.799569Z",
     "start_time": "2019-05-15T01:00:48.772608Z"
    }
   },
   "outputs": [
    {
     "name": "stdout",
     "output_type": "stream",
     "text": [
      " "
     ]
    }
   ],
   "source": [
    "%prun dot_product(u, v)"
   ]
  },
  {
   "cell_type": "code",
   "execution_count": 1,
   "metadata": {
    "ExecuteTime": {
     "end_time": "2019-05-07T18:33:36.230545Z",
     "start_time": "2019-05-07T18:33:35.598415Z"
    }
   },
   "outputs": [],
   "source": [
    "%load_ext Cython"
   ]
  },
  {
   "cell_type": "code",
   "execution_count": 5,
   "metadata": {
    "ExecuteTime": {
     "end_time": "2019-05-15T01:00:38.560740Z",
     "start_time": "2019-05-15T01:00:38.556750Z"
    }
   },
   "outputs": [],
   "source": [
    "# define the size of the vector\n",
    "N = int(1e5)"
   ]
  },
  {
   "cell_type": "code",
   "execution_count": 6,
   "metadata": {
    "ExecuteTime": {
     "end_time": "2019-05-15T01:00:39.025204Z",
     "start_time": "2019-05-15T01:00:39.021218Z"
    }
   },
   "outputs": [],
   "source": [
    "# python random library to generate random vectors\n",
    "import random"
   ]
  },
  {
   "cell_type": "code",
   "execution_count": 7,
   "metadata": {
    "ExecuteTime": {
     "end_time": "2019-05-15T01:00:39.318987Z",
     "start_time": "2019-05-15T01:00:39.291064Z"
    }
   },
   "outputs": [],
   "source": [
    "u = [random.random() for x in range(N)]\n",
    "v = [random.random() for x in range(N)]"
   ]
  },
  {
   "cell_type": "markdown",
   "metadata": {},
   "source": [
    "### Pure Python"
   ]
  },
  {
   "cell_type": "code",
   "execution_count": 1,
   "metadata": {
    "ExecuteTime": {
     "end_time": "2019-05-15T01:00:26.592813Z",
     "start_time": "2019-05-15T01:00:26.585869Z"
    }
   },
   "outputs": [],
   "source": [
    "# define the dot product in pure Python\n",
    "dot_product = lambda a, b: sum([i * j for i, j in zip(a, b)])"
   ]
  },
  {
   "cell_type": "code",
   "execution_count": 25,
   "metadata": {
    "ExecuteTime": {
     "end_time": "2019-05-07T18:36:40.846358Z",
     "start_time": "2019-05-07T18:36:31.054809Z"
    }
   },
   "outputs": [
    {
     "name": "stdout",
     "output_type": "stream",
     "text": [
      "14 ms ± 835 µs per loop (mean ± std. dev. of 7 runs, 100 loops each)\n"
     ]
    }
   ],
   "source": [
    "%timeit -r 7 -n 100 dot_product(u,v)"
   ]
  },
  {
   "cell_type": "markdown",
   "metadata": {},
   "source": [
    "### Simple Cython"
   ]
  },
  {
   "cell_type": "code",
   "execution_count": 17,
   "metadata": {
    "ExecuteTime": {
     "end_time": "2019-05-07T18:35:51.495751Z",
     "start_time": "2019-05-07T18:35:51.487309Z"
    },
    "scrolled": false
   },
   "outputs": [],
   "source": [
    "%%cython\n",
    "dot_product_cy = lambda a, b: sum([i * j for i, j in zip(a, b)])"
   ]
  },
  {
   "cell_type": "code",
   "execution_count": 26,
   "metadata": {
    "ExecuteTime": {
     "end_time": "2019-05-07T18:36:47.780021Z",
     "start_time": "2019-05-07T18:36:41.801273Z"
    }
   },
   "outputs": [
    {
     "name": "stdout",
     "output_type": "stream",
     "text": [
      "8.53 ms ± 398 µs per loop (mean ± std. dev. of 7 runs, 100 loops each)\n"
     ]
    }
   ],
   "source": [
    "%timeit -r 7 -n 100 dot_product_cy(u, v)"
   ]
  },
  {
   "cell_type": "markdown",
   "metadata": {},
   "source": [
    "### Cython with Type Declarations"
   ]
  },
  {
   "cell_type": "code",
   "execution_count": 33,
   "metadata": {
    "ExecuteTime": {
     "end_time": "2019-05-07T18:49:04.358848Z",
     "start_time": "2019-05-07T18:48:58.827455Z"
    }
   },
   "outputs": [],
   "source": [
    "%%cython \n",
    "cimport cython\n",
    "\n",
    "\n",
    "# import malloc (allocates requested memory) and free (releases the memory)\n",
    "from libc.stdlib cimport malloc, free\n",
    "\n",
    "# Sidenote:\n",
    "# in C, standard arrays are defined using pointers\n",
    "# in C++ 11, the standard library provides containers,\n",
    "    # such as vector<>, which do the memory management\n",
    "\n",
    "cdef double dot_product_cy_typed_eval(double *a, double *b, int size):\n",
    "    cdef double sum = 0.0\n",
    "    # python loops are slow because it tries to dynamically determine the \n",
    "    # type of each iterator on each iteration, fix by declaraing iterator type \n",
    "    cdef int i\n",
    "    \n",
    "    for i in range(size):\n",
    "        sum+= a[i]*b[i]\n",
    "\n",
    "    return sum\n",
    "\n",
    "\n",
    "# helper function, copies Python lists to C then runs calculation\n",
    "def dot_product_cy_typed(list a, list b):\n",
    "    # get the size of list a, assume b is the same size\n",
    "    cdef size_t size = len(a)\n",
    "    \n",
    "    # allocate memory of a_ and b_ C arrays that will contain a copy of a and b lists, respectively\n",
    "    cdef double *a_ = <double *> malloc(size*sizeof(double *))\n",
    "    cdef double *b_ = <double *> malloc(size*sizeof(double *))\n",
    "    cdef double result\n",
    "    \n",
    "\n",
    "    cdef int i\n",
    "    # copy python list to C array\n",
    "    for i in range(size):\n",
    "        a_[i] = a[i]\n",
    "        b_[i] = b[i]\n",
    "        i+=1\n",
    "    \n",
    "    # calculate the dot product\n",
    "    result = dot_product_cy_typed_eval(a_, b_, size)\n",
    "    \n",
    "    # Release the memory (IMPORTANT!!)\n",
    "    free(a_)\n",
    "    free(b_)\n",
    "    \n",
    "    return result"
   ]
  },
  {
   "cell_type": "code",
   "execution_count": 34,
   "metadata": {
    "ExecuteTime": {
     "end_time": "2019-05-07T18:49:10.728116Z",
     "start_time": "2019-05-07T18:49:08.758891Z"
    }
   },
   "outputs": [
    {
     "name": "stdout",
     "output_type": "stream",
     "text": [
      "2.8 ms ± 239 µs per loop (mean ± std. dev. of 7 runs, 100 loops each)\n"
     ]
    }
   ],
   "source": [
    "%timeit -r 7 -n 100 dot_product_cy_typed(u, v)"
   ]
  },
  {
   "cell_type": "code",
   "execution_count": 35,
   "metadata": {
    "ExecuteTime": {
     "end_time": "2019-05-07T18:49:16.719198Z",
     "start_time": "2019-05-07T18:49:16.715209Z"
    }
   },
   "outputs": [],
   "source": [
    "import numpy as np"
   ]
  },
  {
   "cell_type": "code",
   "execution_count": 36,
   "metadata": {
    "ExecuteTime": {
     "end_time": "2019-05-07T18:49:25.112830Z",
     "start_time": "2019-05-07T18:49:16.925930Z"
    }
   },
   "outputs": [
    {
     "name": "stdout",
     "output_type": "stream",
     "text": [
      "11.7 ms ± 2.02 ms per loop (mean ± std. dev. of 7 runs, 100 loops each)\n"
     ]
    }
   ],
   "source": [
    "%timeit -r 7 -n 100 np.dot(u, v)"
   ]
  },
  {
   "cell_type": "markdown",
   "metadata": {},
   "source": [
    "MUCH faster than Numpy!"
   ]
  },
  {
   "cell_type": "code",
   "execution_count": 37,
   "metadata": {
    "ExecuteTime": {
     "end_time": "2019-05-07T18:49:25.157106Z",
     "start_time": "2019-05-07T18:49:25.115831Z"
    }
   },
   "outputs": [
    {
     "data": {
      "text/plain": [
       "True"
      ]
     },
     "execution_count": 37,
     "metadata": {},
     "output_type": "execute_result"
    }
   ],
   "source": [
    "# ensure that our implementation is correct\n",
    "np.isclose(dot_product_cy_typed(u, v), np.dot(u, v))"
   ]
  },
  {
   "cell_type": "markdown",
   "metadata": {},
   "source": [
    "### Cython with Numpy and Type Declarations\n",
    "If we use NumPy rather than lists and arrays, we don;t have to copy the lists to C. This gives even more of a speed boost.\n",
    "\n",
    "If, however, we time the execution with the instantiation of the numpy arrays we run almost at the same speed as np.dot(u,v)."
   ]
  },
  {
   "cell_type": "code",
   "execution_count": 42,
   "metadata": {
    "ExecuteTime": {
     "end_time": "2019-05-07T18:52:22.395586Z",
     "start_time": "2019-05-07T18:52:16.196513Z"
    }
   },
   "outputs": [],
   "source": [
    "%%cython \n",
    "\n",
    "cimport cython\n",
    "cimport numpy as np\n",
    "\n",
    "# this function uses dynamic binding and can therefore accept Python objects, i.e. numpy arrays\n",
    "cpdef double dot_product_cy_np(np.ndarray[double] a, np.ndarray[double] b):\n",
    "    \n",
    "    cdef int i\n",
    "    cdef double result = 0.0\n",
    "    for i in range(a.size):\n",
    "        result+= a[i]*b[i]\n",
    "        \n",
    "    return result"
   ]
  },
  {
   "cell_type": "code",
   "execution_count": 39,
   "metadata": {
    "ExecuteTime": {
     "end_time": "2019-05-07T18:51:54.623050Z",
     "start_time": "2019-05-07T18:51:54.590225Z"
    }
   },
   "outputs": [],
   "source": [
    "u_np = np.array(u)\n",
    "v_np = np.array(v)"
   ]
  },
  {
   "cell_type": "code",
   "execution_count": 50,
   "metadata": {
    "ExecuteTime": {
     "end_time": "2019-05-07T18:54:15.212257Z",
     "start_time": "2019-05-07T18:54:15.180290Z"
    }
   },
   "outputs": [
    {
     "name": "stdout",
     "output_type": "stream",
     "text": [
      "32.8 µs ± 6.54 µs per loop (mean ± std. dev. of 7 runs, 100 loops each)\n"
     ]
    }
   ],
   "source": [
    "%%timeit -r 7 -n 100\n",
    "# run np.dot with numpy arrays, without accounting for array instantiation time\n",
    "np.dot(u_np, v_np)"
   ]
  },
  {
   "cell_type": "code",
   "execution_count": 45,
   "metadata": {
    "ExecuteTime": {
     "end_time": "2019-05-07T18:52:48.185863Z",
     "start_time": "2019-05-07T18:52:48.038373Z"
    }
   },
   "outputs": [
    {
     "name": "stdout",
     "output_type": "stream",
     "text": [
      "200 µs ± 28.7 µs per loop (mean ± std. dev. of 7 runs, 100 loops each)\n"
     ]
    }
   ],
   "source": [
    "%%timeit -r 7 -n 100\n",
    "# run cython function with numpy arrays\n",
    "dot_product_cy_np(u_np, v_np)"
   ]
  },
  {
   "cell_type": "code",
   "execution_count": 47,
   "metadata": {
    "ExecuteTime": {
     "end_time": "2019-05-07T18:53:38.210999Z",
     "start_time": "2019-05-07T18:53:27.959716Z"
    }
   },
   "outputs": [
    {
     "name": "stdout",
     "output_type": "stream",
     "text": [
      "14.6 ms ± 195 µs per loop (mean ± std. dev. of 7 runs, 100 loops each)\n"
     ]
    }
   ],
   "source": [
    "%%timeit -r 7 -n 100\n",
    "# time with numpy array instantiation\n",
    "u_np = np.array(u)\n",
    "v_np = np.array(v)\n",
    "dot_product_cy_np(u_np, v_np)"
   ]
  },
  {
   "cell_type": "code",
   "execution_count": 48,
   "metadata": {
    "ExecuteTime": {
     "end_time": "2019-05-07T18:53:49.255925Z",
     "start_time": "2019-05-07T18:53:49.246751Z"
    }
   },
   "outputs": [
    {
     "data": {
      "text/plain": [
       "True"
      ]
     },
     "execution_count": 48,
     "metadata": {},
     "output_type": "execute_result"
    }
   ],
   "source": [
    "# sanity check\n",
    "np.isclose(dot_product_cython_2(u_np, v_np), np.dot(u_np, v_np))"
   ]
  },
  {
   "cell_type": "markdown",
   "metadata": {},
   "source": [
    "## Conclusion:\n",
    "\n",
    "We've successfully showcased the potential speed gains of Cython, and we've also shown NumPy to ultimately be faster and more convenient, which reinforces the first rule of optimization:\n",
    "\n",
    "**Don't reinvent the wheel. If there exists a sufficient implementation of what you are trying to do, use it.**"
   ]
  },
  {
   "cell_type": "code",
   "execution_count": null,
   "metadata": {},
   "outputs": [],
   "source": []
  }
 ],
 "metadata": {
  "kernelspec": {
   "display_name": "Python 3",
   "language": "python",
   "name": "python3"
  },
  "language_info": {
   "codemirror_mode": {
    "name": "ipython",
    "version": 3
   },
   "file_extension": ".py",
   "mimetype": "text/x-python",
   "name": "python",
   "nbconvert_exporter": "python",
   "pygments_lexer": "ipython3",
   "version": "3.6.7"
  },
  "toc": {
   "base_numbering": 1,
   "nav_menu": {},
   "number_sections": true,
   "sideBar": true,
   "skip_h1_title": false,
   "title_cell": "Table of Contents",
   "title_sidebar": "Contents",
   "toc_cell": true,
   "toc_position": {},
   "toc_section_display": true,
   "toc_window_display": false
  }
 },
 "nbformat": 4,
 "nbformat_minor": 2
}
