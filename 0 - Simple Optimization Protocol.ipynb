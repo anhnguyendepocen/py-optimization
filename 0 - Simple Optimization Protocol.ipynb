{
 "cells": [
  {
   "cell_type": "markdown",
   "metadata": {
    "toc": true
   },
   "source": [
    "<h1>Table of Contents<span class=\"tocSkip\"></span></h1>\n",
    "<div class=\"toc\"><ul class=\"toc-item\"><li><span><a href=\"#Optimization-Protocol\" data-toc-modified-id=\"Optimization-Protocol-1\"><span class=\"toc-item-num\">1&nbsp;&nbsp;</span>Optimization Protocol</a></span><ul class=\"toc-item\"><li><span><a href=\"#If-scientific-computing-is-the-task...\" data-toc-modified-id=\"If-scientific-computing-is-the-task...-1.1\"><span class=\"toc-item-num\">1.1&nbsp;&nbsp;</span>If scientific computing is the task...</a></span></li></ul></li><li><span><a href=\"#When-to-use...\" data-toc-modified-id=\"When-to-use...-2\"><span class=\"toc-item-num\">2&nbsp;&nbsp;</span>When to use...</a></span><ul class=\"toc-item\"><li><span><a href=\"#Cython\" data-toc-modified-id=\"Cython-2.1\"><span class=\"toc-item-num\">2.1&nbsp;&nbsp;</span>Cython</a></span></li><li><span><a href=\"#Numba\" data-toc-modified-id=\"Numba-2.2\"><span class=\"toc-item-num\">2.2&nbsp;&nbsp;</span>Numba</a></span></li></ul></li></ul></div>"
   ]
  },
  {
   "cell_type": "markdown",
   "metadata": {},
   "source": [
    "# Optimization Protocol\n",
    "\n",
    "0. Always seek existing implementations of what you need\n",
    "1. Start with a vanilla (slow but clearly written) reference implementation\n",
    "2. Profile and test the reference code, look for bottlenecks\n",
    "3. Stop when performance is acceptable for the task\n",
    "4. Optimize low-hanging fruits first\n",
    "5. Profile and test each new iteration\n",
    "6. Step back and consider that a different algorithm/approach might be all-together better\n",
    "7. Do not sacrifice clarity for performance unless it is a necessary last resort\n",
    "\n",
    "## If scientific computing is the task...\n",
    "\n",
    "8. Begin with NumPy vectorization\n",
    "9. Implemet NumExpr for very large arrays and matrices\n",
    "10. Use Just-In-Time compiling\n",
    "11. Consider using Cython\n",
    "12. Parallelize and multithread"
   ]
  },
  {
   "cell_type": "markdown",
   "metadata": {},
   "source": [
    "# When to use...\n",
    "\n",
    "## Cython\n",
    "You can declare types without sacrificing the readability of the code\n",
    "You are willing to write a pure python duplicate of your code if necessary\n",
    "You need to make small pre-compiled packages with no run-time dependencies\n",
    "\n",
    "## Numba\n",
    "You need an extremely simple way to quickly optimize code\n",
    "It's okay if the optimization is black-box, and accept that sometimes it won't work\n",
    "You can accept that there is a simple run-time dependency (LLVM)"
   ]
  },
  {
   "cell_type": "code",
   "execution_count": null,
   "metadata": {},
   "outputs": [],
   "source": []
  }
 ],
 "metadata": {
  "kernelspec": {
   "display_name": "Python 3",
   "language": "python",
   "name": "python3"
  },
  "language_info": {
   "codemirror_mode": {
    "name": "ipython",
    "version": 3
   },
   "file_extension": ".py",
   "mimetype": "text/x-python",
   "name": "python",
   "nbconvert_exporter": "python",
   "pygments_lexer": "ipython3",
   "version": "3.6.7"
  },
  "toc": {
   "base_numbering": 1,
   "nav_menu": {},
   "number_sections": true,
   "sideBar": true,
   "skip_h1_title": false,
   "title_cell": "Table of Contents",
   "title_sidebar": "Contents",
   "toc_cell": true,
   "toc_position": {},
   "toc_section_display": true,
   "toc_window_display": false
  }
 },
 "nbformat": 4,
 "nbformat_minor": 2
}
