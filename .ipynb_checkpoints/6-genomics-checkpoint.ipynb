{
 "cells": [
  {
   "cell_type": "markdown",
   "metadata": {
    "toc": true
   },
   "source": [
    "<h1>Table of Contents<span class=\"tocSkip\"></span></h1>\n",
    "<div class=\"toc\"><ul class=\"toc-item\"><li><span><a href=\"#Explorations-into-Genomics\" data-toc-modified-id=\"Explorations-into-Genomics-1\"><span class=\"toc-item-num\">1&nbsp;&nbsp;</span>Explorations into Genomics</a></span><ul class=\"toc-item\"><li><ul class=\"toc-item\"><li><span><a href=\"#Snoot---an-infinite-and-uniformly-random-organism\" data-toc-modified-id=\"Snoot---an-infinite-and-uniformly-random-organism-1.0.1\"><span class=\"toc-item-num\">1.0.1&nbsp;&nbsp;</span>Snoot - an infinite and uniformly random organism</a></span></li></ul></li></ul></li><li><span><a href=\"#Counting-long-strings\" data-toc-modified-id=\"Counting-long-strings-2\"><span class=\"toc-item-num\">2&nbsp;&nbsp;</span>Counting long strings</a></span><ul class=\"toc-item\"><li><ul class=\"toc-item\"><li><span><a href=\"#Counting-recurrences-on-the-random-genome\" data-toc-modified-id=\"Counting-recurrences-on-the-random-genome-2.0.1\"><span class=\"toc-item-num\">2.0.1&nbsp;&nbsp;</span>Counting recurrences on the random genome</a></span></li><li><span><a href=\"#Counting-recurrences-on-the-Yeast-genome\" data-toc-modified-id=\"Counting-recurrences-on-the-Yeast-genome-2.0.2\"><span class=\"toc-item-num\">2.0.2&nbsp;&nbsp;</span>Counting recurrences on the Yeast genome</a></span></li></ul></li><li><span><a href=\"#Markov-Chains\" data-toc-modified-id=\"Markov-Chains-2.1\"><span class=\"toc-item-num\">2.1&nbsp;&nbsp;</span>Markov Chains</a></span></li></ul></li></ul></div>"
   ]
  },
  {
   "cell_type": "markdown",
   "metadata": {},
   "source": [
    "# Explorations into Genomics\n",
    "\n",
    "*Inspired/stolen from work by John Jacobsen: http://eigenhombre.com/2013/11/03/nucleotide-repetition-lengths/*\n",
    "\n",
    "An exercise in laziness and counting.  \n",
    "\n",
    "We represent genomes as strings on an alphabet of four letters, A, C, G, and T.  Thus part of a genome might look like the following:\n",
    "\n",
    "    \"...AACCGTGTGCGTTTATTAATTATTGCTTTA...\"\n",
    "\n",
    "Each letter corresponds to a particular nucleic acid (TODO verify this) in a very long strand of DNA.  A single genome can be quite large and scientists generate them at an alarming rate.\n",
    "\n",
    "In this section we'll process genomes and perform simple counting analytics on them.  We'll start by counting frequencies of the individual nucleic acids (how often does `A` appear?), move on to counting lengths of repeated nucleic acids (how often do we see long repeated strings like ('AAAAAA'), and finish with a quick markov chain.\n",
    "\n",
    "Throughout we'll see exercise laziness and become familiar with the following functions from PyToolz."
   ]
  },
  {
   "cell_type": "code",
   "execution_count": 1,
   "metadata": {},
   "outputs": [],
   "source": [
    "from toolz.curried import (map, frequencies, pipe, take, concat, drop, count,\n",
    "                           partitionby, identity, compose, sliding_window, \n",
    "                           merge_with, merge)"
   ]
  },
  {
   "cell_type": "markdown",
   "metadata": {},
   "source": [
    "We've stored some actual genomes in the data folder"
   ]
  },
  {
   "cell_type": "code",
   "execution_count": 2,
   "metadata": {},
   "outputs": [],
   "source": [
    "from glob import glob\n",
    "\n",
    "file_pattern = 'data/yeast-genome/chr*.fa'"
   ]
  },
  {
   "cell_type": "markdown",
   "metadata": {},
   "source": [
    "### Snoot - an infinite and uniformly random organism\n",
    "\n",
    "We'll compare our results against the genome of a snoot.  A snoot is a magical creature with an infinitely long gene sequence where each letter is uniformly chosen.  We can implement a snoot genome with a Python generator.\n",
    "\n",
    "By comparing our physical genomes against that of the snoot we'll highlight ways in which we deviate from randomness."
   ]
  },
  {
   "cell_type": "code",
   "execution_count": 3,
   "metadata": {},
   "outputs": [
    {
     "data": {
      "text/plain": [
       "['A', 'C', 'A', 'T', 'C', 'T', 'G', 'C', 'C', 'T']"
      ]
     },
     "execution_count": 3,
     "metadata": {},
     "output_type": "execute_result"
    }
   ],
   "source": [
    "import random\n",
    "\n",
    "def random_genome():\n",
    "    while True:\n",
    "        yield random.choice('ACTG')\n",
    "        \n",
    "snoot = random_genome()        \n",
    "\n",
    "list(take(10, snoot))"
   ]
  },
  {
   "cell_type": "code",
   "execution_count": 4,
   "metadata": {},
   "outputs": [
    {
     "data": {
      "image/png": "[encoded data removed]",
      "text/plain": [
       "<matplotlib.figure.Figure at 0x19f6f90>"
      ]
     },
     "metadata": {},
     "output_type": "display_data"
    }
   ],
   "source": [
    "# Set up matplotlib and build a small function to plot histograms of count dictionaries\n",
    "\n",
    "from pylab import hist, show, xticks, title\n",
    "%matplotlib inline\n",
    "\n",
    "def histdict(d, *args, **kwargs):\n",
    "    \"\"\" Plot a histogram given a dictionary of counts \n",
    "    \n",
    "    See Also:\n",
    "        matplotlib.hist\n",
    "    \"\"\"\n",
    "    if all(isinstance(k, (int, float)) for k in d.keys()):\n",
    "        hist(d.keys(), *args, weights=d.values(), **kwargs)\n",
    "    else:\n",
    "        keydict = dict(enumerate(d.keys()))\n",
    "        revdict = {v: k for k, v in keydict.items()}\n",
    "        hist(list(map(revdict.get, d.keys())), *args, weights=d.values(), **kwargs)\n",
    "        xticks(keydict.keys(), keydict.values())\n",
    "        \n",
    "histdict({'dog': 3, 'cat': 5})\n",
    "show()"
   ]
  },
  {
   "cell_type": "code",
   "execution_count": 5,
   "metadata": {},
   "outputs": [
    {
     "data": {
      "image/png": "[encoded data removed]",
      "text/plain": [
       "<matplotlib.figure.Figure at 0x19f2f50>"
      ]
     },
     "metadata": {},
     "output_type": "display_data"
    }
   ],
   "source": [
    "counts = frequencies(take(10000, snoot))\n",
    "histdict(counts)"
   ]
  },
  {
   "cell_type": "code",
   "execution_count": 6,
   "metadata": {},
   "outputs": [
    {
     "data": {
      "image/png": "[encoded data removed]",
      "text/plain": [
       "<matplotlib.figure.Figure at 0x2dab250>"
      ]
     },
     "metadata": {},
     "output_type": "display_data"
    }
   ],
   "source": [
    "counts = pipe(file_pattern, glob, map(open), map(drop(1)), \n",
    "                            concat, map(str.upper), map(str.strip), \n",
    "                            concat, frequencies)\n",
    "histdict(counts)"
   ]
  },
  {
   "cell_type": "markdown",
   "metadata": {},
   "source": [
    "# Counting long strings\n",
    "\n",
    "How often do very long repetitions of base pair occur?  E.g. are sequences like \"TTTTTTTTT\" very rare or are they commonplace?"
   ]
  },
  {
   "cell_type": "code",
   "execution_count": 7,
   "metadata": {},
   "outputs": [
    {
     "data": {
      "text/plain": [
       "[['cat', 'dog', 'hen'], ['goose', 'moose'], ['rat'], ['giraffe']]"
      ]
     },
     "execution_count": 7,
     "metadata": {},
     "output_type": "execute_result"
    }
   ],
   "source": [
    "# Using partitionby - also known as itertools.groupby\n",
    "from toolz.curried import partitionby, identity\n",
    "\n",
    "animals = ['cat', 'dog', 'hen', 'goose', 'moose', 'rat', 'giraffe']\n",
    "list(partitionby(len, animals))  # Parition animals by their name length"
   ]
  },
  {
   "cell_type": "code",
   "execution_count": 8,
   "metadata": {},
   "outputs": [
    {
     "data": {
      "text/plain": [
       "'A'"
      ]
     },
     "execution_count": 8,
     "metadata": {},
     "output_type": "execute_result"
    }
   ],
   "source": [
    "# We want to partition our gene sequences 'AACCTTTTTGCT' by the letters themselves\n",
    "# Instead of `len`, our key function is just the trivial identity function\n",
    "identity('A')"
   ]
  },
  {
   "cell_type": "code",
   "execution_count": 9,
   "metadata": {},
   "outputs": [
    {
     "data": {
      "text/plain": [
       "[['A', 'A'], ['C', 'C'], ['T', 'T', 'T', 'T', 'T'], ['G'], ['C'], ['T']]"
      ]
     },
     "execution_count": 9,
     "metadata": {},
     "output_type": "execute_result"
    }
   ],
   "source": [
    "# Lets compose partitionby with identity to collect our sequence \n",
    "# into groups of repeated elements\n",
    "\n",
    "partitions = list(partitionby(identity, 'AACCTTTTTGCT'))\n",
    "partitions"
   ]
  },
  {
   "cell_type": "code",
   "execution_count": 10,
   "metadata": {},
   "outputs": [
    {
     "data": {
      "text/plain": [
       "[2, 2, 5, 1, 1, 1]"
      ]
     },
     "execution_count": 10,
     "metadata": {},
     "output_type": "execute_result"
    }
   ],
   "source": [
    "# From here we just want to compute the length of each group\n",
    "\n",
    "list(map(len, partitions))"
   ]
  },
  {
   "cell_type": "markdown",
   "metadata": {},
   "source": [
    "### Counting recurrences on the random genome\n",
    "\n",
    "Lets pull this together and count recurring base pairs on our random genome."
   ]
  },
  {
   "cell_type": "code",
   "execution_count": 11,
   "metadata": {},
   "outputs": [
    {
     "data": {
      "text/plain": [
       "[1, 2, 2, 2, 1, 1, 2, 1, 2, 1, 1, 1, 1, 1, 1]"
      ]
     },
     "execution_count": 11,
     "metadata": {},
     "output_type": "execute_result"
    }
   ],
   "source": [
    "pipe(snoot, take(20), partitionby(identity), map(len), list)"
   ]
  },
  {
   "cell_type": "code",
   "execution_count": 12,
   "metadata": {},
   "outputs": [
    {
     "data": {
      "text/plain": [
       "{1: 562222,\n",
       " 2: 140330,\n",
       " 3: 35289,\n",
       " 4: 8843,\n",
       " 5: 2219,\n",
       " 6: 577,\n",
       " 7: 138,\n",
       " 8: 33,\n",
       " 9: 8,\n",
       " 10: 2}"
      ]
     },
     "execution_count": 12,
     "metadata": {},
     "output_type": "execute_result"
    },
    {
     "data": {
      "image/png": "[encoded data removed]",
      "text/plain": [
       "<matplotlib.figure.Figure at 0x2f2ce90>"
      ]
     },
     "metadata": {},
     "output_type": "display_data"
    }
   ],
   "source": [
    "result = pipe(snoot, take(1000000), partitionby(identity), map(len), frequencies)\n",
    "\n",
    "histdict(result, log=True)\n",
    "title('Counts of Repeated Base Pairs - Random')\n",
    "result\n"
   ]
  },
  {
   "cell_type": "markdown",
   "metadata": {},
   "source": [
    "### Counting recurrences on the Yeast genome"
   ]
  },
  {
   "cell_type": "code",
   "execution_count": 13,
   "metadata": {},
   "outputs": [
    {
     "data": {
      "text/plain": [
       "{1: 6118373,\n",
       " 2: 1729275,\n",
       " 3: 488751,\n",
       " 4: 158660,\n",
       " 5: 52793,\n",
       " 6: 17076,\n",
       " 7: 7079,\n",
       " 8: 2700,\n",
       " 9: 1305,\n",
       " 10: 778,\n",
       " 11: 496,\n",
       " 12: 344,\n",
       " 13: 247,\n",
       " 14: 135,\n",
       " 15: 91,\n",
       " 16: 64,\n",
       " 17: 52,\n",
       " 18: 26,\n",
       " 19: 34,\n",
       " 20: 23,\n",
       " 21: 14,\n",
       " 22: 17,\n",
       " 23: 13,\n",
       " 24: 19,\n",
       " 25: 8,\n",
       " 26: 10,\n",
       " 27: 4,\n",
       " 28: 4,\n",
       " 29: 3,\n",
       " 30: 2,\n",
       " 31: 4,\n",
       " 32: 1,\n",
       " 33: 1,\n",
       " 34: 1,\n",
       " 35: 2,\n",
       " 36: 1,\n",
       " 37: 1,\n",
       " 42: 1}"
      ]
     },
     "execution_count": 13,
     "metadata": {},
     "output_type": "execute_result"
    },
    {
     "data": {
      "image/png": "[encoded data removed]",
      "text/plain": [
       "<matplotlib.figure.Figure at 0x2f014d0>"
      ]
     },
     "metadata": {},
     "output_type": "display_data"
    }
   ],
   "source": [
    "result = pipe(file_pattern, glob, map(open), map(drop(1)), \n",
    "                            concat, map(str.upper), map(str.strip), concat,\n",
    "                            partitionby(identity), map(len), frequencies)\n",
    "\n",
    "histdict(result, log=True)\n",
    "title('Counts of Repeated Base Pairs - Yeast')\n",
    "result"
   ]
  },
  {
   "cell_type": "markdown",
   "metadata": {},
   "source": [
    "## Markov Chains\n",
    "\n",
    "Do certain base pairs commonly occur after others?  Given that we've just seen \"AG\" is it more or less likely that we'll see 'G' again?  What about 'T'?  These questions can be answered with Markov chains. \n",
    "\n",
    "\n",
    "To do this exercise we'll need to use `toolz.sliding_window`.  Sliding window is a generalization on functions like sliding average or sliding max.  Here are some examples demonstrating its use"
   ]
  },
  {
   "cell_type": "code",
   "execution_count": 14,
   "metadata": {},
   "outputs": [
    {
     "data": {
      "text/plain": [
       "[(0, 1, 2),\n",
       " (1, 2, 3),\n",
       " (2, 3, 4),\n",
       " (3, 4, 5),\n",
       " (4, 5, 6),\n",
       " (5, 6, 7),\n",
       " (6, 7, 8),\n",
       " (7, 8, 9)]"
      ]
     },
     "execution_count": 14,
     "metadata": {},
     "output_type": "execute_result"
    }
   ],
   "source": [
    "list(sliding_window(3, range(10)))"
   ]
  },
  {
   "cell_type": "code",
   "execution_count": 15,
   "metadata": {},
   "outputs": [
    {
     "data": {
      "text/plain": [
       "[(0, 1, 2, 3, 4),\n",
       " (1, 2, 3, 4, 5),\n",
       " (2, 3, 4, 5, 6),\n",
       " (3, 4, 5, 6, 7),\n",
       " (4, 5, 6, 7, 8),\n",
       " (5, 6, 7, 8, 9)]"
      ]
     },
     "execution_count": 15,
     "metadata": {},
     "output_type": "execute_result"
    }
   ],
   "source": [
    "list(sliding_window(5, range(10)))"
   ]
  },
  {
   "cell_type": "code",
   "execution_count": 16,
   "metadata": {},
   "outputs": [
    {
     "data": {
      "text/plain": [
       "[10, 15, 20, 25, 30, 35]"
      ]
     },
     "execution_count": 16,
     "metadata": {},
     "output_type": "execute_result"
    }
   ],
   "source": [
    "list(map(sum, sliding_window(5, range(10))))"
   ]
  },
  {
   "cell_type": "code",
   "execution_count": 17,
   "metadata": {},
   "outputs": [
    {
     "data": {
      "text/plain": [
       "[4.666666666666667,\n",
       " 4.333333333333333,\n",
       " 4.333333333333333,\n",
       " 4.333333333333333,\n",
       " 5.666666666666667,\n",
       " 5.333333333333333,\n",
       " 6.0,\n",
       " 6.666666666666667,\n",
       " 9.0,\n",
       " 9.6666666666666661,\n",
       " 10.0,\n",
       " 10.0,\n",
       " 9.3333333333333339,\n",
       " 8.3333333333333339]"
      ]
     },
     "execution_count": 17,
     "metadata": {},
     "output_type": "execute_result"
    }
   ],
   "source": [
    "from numpy import mean\n",
    "data = [4, 4, 6, 3, 4, 6, 7, 3, 8, 9, 10, 10, 10, 10, 8, 7]\n",
    "\n",
    "moving_average = compose(map(mean), sliding_window(3))\n",
    "\n",
    "list(moving_average(data))"
   ]
  },
  {
   "cell_type": "markdown",
   "metadata": {},
   "source": [
    "We'll use sliding window without a function like `sum` or `mean`.  We'll use it to chop up our sequence of base-pairs into a sequence of tuples of base-pairs, called k-mers."
   ]
  },
  {
   "cell_type": "code",
   "execution_count": 18,
   "metadata": {},
   "outputs": [
    {
     "name": "stdout",
     "output_type": "stream",
     "text": [
      "['C', 'T', 'A', 'C', 'C', 'A', 'G', 'A', 'G', 'G', 'T', 'G', 'C', 'C', 'T', 'C', 'C', 'T', 'A', 'A']\n"
     ]
    },
    {
     "data": {
      "text/plain": [
       "[('C', 'T', 'A'),\n",
       " ('T', 'A', 'C'),\n",
       " ('A', 'C', 'C'),\n",
       " ('C', 'C', 'A'),\n",
       " ('C', 'A', 'G'),\n",
       " ('A', 'G', 'A'),\n",
       " ('G', 'A', 'G'),\n",
       " ('A', 'G', 'G'),\n",
       " ('G', 'G', 'T'),\n",
       " ('G', 'T', 'G'),\n",
       " ('T', 'G', 'C'),\n",
       " ('G', 'C', 'C'),\n",
       " ('C', 'C', 'T'),\n",
       " ('C', 'T', 'C'),\n",
       " ('T', 'C', 'C'),\n",
       " ('C', 'C', 'T'),\n",
       " ('C', 'T', 'A'),\n",
       " ('T', 'A', 'A')]"
      ]
     },
     "execution_count": 18,
     "metadata": {},
     "output_type": "execute_result"
    }
   ],
   "source": [
    "seq = list(take(20, snoot))\n",
    "print seq\n",
    "pipe(seq, sliding_window(3), list)"
   ]
  },
  {
   "cell_type": "code",
   "execution_count": 19,
   "metadata": {},
   "outputs": [
    {
     "data": {
      "text/plain": [
       "{('A', 'A', 'A'): 15769,\n",
       " ('A', 'A', 'C'): 15635,\n",
       " ('A', 'A', 'G'): 15442,\n",
       " ('A', 'A', 'T'): 15915,\n",
       " ('A', 'C', 'A'): 15599,\n",
       " ('A', 'C', 'C'): 15733,\n",
       " ('A', 'C', 'G'): 15629,\n",
       " ('A', 'C', 'T'): 15649,\n",
       " ('A', 'G', 'A'): 15747,\n",
       " ('A', 'G', 'C'): 15731,\n",
       " ('A', 'G', 'G'): 15585,\n",
       " ('A', 'G', 'T'): 15609,\n",
       " ('A', 'T', 'A'): 15923,\n",
       " ('A', 'T', 'C'): 15486,\n",
       " ('A', 'T', 'G'): 15648,\n",
       " ('A', 'T', 'T'): 15609,\n",
       " ('C', 'A', 'A'): 15641,\n",
       " ('C', 'A', 'C'): 15628,\n",
       " ('C', 'A', 'G'): 15758,\n",
       " ('C', 'A', 'T'): 15424,\n",
       " ('C', 'C', 'A'): 15629,\n",
       " ('C', 'C', 'C'): 15548,\n",
       " ('C', 'C', 'G'): 15426,\n",
       " ('C', 'C', 'T'): 15793,\n",
       " ('C', 'G', 'A'): 15466,\n",
       " ('C', 'G', 'C'): 15468,\n",
       " ('C', 'G', 'G'): 15654,\n",
       " ('C', 'G', 'T'): 15599,\n",
       " ('C', 'T', 'A'): 15867,\n",
       " ('C', 'T', 'C'): 15621,\n",
       " ('C', 'T', 'G'): 15367,\n",
       " ('C', 'T', 'T'): 15654,\n",
       " ('G', 'A', 'A'): 15487,\n",
       " ('G', 'A', 'C'): 15518,\n",
       " ('G', 'A', 'G'): 15614,\n",
       " ('G', 'A', 'T'): 15710,\n",
       " ('G', 'C', 'A'): 15634,\n",
       " ('G', 'C', 'C'): 15702,\n",
       " ('G', 'C', 'G'): 15518,\n",
       " ('G', 'C', 'T'): 15571,\n",
       " ('G', 'G', 'A'): 15578,\n",
       " ('G', 'G', 'C'): 15626,\n",
       " ('G', 'G', 'G'): 15692,\n",
       " ('G', 'G', 'T'): 15613,\n",
       " ('G', 'T', 'A'): 15655,\n",
       " ('G', 'T', 'C'): 15478,\n",
       " ('G', 'T', 'G'): 15736,\n",
       " ('G', 'T', 'T'): 15581,\n",
       " ('T', 'A', 'A'): 15864,\n",
       " ('T', 'A', 'C'): 15829,\n",
       " ('T', 'A', 'G'): 15857,\n",
       " ('T', 'A', 'T'): 15617,\n",
       " ('T', 'C', 'A'): 15589,\n",
       " ('T', 'C', 'C'): 15413,\n",
       " ('T', 'C', 'G'): 15614,\n",
       " ('T', 'C', 'T'): 15496,\n",
       " ('T', 'G', 'A'): 15538,\n",
       " ('T', 'G', 'C'): 15600,\n",
       " ('T', 'G', 'G'): 15578,\n",
       " ('T', 'G', 'T'): 15629,\n",
       " ('T', 'T', 'A'): 15722,\n",
       " ('T', 'T', 'C'): 15527,\n",
       " ('T', 'T', 'G'): 15595,\n",
       " ('T', 'T', 'T'): 15565}"
      ]
     },
     "execution_count": 19,
     "metadata": {},
     "output_type": "execute_result"
    }
   ],
   "source": [
    "pipe(snoot, take(1000000), sliding_window(3), frequencies)"
   ]
  },
  {
   "cell_type": "code",
   "execution_count": 24,
   "metadata": {},
   "outputs": [
    {
     "ename": "TypeError",
     "evalue": "'dict' object is not callable",
     "output_type": "error",
     "traceback": [
      "\u001b[1;31m---------------------------------------------------------------------------\u001b[0m\n\u001b[1;31mTypeError\u001b[0m                                 Traceback (most recent call last)",
      "\u001b[1;32m<ipython-input-24-79160841a478>\u001b[0m in \u001b[0;36m<module>\u001b[1;34m()\u001b[0m\n\u001b[0;32m      3\u001b[0m     \u001b[1;32mreturn\u001b[0m \u001b[1;33m{\u001b[0m\u001b[1;33m(\u001b[0m\u001b[0ma\u001b[0m\u001b[1;33m,\u001b[0m \u001b[0mb\u001b[0m\u001b[1;33m)\u001b[0m\u001b[1;33m:\u001b[0m \u001b[1;33m{\u001b[0m\u001b[0mc\u001b[0m\u001b[1;33m:\u001b[0m \u001b[0mcount\u001b[0m\u001b[1;33m}\u001b[0m\u001b[1;33m}\u001b[0m\u001b[1;33m\u001b[0m\u001b[0m\n\u001b[0;32m      4\u001b[0m \u001b[1;33m\u001b[0m\u001b[0m\n\u001b[1;32m----> 5\u001b[1;33m \u001b[0mpipe\u001b[0m\u001b[1;33m(\u001b[0m\u001b[0msnoot\u001b[0m\u001b[1;33m,\u001b[0m \u001b[0mtake\u001b[0m\u001b[1;33m(\u001b[0m\u001b[1;36m1000000\u001b[0m\u001b[1;33m)\u001b[0m\u001b[1;33m,\u001b[0m \u001b[0msliding_window\u001b[0m\u001b[1;33m(\u001b[0m\u001b[1;36m3\u001b[0m\u001b[1;33m)\u001b[0m\u001b[1;33m,\u001b[0m \u001b[0mfrequencies\u001b[0m\u001b[1;33m,\u001b[0m \u001b[0mdict\u001b[0m\u001b[1;33m.\u001b[0m\u001b[0mitems\u001b[0m\u001b[1;33m,\u001b[0m \u001b[0mmap\u001b[0m\u001b[1;33m(\u001b[0m\u001b[0mreshape\u001b[0m\u001b[1;33m)\u001b[0m\u001b[1;33m,\u001b[0m \u001b[0mmerge_with\u001b[0m\u001b[1;33m(\u001b[0m\u001b[0mmerge\u001b[0m\u001b[1;33m)\u001b[0m\u001b[1;33m)\u001b[0m\u001b[1;33m\u001b[0m\u001b[0m\n\u001b[0m",
      "\u001b[1;32m/home/mrocklin/workspace/toolz/toolz/functoolz/core.pyc\u001b[0m in \u001b[0;36mpipe\u001b[1;34m(data, *functions)\u001b[0m\n\u001b[0;32m    278\u001b[0m     \"\"\"\n\u001b[0;32m    279\u001b[0m     \u001b[1;32mfor\u001b[0m \u001b[0mfunc\u001b[0m \u001b[1;32min\u001b[0m \u001b[0mfunctions\u001b[0m\u001b[1;33m:\u001b[0m\u001b[1;33m\u001b[0m\u001b[0m\n\u001b[1;32m--> 280\u001b[1;33m         \u001b[0mdata\u001b[0m \u001b[1;33m=\u001b[0m \u001b[0mfunc\u001b[0m\u001b[1;33m(\u001b[0m\u001b[0mdata\u001b[0m\u001b[1;33m)\u001b[0m\u001b[1;33m\u001b[0m\u001b[0m\n\u001b[0m\u001b[0;32m    281\u001b[0m     \u001b[1;32mreturn\u001b[0m \u001b[0mdata\u001b[0m\u001b[1;33m\u001b[0m\u001b[0m\n",
      "\u001b[1;31mTypeError\u001b[0m: 'dict' object is not callable"
     ]
    }
   ],
   "source": [
    "def reshape(item):\n",
    "    ((a, b, c), count) = item  # pattern matching\n",
    "    return {(a, b): {c: count}}\n",
    "\n",
    "pipe(snoot, take(1000000), sliding_window(3), frequencies, dict.items, map(reshape), merge_with(merge))"
   ]
  },
  {
   "cell_type": "code",
   "execution_count": null,
   "metadata": {},
   "outputs": [],
   "source": [
    "pipe(file_pattern, glob, map(open), map(drop(1)), concat, map(str.upper), map(str.strip), concat,\n",
    "                   sliding_window(3), frequencies, dict.items, map(reshape), merge_with(merge))"
   ]
  },
  {
   "cell_type": "code",
   "execution_count": null,
   "metadata": {},
   "outputs": [],
   "source": []
  }
 ],
 "metadata": {
  "kernelspec": {
   "display_name": "Python 3",
   "language": "python",
   "name": "python3"
  },
  "language_info": {
   "codemirror_mode": {
    "name": "ipython",
    "version": 3
   },
   "file_extension": ".py",
   "mimetype": "text/x-python",
   "name": "python",
   "nbconvert_exporter": "python",
   "pygments_lexer": "ipython3",
   "version": "3.6.7"
  },
  "toc": {
   "base_numbering": 1,
   "nav_menu": {},
   "number_sections": true,
   "sideBar": true,
   "skip_h1_title": false,
   "title_cell": "Table of Contents",
   "title_sidebar": "Contents",
   "toc_cell": true,
   "toc_position": {},
   "toc_section_display": true,
   "toc_window_display": false
  }
 },
 "nbformat": 4,
 "nbformat_minor": 1
}
