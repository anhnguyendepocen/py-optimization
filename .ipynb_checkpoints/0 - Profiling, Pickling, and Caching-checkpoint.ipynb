{
 "cells": [
  {
   "cell_type": "markdown",
   "metadata": {
    "toc": true
   },
   "source": [
    "<h1>Table of Contents<span class=\"tocSkip\"></span></h1>\n",
    "<div class=\"toc\"><ul class=\"toc-item\"><li><span><a href=\"#Timing,-Profiling,-and-Pickling\" data-toc-modified-id=\"Timing,-Profiling,-and-Pickling-1\"><span class=\"toc-item-num\">1&nbsp;&nbsp;</span>Timing, Profiling, and Pickling</a></span><ul class=\"toc-item\"><li><span><a href=\"#Time-Profiling\" data-toc-modified-id=\"Time-Profiling-1.1\"><span class=\"toc-item-num\">1.1&nbsp;&nbsp;</span>Time Profiling</a></span><ul class=\"toc-item\"><li><span><a href=\"#%time\" data-toc-modified-id=\"%time-1.1.1\"><span class=\"toc-item-num\">1.1.1&nbsp;&nbsp;</span>%time</a></span></li><li><span><a href=\"#%timeit\" data-toc-modified-id=\"%timeit-1.1.2\"><span class=\"toc-item-num\">1.1.2&nbsp;&nbsp;</span>%timeit</a></span></li><li><span><a href=\"#%prun\" data-toc-modified-id=\"%prun-1.1.3\"><span class=\"toc-item-num\">1.1.3&nbsp;&nbsp;</span>%prun</a></span></li></ul></li><li><span><a href=\"#Pickling\" data-toc-modified-id=\"Pickling-1.2\"><span class=\"toc-item-num\">1.2&nbsp;&nbsp;</span>Pickling</a></span></li><li><span><a href=\"#Function-Caching\" data-toc-modified-id=\"Function-Caching-1.3\"><span class=\"toc-item-num\">1.3&nbsp;&nbsp;</span>Function Caching</a></span><ul class=\"toc-item\"><li><span><a href=\"#Twenty-million-times-faster\" data-toc-modified-id=\"Twenty-million-times-faster-1.3.1\"><span class=\"toc-item-num\">1.3.1&nbsp;&nbsp;</span>Twenty-million times faster</a></span></li></ul></li></ul></li></ul></div>"
   ]
  },
  {
   "cell_type": "markdown",
   "metadata": {},
   "source": [
    "# Timing, Profiling, and Pickling\n",
    "\n",
    "Essential tools for profiling and optimizing code and creating repeatable environments. Plus, it's just downright fun!\n",
    "\n",
    "A more in-depth guide with additional profiling tools can be found <a href=\"https://pynash.org/2013/03/06/timing-and-profiling/\">here</a>."
   ]
  },
  {
   "cell_type": "markdown",
   "metadata": {},
   "source": [
    "## Time Profiling\n",
    "Using Jupyter Notebook (IPython) we have several very convenient notebook magics for time profiling including `%time`, `%timeit`, and `%prun`."
   ]
  },
  {
   "cell_type": "code",
   "execution_count": 4,
   "metadata": {
    "ExecuteTime": {
     "end_time": "2019-04-10T23:11:13.996384Z",
     "start_time": "2019-04-10T23:11:13.971639Z"
    }
   },
   "outputs": [],
   "source": [
    "# to see the docstring for each of these magics, run the following magic inquiries:\n",
    "%time?\n",
    "%timeit?\n",
    "%prun?"
   ]
  },
  {
   "cell_type": "markdown",
   "metadata": {},
   "source": [
    "### %time\n",
    "\n",
    "Tells how long it takes to run a script"
   ]
  },
  {
   "cell_type": "code",
   "execution_count": 10,
   "metadata": {
    "ExecuteTime": {
     "end_time": "2019-04-10T23:17:51.835817Z",
     "start_time": "2019-04-10T23:17:51.082405Z"
    }
   },
   "outputs": [
    {
     "name": "stdout",
     "output_type": "stream",
     "text": [
      "Wall time: 727 ms\n"
     ]
    },
    {
     "data": {
      "text/plain": [
       "{1}"
      ]
     },
     "execution_count": 10,
     "metadata": {},
     "output_type": "execute_result"
    }
   ],
   "source": [
    "%time {1 for num in range(10000000)}"
   ]
  },
  {
   "cell_type": "markdown",
   "metadata": {},
   "source": [
    "### %timeit\n",
    "\n",
    "Performs multiple runs of a script and returns the average time & std.dev."
   ]
  },
  {
   "cell_type": "code",
   "execution_count": 11,
   "metadata": {
    "ExecuteTime": {
     "end_time": "2019-04-10T23:19:11.452060Z",
     "start_time": "2019-04-10T23:19:06.423954Z"
    }
   },
   "outputs": [
    {
     "name": "stdout",
     "output_type": "stream",
     "text": [
      "627 ms ± 56.1 ms per loop (mean ± std. dev. of 7 runs, 1 loop each)\n"
     ]
    }
   ],
   "source": [
    "%timeit {1 for num in range(10000000)}"
   ]
  },
  {
   "cell_type": "code",
   "execution_count": 12,
   "metadata": {
    "ExecuteTime": {
     "end_time": "2019-04-10T23:27:20.850831Z",
     "start_time": "2019-04-10T23:19:36.972612Z"
    }
   },
   "outputs": [
    {
     "name": "stdout",
     "output_type": "stream",
     "text": [
      "663 ms ± 6.63 ms per loop (mean ± std. dev. of 7 runs, 100 loops each)\n"
     ]
    }
   ],
   "source": [
    "# the -n flag lets you choose how many times to run the script\n",
    "%timeit -n 100 {1 for num in range(10000000)}"
   ]
  },
  {
   "cell_type": "markdown",
   "metadata": {},
   "source": [
    "### %prun\n",
    "\n",
    "Tells how long it takes each function in a script to run.\n",
    "\n",
    "In the tests below, we can see very clearly that the most efficient scripts have the fewest function calls. This tells us that the majority of our overhead comes from function calls. We know how to begin optimizing."
   ]
  },
  {
   "cell_type": "code",
   "execution_count": 135,
   "metadata": {
    "ExecuteTime": {
     "end_time": "2019-04-11T14:19:05.971954Z",
     "start_time": "2019-04-11T14:19:05.961532Z"
    }
   },
   "outputs": [
    {
     "name": "stdout",
     "output_type": "stream",
     "text": [
      " "
     ]
    }
   ],
   "source": [
    "%prun\n",
    "\n",
    "def fac0(n): \n",
    "    if n > 0:\n",
    "        prod = 1\n",
    "        for i in range(1, n+1): prod*=i\n",
    "        return prod\n",
    "    elif n==0: return 1\n",
    "    else: raise ValueError(\"By definition operand of factorial must be an integer >= 0\")\n",
    "\n",
    "            \n",
    "def errr(): raise ValueError(\"By definition operand of factorial must be >= 0\")\n",
    "fac1 = lambda n: 1 if n==0 else n*fac1(n-1) if n>0 else errr()\n",
    "\n",
    "\n",
    "from itertools import *\n",
    "mult = lambda x, y: x*y\n",
    "fac2 = lambda x: [i for i in accumulate(range(1, x+1), mult)][-1]\n",
    "\n",
    "import numpy as np\n",
    "import numexpr as ne\n",
    "ne.set_vml_accuracy_mode('high')\n",
    "def fac3(n):\n",
    "    if n > 0:\n",
    "        n = np.asarray(range(1, n+1))\n",
    "        return ne.evaluate(\"prod(n, 0)\")\n",
    "    elif n==0:\n",
    "        return 1\n",
    "    else: raise ValueError(\"By definition operand of factorial must be an integer >= 0\")"
   ]
  },
  {
   "cell_type": "code",
   "execution_count": 173,
   "metadata": {
    "ExecuteTime": {
     "end_time": "2019-04-11T14:41:55.188451Z",
     "start_time": "2019-04-11T14:41:55.178221Z"
    }
   },
   "outputs": [
    {
     "name": "stdout",
     "output_type": "stream",
     "text": [
      " 2.02 µs ± 16.7 ns per loop (mean ± std. dev. of 7 runs, 100 loops each)\n"
     ]
    }
   ],
   "source": [
    "%prun fac0(16)\n",
    "%timeit -n 100 fac0(16)"
   ]
  },
  {
   "cell_type": "code",
   "execution_count": 145,
   "metadata": {
    "ExecuteTime": {
     "end_time": "2019-04-11T14:22:41.198422Z",
     "start_time": "2019-04-11T14:22:41.189073Z"
    }
   },
   "outputs": [
    {
     "name": "stdout",
     "output_type": "stream",
     "text": [
      " 2.04 µs ± 7.16 ns per loop (mean ± std. dev. of 7 runs, 100 loops each)\n"
     ]
    }
   ],
   "source": [
    "%prun fac1(16)\n",
    "%timeit -n 100 fac1(16)"
   ]
  },
  {
   "cell_type": "code",
   "execution_count": 146,
   "metadata": {
    "ExecuteTime": {
     "end_time": "2019-04-11T14:29:21.007330Z",
     "start_time": "2019-04-11T14:29:20.991350Z"
    }
   },
   "outputs": [
    {
     "name": "stdout",
     "output_type": "stream",
     "text": [
      " 5.15 µs ± 1.31 µs per loop (mean ± std. dev. of 7 runs, 100 loops each)\n"
     ]
    }
   ],
   "source": [
    "%prun fac2(16)\n",
    "%timeit -n 100 fac2(16)"
   ]
  },
  {
   "cell_type": "code",
   "execution_count": 141,
   "metadata": {
    "ExecuteTime": {
     "end_time": "2019-04-11T14:20:38.100008Z",
     "start_time": "2019-04-11T14:20:38.069285Z"
    }
   },
   "outputs": [
    {
     "name": "stdout",
     "output_type": "stream",
     "text": [
      " 31.7 µs ± 9.98 µs per loop (mean ± std. dev. of 7 runs, 100 loops each)\n"
     ]
    }
   ],
   "source": [
    "%prun fac3(16)\n",
    "%timeit -n 100 fac3(16)"
   ]
  },
  {
   "cell_type": "markdown",
   "metadata": {},
   "source": [
    "Now that we know the majority of our overhead comes from function calls, lets see if we can optimize any of these.\n",
    "\n",
    "`fac0()` is about as optimized as it is going to get.\n",
    "\n",
    "`fac1()` looks promising, but there is no way to avoid recursion, and therefor no way to eliminate the function calls that it uses without completely redesigning it.\n",
    "\n",
    "`fac2()` has genuine potential. It relies on the `itertools` package. It creates an array and returns the last element of the array. The `accumulate()` statement repeatedly calls our `mult` function. Lets try using `reduce()` from `functools` as well as `operator.mul`.\n",
    "\n",
    "`fac3()` has the most room for improvement, but it is so much slower than the others that we might as well not touch it for the time being. It relies on NumExpr which is meant for something entirely different (see <a href=\"https://github.com/pydata/numexpr/issues/301#issuecomment-388097698\">here</a>) and cannot provide sufficient accuracy for factorial greater than 16."
   ]
  },
  {
   "cell_type": "code",
   "execution_count": 174,
   "metadata": {
    "ExecuteTime": {
     "end_time": "2019-04-11T14:47:12.165380Z",
     "start_time": "2019-04-11T14:47:12.157336Z"
    }
   },
   "outputs": [],
   "source": [
    "# original function\n",
    "from itertools import *\n",
    "mult = lambda x, y: x*y\n",
    "fac2_old = lambda x: [i for i in accumulate(range(1, x+1), mult)][-1]\n",
    "\n",
    "# new function\n",
    "from functools import reduce\n",
    "from operator import mul\n",
    "fac2_new = lambda n: 1 if n == 0 else reduce(mul, range(1,n)) if n>0 else errr()"
   ]
  },
  {
   "cell_type": "code",
   "execution_count": 175,
   "metadata": {
    "ExecuteTime": {
     "end_time": "2019-04-11T14:47:12.975418Z",
     "start_time": "2019-04-11T14:47:12.963673Z"
    }
   },
   "outputs": [
    {
     "name": "stdout",
     "output_type": "stream",
     "text": [
      " 3.42 µs ± 13.7 ns per loop (mean ± std. dev. of 7 runs, 100 loops each)\n"
     ]
    }
   ],
   "source": [
    "%prun fac2_old(16)\n",
    "%timeit -n 100 fac2_old(16)"
   ]
  },
  {
   "cell_type": "code",
   "execution_count": 176,
   "metadata": {
    "ExecuteTime": {
     "end_time": "2019-04-11T14:47:13.987733Z",
     "start_time": "2019-04-11T14:47:13.979438Z"
    }
   },
   "outputs": [
    {
     "name": "stdout",
     "output_type": "stream",
     "text": [
      " 1.02 µs ± 8.37 ns per loop (mean ± std. dev. of 7 runs, 100 loops each)\n"
     ]
    }
   ],
   "source": [
    "%prun fac2_new(16)\n",
    "%timeit -n 100 fac2_new(16)"
   ]
  },
  {
   "cell_type": "markdown",
   "metadata": {},
   "source": [
    "Awesome! We reduced the number of function calls by 75% and reduced the run-time by approx 75%. This is now the fastest version of our function.\n",
    "\n",
    "Can we do even better by optimizing `fac0()` in the same way, since `fac0()` does not rely on the `errr()` function to return a ValueError?"
   ]
  },
  {
   "cell_type": "code",
   "execution_count": 180,
   "metadata": {
    "ExecuteTime": {
     "end_time": "2019-04-11T14:48:29.555175Z",
     "start_time": "2019-04-11T14:48:29.548510Z"
    }
   },
   "outputs": [],
   "source": [
    "# old function\n",
    "def fac0_old(n): \n",
    "    if n > 0:\n",
    "        prod = 1\n",
    "        for i in range(1, n+1): prod*=i\n",
    "        return prod\n",
    "    elif n==0: return 1\n",
    "    else: raise ValueError(\"By definition operand of factorial must be an integer >= 0\")\n",
    "        \n",
    "# new function\n",
    "from functools import reduce\n",
    "from operator import mul\n",
    "\n",
    "def fac0_new(n): \n",
    "    if n > 0: return reduce(mul, range(1,n))\n",
    "    elif n==0: return 1\n",
    "    else: raise ValueError(\"By definition operand of factorial must be an integer >= 0\")"
   ]
  },
  {
   "cell_type": "code",
   "execution_count": 182,
   "metadata": {
    "ExecuteTime": {
     "end_time": "2019-04-11T14:48:40.900605Z",
     "start_time": "2019-04-11T14:48:40.886261Z"
    }
   },
   "outputs": [
    {
     "name": "stdout",
     "output_type": "stream",
     "text": [
      " 2.94 µs ± 877 ns per loop (mean ± std. dev. of 7 runs, 100 loops each)\n"
     ]
    }
   ],
   "source": [
    "%prun fac0_old(16)\n",
    "%timeit -n 100 fac0_old(16)"
   ]
  },
  {
   "cell_type": "code",
   "execution_count": 183,
   "metadata": {
    "ExecuteTime": {
     "end_time": "2019-04-11T14:48:48.652817Z",
     "start_time": "2019-04-11T14:48:48.645573Z"
    }
   },
   "outputs": [
    {
     "name": "stdout",
     "output_type": "stream",
     "text": [
      " 1.04 µs ± 95.4 ns per loop (mean ± std. dev. of 7 runs, 100 loops each)\n"
     ]
    }
   ],
   "source": [
    "%prun fac0_new(16)\n",
    "%timeit -n 100 fac0_new(16)"
   ]
  },
  {
   "cell_type": "markdown",
   "metadata": {},
   "source": [
    "Up front, it looks like `fac0_new()` and `fac2_new()` perform exactly the same, but `fac0_new()` doesn't require us to define `errr()`, so it is going to be slightly more efficient if not less compact."
   ]
  },
  {
   "cell_type": "markdown",
   "metadata": {},
   "source": [
    "## Pickling\n",
    "\n",
    "*Pickling* is \"the process whereby a Python object hierarchy is convertd into a bytestream, and \"unpickling\" is the inverse operation. This process is alternatively known as \"serializion\", \"marshalling\", or \"flattening\".\n",
    "\n",
    "All pertinent information regarding `pickle` can be found <a href=\"https://docs.python.org/3/library/pickle.html\">here</a>.\n",
    "\n",
    "Pickling is a critical component in nearly all of the packages and tools that we'll be exploring."
   ]
  },
  {
   "cell_type": "markdown",
   "metadata": {},
   "source": [
    "## Function Caching\n",
    "\n",
    "Function caching allows us to cache the return values of a function that is repeatedly called. It saves time when a function is repeatedly called with the same arguments.\n",
    "\n",
    "In Python 3.2+ there is an `lru_cache` decorator which allows us to quickly perform the caching."
   ]
  },
  {
   "cell_type": "markdown",
   "metadata": {},
   "source": [
    "### Twenty-million times faster"
   ]
  },
  {
   "cell_type": "code",
   "execution_count": 5,
   "metadata": {
    "ExecuteTime": {
     "end_time": "2019-04-13T16:04:06.015996Z",
     "start_time": "2019-04-13T16:04:06.011000Z"
    }
   },
   "outputs": [],
   "source": [
    "# WITHOUT CACHING\n",
    "def fib0(n):\n",
    "    if n<2: return n\n",
    "    return fib0(n-1) + fib0(n-2)\n",
    "\n",
    "def fib1(n):\n",
    "    return fib1(n-1) + fib1(n-2) if n>=2 else n"
   ]
  },
  {
   "cell_type": "code",
   "execution_count": 18,
   "metadata": {
    "ExecuteTime": {
     "end_time": "2019-04-13T16:13:27.886325Z",
     "start_time": "2019-04-13T16:12:56.121206Z"
    }
   },
   "outputs": [
    {
     "name": "stdout",
     "output_type": "stream",
     "text": [
      "1.96 s ± 75.8 ms per loop (mean ± std. dev. of 7 runs, 1 loop each)\n",
      "2.02 s ± 84.3 ms per loop (mean ± std. dev. of 7 runs, 1 loop each)\n"
     ]
    }
   ],
   "source": [
    "%timeit fib0(34)\n",
    "%timeit fib1(34)"
   ]
  },
  {
   "cell_type": "code",
   "execution_count": 20,
   "metadata": {
    "ExecuteTime": {
     "end_time": "2019-04-13T16:13:36.624657Z",
     "start_time": "2019-04-13T16:13:36.618708Z"
    }
   },
   "outputs": [],
   "source": [
    "# with caching\n",
    "from functools import lru_cache\n",
    "\n",
    "@lru_cache(maxsize=32) # store the last 32 return values at most\n",
    "def fib0(n):\n",
    "    if n<2: return n\n",
    "    return fib0(n-1) + fib0(n-2)\n",
    "\n",
    "@lru_cache(maxsize=32) # store the last 32 return values at most\n",
    "def fib1(n):\n",
    "    return fib1(n-1) + fib1(n-2) if n>=2 else n"
   ]
  },
  {
   "cell_type": "code",
   "execution_count": 21,
   "metadata": {
    "ExecuteTime": {
     "end_time": "2019-04-13T16:13:54.192120Z",
     "start_time": "2019-04-13T16:13:37.180601Z"
    }
   },
   "outputs": [
    {
     "name": "stdout",
     "output_type": "stream",
     "text": [
      "105 ns ± 9.89 ns per loop (mean ± std. dev. of 7 runs, 10000000 loops each)\n",
      "103 ns ± 8.44 ns per loop (mean ± std. dev. of 7 runs, 10000000 loops each)\n"
     ]
    }
   ],
   "source": [
    "%timeit fib0(34)\n",
    "%timeit fib1(34)"
   ]
  },
  {
   "cell_type": "markdown",
   "metadata": {
    "ExecuteTime": {
     "end_time": "2019-04-13T16:14:46.322560Z",
     "start_time": "2019-04-13T16:14:46.317575Z"
    }
   },
   "source": [
    "With caching, this simple Fibonacci script is liverally 20000000x faster (yes, that's **twenty-million** times faster)."
   ]
  },
  {
   "cell_type": "code",
   "execution_count": null,
   "metadata": {},
   "outputs": [],
   "source": []
  }
 ],
 "metadata": {
  "kernelspec": {
   "display_name": "Python 3",
   "language": "python",
   "name": "python3"
  },
  "language_info": {
   "codemirror_mode": {
    "name": "ipython",
    "version": 3
   },
   "file_extension": ".py",
   "mimetype": "text/x-python",
   "name": "python",
   "nbconvert_exporter": "python",
   "pygments_lexer": "ipython3",
   "version": "3.6.7"
  },
  "toc": {
   "base_numbering": 1,
   "nav_menu": {},
   "number_sections": true,
   "sideBar": true,
   "skip_h1_title": false,
   "title_cell": "Table of Contents",
   "title_sidebar": "Contents",
   "toc_cell": true,
   "toc_position": {},
   "toc_section_display": true,
   "toc_window_display": false
  }
 },
 "nbformat": 4,
 "nbformat_minor": 2
}
