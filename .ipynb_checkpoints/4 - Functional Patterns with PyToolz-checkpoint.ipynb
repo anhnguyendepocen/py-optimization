{
 "cells": [
  {
   "cell_type": "markdown",
   "metadata": {
    "toc": true
   },
   "source": [
    "<h1>Table of Contents<span class=\"tocSkip\"></span></h1>\n",
    "<div class=\"toc\"><ul class=\"toc-item\"><li><span><a href=\"#Introduction:-Functional-Python-(with-PyToolz)\" data-toc-modified-id=\"Introduction:-Functional-Python-(with-PyToolz)-1\"><span class=\"toc-item-num\">1&nbsp;&nbsp;</span>Introduction: Functional Python (with PyToolz)</a></span><ul class=\"toc-item\"><li><span><a href=\"#Virtues-of-Functional-Python\" data-toc-modified-id=\"Virtues-of-Functional-Python-1.1\"><span class=\"toc-item-num\">1.1&nbsp;&nbsp;</span>Virtues of Functional Python</a></span><ul class=\"toc-item\"><li><span><a href=\"#Function-Composition\" data-toc-modified-id=\"Function-Composition-1.1.1\"><span class=\"toc-item-num\">1.1.1&nbsp;&nbsp;</span>Function Composition</a></span></li><li><span><a href=\"#Functional-Purity\" data-toc-modified-id=\"Functional-Purity-1.1.2\"><span class=\"toc-item-num\">1.1.2&nbsp;&nbsp;</span>Functional Purity</a></span></li><li><span><a href=\"#Laziness\" data-toc-modified-id=\"Laziness-1.1.3\"><span class=\"toc-item-num\">1.1.3&nbsp;&nbsp;</span>Laziness</a></span><ul class=\"toc-item\"><li><span><a href=\"#Lazy-Computation\" data-toc-modified-id=\"Lazy-Computation-1.1.3.1\"><span class=\"toc-item-num\">1.1.3.1&nbsp;&nbsp;</span>Lazy Computation</a></span></li><li><span><a href=\"#Lazy-Reduction\" data-toc-modified-id=\"Lazy-Reduction-1.1.3.2\"><span class=\"toc-item-num\">1.1.3.2&nbsp;&nbsp;</span>Lazy Reduction</a></span></li></ul></li><li><span><a href=\"#Currying-(and-Partial-Application)\" data-toc-modified-id=\"Currying-(and-Partial-Application)-1.1.4\"><span class=\"toc-item-num\">1.1.4&nbsp;&nbsp;</span>Currying (and Partial Application)</a></span><ul class=\"toc-item\"><li><span><a href=\"#Curry-Decorator\" data-toc-modified-id=\"Curry-Decorator-1.1.4.1\"><span class=\"toc-item-num\">1.1.4.1&nbsp;&nbsp;</span>Curry Decorator</a></span></li><li><span><a href=\"#Curry-as-a-function\" data-toc-modified-id=\"Curry-as-a-function-1.1.4.2\"><span class=\"toc-item-num\">1.1.4.2&nbsp;&nbsp;</span>Curry as a function</a></span></li><li><span><a href=\"#Curried-Namespace\" data-toc-modified-id=\"Curried-Namespace-1.1.4.3\"><span class=\"toc-item-num\">1.1.4.3&nbsp;&nbsp;</span>Curried Namespace</a></span></li></ul></li><li><span><a href=\"#Parallelism\" data-toc-modified-id=\"Parallelism-1.1.5\"><span class=\"toc-item-num\">1.1.5&nbsp;&nbsp;</span>Parallelism</a></span></li></ul></li></ul></li><li><span><a href=\"#Control-Flow-&amp;-Workflows:-Map,-Filter,-Reduce,-and-Groupby\" data-toc-modified-id=\"Control-Flow-&amp;-Workflows:-Map,-Filter,-Reduce,-and-Groupby-2\"><span class=\"toc-item-num\">2&nbsp;&nbsp;</span>Control Flow &amp; Workflows: Map, Filter, Reduce, and Groupby</a></span><ul class=\"toc-item\"><li><span><a href=\"#Map\" data-toc-modified-id=\"Map-2.1\"><span class=\"toc-item-num\">2.1&nbsp;&nbsp;</span>Map</a></span><ul class=\"toc-item\"><li><span><a href=\"#Definition-of-Map\" data-toc-modified-id=\"Definition-of-Map-2.1.1\"><span class=\"toc-item-num\">2.1.1&nbsp;&nbsp;</span>Definition of Map</a></span></li><li><span><a href=\"#Object-Methods\" data-toc-modified-id=\"Object-Methods-2.1.2\"><span class=\"toc-item-num\">2.1.2&nbsp;&nbsp;</span>Object Methods</a></span></li><li><span><a href=\"#List-Comprehension-=-Map\" data-toc-modified-id=\"List-Comprehension-=-Map-2.1.3\"><span class=\"toc-item-num\">2.1.3&nbsp;&nbsp;</span>List Comprehension = Map</a></span></li></ul></li><li><span><a href=\"#Filter\" data-toc-modified-id=\"Filter-2.2\"><span class=\"toc-item-num\">2.2&nbsp;&nbsp;</span>Filter</a></span><ul class=\"toc-item\"><li><span><a href=\"#Definition-of-Filter\" data-toc-modified-id=\"Definition-of-Filter-2.2.1\"><span class=\"toc-item-num\">2.2.1&nbsp;&nbsp;</span>Definition of Filter</a></span></li></ul></li><li><span><a href=\"#Reduce\" data-toc-modified-id=\"Reduce-2.3\"><span class=\"toc-item-num\">2.3&nbsp;&nbsp;</span>Reduce</a></span><ul class=\"toc-item\"><li><span><a href=\"#Example:-Sum\" data-toc-modified-id=\"Example:-Sum-2.3.1\"><span class=\"toc-item-num\">2.3.1&nbsp;&nbsp;</span>Example: Sum</a></span></li><li><span><a href=\"#Example:-Product\" data-toc-modified-id=\"Example:-Product-2.3.2\"><span class=\"toc-item-num\">2.3.2&nbsp;&nbsp;</span>Example: Product</a></span></li><li><span><a href=\"#Defining-Reduce\" data-toc-modified-id=\"Defining-Reduce-2.3.3\"><span class=\"toc-item-num\">2.3.3&nbsp;&nbsp;</span>Defining Reduce</a></span></li></ul></li><li><span><a href=\"#Groupby\" data-toc-modified-id=\"Groupby-2.4\"><span class=\"toc-item-num\">2.4&nbsp;&nbsp;</span>Groupby</a></span><ul class=\"toc-item\"><li><span><a href=\"#Practical-Example\" data-toc-modified-id=\"Practical-Example-2.4.1\"><span class=\"toc-item-num\">2.4.1&nbsp;&nbsp;</span>Practical Example</a></span></li></ul></li></ul></li><li><span><a href=\"#Composition\" data-toc-modified-id=\"Composition-3\"><span class=\"toc-item-num\">3&nbsp;&nbsp;</span>Composition</a></span><ul class=\"toc-item\"><li><span><a href=\"#Toolz-with-interchangable-pieces\" data-toc-modified-id=\"Toolz-with-interchangable-pieces-3.1\"><span class=\"toc-item-num\">3.1&nbsp;&nbsp;</span>Toolz with interchangable pieces</a></span><ul class=\"toc-item\"><li><span><a href=\"#Power-functions\" data-toc-modified-id=\"Power-functions-3.1.1\"><span class=\"toc-item-num\">3.1.1&nbsp;&nbsp;</span>Power functions</a></span></li></ul></li><li><span><a href=\"#Exercise\" data-toc-modified-id=\"Exercise-3.2\"><span class=\"toc-item-num\">3.2&nbsp;&nbsp;</span>Exercise</a></span></li></ul></li><li><span><a href=\"#Laziness\" data-toc-modified-id=\"Laziness-4\"><span class=\"toc-item-num\">4&nbsp;&nbsp;</span>Laziness</a></span><ul class=\"toc-item\"><li><span><a href=\"#Example:-Primality-Testing\" data-toc-modified-id=\"Example:-Primality-Testing-4.1\"><span class=\"toc-item-num\">4.1&nbsp;&nbsp;</span>Example: Primality Testing</a></span><ul class=\"toc-item\"><li><span><a href=\"#Generate-small-primes-with-Sieve-of-Eratosthenes\" data-toc-modified-id=\"Generate-small-primes-with-Sieve-of-Eratosthenes-4.1.1\"><span class=\"toc-item-num\">4.1.1&nbsp;&nbsp;</span>Generate small primes with Sieve of Eratosthenes</a></span></li></ul></li><li><span><a href=\"#Infinite-iterators\" data-toc-modified-id=\"Infinite-iterators-4.2\"><span class=\"toc-item-num\">4.2&nbsp;&nbsp;</span>Infinite iterators</a></span></li><li><span><a href=\"#Toolz-functions\" data-toc-modified-id=\"Toolz-functions-4.3\"><span class=\"toc-item-num\">4.3&nbsp;&nbsp;</span>Toolz functions</a></span></li><li><span><a href=\"#Example:-Applying-functions-to-text\" data-toc-modified-id=\"Example:-Applying-functions-to-text-4.4\"><span class=\"toc-item-num\">4.4&nbsp;&nbsp;</span>Example: Applying functions to text</a></span></li><li><span><a href=\"#Optimization-is-the-Motivation-for-Laziness\" data-toc-modified-id=\"Optimization-is-the-Motivation-for-Laziness-4.5\"><span class=\"toc-item-num\">4.5&nbsp;&nbsp;</span>Optimization is the Motivation for Laziness</a></span></li></ul></li><li><span><a href=\"#Partial-Evalutation-and-Currying\" data-toc-modified-id=\"Partial-Evalutation-and-Currying-5\"><span class=\"toc-item-num\">5&nbsp;&nbsp;</span>Partial Evalutation and Currying</a></span><ul class=\"toc-item\"><li><ul class=\"toc-item\"><li><span><a href=\"#Exercise\" data-toc-modified-id=\"Exercise-5.0.1\"><span class=\"toc-item-num\">5.0.1&nbsp;&nbsp;</span>Exercise</a></span></li></ul></li><li><span><a href=\"#Curry\" data-toc-modified-id=\"Curry-5.1\"><span class=\"toc-item-num\">5.1&nbsp;&nbsp;</span>Curry</a></span></li><li><span><a href=\"#Curried-namespace\" data-toc-modified-id=\"Curried-namespace-5.2\"><span class=\"toc-item-num\">5.2&nbsp;&nbsp;</span>Curried namespace</a></span></li></ul></li><li><span><a href=\"#Memoization-(=-caching)\" data-toc-modified-id=\"Memoization-(=-caching)-6\"><span class=\"toc-item-num\">6&nbsp;&nbsp;</span>Memoization (= caching)</a></span><ul class=\"toc-item\"><li><span><a href=\"#What-vs-How-coding\" data-toc-modified-id=\"What-vs-How-coding-6.1\"><span class=\"toc-item-num\">6.1&nbsp;&nbsp;</span>What vs How coding</a></span></li><li><span><a href=\"#Example:-Fibonacci-Numbers\" data-toc-modified-id=\"Example:-Fibonacci-Numbers-6.2\"><span class=\"toc-item-num\">6.2&nbsp;&nbsp;</span>Example: Fibonacci Numbers</a></span></li><li><span><a href=\"#Caching\" data-toc-modified-id=\"Caching-6.3\"><span class=\"toc-item-num\">6.3&nbsp;&nbsp;</span>Caching</a></span></li><li><span><a href=\"#Memoization\" data-toc-modified-id=\"Memoization-6.4\"><span class=\"toc-item-num\">6.4&nbsp;&nbsp;</span>Memoization</a></span></li><li><span><a href=\"#Avoid-Explicit-State-with-Memoization\" data-toc-modified-id=\"Avoid-Explicit-State-with-Memoization-6.5\"><span class=\"toc-item-num\">6.5&nbsp;&nbsp;</span>Avoid Explicit State with Memoization</a></span><ul class=\"toc-item\"><li><span><a href=\"#Exercise\" data-toc-modified-id=\"Exercise-6.5.1\"><span class=\"toc-item-num\">6.5.1&nbsp;&nbsp;</span>Exercise</a></span></li></ul></li><li><span><a href=\"#More-on-Memoization\" data-toc-modified-id=\"More-on-Memoization-6.6\"><span class=\"toc-item-num\">6.6&nbsp;&nbsp;</span>More on Memoization</a></span></li></ul></li><li><span><a href=\"#Pipe-Function\" data-toc-modified-id=\"Pipe-Function-7\"><span class=\"toc-item-num\">7&nbsp;&nbsp;</span>Pipe Function</a></span></li></ul></div>"
   ]
  },
  {
   "cell_type": "markdown",
   "metadata": {},
   "source": [
    "##### Preface:\n",
    "\n",
    "This notebook will first cover the virtues of functional programming in Python, as exemplified by the design of *PyToolz*.\n",
    "\n",
    "Then it will delve more deeply into brief, practical applications of each virtue. While most all of the data is synthetic / mockup data, it represents a streaming data analysis approach--one of the specialties of functional programming.\n",
    "\n",
    "Most importantly, there is a theme of *optimization* that runs through the entire approach. Composability, Laziness, and Currying make parallelization easy and efficient, and Memoization (caching) optimizes the cost of iterated function calls. Furthermore, the ideals of the Python language itself (in tandem with the canonical `pipe` function) make PyToolz as readable as possible--something that simply isnt the case with the likes of purely functional languages."
   ]
  },
  {
   "cell_type": "markdown",
   "metadata": {},
   "source": [
    "# Introduction: Functional Python (with PyToolz)\n",
    "\n",
    "see: <a href=\"https://toolz.readthedocs.io/en/latest/index.html\">PyToolz API Documentation</a>"
   ]
  },
  {
   "cell_type": "markdown",
   "metadata": {
    "ExecuteTime": {
     "end_time": "2019-05-03T18:34:44.860286Z",
     "start_time": "2019-05-03T18:34:44.850548Z"
    }
   },
   "source": [
    "While written to be an imperative language, Python has all the necessary features to write code in a functional style.\n",
    "\n",
    "In particular its core data structures, lazy iterators, and functions as first class objects have been combined to implement a common standard library of functions shared among many functional languages: *PyToolz*\n",
    "\n",
    "\n",
    "Toolz provides a suite of functions which have the following functional virtues:\n",
    "\n",
    " - **Composable**: They interoperate due to their use of core data structures.\n",
    " - **Pure**: They don’t change their inputs or rely on external state.\n",
    " - **Lazy**: They don’t run until absolutely necessary, allowing them to support large streaming data sets."
   ]
  },
  {
   "cell_type": "markdown",
   "metadata": {},
   "source": [
    "## Virtues of Functional Python"
   ]
  },
  {
   "cell_type": "markdown",
   "metadata": {},
   "source": [
    "### Function Composition\n",
    "\n",
    "Each `toolz` function consumes just iterables, dictionaries, and functions and each toolz function produces just iterables, dictionaries, and functions. This **standardized interface** enables us to compose several general purpose functions to solve custom problems."
   ]
  },
  {
   "cell_type": "code",
   "execution_count": 33,
   "metadata": {
    "ExecuteTime": {
     "end_time": "2019-05-03T18:36:20.263993Z",
     "start_time": "2019-05-03T18:36:20.250555Z"
    }
   },
   "outputs": [
    {
     "data": {
      "text/plain": [
       "{1: 5, 2: 3, 3: 2, 4: 2, 8: 3, 6: 2, 7: 2, 9: 3, 0: 2, 5: 1}"
      ]
     },
     "execution_count": 33,
     "metadata": {},
     "output_type": "execute_result"
    }
   ],
   "source": [
    "from toolz import concat, frequencies\n",
    "\n",
    "a = [[1,1,2,3,4,8,6,4,1,7,9],[3,2,6,0,8,9,0,1,5,7,8,9,1,2]]\n",
    "\n",
    "frequencies(concat(a))"
   ]
  },
  {
   "cell_type": "markdown",
   "metadata": {},
   "source": [
    "### Functional Purity\n",
    "\n",
    "We call a function *pure* if it meets the following criteria\n",
    "\n",
    " - It does not depend on hidden state, or equivalently it only depends on its inputs.\n",
    " - Evaluation of the function does not cause side effects\n",
    " \n",
    "In short the internal work of a pure function is isolated from the rest of the program."
   ]
  },
  {
   "cell_type": "code",
   "execution_count": 69,
   "metadata": {
    "ExecuteTime": {
     "end_time": "2019-05-03T21:00:01.021164Z",
     "start_time": "2019-05-03T21:00:01.015181Z"
    }
   },
   "outputs": [],
   "source": [
    "# A pure function\n",
    "def min(x, y):\n",
    "    if x < y:\n",
    "        return x\n",
    "    else:\n",
    "        return y\n",
    "\n",
    "\n",
    "# An impure function\n",
    "exponent = 2\n",
    "\n",
    "def powers(L):\n",
    "    for i in range(len(L)):\n",
    "        L[i] = L[i]**exponent\n",
    "    return L"
   ]
  },
  {
   "cell_type": "markdown",
   "metadata": {},
   "source": [
    "The function `min` is pure because it does not rely on or affect any external variables.\n",
    "\n",
    "The function `powers` is impure because it moth affects an external object, and relies on an external variable."
   ]
  },
  {
   "cell_type": "markdown",
   "metadata": {},
   "source": [
    "### Laziness\n",
    "Essentially, work is not performed until it must be.\n",
    "\n",
    "One of the primary reasons for using lazy evaluation is to avoid loading large datasets into memory.\n",
    "\n",
    "Let's take a look:"
   ]
  },
  {
   "cell_type": "markdown",
   "metadata": {},
   "source": [
    "#### Lazy Computation\n",
    "\n",
    "This is a fairly simple function application, so we expect it to finish quickly, but it finishes immediately!\n",
    "\n",
    "It finishes immediately because computation is not performed until we view `b`."
   ]
  },
  {
   "cell_type": "code",
   "execution_count": 35,
   "metadata": {
    "ExecuteTime": {
     "end_time": "2019-05-03T18:37:51.895874Z",
     "start_time": "2019-05-03T18:37:51.887896Z"
    }
   },
   "outputs": [],
   "source": [
    "from toolz import map\n",
    "\n",
    "a = [[1,1,2,3,4,8,6,4,1,7,9],[3,2,6,0,8,9,0,1,5,7,8,9,1,2]]\n",
    "\n",
    "b = map(lambda x: 2*x, a)"
   ]
  },
  {
   "cell_type": "markdown",
   "metadata": {},
   "source": [
    "#### Lazy Reduction\n",
    "\n",
    "Essentially, rather than loading a potentially massive dataset, we reduce it to a simpler representation. In this case, we merely count how many of each unique element occur in our iterable."
   ]
  },
  {
   "cell_type": "code",
   "execution_count": 36,
   "metadata": {
    "ExecuteTime": {
     "end_time": "2019-05-03T18:38:17.722670Z",
     "start_time": "2019-05-03T18:38:17.706626Z"
    }
   },
   "outputs": [
    {
     "data": {
      "text/plain": [
       "{1: 5, 2: 3, 3: 2, 4: 2, 8: 3, 6: 2, 7: 2, 9: 3, 0: 2, 5: 1}"
      ]
     },
     "execution_count": 36,
     "metadata": {},
     "output_type": "execute_result"
    }
   ],
   "source": [
    "from toolz import concat, frequencies\n",
    "\n",
    "a = [1,1,2,3,4,8,6,4,1,7,9,3,2,6,0,8,9,0,1,5,7,8,9,1,2]\n",
    "\n",
    "frequencies(a)"
   ]
  },
  {
   "cell_type": "markdown",
   "metadata": {},
   "source": [
    "### Currying (and Partial Application)\n",
    "\n",
    "Currying is fairly simple to implement with `toolz`:"
   ]
  },
  {
   "cell_type": "markdown",
   "metadata": {},
   "source": [
    "#### Curry Decorator"
   ]
  },
  {
   "cell_type": "code",
   "execution_count": 38,
   "metadata": {
    "ExecuteTime": {
     "end_time": "2019-05-03T18:40:19.159016Z",
     "start_time": "2019-05-03T18:40:19.149669Z"
    }
   },
   "outputs": [
    {
     "data": {
      "text/plain": [
       "2.5"
      ]
     },
     "execution_count": 38,
     "metadata": {},
     "output_type": "execute_result"
    }
   ],
   "source": [
    "from toolz import curry\n",
    "\n",
    "@curry              # We can use curry as a decorator\n",
    "def div(x, y):\n",
    "    return x / y\n",
    "\n",
    "halve = div(y=2)     # mul didn't receive enough arguments to evaluate\n",
    "                    # so it holds onto the 2 and waits, returning a\n",
    "                    # partially evaluated function, double\n",
    "\n",
    "halve(5)"
   ]
  },
  {
   "cell_type": "markdown",
   "metadata": {},
   "source": [
    "#### Curry as a function"
   ]
  },
  {
   "cell_type": "code",
   "execution_count": 37,
   "metadata": {
    "ExecuteTime": {
     "end_time": "2019-05-03T18:40:10.306394Z",
     "start_time": "2019-05-03T18:40:10.294598Z"
    }
   },
   "outputs": [
    {
     "data": {
      "text/plain": [
       "2.5"
      ]
     },
     "execution_count": 37,
     "metadata": {},
     "output_type": "execute_result"
    }
   ],
   "source": [
    "from toolz import curry\n",
    "\n",
    "def div(x, y):\n",
    "    return x / y\n",
    "\n",
    "div = curry(div) # We can use curry as a function\n",
    "\n",
    "halve = div(y=2)\n",
    "\n",
    "halve(5)"
   ]
  },
  {
   "cell_type": "markdown",
   "metadata": {},
   "source": [
    "#### Curried Namespace\n",
    "\n",
    "We can import the entire `toolz` namespace as curried functions very simply:"
   ]
  },
  {
   "cell_type": "code",
   "execution_count": null,
   "metadata": {},
   "outputs": [],
   "source": [
    "from toolz.curried import *"
   ]
  },
  {
   "cell_type": "markdown",
   "metadata": {},
   "source": [
    "### Parallelism\n",
    "\n",
    "Most tasks that can be executed in parallel can be significant accelerate by parallelizing a simple map function."
   ]
  },
  {
   "cell_type": "code",
   "execution_count": 39,
   "metadata": {
    "ExecuteTime": {
     "end_time": "2019-05-03T18:41:48.746696Z",
     "start_time": "2019-05-03T18:41:47.366520Z"
    }
   },
   "outputs": [
    {
     "data": {
      "text/plain": [
       "{'h': 2,\n",
       " 'e': 3,\n",
       " 'l': 2,\n",
       " 'o': 5,\n",
       " 'g': 2,\n",
       " 'd': 1,\n",
       " 'b': 1,\n",
       " 'y': 1,\n",
       " 'c': 3,\n",
       " 'u': 1,\n",
       " 'n': 4,\n",
       " 't': 1,\n",
       " 'i': 1,\n",
       " '-': 1,\n",
       " 's': 2,\n",
       " 'p': 1,\n",
       " 'a': 2,\n",
       " 'r': 1,\n",
       " '7': 1,\n",
       " '!': 1}"
      ]
     },
     "execution_count": 39,
     "metadata": {},
     "output_type": "execute_result"
    }
   ],
   "source": [
    "from toolz.curried import map\n",
    "from toolz import frequencies, compose, concat, merge_with\n",
    "\n",
    "charcount = compose(frequencies, concat, map(str.split))\n",
    "\n",
    "from multiprocessing import Pool\n",
    "p = Pool(8)\n",
    "pmap = p.map\n",
    "\n",
    "# pretend these are two very large dictionaries full of important things we need to count\n",
    "words = [\"hello\", \"goodbye\", \"counting non-space chars 7!\"]\n",
    "\n",
    "\n",
    "\n",
    "merge_with(sum, pmap(charcount, words))"
   ]
  },
  {
   "cell_type": "markdown",
   "metadata": {},
   "source": [
    "# Control Flow & Workflows: Map, Filter, Reduce, and Groupby"
   ]
  },
  {
   "cell_type": "code",
   "execution_count": 1,
   "metadata": {
    "ExecuteTime": {
     "end_time": "2019-05-02T23:19:40.418382Z",
     "start_time": "2019-05-02T23:19:40.411495Z"
    }
   },
   "outputs": [],
   "source": [
    "data = list(range(1, 11))"
   ]
  },
  {
   "cell_type": "code",
   "execution_count": 70,
   "metadata": {
    "ExecuteTime": {
     "end_time": "2019-05-03T21:00:05.631842Z",
     "start_time": "2019-05-03T21:00:05.625849Z"
    }
   },
   "outputs": [],
   "source": [
    "square = lambda x: x**2\n",
    "\n",
    "iseven = lambda n: n % 2 == 0\n",
    "\n",
    "add = lambda x, y: x + y\n",
    "\n",
    "mul = lambda x, y: x * y\n",
    "\n",
    "lesser = lambda x, y: x if x < y else y\n",
    "\n",
    "greater = lambda x, y:  x if x > y else y"
   ]
  },
  {
   "cell_type": "markdown",
   "metadata": {},
   "source": [
    "## Map"
   ]
  },
  {
   "cell_type": "code",
   "execution_count": 7,
   "metadata": {
    "ExecuteTime": {
     "end_time": "2019-05-02T21:53:44.755371Z",
     "start_time": "2019-05-02T21:53:44.749389Z"
    }
   },
   "outputs": [
    {
     "data": {
      "text/plain": [
       "[1, 4, 9, 16, 25, 36, 49, 64, 81, 100]"
      ]
     },
     "execution_count": 7,
     "metadata": {},
     "output_type": "execute_result"
    }
   ],
   "source": [
    "# map works like this\n",
    "list(map(square, data))"
   ]
  },
  {
   "cell_type": "code",
   "execution_count": 6,
   "metadata": {
    "ExecuteTime": {
     "end_time": "2019-05-02T21:53:36.747784Z",
     "start_time": "2019-05-02T21:53:36.003774Z"
    }
   },
   "outputs": [
    {
     "data": {
      "text/plain": [
       "array([  1,   4,   9,  16,  25,  36,  49,  64,  81, 100], dtype=int32)"
      ]
     },
     "execution_count": 6,
     "metadata": {},
     "output_type": "execute_result"
    }
   ],
   "source": [
    "# In this way it's like numpy's broadcasting operators\n",
    "import numpy as np\n",
    "X = np.arange(1, 11)\n",
    "X**2"
   ]
  },
  {
   "cell_type": "markdown",
   "metadata": {},
   "source": [
    "Unfrtunately `map` is pure *Python* and therefore\n",
    "\n",
    "*   is slower\n",
    "*   can handle general functions (i.e. fibonacci sequence etc.)"
   ]
  },
  {
   "cell_type": "code",
   "execution_count": 10,
   "metadata": {
    "ExecuteTime": {
     "end_time": "2019-05-02T21:55:39.523595Z",
     "start_time": "2019-05-02T21:55:39.518574Z"
    }
   },
   "outputs": [
    {
     "data": {
      "text/plain": [
       "[1, 1, 2, 3, 5, 8, 13, 21, 34, 55]"
      ]
     },
     "execution_count": 10,
     "metadata": {},
     "output_type": "execute_result"
    }
   ],
   "source": [
    "fib = lambda i: i if i in {0,1} else fib(i - 1) + fib(i - 2)\n",
    "    \n",
    "list(map(fib, data))"
   ]
  },
  {
   "cell_type": "markdown",
   "metadata": {},
   "source": [
    "### Definition of Map"
   ]
  },
  {
   "cell_type": "code",
   "execution_count": 11,
   "metadata": {
    "ExecuteTime": {
     "end_time": "2019-05-02T21:56:11.913319Z",
     "start_time": "2019-05-02T21:56:11.908336Z"
    }
   },
   "outputs": [
    {
     "data": {
      "text/plain": [
       "[1, 1, 2, 3, 5, 8, 13, 21, 34, 55]"
      ]
     },
     "execution_count": 11,
     "metadata": {},
     "output_type": "execute_result"
    }
   ],
   "source": [
    "# traditional approach:\n",
    "result = []\n",
    "for item in data:\n",
    "    result.append(fib(item))\n",
    "    \n",
    "result"
   ]
  },
  {
   "cell_type": "markdown",
   "metadata": {},
   "source": [
    "### Object Methods"
   ]
  },
  {
   "cell_type": "code",
   "execution_count": 8,
   "metadata": {},
   "outputs": [
    {
     "data": {
      "text/plain": [
       "['ALICE', 'BOB', 'CHARLIE']"
      ]
     },
     "execution_count": 8,
     "metadata": {},
     "output_type": "execute_result"
    }
   ],
   "source": [
    "map(str.upper, ['Alice', 'Bob', 'Charlie'])"
   ]
  },
  {
   "cell_type": "markdown",
   "metadata": {},
   "source": [
    "### List Comprehension = Map\n",
    "The `map` function is so important that it was given its own syntax, the **list comprehension**"
   ]
  },
  {
   "cell_type": "code",
   "execution_count": 9,
   "metadata": {},
   "outputs": [
    {
     "data": {
      "text/plain": [
       "[1, 1, 2, 3, 5, 8, 13, 21, 34, 55]"
      ]
     },
     "execution_count": 9,
     "metadata": {},
     "output_type": "execute_result"
    }
   ],
   "source": [
    "[fib(i) for i in data]"
   ]
  },
  {
   "cell_type": "code",
   "execution_count": 10,
   "metadata": {},
   "outputs": [
    {
     "data": {
      "text/plain": [
       "['ALICE', 'BOB', 'CHARLIE']"
      ]
     },
     "execution_count": 10,
     "metadata": {},
     "output_type": "execute_result"
    }
   ],
   "source": [
    "[name.upper() for name in ['Alice', 'Bob', 'Charlie']]"
   ]
  },
  {
   "cell_type": "markdown",
   "metadata": {},
   "source": [
    "## Filter\n",
    "\n",
    "The `filter` higher order function filters a dataset by a *predicate*.\n",
    "\n",
    "##### Predicates\n",
    "\n",
    "A predicate is a function that returns `True` or `False`.  \n",
    "\n",
    "The `filter` function returns a list of only those elements which satisfy the truth condition of a given predicate."
   ]
  },
  {
   "cell_type": "code",
   "execution_count": 11,
   "metadata": {},
   "outputs": [
    {
     "data": {
      "text/plain": [
       "[2, 4, 6, 8, 10]"
      ]
     },
     "execution_count": 11,
     "metadata": {},
     "output_type": "execute_result"
    }
   ],
   "source": [
    "filter(iseven, data)"
   ]
  },
  {
   "cell_type": "markdown",
   "metadata": {},
   "source": [
    "### Definition of Filter"
   ]
  },
  {
   "cell_type": "code",
   "execution_count": 13,
   "metadata": {},
   "outputs": [],
   "source": [
    "def filter(predicate, sequence):\n",
    "    result = []\n",
    "    for item in sequence:\n",
    "        if predicate(item):\n",
    "            result.append(item)\n",
    "    return result"
   ]
  },
  {
   "cell_type": "markdown",
   "metadata": {},
   "source": [
    "## Reduce\n",
    "\n",
    "Reductions are a common and important programming task / pattern. `reduce` is closely related to `map` and `filter`."
   ]
  },
  {
   "cell_type": "markdown",
   "metadata": {},
   "source": [
    "### Example: Sum"
   ]
  },
  {
   "cell_type": "code",
   "execution_count": 40,
   "metadata": {
    "ExecuteTime": {
     "end_time": "2019-05-02T22:11:05.892725Z",
     "start_time": "2019-05-02T22:11:05.888770Z"
    }
   },
   "outputs": [],
   "source": [
    "sum = lambda xs: sum(xs[1:]) + xs[0] if len(xs)>0 else 0"
   ]
  },
  {
   "cell_type": "code",
   "execution_count": 42,
   "metadata": {
    "ExecuteTime": {
     "end_time": "2019-05-02T22:11:14.188232Z",
     "start_time": "2019-05-02T22:11:14.183249Z"
    }
   },
   "outputs": [
    {
     "data": {
      "text/plain": [
       "6"
      ]
     },
     "execution_count": 42,
     "metadata": {},
     "output_type": "execute_result"
    }
   ],
   "source": [
    "sum([1,2,3])"
   ]
  },
  {
   "cell_type": "markdown",
   "metadata": {},
   "source": [
    "### Example: Product "
   ]
  },
  {
   "cell_type": "code",
   "execution_count": 50,
   "metadata": {
    "ExecuteTime": {
     "end_time": "2019-05-02T22:14:29.507761Z",
     "start_time": "2019-05-02T22:14:29.503770Z"
    }
   },
   "outputs": [],
   "source": [
    "prod = lambda xs: prod(xs[1:]) * xs[0] if len(xs)>0 else 1"
   ]
  },
  {
   "cell_type": "code",
   "execution_count": 52,
   "metadata": {
    "ExecuteTime": {
     "end_time": "2019-05-02T22:14:39.623332Z",
     "start_time": "2019-05-02T22:14:39.617350Z"
    }
   },
   "outputs": [
    {
     "data": {
      "text/plain": [
       "24"
      ]
     },
     "execution_count": 52,
     "metadata": {},
     "output_type": "execute_result"
    }
   ],
   "source": [
    "prod([1,2,3,4])"
   ]
  },
  {
   "cell_type": "markdown",
   "metadata": {},
   "source": [
    "### Defining Reduce\n",
    "\n",
    "From the patterns above we can infer how to write a general `reduce` function.\n",
    "\n",
    "\n",
    "**Note: Reduce is THE SAME as a `fold`, as it is traditionally called in functional programming.**"
   ]
  },
  {
   "cell_type": "code",
   "execution_count": 61,
   "metadata": {
    "ExecuteTime": {
     "end_time": "2019-05-02T22:22:15.680000Z",
     "start_time": "2019-05-02T22:22:15.672378Z"
    }
   },
   "outputs": [],
   "source": [
    "reduce = lambda fun, xs, x0: fun(reduce(fun, xs[1:], x0), xs[0]) if len(xs)>0 else x0"
   ]
  },
  {
   "cell_type": "code",
   "execution_count": 63,
   "metadata": {
    "ExecuteTime": {
     "end_time": "2019-05-02T22:22:49.484033Z",
     "start_time": "2019-05-02T22:22:49.472005Z"
    }
   },
   "outputs": [
    {
     "data": {
      "text/plain": [
       "True"
      ]
     },
     "execution_count": 63,
     "metadata": {},
     "output_type": "execute_result"
    }
   ],
   "source": [
    "reduce(add, data, 0) == sum(data)"
   ]
  },
  {
   "cell_type": "code",
   "execution_count": 65,
   "metadata": {
    "ExecuteTime": {
     "end_time": "2019-05-02T22:23:03.104814Z",
     "start_time": "2019-05-02T22:23:03.092888Z"
    }
   },
   "outputs": [
    {
     "data": {
      "text/plain": [
       "True"
      ]
     },
     "execution_count": 65,
     "metadata": {},
     "output_type": "execute_result"
    }
   ],
   "source": [
    "reduce(mul, data, 1) == prod(data)"
   ]
  },
  {
   "cell_type": "code",
   "execution_count": 66,
   "metadata": {
    "ExecuteTime": {
     "end_time": "2019-05-02T22:23:16.128702Z",
     "start_time": "2019-05-02T22:23:16.121287Z"
    }
   },
   "outputs": [
    {
     "data": {
      "text/plain": [
       "True"
      ]
     },
     "execution_count": 66,
     "metadata": {},
     "output_type": "execute_result"
    }
   ],
   "source": [
    "reduce(lesser, data, 10000000) == min(data)"
   ]
  },
  {
   "cell_type": "code",
   "execution_count": 67,
   "metadata": {
    "ExecuteTime": {
     "end_time": "2019-05-02T22:23:24.689497Z",
     "start_time": "2019-05-02T22:23:24.681921Z"
    }
   },
   "outputs": [
    {
     "data": {
      "text/plain": [
       "True"
      ]
     },
     "execution_count": 67,
     "metadata": {},
     "output_type": "execute_result"
    }
   ],
   "source": [
    "reduce(greater, data, -100000000) == max(data)"
   ]
  },
  {
   "cell_type": "markdown",
   "metadata": {},
   "source": [
    "## Groupby\n",
    "\n",
    "Note the similarity between `groupby` and `filter`\n",
    "\n",
    "GROUPBY IS AMAZING! My new favorite function!!!"
   ]
  },
  {
   "cell_type": "code",
   "execution_count": 69,
   "metadata": {
    "ExecuteTime": {
     "end_time": "2019-05-02T22:26:14.156182Z",
     "start_time": "2019-05-02T22:26:14.143767Z"
    }
   },
   "outputs": [
    {
     "data": {
      "text/plain": [
       "[2, 4, 6, 8, 10]"
      ]
     },
     "execution_count": 69,
     "metadata": {},
     "output_type": "execute_result"
    }
   ],
   "source": [
    "list(filter(iseven, data))"
   ]
  },
  {
   "cell_type": "code",
   "execution_count": 70,
   "metadata": {
    "ExecuteTime": {
     "end_time": "2019-05-02T22:26:20.155825Z",
     "start_time": "2019-05-02T22:26:20.034754Z"
    }
   },
   "outputs": [
    {
     "data": {
      "text/plain": [
       "{False: [1, 3, 5, 7, 9], True: [2, 4, 6, 8, 10]}"
      ]
     },
     "execution_count": 70,
     "metadata": {},
     "output_type": "execute_result"
    }
   ],
   "source": [
    "# GroupBy is like a more powerful filter\n",
    "\n",
    "from toolz import groupby\n",
    "groupby(iseven, data)"
   ]
  },
  {
   "cell_type": "markdown",
   "metadata": {},
   "source": [
    "`groupby` is **NOT** restricted to predicates!"
   ]
  },
  {
   "cell_type": "code",
   "execution_count": 31,
   "metadata": {},
   "outputs": [
    {
     "data": {
      "text/plain": [
       "{0: [3, 6, 9], 1: [1, 4, 7, 10], 2: [2, 5, 8]}"
      ]
     },
     "execution_count": 31,
     "metadata": {},
     "output_type": "execute_result"
    }
   ],
   "source": [
    "groupby(lambda n: n % 3, data)"
   ]
  },
  {
   "cell_type": "code",
   "execution_count": 32,
   "metadata": {},
   "outputs": [
    {
     "data": {
      "text/plain": [
       "{3: ['Bob', 'Dan'], 5: ['Alice', 'Edith', 'Frank'], 7: ['Charlie']}"
      ]
     },
     "execution_count": 32,
     "metadata": {},
     "output_type": "execute_result"
    }
   ],
   "source": [
    "groupby(len, ['Alice', 'Bob', 'Charlie', 'Dan', 'Edith', 'Frank'])"
   ]
  },
  {
   "cell_type": "markdown",
   "metadata": {},
   "source": [
    "Amazingly `groupby` is not significantly more costly than `filter` in the common case.  It computes these groups in a single pass through the data."
   ]
  },
  {
   "cell_type": "markdown",
   "metadata": {},
   "source": [
    "### Practical Example"
   ]
  },
  {
   "cell_type": "code",
   "execution_count": 75,
   "metadata": {
    "ExecuteTime": {
     "end_time": "2019-05-02T22:31:26.191882Z",
     "start_time": "2019-05-02T22:31:26.186465Z"
    }
   },
   "outputs": [],
   "source": [
    "userdata = \"\"\"Ryan has a beard\n",
    "Allen has a beard\n",
    "Allen has a wood pile\n",
    "Sabastian has fur\n",
    "Kevin has a hat\n",
    "Charlie has a hat\"\"\""
   ]
  },
  {
   "cell_type": "code",
   "execution_count": 76,
   "metadata": {
    "ExecuteTime": {
     "end_time": "2019-05-02T22:31:27.298626Z",
     "start_time": "2019-05-02T22:31:27.290442Z"
    }
   },
   "outputs": [
    {
     "data": {
      "text/plain": [
       "[['Ryan', 'beard'],\n",
       " ['Allen', 'beard'],\n",
       " ['Allen', 'wood pile'],\n",
       " ['Sabastian has fur'],\n",
       " ['Kevin', 'hat'],\n",
       " ['Charlie', 'hat']]"
      ]
     },
     "execution_count": 76,
     "metadata": {},
     "output_type": "execute_result"
    }
   ],
   "source": [
    "processed_data = list(map(lambda s: s.split(' has a '), userdata.split('\\n')))\n",
    "\n",
    "processed_data"
   ]
  },
  {
   "cell_type": "code",
   "execution_count": 79,
   "metadata": {
    "ExecuteTime": {
     "end_time": "2019-05-02T22:32:30.841337Z",
     "start_time": "2019-05-02T22:32:30.829048Z"
    }
   },
   "outputs": [
    {
     "data": {
      "text/plain": [
       "{'Ryan': [['Ryan', 'beard']],\n",
       " 'Allen': [['Allen', 'beard'], ['Allen', 'wood pile']],\n",
       " 'Sabastian has fur': [['Sabastian has fur']],\n",
       " 'Kevin': [['Kevin', 'hat']],\n",
       " 'Charlie': [['Charlie', 'hat']]}"
      ]
     },
     "execution_count": 79,
     "metadata": {},
     "output_type": "execute_result"
    }
   ],
   "source": [
    "groups = groupby(lambda x: x[0], processed_data)\n",
    "groups"
   ]
  },
  {
   "cell_type": "code",
   "execution_count": 98,
   "metadata": {
    "ExecuteTime": {
     "end_time": "2019-05-02T22:39:10.440914Z",
     "start_time": "2019-05-02T22:39:10.428771Z"
    }
   },
   "outputs": [
    {
     "data": {
      "text/plain": [
       "{'Ryan': <map at 0x198a6c230f0>,\n",
       " 'Allen': <map at 0x198a6c23208>,\n",
       " 'Sabastian has fur': <map at 0x198a6c232b0>,\n",
       " 'Kevin': <map at 0x198a6c23320>,\n",
       " 'Charlie': <map at 0x198a6c23390>}"
      ]
     },
     "execution_count": 98,
     "metadata": {},
     "output_type": "execute_result"
    }
   ],
   "source": [
    "# unfortunately we get iterators as our output... so we can't quite see all of the results.\n",
    "\n",
    "from toolz import valmap, first, second\n",
    "valmap(lambda L: map(second, L), groups)"
   ]
  },
  {
   "cell_type": "code",
   "execution_count": null,
   "metadata": {},
   "outputs": [],
   "source": []
  },
  {
   "cell_type": "markdown",
   "metadata": {},
   "source": [
    "# Composition\n",
    "\n",
    "In this section we compose binary operators with higher order functions.\n",
    "\n",
    "We introduce \n",
    " - `accumulate`, a function closely related to `reduce`\n",
    " - the multi-argument functionality of `map`"
   ]
  },
  {
   "cell_type": "code",
   "execution_count": 3,
   "metadata": {
    "ExecuteTime": {
     "end_time": "2019-05-03T18:08:42.843911Z",
     "start_time": "2019-05-03T18:08:42.837436Z"
    }
   },
   "outputs": [],
   "source": [
    "from toolz import accumulate, map, reduce"
   ]
  },
  {
   "cell_type": "markdown",
   "metadata": {},
   "source": [
    "Let's compare NumPy's Cumulative Sum function and PyToolz's `accumulate` function:"
   ]
  },
  {
   "cell_type": "code",
   "execution_count": 5,
   "metadata": {
    "ExecuteTime": {
     "end_time": "2019-05-03T18:09:49.352768Z",
     "start_time": "2019-05-03T18:09:49.341413Z"
    }
   },
   "outputs": [
    {
     "data": {
      "text/plain": [
       "array([ 5, 11, 18, 26, 35], dtype=int32)"
      ]
     },
     "execution_count": 5,
     "metadata": {},
     "output_type": "execute_result"
    }
   ],
   "source": [
    "import numpy as np\n",
    "X = np.arange(10)\n",
    "\n",
    "# cumulative sum function from NumPy\n",
    "X[X>=5].cumsum()"
   ]
  },
  {
   "cell_type": "code",
   "execution_count": 11,
   "metadata": {
    "ExecuteTime": {
     "end_time": "2019-05-03T18:12:30.316609Z",
     "start_time": "2019-05-03T18:12:30.304712Z"
    }
   },
   "outputs": [
    {
     "data": {
      "text/plain": [
       "[5, 11, 18, 26, 35]"
      ]
     },
     "execution_count": 11,
     "metadata": {},
     "output_type": "execute_result"
    }
   ],
   "source": [
    "# Accumulate is a general version of this\n",
    "\n",
    "data = range(0, 10)\n",
    "\n",
    "list(accumulate(add, data[5:]))"
   ]
  },
  {
   "cell_type": "code",
   "execution_count": 12,
   "metadata": {
    "ExecuteTime": {
     "end_time": "2019-05-03T18:12:55.374831Z",
     "start_time": "2019-05-03T18:12:55.365568Z"
    }
   },
   "outputs": [
    {
     "data": {
      "text/plain": [
       "array([    5,    30,   210,  1680, 15120], dtype=int32)"
      ]
     },
     "execution_count": 12,
     "metadata": {},
     "output_type": "execute_result"
    }
   ],
   "source": [
    "X[X>=5].cumprod()"
   ]
  },
  {
   "cell_type": "code",
   "execution_count": 13,
   "metadata": {
    "ExecuteTime": {
     "end_time": "2019-05-03T18:13:01.915501Z",
     "start_time": "2019-05-03T18:13:01.907755Z"
    }
   },
   "outputs": [
    {
     "data": {
      "text/plain": [
       "[5, 30, 210, 1680, 15120]"
      ]
     },
     "execution_count": 13,
     "metadata": {},
     "output_type": "execute_result"
    }
   ],
   "source": [
    "list(accumulate(mul, data[5:]))"
   ]
  },
  {
   "cell_type": "markdown",
   "metadata": {},
   "source": [
    "## Toolz with interchangable pieces\n",
    "\n",
    "Composition of tools enables a wide variet of solutions from a relatively compact set of toolz. \n",
    "\n",
    "Because all functions in toolz are composable, they can be used together like a drill can be used with many types of bits to achieve many different tasks."
   ]
  },
  {
   "cell_type": "markdown",
   "metadata": {},
   "source": [
    "### Power functions\n",
    "\n",
    "We've seen three similar functions like the power-drill, `map`, `reduce`, and `accumulate`.  Each of them can also work with binary operators!"
   ]
  },
  {
   "cell_type": "code",
   "execution_count": 17,
   "metadata": {
    "ExecuteTime": {
     "end_time": "2019-05-03T18:16:01.100465Z",
     "start_time": "2019-05-03T18:16:01.089159Z"
    }
   },
   "outputs": [
    {
     "data": {
      "text/plain": [
       "[11, 22, 33, 44, 55]"
      ]
     },
     "execution_count": 17,
     "metadata": {},
     "output_type": "execute_result"
    }
   ],
   "source": [
    "# element-wise addition of two lists, \n",
    "# note that the shortest list dictates the length of the resulting list\n",
    "data1 = [1, 2, 3, 4, 5, 6, 7]\n",
    "data2 = [10, 20, 30, 40, 50]\n",
    "list(map(add, data1, data2))"
   ]
  },
  {
   "cell_type": "code",
   "execution_count": 15,
   "metadata": {
    "ExecuteTime": {
     "end_time": "2019-05-03T18:15:34.026971Z",
     "start_time": "2019-05-03T18:15:34.019258Z"
    }
   },
   "outputs": [
    {
     "data": {
      "text/plain": [
       "2"
      ]
     },
     "execution_count": 15,
     "metadata": {},
     "output_type": "execute_result"
    }
   ],
   "source": [
    "# find the smallest element in a given list\n",
    "reduce(lesser, [5, 3, 2, 7, 3], 999999999)"
   ]
  },
  {
   "cell_type": "code",
   "execution_count": 18,
   "metadata": {
    "ExecuteTime": {
     "end_time": "2019-05-03T18:17:01.252201Z",
     "start_time": "2019-05-03T18:17:01.240532Z"
    }
   },
   "outputs": [
    {
     "data": {
      "text/plain": [
       "[5, 3, 2, 2, 2]"
      ]
     },
     "execution_count": 18,
     "metadata": {},
     "output_type": "execute_result"
    }
   ],
   "source": [
    "# compare side-by-side elements, keeping only the smallest\n",
    "# return the results of all comparisons as a list\n",
    "list(accumulate(lesser, [5, 3, 2, 7, 3]))"
   ]
  },
  {
   "cell_type": "code",
   "execution_count": 20,
   "metadata": {
    "ExecuteTime": {
     "end_time": "2019-05-03T18:18:40.040986Z",
     "start_time": "2019-05-03T18:18:40.032567Z"
    }
   },
   "outputs": [
    {
     "data": {
      "text/plain": [
       "[1, 3, 2, 6, 3]"
      ]
     },
     "execution_count": 20,
     "metadata": {},
     "output_type": "execute_result"
    }
   ],
   "source": [
    "# Pairwise comparison across two lists\n",
    "list(map(lesser, [5, 3, 2, 7, 3], [1, 9, 2, 6, 6]))"
   ]
  },
  {
   "cell_type": "markdown",
   "metadata": {},
   "source": [
    "Now we have four binary operators\n",
    "\n",
    "    add, mul, lesser, greater\n",
    "    \n",
    "And three higher order functions that can leverage binary operators\n",
    "\n",
    "    map, reduce, accumulate\n",
    "    \n",
    "And we can meaningfully combine any pair of them...\n",
    "\n",
    "...\n",
    "<br /><br />\n",
    "**Like powertools with interchangeable bits!**"
   ]
  },
  {
   "cell_type": "markdown",
   "metadata": {},
   "source": [
    "## Exercise\n",
    "\n",
    "Create a new binary operator, `longer`, which returns the longer of two list-like elements"
   ]
  },
  {
   "cell_type": "code",
   "execution_count": 24,
   "metadata": {
    "ExecuteTime": {
     "end_time": "2019-05-03T18:23:47.164667Z",
     "start_time": "2019-05-03T18:23:47.156318Z"
    }
   },
   "outputs": [],
   "source": [
    "longer = lambda a, b: a if len(a)>len(b) else b\n",
    "\n",
    "assert longer('Richard', 'Allen') == 'Richard'"
   ]
  },
  {
   "cell_type": "markdown",
   "metadata": {},
   "source": [
    "Use this binary operator together with `reduce`, `accumulate`, and `map` to compute the following\n",
    "\n",
    "longest word, the longest word over time, and the longest between pairs"
   ]
  },
  {
   "cell_type": "code",
   "execution_count": 28,
   "metadata": {
    "ExecuteTime": {
     "end_time": "2019-05-03T18:28:57.580575Z",
     "start_time": "2019-05-03T18:28:57.571834Z"
    }
   },
   "outputs": [
    {
     "data": {
      "text/plain": [
       "'Krishna'"
      ]
     },
     "execution_count": 28,
     "metadata": {},
     "output_type": "execute_result"
    }
   ],
   "source": [
    "# Use reduce to find the longest name\n",
    "\n",
    "people = ['Allen', 'Richard', 'Krishna', 'John', 'Brian', 'Albert']\n",
    "\n",
    "reduce(longer, people)"
   ]
  },
  {
   "cell_type": "code",
   "execution_count": 27,
   "metadata": {
    "ExecuteTime": {
     "end_time": "2019-05-03T18:28:21.661480Z",
     "start_time": "2019-05-03T18:28:21.653496Z"
    }
   },
   "outputs": [
    {
     "data": {
      "text/plain": [
       "['Allen', 'Richard', 'Krishna', 'Krishna', 'Krishna', 'Krishna']"
      ]
     },
     "execution_count": 27,
     "metadata": {},
     "output_type": "execute_result"
    }
   ],
   "source": [
    "# Use accumulate to track the longest word over time.\n",
    "# This should be a list where the first element is 'Allen', the last is 'Krishna', \n",
    "# and each intermediate element is the longest word up to that point\n",
    "\n",
    "list(accumulate(longer, people))"
   ]
  },
  {
   "cell_type": "code",
   "execution_count": 31,
   "metadata": {
    "ExecuteTime": {
     "end_time": "2019-05-03T18:33:02.478169Z",
     "start_time": "2019-05-03T18:33:02.466091Z"
    }
   },
   "outputs": [
    {
     "data": {
      "text/plain": [
       "['Pizza and shots of mezcal',\n",
       " 'Cous Cous and a strong Kombucha',\n",
       " 'Roasted Chicken with Polenta and a crispy-refreshing beer',\n",
       " 'Gazpacho and a Mimosa',\n",
       " 'Thin-crust pizza and a cosmopolitan',\n",
       " 'Bratwurst and Vodka']"
      ]
     },
     "execution_count": 31,
     "metadata": {},
     "output_type": "execute_result"
    }
   ],
   "source": [
    "# Use map to create a list of the pairwise longest among the following two lists\n",
    "people = ['Allen', 'Richard', 'Krishna', 'John', 'Brian', 'Albert']\n",
    "foods  = ['Pizza and shots of mezcal', \n",
    "           'Cous Cous and a strong Kombucha', \n",
    "           'Roasted Chicken with Polenta and a crispy-refreshing beer', \n",
    "           'Gazpacho and a Mimosa', \n",
    "           'Thin-crust pizza and a cosmopolitan', \n",
    "           'Bratwurst and Vodka']\n",
    "\n",
    "list(map(longer, people, foods))"
   ]
  },
  {
   "cell_type": "markdown",
   "metadata": {},
   "source": [
    "# Laziness\n",
    "\n",
    "*Efficiency and scale through work avoidance*"
   ]
  },
  {
   "cell_type": "code",
   "execution_count": 7,
   "metadata": {
    "ExecuteTime": {
     "end_time": "2019-05-03T19:25:45.144382Z",
     "start_time": "2019-05-03T19:25:45.137033Z"
    }
   },
   "outputs": [],
   "source": [
    "# We build a somewhat large list of integers\n",
    "\n",
    "integers = range(10000000)"
   ]
  },
  {
   "cell_type": "markdown",
   "metadata": {},
   "source": [
    "That's 10,000,000 numbers.  Not huge, but not small either.  We need to be careful that we don't do anything too costly on these integers. \n",
    "\n",
    "Testing for primality is costly.  Lets do that!"
   ]
  },
  {
   "cell_type": "markdown",
   "metadata": {},
   "source": [
    "## Example: Primality Testing\n",
    "\n",
    "(Primality Testing functions taken from Rosetta Code.)"
   ]
  },
  {
   "cell_type": "markdown",
   "metadata": {},
   "source": [
    "### Generate small primes with Sieve of Eratosthenes"
   ]
  },
  {
   "cell_type": "code",
   "execution_count": 15,
   "metadata": {
    "ExecuteTime": {
     "end_time": "2019-05-03T19:32:25.181294Z",
     "start_time": "2019-05-03T19:32:25.172245Z"
    }
   },
   "outputs": [],
   "source": [
    "def primes_sieve(limit):\n",
    "    a = [True] * limit                          # Initialize the primality list\n",
    "    a[0] = a[1] = False\n",
    "\n",
    "    for (i, isprime) in enumerate(a):\n",
    "        if isprime:\n",
    "            yield i\n",
    "            for n in range(i*i, limit, i):     # Mark factors non-prime\n",
    "                a[n] = False"
   ]
  },
  {
   "cell_type": "code",
   "execution_count": 26,
   "metadata": {
    "ExecuteTime": {
     "end_time": "2019-05-03T19:40:56.581080Z",
     "start_time": "2019-05-03T19:40:56.565967Z"
    }
   },
   "outputs": [],
   "source": [
    "_known_primes = primes_sieve(1000)\n",
    "\n",
    "def _try_composite(a, d, n, s):\n",
    "    if pow(a, d, n) == 1:\n",
    "        return False\n",
    "    for i in range(s):\n",
    "        if pow(a, 2**i * d, n) == n-1:\n",
    "            return False\n",
    "    return True # n  is definitely composite\n",
    " \n",
    "def is_prime(n, _precision_for_huge_n=16):\n",
    "    if n in _known_primes:\n",
    "        return True\n",
    "    if any((n % p) == 0 for p in _known_primes) or n in (0, 1):\n",
    "        return False\n",
    "    d, s = n - 1, 0\n",
    "    while not d % 2:\n",
    "        d, s = d >> 1, s + 1\n",
    "    # Returns exact according to http://primes.utm.edu/prove/prove2_3.html\n",
    "    if n < 1373653: \n",
    "        return not any(_try_composite(a, d, n, s) for a in (2, 3))\n",
    "    if n < 25326001: \n",
    "        return not any(_try_composite(a, d, n, s) for a in (2, 3, 5))\n",
    "    if n < 118670087467: \n",
    "        if n == 3215031751: \n",
    "            return False\n",
    "        return not any(_try_composite(a, d, n, s) for a in (2, 3, 5, 7))\n",
    "    if n < 2152302898747: \n",
    "        return not any(_try_composite(a, d, n, s) for a in (2, 3, 5, 7, 11))\n",
    "    if n < 3474749660383: \n",
    "        return not any(_try_composite(a, d, n, s) for a in (2, 3, 5, 7, 11, 13))\n",
    "    if n < 341550071728321: \n",
    "        return not any(_try_composite(a, d, n, s) for a in (2, 3, 5, 7, 11, 13, 17))\n",
    "    # otherwise\n",
    "    return not any(_try_composite(a, d, n, s) \n",
    "                   for a in _known_primes[:_precision_for_huge_n])"
   ]
  },
  {
   "cell_type": "code",
   "execution_count": 27,
   "metadata": {
    "ExecuteTime": {
     "end_time": "2019-05-03T19:41:03.917888Z",
     "start_time": "2019-05-03T19:41:03.910153Z"
    }
   },
   "outputs": [],
   "source": [
    "from toolz import filter\n",
    "primes = filter(is_prime, integers)"
   ]
  },
  {
   "cell_type": "markdown",
   "metadata": {},
   "source": [
    "Q: *If testing primality is moderately expensive, why did that return so quickly?*\n",
    "\n",
    "A: The `toolz.filter` is lazy.  No actual work was performed."
   ]
  },
  {
   "cell_type": "code",
   "execution_count": 28,
   "metadata": {
    "ExecuteTime": {
     "end_time": "2019-05-03T19:41:08.096055Z",
     "start_time": "2019-05-03T19:41:08.088373Z"
    }
   },
   "outputs": [
    {
     "data": {
      "text/plain": [
       "<filter at 0x126bb14c5f8>"
      ]
     },
     "execution_count": 28,
     "metadata": {},
     "output_type": "execute_result"
    }
   ],
   "source": [
    "primes  # not actually a list of primes"
   ]
  },
  {
   "cell_type": "markdown",
   "metadata": {},
   "source": [
    "And yet we can still treat the variable `primes` like a list of prime numbers.  Lets print the first few"
   ]
  },
  {
   "cell_type": "code",
   "execution_count": 29,
   "metadata": {
    "ExecuteTime": {
     "end_time": "2019-05-03T19:41:10.513341Z",
     "start_time": "2019-05-03T19:41:10.505011Z"
    }
   },
   "outputs": [
    {
     "data": {
      "text/plain": [
       "5"
      ]
     },
     "execution_count": 29,
     "metadata": {},
     "output_type": "execute_result"
    }
   ],
   "source": [
    "next(primes)"
   ]
  },
  {
   "cell_type": "code",
   "execution_count": 30,
   "metadata": {
    "ExecuteTime": {
     "end_time": "2019-05-03T19:41:12.339102Z",
     "start_time": "2019-05-03T19:41:12.328746Z"
    }
   },
   "outputs": [
    {
     "data": {
      "text/plain": [
       "7"
      ]
     },
     "execution_count": 30,
     "metadata": {},
     "output_type": "execute_result"
    }
   ],
   "source": [
    "next(primes)"
   ]
  },
  {
   "cell_type": "code",
   "execution_count": 31,
   "metadata": {
    "ExecuteTime": {
     "end_time": "2019-05-03T19:41:13.291767Z",
     "start_time": "2019-05-03T19:41:13.286384Z"
    }
   },
   "outputs": [
    {
     "data": {
      "text/plain": [
       "11"
      ]
     },
     "execution_count": 31,
     "metadata": {},
     "output_type": "execute_result"
    }
   ],
   "source": [
    "next(primes)"
   ]
  },
  {
   "cell_type": "markdown",
   "metadata": {},
   "source": [
    "CANNOT INDEX AN ITERATOR!"
   ]
  },
  {
   "cell_type": "code",
   "execution_count": 35,
   "metadata": {
    "ExecuteTime": {
     "end_time": "2019-05-03T19:42:45.125274Z",
     "start_time": "2019-05-03T19:42:45.109326Z"
    }
   },
   "outputs": [
    {
     "ename": "TypeError",
     "evalue": "'filter' object is not subscriptable",
     "output_type": "error",
     "traceback": [
      "\u001b[1;31m---------------------------------------------------------------------------\u001b[0m",
      "\u001b[1;31mTypeError\u001b[0m                                 Traceback (most recent call last)",
      "\u001b[1;32m<ipython-input-35-d85f794975ab>\u001b[0m in \u001b[0;36m<module>\u001b[1;34m()\u001b[0m\n\u001b[0;32m      1\u001b[0m \u001b[1;31m# Note that primes is not a list like integers.  We can't index into it\u001b[0m\u001b[1;33m\u001b[0m\u001b[1;33m\u001b[0m\u001b[1;33m\u001b[0m\u001b[0m\n\u001b[0;32m      2\u001b[0m \u001b[1;33m\u001b[0m\u001b[0m\n\u001b[1;32m----> 3\u001b[1;33m \u001b[0mprimes\u001b[0m\u001b[1;33m[\u001b[0m\u001b[1;36m1000\u001b[0m\u001b[1;33m]\u001b[0m \u001b[1;31m# 1000th prime please\u001b[0m\u001b[1;33m\u001b[0m\u001b[1;33m\u001b[0m\u001b[0m\n\u001b[0m",
      "\u001b[1;31mTypeError\u001b[0m: 'filter' object is not subscriptable"
     ]
    }
   ],
   "source": [
    "# Note that primes is not a list like integers. \n",
    "\n",
    "#######  WE CANNOT INDEX INTO IT!!!!\n",
    "\n",
    "primes[1000] # 1000th prime please"
   ]
  },
  {
   "cell_type": "markdown",
   "metadata": {},
   "source": [
    "But **WE CAN** iterate over it:"
   ]
  },
  {
   "cell_type": "code",
   "execution_count": 36,
   "metadata": {
    "ExecuteTime": {
     "end_time": "2019-05-03T19:43:50.725214Z",
     "start_time": "2019-05-03T19:43:50.708758Z"
    }
   },
   "outputs": [
    {
     "name": "stdout",
     "output_type": "stream",
     "text": [
      "13\n",
      "17\n",
      "19\n",
      "23\n",
      "29\n",
      "31\n",
      "37\n",
      "41\n",
      "43\n",
      "47\n",
      "53\n",
      "59\n",
      "61\n",
      "67\n",
      "71\n",
      "73\n",
      "79\n",
      "83\n",
      "89\n",
      "97\n",
      "101\n"
     ]
    }
   ],
   "source": [
    "# But we *can* still iterate over it\n",
    "\n",
    "for p in primes:\n",
    "    print(p)\n",
    "    if p > 100:  # stop us from going through the whole list\n",
    "        break"
   ]
  },
  {
   "cell_type": "markdown",
   "metadata": {},
   "source": [
    "Note that the first few primes 2, 3, 5, aren't included in this list.  Items in lazy iterators are consumed as you use them, never to be seen again.  If you really want to store the iterator, then call the `list` constructor on it"
   ]
  },
  {
   "cell_type": "code",
   "execution_count": 37,
   "metadata": {
    "ExecuteTime": {
     "end_time": "2019-05-03T19:46:58.754768Z",
     "start_time": "2019-05-03T19:44:12.057045Z"
    }
   },
   "outputs": [],
   "source": [
    "primes = list(primes)  # fully evaluate the lazy iterator, store it in a list"
   ]
  },
  {
   "cell_type": "code",
   "execution_count": 38,
   "metadata": {
    "ExecuteTime": {
     "end_time": "2019-05-03T19:49:34.027505Z",
     "start_time": "2019-05-03T19:49:34.010568Z"
    }
   },
   "outputs": [
    {
     "data": {
      "text/plain": [
       "[103,\n",
       " 107,\n",
       " 109,\n",
       " 113,\n",
       " 127,\n",
       " 131,\n",
       " 137,\n",
       " 139,\n",
       " 149,\n",
       " 151,\n",
       " 157,\n",
       " 163,\n",
       " 167,\n",
       " 173,\n",
       " 179,\n",
       " 181,\n",
       " 191,\n",
       " 193,\n",
       " 197,\n",
       " 199,\n",
       " 211,\n",
       " 223,\n",
       " 227,\n",
       " 229,\n",
       " 233,\n",
       " 239,\n",
       " 241,\n",
       " 251,\n",
       " 257,\n",
       " 263,\n",
       " 269,\n",
       " 271,\n",
       " 277,\n",
       " 281,\n",
       " 283,\n",
       " 293,\n",
       " 307,\n",
       " 311,\n",
       " 313,\n",
       " 317,\n",
       " 331,\n",
       " 337,\n",
       " 347,\n",
       " 349,\n",
       " 353,\n",
       " 359,\n",
       " 367,\n",
       " 373,\n",
       " 379,\n",
       " 383,\n",
       " 389,\n",
       " 397,\n",
       " 401,\n",
       " 409,\n",
       " 419,\n",
       " 421,\n",
       " 431,\n",
       " 433,\n",
       " 439,\n",
       " 443,\n",
       " 449,\n",
       " 457,\n",
       " 461,\n",
       " 463,\n",
       " 467,\n",
       " 479,\n",
       " 487,\n",
       " 491,\n",
       " 499,\n",
       " 503,\n",
       " 509,\n",
       " 521,\n",
       " 523,\n",
       " 541,\n",
       " 547,\n",
       " 557,\n",
       " 563,\n",
       " 569,\n",
       " 571,\n",
       " 577,\n",
       " 587,\n",
       " 593,\n",
       " 599,\n",
       " 601,\n",
       " 607,\n",
       " 613,\n",
       " 617,\n",
       " 619,\n",
       " 631,\n",
       " 641,\n",
       " 643,\n",
       " 647,\n",
       " 653,\n",
       " 659,\n",
       " 661,\n",
       " 673,\n",
       " 677,\n",
       " 683,\n",
       " 691,\n",
       " 701,\n",
       " 709,\n",
       " 719,\n",
       " 727,\n",
       " 733,\n",
       " 739,\n",
       " 743,\n",
       " 751,\n",
       " 757,\n",
       " 761,\n",
       " 769,\n",
       " 773,\n",
       " 787,\n",
       " 797,\n",
       " 809,\n",
       " 811,\n",
       " 821,\n",
       " 823,\n",
       " 827,\n",
       " 829,\n",
       " 839,\n",
       " 853,\n",
       " 857,\n",
       " 859,\n",
       " 863,\n",
       " 877,\n",
       " 881,\n",
       " 883,\n",
       " 887,\n",
       " 907,\n",
       " 911,\n",
       " 919,\n",
       " 929,\n",
       " 937,\n",
       " 941,\n",
       " 947,\n",
       " 953,\n",
       " 967,\n",
       " 971,\n",
       " 977,\n",
       " 983,\n",
       " 991,\n",
       " 997,\n",
       " 1009,\n",
       " 1013,\n",
       " 1019,\n",
       " 1021,\n",
       " 1031,\n",
       " 1033,\n",
       " 1039,\n",
       " 1049,\n",
       " 1051,\n",
       " 1061,\n",
       " 1063,\n",
       " 1069,\n",
       " 1087,\n",
       " 1091,\n",
       " 1093,\n",
       " 1097,\n",
       " 1103,\n",
       " 1109,\n",
       " 1117,\n",
       " 1123,\n",
       " 1129,\n",
       " 1151,\n",
       " 1153,\n",
       " 1163,\n",
       " 1171,\n",
       " 1181,\n",
       " 1187,\n",
       " 1193,\n",
       " 1201,\n",
       " 1213,\n",
       " 1217,\n",
       " 1223,\n",
       " 1229,\n",
       " 1231,\n",
       " 1237,\n",
       " 1249,\n",
       " 1259,\n",
       " 1277,\n",
       " 1279,\n",
       " 1283,\n",
       " 1289,\n",
       " 1291,\n",
       " 1297,\n",
       " 1301,\n",
       " 1303,\n",
       " 1307,\n",
       " 1319,\n",
       " 1321,\n",
       " 1327,\n",
       " 1361,\n",
       " 1367,\n",
       " 1373,\n",
       " 1381,\n",
       " 1399,\n",
       " 1409,\n",
       " 1423,\n",
       " 1427,\n",
       " 1429,\n",
       " 1433,\n",
       " 1439,\n",
       " 1447,\n",
       " 1451,\n",
       " 1453,\n",
       " 1459,\n",
       " 1471,\n",
       " 1481,\n",
       " 1483,\n",
       " 1487,\n",
       " 1489,\n",
       " 1493,\n",
       " 1499,\n",
       " 1511,\n",
       " 1523,\n",
       " 1531,\n",
       " 1543,\n",
       " 1549,\n",
       " 1553,\n",
       " 1559,\n",
       " 1567,\n",
       " 1571,\n",
       " 1579,\n",
       " 1583,\n",
       " 1597,\n",
       " 1601,\n",
       " 1607,\n",
       " 1609,\n",
       " 1613,\n",
       " 1619,\n",
       " 1621,\n",
       " 1627,\n",
       " 1637,\n",
       " 1657,\n",
       " 1663,\n",
       " 1667,\n",
       " 1669,\n",
       " 1693,\n",
       " 1697,\n",
       " 1699,\n",
       " 1709,\n",
       " 1721,\n",
       " 1723,\n",
       " 1733,\n",
       " 1741,\n",
       " 1747,\n",
       " 1753,\n",
       " 1759,\n",
       " 1777,\n",
       " 1783,\n",
       " 1787,\n",
       " 1789,\n",
       " 1801,\n",
       " 1811,\n",
       " 1823,\n",
       " 1831,\n",
       " 1847,\n",
       " 1861,\n",
       " 1867,\n",
       " 1871,\n",
       " 1873,\n",
       " 1877,\n",
       " 1879,\n",
       " 1889,\n",
       " 1901,\n",
       " 1907,\n",
       " 1913,\n",
       " 1931,\n",
       " 1933,\n",
       " 1949,\n",
       " 1951,\n",
       " 1973,\n",
       " 1979,\n",
       " 1987,\n",
       " 1993,\n",
       " 1997,\n",
       " 1999,\n",
       " 2003,\n",
       " 2011,\n",
       " 2017,\n",
       " 2027,\n",
       " 2029,\n",
       " 2039,\n",
       " 2053,\n",
       " 2063,\n",
       " 2069,\n",
       " 2081,\n",
       " 2083,\n",
       " 2087,\n",
       " 2089,\n",
       " 2099,\n",
       " 2111,\n",
       " 2113,\n",
       " 2129,\n",
       " 2131,\n",
       " 2137,\n",
       " 2141,\n",
       " 2143,\n",
       " 2153,\n",
       " 2161,\n",
       " 2179,\n",
       " 2203,\n",
       " 2207,\n",
       " 2213,\n",
       " 2221,\n",
       " 2237,\n",
       " 2239,\n",
       " 2243,\n",
       " 2251,\n",
       " 2267,\n",
       " 2269,\n",
       " 2273,\n",
       " 2281,\n",
       " 2287,\n",
       " 2293,\n",
       " 2297,\n",
       " 2309,\n",
       " 2311,\n",
       " 2333,\n",
       " 2339,\n",
       " 2341,\n",
       " 2347,\n",
       " 2351,\n",
       " 2357,\n",
       " 2371,\n",
       " 2377,\n",
       " 2381,\n",
       " 2383,\n",
       " 2389,\n",
       " 2393,\n",
       " 2399,\n",
       " 2411,\n",
       " 2417,\n",
       " 2423,\n",
       " 2437,\n",
       " 2441,\n",
       " 2447,\n",
       " 2459,\n",
       " 2467,\n",
       " 2473,\n",
       " 2477,\n",
       " 2503,\n",
       " 2521,\n",
       " 2531,\n",
       " 2539,\n",
       " 2543,\n",
       " 2549,\n",
       " 2551,\n",
       " 2557,\n",
       " 2579,\n",
       " 2591,\n",
       " 2593,\n",
       " 2609,\n",
       " 2617,\n",
       " 2621,\n",
       " 2633,\n",
       " 2647,\n",
       " 2657,\n",
       " 2659,\n",
       " 2663,\n",
       " 2671,\n",
       " 2677,\n",
       " 2683,\n",
       " 2687,\n",
       " 2689,\n",
       " 2693,\n",
       " 2699,\n",
       " 2707,\n",
       " 2711,\n",
       " 2713,\n",
       " 2719,\n",
       " 2729,\n",
       " 2731,\n",
       " 2741,\n",
       " 2749,\n",
       " 2753,\n",
       " 2767,\n",
       " 2777,\n",
       " 2789,\n",
       " 2791,\n",
       " 2797,\n",
       " 2801,\n",
       " 2803,\n",
       " 2819,\n",
       " 2833,\n",
       " 2837,\n",
       " 2843,\n",
       " 2851,\n",
       " 2857,\n",
       " 2861,\n",
       " 2879,\n",
       " 2887,\n",
       " 2897,\n",
       " 2903,\n",
       " 2909,\n",
       " 2917,\n",
       " 2927,\n",
       " 2939,\n",
       " 2953,\n",
       " 2957,\n",
       " 2963,\n",
       " 2969,\n",
       " 2971,\n",
       " 2999,\n",
       " 3001,\n",
       " 3011,\n",
       " 3019,\n",
       " 3023,\n",
       " 3037,\n",
       " 3041,\n",
       " 3049,\n",
       " 3061,\n",
       " 3067,\n",
       " 3079,\n",
       " 3083,\n",
       " 3089,\n",
       " 3109,\n",
       " 3119,\n",
       " 3121,\n",
       " 3137,\n",
       " 3163,\n",
       " 3167,\n",
       " 3169,\n",
       " 3181,\n",
       " 3187,\n",
       " 3191,\n",
       " 3203,\n",
       " 3209,\n",
       " 3217,\n",
       " 3221,\n",
       " 3229,\n",
       " 3251,\n",
       " 3253,\n",
       " 3257,\n",
       " 3259,\n",
       " 3271,\n",
       " 3299,\n",
       " 3301,\n",
       " 3307,\n",
       " 3313,\n",
       " 3319,\n",
       " 3323,\n",
       " 3329,\n",
       " 3331,\n",
       " 3343,\n",
       " 3347,\n",
       " 3359,\n",
       " 3361,\n",
       " 3371,\n",
       " 3373,\n",
       " 3389,\n",
       " 3391,\n",
       " 3407,\n",
       " 3413,\n",
       " 3433,\n",
       " 3449,\n",
       " 3457,\n",
       " 3461,\n",
       " 3463,\n",
       " 3467,\n",
       " 3469,\n",
       " 3491,\n",
       " 3499,\n",
       " 3511,\n",
       " 3517,\n",
       " 3527,\n",
       " 3529,\n",
       " 3533,\n",
       " 3539,\n",
       " 3541,\n",
       " 3547,\n",
       " 3557,\n",
       " 3559,\n",
       " 3571,\n",
       " 3581,\n",
       " 3583,\n",
       " 3593,\n",
       " 3607,\n",
       " 3613,\n",
       " 3617,\n",
       " 3623,\n",
       " 3631,\n",
       " 3637,\n",
       " 3643,\n",
       " 3659,\n",
       " 3671,\n",
       " 3673,\n",
       " 3677,\n",
       " 3691,\n",
       " 3697,\n",
       " 3701,\n",
       " 3709,\n",
       " 3719,\n",
       " 3727,\n",
       " 3733,\n",
       " 3739,\n",
       " 3761,\n",
       " 3767,\n",
       " 3769,\n",
       " 3779,\n",
       " 3793,\n",
       " 3797,\n",
       " 3803,\n",
       " 3821,\n",
       " 3823,\n",
       " 3833,\n",
       " 3847,\n",
       " 3851,\n",
       " 3853,\n",
       " 3863,\n",
       " 3877,\n",
       " 3881,\n",
       " 3889,\n",
       " 3907,\n",
       " 3911,\n",
       " 3917,\n",
       " 3919,\n",
       " 3923,\n",
       " 3929,\n",
       " 3931,\n",
       " 3943,\n",
       " 3947,\n",
       " 3967,\n",
       " 3989,\n",
       " 4001,\n",
       " 4003,\n",
       " 4007,\n",
       " 4013,\n",
       " 4019,\n",
       " 4021,\n",
       " 4027,\n",
       " 4049,\n",
       " 4051,\n",
       " 4057,\n",
       " 4073,\n",
       " 4079,\n",
       " 4091,\n",
       " 4093,\n",
       " 4099,\n",
       " 4111,\n",
       " 4127,\n",
       " 4129,\n",
       " 4133,\n",
       " 4139,\n",
       " 4153,\n",
       " 4157,\n",
       " 4159,\n",
       " 4177,\n",
       " 4201,\n",
       " 4211,\n",
       " 4217,\n",
       " 4219,\n",
       " 4229,\n",
       " 4231,\n",
       " 4241,\n",
       " 4243,\n",
       " 4253,\n",
       " 4259,\n",
       " 4261,\n",
       " 4271,\n",
       " 4273,\n",
       " 4283,\n",
       " 4289,\n",
       " 4297,\n",
       " 4327,\n",
       " 4337,\n",
       " 4339,\n",
       " 4349,\n",
       " 4357,\n",
       " 4363,\n",
       " 4373,\n",
       " 4391,\n",
       " 4397,\n",
       " 4409,\n",
       " 4421,\n",
       " 4423,\n",
       " 4441,\n",
       " 4447,\n",
       " 4451,\n",
       " 4457,\n",
       " 4463,\n",
       " 4481,\n",
       " 4483,\n",
       " 4493,\n",
       " 4507,\n",
       " 4513,\n",
       " 4517,\n",
       " 4519,\n",
       " 4523,\n",
       " 4547,\n",
       " 4549,\n",
       " 4561,\n",
       " 4567,\n",
       " 4583,\n",
       " 4591,\n",
       " 4597,\n",
       " 4603,\n",
       " 4621,\n",
       " 4637,\n",
       " 4639,\n",
       " 4643,\n",
       " 4649,\n",
       " 4651,\n",
       " 4657,\n",
       " 4663,\n",
       " 4673,\n",
       " 4679,\n",
       " 4691,\n",
       " 4703,\n",
       " 4721,\n",
       " 4723,\n",
       " 4729,\n",
       " 4733,\n",
       " 4751,\n",
       " 4759,\n",
       " 4783,\n",
       " 4787,\n",
       " 4789,\n",
       " 4793,\n",
       " 4799,\n",
       " 4801,\n",
       " 4813,\n",
       " 4817,\n",
       " 4831,\n",
       " 4861,\n",
       " 4871,\n",
       " 4877,\n",
       " 4889,\n",
       " 4903,\n",
       " 4909,\n",
       " 4919,\n",
       " 4931,\n",
       " 4933,\n",
       " 4937,\n",
       " 4943,\n",
       " 4951,\n",
       " 4957,\n",
       " 4967,\n",
       " 4969,\n",
       " 4973,\n",
       " 4987,\n",
       " 4993,\n",
       " 4999,\n",
       " 5003,\n",
       " 5009,\n",
       " 5011,\n",
       " 5021,\n",
       " 5023,\n",
       " 5039,\n",
       " 5051,\n",
       " 5059,\n",
       " 5077,\n",
       " 5081,\n",
       " 5087,\n",
       " 5099,\n",
       " 5101,\n",
       " 5107,\n",
       " 5113,\n",
       " 5119,\n",
       " 5147,\n",
       " 5153,\n",
       " 5167,\n",
       " 5171,\n",
       " 5179,\n",
       " 5189,\n",
       " 5197,\n",
       " 5209,\n",
       " 5227,\n",
       " 5231,\n",
       " 5233,\n",
       " 5237,\n",
       " 5261,\n",
       " 5273,\n",
       " 5279,\n",
       " 5281,\n",
       " 5297,\n",
       " 5303,\n",
       " 5309,\n",
       " 5323,\n",
       " 5333,\n",
       " 5347,\n",
       " 5351,\n",
       " 5381,\n",
       " 5387,\n",
       " 5393,\n",
       " 5399,\n",
       " 5407,\n",
       " 5413,\n",
       " 5417,\n",
       " 5419,\n",
       " 5431,\n",
       " 5437,\n",
       " 5441,\n",
       " 5443,\n",
       " 5449,\n",
       " 5471,\n",
       " 5477,\n",
       " 5479,\n",
       " 5483,\n",
       " 5501,\n",
       " 5503,\n",
       " 5507,\n",
       " 5519,\n",
       " 5521,\n",
       " 5527,\n",
       " 5531,\n",
       " 5557,\n",
       " 5563,\n",
       " 5569,\n",
       " 5573,\n",
       " 5581,\n",
       " 5591,\n",
       " 5623,\n",
       " 5639,\n",
       " 5641,\n",
       " 5647,\n",
       " 5651,\n",
       " 5653,\n",
       " 5657,\n",
       " 5659,\n",
       " 5669,\n",
       " 5683,\n",
       " 5689,\n",
       " 5693,\n",
       " 5701,\n",
       " 5711,\n",
       " 5717,\n",
       " 5737,\n",
       " 5741,\n",
       " 5743,\n",
       " 5749,\n",
       " 5779,\n",
       " 5783,\n",
       " 5791,\n",
       " 5801,\n",
       " 5807,\n",
       " 5813,\n",
       " 5821,\n",
       " 5827,\n",
       " 5839,\n",
       " 5843,\n",
       " 5849,\n",
       " 5851,\n",
       " 5857,\n",
       " 5861,\n",
       " 5867,\n",
       " 5869,\n",
       " 5879,\n",
       " 5881,\n",
       " 5897,\n",
       " 5903,\n",
       " 5923,\n",
       " 5927,\n",
       " 5939,\n",
       " 5953,\n",
       " 5981,\n",
       " 5987,\n",
       " 6007,\n",
       " 6011,\n",
       " 6029,\n",
       " 6037,\n",
       " 6043,\n",
       " 6047,\n",
       " 6053,\n",
       " 6067,\n",
       " 6073,\n",
       " 6079,\n",
       " 6089,\n",
       " 6091,\n",
       " 6101,\n",
       " 6113,\n",
       " 6121,\n",
       " 6131,\n",
       " 6133,\n",
       " 6143,\n",
       " 6151,\n",
       " 6163,\n",
       " 6173,\n",
       " 6197,\n",
       " 6199,\n",
       " 6203,\n",
       " 6211,\n",
       " 6217,\n",
       " 6221,\n",
       " 6229,\n",
       " 6247,\n",
       " 6257,\n",
       " 6263,\n",
       " 6269,\n",
       " 6271,\n",
       " 6277,\n",
       " 6287,\n",
       " 6299,\n",
       " 6301,\n",
       " 6311,\n",
       " 6317,\n",
       " 6323,\n",
       " 6329,\n",
       " 6337,\n",
       " 6343,\n",
       " 6353,\n",
       " 6359,\n",
       " 6361,\n",
       " 6367,\n",
       " 6373,\n",
       " 6379,\n",
       " 6389,\n",
       " 6397,\n",
       " 6421,\n",
       " 6427,\n",
       " 6449,\n",
       " 6451,\n",
       " 6469,\n",
       " 6473,\n",
       " 6481,\n",
       " 6491,\n",
       " 6521,\n",
       " 6529,\n",
       " 6547,\n",
       " 6551,\n",
       " 6553,\n",
       " 6563,\n",
       " 6569,\n",
       " 6571,\n",
       " 6577,\n",
       " 6581,\n",
       " 6599,\n",
       " 6607,\n",
       " 6619,\n",
       " 6637,\n",
       " 6653,\n",
       " 6659,\n",
       " 6661,\n",
       " 6673,\n",
       " 6679,\n",
       " 6689,\n",
       " 6691,\n",
       " 6701,\n",
       " 6703,\n",
       " 6709,\n",
       " 6719,\n",
       " 6733,\n",
       " 6737,\n",
       " 6761,\n",
       " 6763,\n",
       " 6779,\n",
       " 6781,\n",
       " 6791,\n",
       " 6793,\n",
       " 6803,\n",
       " 6823,\n",
       " 6827,\n",
       " 6829,\n",
       " 6833,\n",
       " 6841,\n",
       " 6857,\n",
       " 6863,\n",
       " 6869,\n",
       " 6871,\n",
       " 6883,\n",
       " 6899,\n",
       " 6907,\n",
       " 6911,\n",
       " 6917,\n",
       " 6947,\n",
       " 6949,\n",
       " 6959,\n",
       " 6961,\n",
       " 6967,\n",
       " 6971,\n",
       " 6977,\n",
       " 6983,\n",
       " 6991,\n",
       " 6997,\n",
       " 7001,\n",
       " 7013,\n",
       " 7019,\n",
       " 7027,\n",
       " 7039,\n",
       " 7043,\n",
       " 7057,\n",
       " 7069,\n",
       " 7079,\n",
       " 7103,\n",
       " 7109,\n",
       " 7121,\n",
       " 7127,\n",
       " 7129,\n",
       " 7151,\n",
       " 7159,\n",
       " 7177,\n",
       " 7187,\n",
       " 7193,\n",
       " 7207,\n",
       " 7211,\n",
       " 7213,\n",
       " 7219,\n",
       " 7229,\n",
       " 7237,\n",
       " 7243,\n",
       " 7247,\n",
       " 7253,\n",
       " 7283,\n",
       " 7297,\n",
       " 7307,\n",
       " 7309,\n",
       " 7321,\n",
       " 7331,\n",
       " 7333,\n",
       " 7349,\n",
       " 7351,\n",
       " 7369,\n",
       " 7393,\n",
       " 7411,\n",
       " 7417,\n",
       " 7433,\n",
       " 7451,\n",
       " 7457,\n",
       " 7459,\n",
       " 7477,\n",
       " 7481,\n",
       " 7487,\n",
       " 7489,\n",
       " 7499,\n",
       " 7507,\n",
       " 7517,\n",
       " 7523,\n",
       " 7529,\n",
       " 7537,\n",
       " 7541,\n",
       " 7547,\n",
       " 7549,\n",
       " 7559,\n",
       " 7561,\n",
       " 7573,\n",
       " 7577,\n",
       " 7583,\n",
       " 7589,\n",
       " 7591,\n",
       " 7603,\n",
       " 7607,\n",
       " 7621,\n",
       " 7639,\n",
       " 7643,\n",
       " 7649,\n",
       " 7669,\n",
       " 7673,\n",
       " 7681,\n",
       " 7687,\n",
       " 7691,\n",
       " 7699,\n",
       " 7703,\n",
       " 7717,\n",
       " 7723,\n",
       " 7727,\n",
       " 7741,\n",
       " 7753,\n",
       " 7757,\n",
       " 7759,\n",
       " 7789,\n",
       " 7793,\n",
       " 7817,\n",
       " 7823,\n",
       " 7829,\n",
       " 7841,\n",
       " 7853,\n",
       " 7867,\n",
       " 7873,\n",
       " 7877,\n",
       " 7879,\n",
       " 7883,\n",
       " 7901,\n",
       " 7907,\n",
       " 7919,\n",
       " 7927,\n",
       " 7933,\n",
       " 7937,\n",
       " 7949,\n",
       " 7951,\n",
       " 7963,\n",
       " 7993,\n",
       " 8009,\n",
       " 8011,\n",
       " 8017,\n",
       " 8039,\n",
       " 8053,\n",
       " 8059,\n",
       " 8069,\n",
       " 8081,\n",
       " 8087,\n",
       " 8089,\n",
       " 8093,\n",
       " 8101,\n",
       " 8111,\n",
       " 8117,\n",
       " 8123,\n",
       " 8147,\n",
       " 8161,\n",
       " 8167,\n",
       " 8171,\n",
       " ...]"
      ]
     },
     "execution_count": 38,
     "metadata": {},
     "output_type": "execute_result"
    }
   ],
   "source": [
    "primes"
   ]
  },
  {
   "cell_type": "markdown",
   "metadata": {},
   "source": [
    "## Infinite iterators\n",
    "\n",
    "Laziness lets us talk about doing work without actually doing it. For example, here are all of the fibonacci numbers"
   ]
  },
  {
   "cell_type": "code",
   "execution_count": 40,
   "metadata": {
    "ExecuteTime": {
     "end_time": "2019-05-03T19:54:04.030808Z",
     "start_time": "2019-05-03T19:54:04.022215Z"
    }
   },
   "outputs": [],
   "source": [
    "def fib():\n",
    "    a, b = 0, 1\n",
    "    while True:\n",
    "        yield a\n",
    "        a, b = b, a + b\n"
   ]
  },
  {
   "cell_type": "markdown",
   "metadata": {},
   "source": [
    "*(By now you should notice the importance of `yield` in writing functions that produce generators / iterators.)*"
   ]
  },
  {
   "cell_type": "code",
   "execution_count": 41,
   "metadata": {
    "ExecuteTime": {
     "end_time": "2019-05-03T19:54:05.036966Z",
     "start_time": "2019-05-03T19:54:05.029101Z"
    }
   },
   "outputs": [
    {
     "name": "stdout",
     "output_type": "stream",
     "text": [
      "0\n",
      "1\n",
      "1\n",
      "2\n"
     ]
    }
   ],
   "source": [
    "fibs = fib()  # make a lazy iterator, fibs\n",
    "print(next(fibs))\n",
    "print(next(fibs))\n",
    "print(next(fibs))\n",
    "print(next(fibs))"
   ]
  },
  {
   "cell_type": "markdown",
   "metadata": {},
   "source": [
    "Cool!"
   ]
  },
  {
   "cell_type": "markdown",
   "metadata": {},
   "source": [
    "## Toolz functions\n",
    "\n",
    "Toolz provides functions to interact with lazy iterators."
   ]
  },
  {
   "cell_type": "code",
   "execution_count": 42,
   "metadata": {
    "ExecuteTime": {
     "end_time": "2019-05-03T19:54:31.615348Z",
     "start_time": "2019-05-03T19:54:31.609404Z"
    }
   },
   "outputs": [],
   "source": [
    "from toolz import first, second, nth, drop, take"
   ]
  },
  {
   "cell_type": "code",
   "execution_count": 43,
   "metadata": {
    "ExecuteTime": {
     "end_time": "2019-05-03T19:54:33.423074Z",
     "start_time": "2019-05-03T19:54:33.414892Z"
    }
   },
   "outputs": [
    {
     "data": {
      "text/plain": [
       "0"
      ]
     },
     "execution_count": 43,
     "metadata": {},
     "output_type": "execute_result"
    }
   ],
   "source": [
    "first(fib())"
   ]
  },
  {
   "cell_type": "code",
   "execution_count": 44,
   "metadata": {
    "ExecuteTime": {
     "end_time": "2019-05-03T19:54:34.224368Z",
     "start_time": "2019-05-03T19:54:34.214959Z"
    }
   },
   "outputs": [
    {
     "data": {
      "text/plain": [
       "1"
      ]
     },
     "execution_count": 44,
     "metadata": {},
     "output_type": "execute_result"
    }
   ],
   "source": [
    "second(fib())"
   ]
  },
  {
   "cell_type": "code",
   "execution_count": 45,
   "metadata": {
    "ExecuteTime": {
     "end_time": "2019-05-03T19:54:35.399853Z",
     "start_time": "2019-05-03T19:54:35.388120Z"
    }
   },
   "outputs": [
    {
     "data": {
      "text/plain": [
       "55"
      ]
     },
     "execution_count": 45,
     "metadata": {},
     "output_type": "execute_result"
    }
   ],
   "source": [
    "nth(10, fib())"
   ]
  },
  {
   "cell_type": "code",
   "execution_count": 46,
   "metadata": {
    "ExecuteTime": {
     "end_time": "2019-05-03T19:54:38.028443Z",
     "start_time": "2019-05-03T19:54:38.016273Z"
    }
   },
   "outputs": [
    {
     "data": {
      "text/plain": [
       "<itertools.islice at 0x126bc44d1d8>"
      ]
     },
     "execution_count": 46,
     "metadata": {},
     "output_type": "execute_result"
    }
   ],
   "source": [
    "take(20, fib())  # Yet another iterator"
   ]
  },
  {
   "cell_type": "code",
   "execution_count": 47,
   "metadata": {
    "ExecuteTime": {
     "end_time": "2019-05-03T19:54:43.757861Z",
     "start_time": "2019-05-03T19:54:43.747464Z"
    }
   },
   "outputs": [
    {
     "data": {
      "text/plain": [
       "[0,\n",
       " 1,\n",
       " 1,\n",
       " 2,\n",
       " 3,\n",
       " 5,\n",
       " 8,\n",
       " 13,\n",
       " 21,\n",
       " 34,\n",
       " 55,\n",
       " 89,\n",
       " 144,\n",
       " 233,\n",
       " 377,\n",
       " 610,\n",
       " 987,\n",
       " 1597,\n",
       " 2584,\n",
       " 4181]"
      ]
     },
     "execution_count": 47,
     "metadata": {},
     "output_type": "execute_result"
    }
   ],
   "source": [
    "list(take(20, fib()))  # But this one is finite, so we can expand it with list"
   ]
  },
  {
   "cell_type": "code",
   "execution_count": 48,
   "metadata": {
    "ExecuteTime": {
     "end_time": "2019-05-03T19:54:50.407765Z",
     "start_time": "2019-05-03T19:54:50.403388Z"
    }
   },
   "outputs": [],
   "source": [
    "later_fibs = drop(100, fib())"
   ]
  },
  {
   "cell_type": "code",
   "execution_count": 49,
   "metadata": {
    "ExecuteTime": {
     "end_time": "2019-05-03T19:54:52.523056Z",
     "start_time": "2019-05-03T19:54:52.515690Z"
    }
   },
   "outputs": [
    {
     "data": {
      "text/plain": [
       "354224848179261915075"
      ]
     },
     "execution_count": 49,
     "metadata": {},
     "output_type": "execute_result"
    }
   ],
   "source": [
    "next(later_fibs)"
   ]
  },
  {
   "cell_type": "code",
   "execution_count": 50,
   "metadata": {
    "ExecuteTime": {
     "end_time": "2019-05-03T19:55:41.885535Z",
     "start_time": "2019-05-03T19:55:41.872488Z"
    }
   },
   "outputs": [
    {
     "data": {
      "text/plain": [
       "[55, 89, 144, 233, 377, 610, 987, 1597, 2584, 4181]"
      ]
     },
     "execution_count": 50,
     "metadata": {},
     "output_type": "execute_result"
    }
   ],
   "source": [
    "# These all depend on itertools.islice--an iterator slice\n",
    "from itertools import islice\n",
    "list(islice(fib(), 10, 20, 1))  # fib()[10:20:1]"
   ]
  },
  {
   "cell_type": "markdown",
   "metadata": {},
   "source": [
    "## Example: Applying functions to text\n",
    "\n",
    "Python's `file` object is a lazy iterator.  When I open a large text file Python doesn't actually read in all of the text at once"
   ]
  },
  {
   "cell_type": "code",
   "execution_count": 51,
   "metadata": {
    "ExecuteTime": {
     "end_time": "2019-05-03T19:56:02.424189Z",
     "start_time": "2019-05-03T19:56:02.396423Z"
    }
   },
   "outputs": [],
   "source": [
    "book = open('data/tale-of-two-cities.txt')"
   ]
  },
  {
   "cell_type": "markdown",
   "metadata": {},
   "source": [
    "Each element of the book is a line of text.  "
   ]
  },
  {
   "cell_type": "code",
   "execution_count": 53,
   "metadata": {
    "ExecuteTime": {
     "end_time": "2019-05-03T19:56:22.778083Z",
     "start_time": "2019-05-03T19:56:22.760075Z"
    }
   },
   "outputs": [
    {
     "name": "stdout",
     "output_type": "stream",
     "text": [
      "1 ï»¿The Project Gutenberg EBook of A Tale of Two Cities, by Charles Dickens\n",
      "\n",
      "2 \n",
      "\n",
      "3 This eBook is for the use of anyone anywhere at no cost and with\n",
      "\n",
      "4 almost no restrictions whatsoever.  You may copy it, give it away or\n",
      "\n"
     ]
    }
   ],
   "source": [
    "print( 1, next(book))\n",
    "print( 2, next(book))\n",
    "print( 3, next(book))\n",
    "print( 4, next(book))"
   ]
  },
  {
   "cell_type": "markdown",
   "metadata": {},
   "source": [
    "This is the Gutenberg project header.  It is roughly 112 lines long.  Lets start the book over and drop the header."
   ]
  },
  {
   "cell_type": "code",
   "execution_count": 62,
   "metadata": {
    "ExecuteTime": {
     "end_time": "2019-05-03T19:58:14.805243Z",
     "start_time": "2019-05-03T19:58:14.793754Z"
    }
   },
   "outputs": [
    {
     "data": {
      "text/plain": [
       "'It was the best of times,\\n'"
      ]
     },
     "execution_count": 62,
     "metadata": {},
     "output_type": "execute_result"
    }
   ],
   "source": [
    "book = open('data/tale-of-two-cities.txt')\n",
    "book = drop(112, book)\n",
    "next(book)"
   ]
  },
  {
   "cell_type": "markdown",
   "metadata": {},
   "source": [
    "That looks familiar.  Lets strip the `'\\r\\n'` from all of the lines though"
   ]
  },
  {
   "cell_type": "code",
   "execution_count": 63,
   "metadata": {
    "ExecuteTime": {
     "end_time": "2019-05-03T19:58:16.149332Z",
     "start_time": "2019-05-03T19:58:16.141196Z"
    }
   },
   "outputs": [],
   "source": [
    "from toolz import map   # toolz.map is lazy too"
   ]
  },
  {
   "cell_type": "code",
   "execution_count": 64,
   "metadata": {
    "ExecuteTime": {
     "end_time": "2019-05-03T19:58:16.545014Z",
     "start_time": "2019-05-03T19:58:16.533297Z"
    }
   },
   "outputs": [
    {
     "data": {
      "text/plain": [
       "'it was the worst of times,'"
      ]
     },
     "execution_count": 64,
     "metadata": {},
     "output_type": "execute_result"
    }
   ],
   "source": [
    "book = map(str.strip, book)\n",
    "next(book)"
   ]
  },
  {
   "cell_type": "markdown",
   "metadata": {},
   "source": [
    "Semantically, it is as if we applied `str.strip` to every line in the book\n",
    "\n",
    "In reality we've done no work.\n",
    "\n",
    "Instead `map` returned a new lazy iterator that draws an element from the original `book`, applies `str.strip` to it, and then yields the result.  It only does this when we ask it to."
   ]
  },
  {
   "cell_type": "markdown",
   "metadata": {},
   "source": [
    "We can chain lazy operations on top of one another.  After stripping each line we'll focus on those lines that contain the word \"Mr.\" or \"Miss\" or \"Mrs.\""
   ]
  },
  {
   "cell_type": "code",
   "execution_count": 65,
   "metadata": {
    "ExecuteTime": {
     "end_time": "2019-05-03T19:58:18.682801Z",
     "start_time": "2019-05-03T19:58:18.671617Z"
    }
   },
   "outputs": [
    {
     "data": {
      "text/plain": [
       "'as at this. Mrs. Southcott had recently attained her five-and-twentieth'"
      ]
     },
     "execution_count": 65,
     "metadata": {},
     "output_type": "execute_result"
    }
   ],
   "source": [
    "def good_line(line):\n",
    "    return \"Mr.\" in line or \"Miss\" in line or \"Mrs.\" in line\n",
    "\n",
    "book = filter(good_line, book)\n",
    "next(book)"
   ]
  },
  {
   "cell_type": "code",
   "execution_count": 66,
   "metadata": {
    "ExecuteTime": {
     "end_time": "2019-05-03T19:58:19.759058Z",
     "start_time": "2019-05-03T19:58:19.743598Z"
    }
   },
   "outputs": [
    {
     "name": "stdout",
     "output_type": "stream",
     "text": [
      "1 \"Mr. Jarvis Lorry.\"\n",
      "2 \"Yes, Mr. Lorry.\"\n",
      "3 \"I know this messenger, guard,\" said Mr. Lorry, getting down into the\n",
      "4 like a larger dog-kennel. Mr. Lorry, the passenger, shaking himself out\n",
      "5 Mr. Lorry dropped off to sleep. The arrival of his breakfast roused him,\n",
      "6 time to-day. She may ask for Mr. Jarvis Lorry, or she may only ask for a\n",
      "7 When Mr. Lorry had finished his breakfast, he went out for a stroll on\n",
      "8 again charged with mist and vapour, Mr. Lorry's thoughts seemed to cloud\n",
      "9 Mr. Lorry had been idle a long time, and had just poured out his last\n",
      "10 In a very few minutes the waiter came in to announce that Miss Manette\n"
     ]
    }
   ],
   "source": [
    "# Lets take 10 lines from this iterator and display them\n",
    "i=1\n",
    "for line in take(10, book):\n",
    "    print( i, line); i+=1\n"
   ]
  },
  {
   "cell_type": "markdown",
   "metadata": {},
   "source": [
    "## Optimization is the Motivation for Laziness\n",
    "\n",
    "There are two main reasons for laziness\n",
    "\n",
    "1.  Avoid useless work:  Oftentimes we find what we need quickly, near the beginning of a dataset.  Computing on the entire dataset is wasteful\n",
    "2.  Memory:  Only a small amount of the dataset needs to stay in memory at any one point.  This allows us to stream very large datasets.\n",
    "\n",
    "In each case we stay close to traditional Python syntax.  We often write lazy code without realizing it."
   ]
  },
  {
   "cell_type": "markdown",
   "metadata": {},
   "source": [
    "# Partial Evalutation and Currying\n",
    "\n",
    "Often when programming we want to partially evaluate a function, waiting to give the remeaining inputs for a later time.  Consider the following definition of cumulative sum\n",
    "\n",
    "```\n",
    "def cumsum(data):\n",
    "    return accumulate(add, data)\n",
    "```\n",
    "\n",
    "or of `reduce` which we defined earlier\n",
    "\n",
    "```\n",
    "reduce = lambda F, xs, x0: F(reduce(F, xs[1:], x0), xs[0]) if len(xs) > 0 else x0\n",
    "```\n",
    "\n",
    "In each case we specialize a higher order function (`accumulate` or `reduce`) with a single specific argument, leaving the second argument open for future use.  "
   ]
  },
  {
   "cell_type": "code",
   "execution_count": 2,
   "metadata": {},
   "outputs": [],
   "source": [
    "# Lets define cumulate sum:\n",
    "cumsum = lambda data: accumulate(add, data)"
   ]
  },
  {
   "cell_type": "code",
   "execution_count": 71,
   "metadata": {
    "ExecuteTime": {
     "end_time": "2019-05-03T21:00:28.588238Z",
     "start_time": "2019-05-03T21:00:28.582285Z"
    }
   },
   "outputs": [],
   "source": [
    "# Or we can use the `partial` function from functools\n",
    "from functools import partial\n",
    "from toolz import accumulate\n",
    "cumsum = partial(accumulate, add)"
   ]
  },
  {
   "cell_type": "markdown",
   "metadata": {},
   "source": [
    "### Exercise\n",
    "\n",
    "Partially evaluate the `mul` function to create a new function `double`"
   ]
  },
  {
   "cell_type": "code",
   "execution_count": 73,
   "metadata": {
    "ExecuteTime": {
     "end_time": "2019-05-03T21:01:16.240820Z",
     "start_time": "2019-05-03T21:01:16.235820Z"
    }
   },
   "outputs": [],
   "source": [
    "double = lambda x: mul(2, x)\n",
    "assert double(5) == 10"
   ]
  },
  {
   "cell_type": "markdown",
   "metadata": {},
   "source": [
    "## Curry\n",
    "\n",
    "Currying provides syntactic sugar for partial evaluation. (Syntactic sugar is syntax that makes it easier for humans to read or express a task/idea.)\n",
    "\n",
    "Curry is a higher order function that changes the behavior of what a function does when it is called with an incomplete set of arguments\n",
    "\n",
    "Normally Python would raise a TypeError.\n",
    "\n",
    "Now it returns a partial."
   ]
  },
  {
   "cell_type": "code",
   "execution_count": 74,
   "metadata": {
    "ExecuteTime": {
     "end_time": "2019-05-03T21:02:44.135123Z",
     "start_time": "2019-05-03T21:02:44.124189Z"
    }
   },
   "outputs": [
    {
     "ename": "TypeError",
     "evalue": "<lambda>() missing 1 required positional argument: 'y'",
     "output_type": "error",
     "traceback": [
      "\u001b[1;31m---------------------------------------------------------------------------\u001b[0m",
      "\u001b[1;31mTypeError\u001b[0m                                 Traceback (most recent call last)",
      "\u001b[1;32m<ipython-input-74-113614f7494a>\u001b[0m in \u001b[0;36m<module>\u001b[1;34m()\u001b[0m\n\u001b[1;32m----> 1\u001b[1;33m \u001b[0mmul\u001b[0m\u001b[1;33m(\u001b[0m\u001b[1;36m2\u001b[0m\u001b[1;33m)\u001b[0m\u001b[1;33m\u001b[0m\u001b[1;33m\u001b[0m\u001b[0m\n\u001b[0m",
      "\u001b[1;31mTypeError\u001b[0m: <lambda>() missing 1 required positional argument: 'y'"
     ]
    }
   ],
   "source": [
    "mul(2)"
   ]
  },
  {
   "cell_type": "code",
   "execution_count": 75,
   "metadata": {
    "ExecuteTime": {
     "end_time": "2019-05-03T21:02:51.029686Z",
     "start_time": "2019-05-03T21:02:51.022706Z"
    }
   },
   "outputs": [
    {
     "data": {
      "text/plain": [
       "<function <lambda> at 0x00000126BB1899D8>"
      ]
     },
     "execution_count": 75,
     "metadata": {},
     "output_type": "execute_result"
    }
   ],
   "source": [
    "from toolz import curry\n",
    "mul = curry(mul)\n",
    "mul(2)"
   ]
  },
  {
   "cell_type": "markdown",
   "metadata": {},
   "source": [
    "This allows for the idiomatic expression of functional statements"
   ]
  },
  {
   "cell_type": "markdown",
   "metadata": {},
   "source": [
    "## Curried namespace\n",
    "\n",
    "Toolz contains a separate namespace for curried functions"
   ]
  },
  {
   "cell_type": "code",
   "execution_count": 8,
   "metadata": {},
   "outputs": [],
   "source": [
    "from toolz.curried import map"
   ]
  },
  {
   "cell_type": "markdown",
   "metadata": {},
   "source": [
    "This is the same as the following:"
   ]
  },
  {
   "cell_type": "code",
   "execution_count": 9,
   "metadata": {},
   "outputs": [],
   "source": [
    "from toolz import map, curry\n",
    "map = curry(map)"
   ]
  },
  {
   "cell_type": "markdown",
   "metadata": {},
   "source": [
    "# Memoization (= caching)\n",
    "\n",
    "## What vs How coding\n",
    "We discuss *what* vs *how* programming and resolve performance flaws with *memoization*.\n",
    "\n",
    "Lets use the classic Fibonacci sequence as an initial example of how to discuss the difference between *what* vs *how* programming. Then we can resolve performance flaws (associated with repeated function calls that calculate the same information multiple times) with something called *memoization* (aka caching).\n",
    "\n",
    "    0, 1, 1, 2, 3, 5, 8, 13, 21, 34, 55, ...\n",
    "    \n",
    "We finish with an example using memoization to minimize repeated web requests"
   ]
  },
  {
   "cell_type": "markdown",
   "metadata": {},
   "source": [
    "## Example: Fibonacci Numbers\n",
    "\n",
    "The Fibonacci sequence is often defined recursively as follows\n",
    "\n",
    "$$ fib_0 = 0 $$\n",
    "$$ fib_1 = 1 $$\n",
    "$$ fib_n = fib_{n-1} + fib_{n-2} $$\n",
    "\n",
    "Python's support for recursion makes it a trivial task to translate this mathematical definition cleanly into code"
   ]
  },
  {
   "cell_type": "code",
   "execution_count": 91,
   "metadata": {
    "ExecuteTime": {
     "end_time": "2019-05-03T21:17:05.673287Z",
     "start_time": "2019-05-03T21:17:05.666304Z"
    }
   },
   "outputs": [
    {
     "data": {
      "text/plain": [
       "[0, 1, 1, 2, 3, 5, 8, 13, 21, 34, 55]"
      ]
     },
     "execution_count": 91,
     "metadata": {},
     "output_type": "execute_result"
    }
   ],
   "source": [
    "# WHAT-based algorithm\n",
    "def fib_what(i):\n",
    "    if i == 0:\n",
    "        return 0\n",
    "    elif i == 1:\n",
    "        return 1\n",
    "    else:\n",
    "        return fib_what(i -1) + fib_what(i - 2)\n",
    "\n",
    "list(map(fib_what, range(11)))"
   ]
  },
  {
   "cell_type": "code",
   "execution_count": 85,
   "metadata": {
    "ExecuteTime": {
     "end_time": "2019-05-03T21:11:58.297574Z",
     "start_time": "2019-05-03T21:11:54.970473Z"
    }
   },
   "outputs": [
    {
     "name": "stdout",
     "output_type": "stream",
     "text": [
      "41.3 ms ± 3.89 ms per loop (mean ± std. dev. of 7 runs, 10 loops each)\n"
     ]
    }
   ],
   "source": [
    "%timeit fib_what(25)"
   ]
  },
  {
   "cell_type": "markdown",
   "metadata": {},
   "source": [
    "A common *algorithm* for *how* to compute the $i^{th}$ Fibonacci number efficiently is to keep a running pair of numbers, summing them together to obtain the next"
   ]
  },
  {
   "cell_type": "code",
   "execution_count": 87,
   "metadata": {
    "ExecuteTime": {
     "end_time": "2019-05-03T21:14:04.134980Z",
     "start_time": "2019-05-03T21:14:04.127999Z"
    }
   },
   "outputs": [
    {
     "data": {
      "text/plain": [
       "[0, 1, 1, 2, 3, 5, 8, 13, 21, 34, 55]"
      ]
     },
     "execution_count": 87,
     "metadata": {},
     "output_type": "execute_result"
    }
   ],
   "source": [
    "# HOW-based algorithm\n",
    "def fib_how(i):\n",
    "    a, b = 0, 1\n",
    "    for _ in range(i):\n",
    "        a, b = b, a + b\n",
    "    return a\n",
    "\n",
    "list(map(fib_how, range(11)))"
   ]
  },
  {
   "cell_type": "code",
   "execution_count": 88,
   "metadata": {
    "ExecuteTime": {
     "end_time": "2019-05-03T21:14:07.010340Z",
     "start_time": "2019-05-03T21:14:05.187168Z"
    }
   },
   "outputs": [
    {
     "name": "stdout",
     "output_type": "stream",
     "text": [
      "2.18 µs ± 441 ns per loop (mean ± std. dev. of 7 runs, 100000 loops each)\n"
     ]
    }
   ],
   "source": [
    "%timeit fib_how(25)"
   ]
  },
  {
   "cell_type": "markdown",
   "metadata": {},
   "source": [
    "These two implementations differ in two ways.  \n",
    "\n",
    "**Style: What v. How**:  \n",
    "\n",
    "*   The first function is similar to a mathematical definition, defining *what* is to be computed without clearly specifying about *how*.  The implementation of this algorithm depends on how the Python runtime handles recursive calls.\n",
    "\n",
    "*   The second function provides a clear recipe for *how* to compute the answer; it is not immediately clear from the function definition *what* is being computed however.\n",
    "\n",
    "*What* solutions tend to be more conceptually clear than *how* solutions.  \n",
    "\n",
    "**Performance**\n",
    "\n",
    "Unfortunately the *what* solution is painfully slow.  This is common with *what* code."
   ]
  },
  {
   "cell_type": "markdown",
   "metadata": {},
   "source": [
    "Note the units.  The what solution is two million times slower on this input.  It only gets worse.\n",
    "\n",
    "The *what* solution requires exponentially more time than the *how* solution.  This is because it repeatedly calls `fib` on the same values over and over again.  \n",
    "\n",
    "For example:\n",
    "\n",
    "*   `fib(5)` calls `fib(4)` and `fib(3)`\n",
    "*   `fib(4)` calls `fib(3)` and `fib(2)`\n",
    "*   `fib(3)` calls `fib(2)` and `fib(1)`\n",
    "*   The second `fib(3)` also calls `fib(2)` and `fib(1)`\n",
    "*   All three `fib(2)`s call `fib(1)` and `fib(0)`\n",
    "*   We now have five redundant calls to `fib(1)`. \n",
    "\n",
    "For low inputs like `5` this is merely comical.  For large values it rapidly becomes tragic."
   ]
  },
  {
   "cell_type": "markdown",
   "metadata": {},
   "source": [
    "## Caching\n",
    "\n",
    "The *what* solution can be saved by caching intermediate values"
   ]
  },
  {
   "cell_type": "code",
   "execution_count": 96,
   "metadata": {
    "ExecuteTime": {
     "end_time": "2019-05-03T21:21:58.763178Z",
     "start_time": "2019-05-03T21:21:46.987897Z"
    }
   },
   "outputs": [
    {
     "name": "stdout",
     "output_type": "stream",
     "text": [
      "14.4 µs ± 516 ns per loop (mean ± std. dev. of 7 runs, 100000 loops each)\n"
     ]
    }
   ],
   "source": [
    "cache = dict()\n",
    "\n",
    "def fib(i):\n",
    "    if i in cache:                # Have we seen this input before?\n",
    "        return cache[i]           # if so then return the cached result\n",
    "    \n",
    "    if i == 0:\n",
    "        return 0\n",
    "    if i == 1:\n",
    "        return 1\n",
    "    else:\n",
    "        result = fib(i -1) + fib(i - 2)\n",
    "        cache[i] = result         # Remember that fib(i) == result\n",
    "        return result\n",
    "\n",
    "%timeit cache.clear(); fib(25)"
   ]
  },
  {
   "cell_type": "markdown",
   "metadata": {},
   "source": [
    "By caching results to expensive functions we decrease computation time but increase memory usage.  This can often be a helpful technique."
   ]
  },
  {
   "cell_type": "markdown",
   "metadata": {},
   "source": [
    "## Memoization\n",
    "\n",
    "Historically functional languages favor *what* over *how* implementations.  \n",
    "\n",
    "Consider our friend, `map`.  The `map` function defines *what* should be done while hiding exactly *how* it is done.  We are free to implement `map` in a variety of interesting ways.  Functional abstractions take computational control away from programmers and deliver it to language and infrastructure designers.\n",
    "\n",
    "Because functional languages favor *what* solutions they often run into issues like the repeated computation we saw in the Fibonacci example.  Rather than explicitly cache every function we make we turn caching into a higher order function.  \n",
    "\n",
    "This function is called `memoize`."
   ]
  },
  {
   "cell_type": "code",
   "execution_count": 120,
   "metadata": {
    "ExecuteTime": {
     "end_time": "2019-05-04T13:27:10.769537Z",
     "start_time": "2019-05-04T13:27:03.972686Z"
    }
   },
   "outputs": [
    {
     "name": "stdout",
     "output_type": "stream",
     "text": [
      "82.7 µs ± 4.26 µs per loop (mean ± std. dev. of 7 runs, 10000 loops each)\n"
     ]
    }
   ],
   "source": [
    "from toolz import memoize\n",
    "\n",
    "def fib(i):\n",
    "    if i == 0:\n",
    "        return 0\n",
    "    elif i == 1:\n",
    "        return 1\n",
    "    else:\n",
    "        return fib(i -1) + fib(i - 2)\n",
    "\n",
    "cache = dict()\n",
    "fib = memoize(fib, cache)\n",
    "\n",
    "%timeit cache.clear(); fib(25)"
   ]
  },
  {
   "cell_type": "markdown",
   "metadata": {},
   "source": [
    "In the above example we explicitly create a cache so that we can clear it before each timing.  Usually we just call memoize with a single argument like so\n",
    "\n",
    "    fib = memoize(fib)\n",
    "    \n",
    "and the cache dictionary is generated automatically.\n",
    "\n",
    "Alternatively we may prefer to use the Python decorator syntax\n",
    "\n",
    "```\n",
    "@memoize\n",
    "def fib(i):\n",
    "    if i == 0:\n",
    "        return 0\n",
    "    if i == 1:\n",
    "        return 1\n",
    "    else:\n",
    "        return fib(i -1) + fib(i - 2)\n",
    "```\n",
    "\n",
    "Both of these are equivalent.\n",
    "\n",
    "Memoization provides a purely *how* optimization so that we can continue to shamelessly write mathematically clear *what* code."
   ]
  },
  {
   "cell_type": "markdown",
   "metadata": {},
   "source": [
    "## Avoid Explicit State with Memoization\n",
    "\n",
    "The Fibonacci example is a canonical use case of memoization.  We are rarely called upon to compute Fibonacci numbers in real life.  \n",
    "\n",
    "Here we play with a slightly more realistic example.  We want to sort a set of webpages by the number of distinct words in their body.\n",
    "\n"
   ]
  },
  {
   "cell_type": "code",
   "execution_count": 98,
   "metadata": {
    "ExecuteTime": {
     "end_time": "2019-05-03T21:31:02.708993Z",
     "start_time": "2019-05-03T21:31:02.694498Z"
    }
   },
   "outputs": [],
   "source": [
    "# We'll use the Wikipedia articles for the fifty United States\n",
    "\n",
    "with open('data/states.txt') as f:\n",
    "    urls = ['http://en.wikipedia.org/wiki/' + state for state in f.read().strip().split()]"
   ]
  },
  {
   "cell_type": "markdown",
   "metadata": {},
   "source": [
    "### Exercise\n",
    "\n",
    "Our task is to sort these URLs by the number of distinct words present in the text of the website.  We'll do this by using the `sorted` function's keyword `cmp` and `urlopen` from `urllib`. \n",
    "\n",
    "We'll go through an implementation that explicitly caches results for performance.  You'll simplify this implementation by adding `memoize` appropriately."
   ]
  },
  {
   "cell_type": "code",
   "execution_count": 101,
   "metadata": {
    "ExecuteTime": {
     "end_time": "2019-05-03T21:41:34.525071Z",
     "start_time": "2019-05-03T21:39:08.116240Z"
    }
   },
   "outputs": [
    {
     "name": "stderr",
     "output_type": "stream",
     "text": [
      "C:\\Users\\allen\\Miniconda3\\envs\\idp\\lib\\site-packages\\urllib3\\connectionpool.py:858: InsecureRequestWarning: Unverified HTTPS request is being made. Adding certificate verification is strongly advised. See: https://urllib3.readthedocs.io/en/latest/advanced-usage.html#ssl-warnings\n",
      "  InsecureRequestWarning)\n",
      "C:\\Users\\allen\\Miniconda3\\envs\\idp\\lib\\site-packages\\urllib3\\connectionpool.py:858: InsecureRequestWarning: Unverified HTTPS request is being made. Adding certificate verification is strongly advised. See: https://urllib3.readthedocs.io/en/latest/advanced-usage.html#ssl-warnings\n",
      "  InsecureRequestWarning)\n",
      "C:\\Users\\allen\\Miniconda3\\envs\\idp\\lib\\site-packages\\urllib3\\connectionpool.py:858: InsecureRequestWarning: Unverified HTTPS request is being made. Adding certificate verification is strongly advised. See: https://urllib3.readthedocs.io/en/latest/advanced-usage.html#ssl-warnings\n",
      "  InsecureRequestWarning)\n",
      "C:\\Users\\allen\\Miniconda3\\envs\\idp\\lib\\site-packages\\urllib3\\connectionpool.py:858: InsecureRequestWarning: Unverified HTTPS request is being made. Adding certificate verification is strongly advised. See: https://urllib3.readthedocs.io/en/latest/advanced-usage.html#ssl-warnings\n",
      "  InsecureRequestWarning)\n",
      "C:\\Users\\allen\\Miniconda3\\envs\\idp\\lib\\site-packages\\urllib3\\connectionpool.py:858: InsecureRequestWarning: Unverified HTTPS request is being made. Adding certificate verification is strongly advised. See: https://urllib3.readthedocs.io/en/latest/advanced-usage.html#ssl-warnings\n",
      "  InsecureRequestWarning)\n",
      "C:\\Users\\allen\\Miniconda3\\envs\\idp\\lib\\site-packages\\urllib3\\connectionpool.py:858: InsecureRequestWarning: Unverified HTTPS request is being made. Adding certificate verification is strongly advised. See: https://urllib3.readthedocs.io/en/latest/advanced-usage.html#ssl-warnings\n",
      "  InsecureRequestWarning)\n",
      "C:\\Users\\allen\\Miniconda3\\envs\\idp\\lib\\site-packages\\urllib3\\connectionpool.py:858: InsecureRequestWarning: Unverified HTTPS request is being made. Adding certificate verification is strongly advised. See: https://urllib3.readthedocs.io/en/latest/advanced-usage.html#ssl-warnings\n",
      "  InsecureRequestWarning)\n",
      "C:\\Users\\allen\\Miniconda3\\envs\\idp\\lib\\site-packages\\urllib3\\connectionpool.py:858: InsecureRequestWarning: Unverified HTTPS request is being made. Adding certificate verification is strongly advised. See: https://urllib3.readthedocs.io/en/latest/advanced-usage.html#ssl-warnings\n",
      "  InsecureRequestWarning)\n",
      "C:\\Users\\allen\\Miniconda3\\envs\\idp\\lib\\site-packages\\urllib3\\connectionpool.py:858: InsecureRequestWarning: Unverified HTTPS request is being made. Adding certificate verification is strongly advised. See: https://urllib3.readthedocs.io/en/latest/advanced-usage.html#ssl-warnings\n",
      "  InsecureRequestWarning)\n",
      "C:\\Users\\allen\\Miniconda3\\envs\\idp\\lib\\site-packages\\urllib3\\connectionpool.py:858: InsecureRequestWarning: Unverified HTTPS request is being made. Adding certificate verification is strongly advised. See: https://urllib3.readthedocs.io/en/latest/advanced-usage.html#ssl-warnings\n",
      "  InsecureRequestWarning)\n",
      "C:\\Users\\allen\\Miniconda3\\envs\\idp\\lib\\site-packages\\urllib3\\connectionpool.py:858: InsecureRequestWarning: Unverified HTTPS request is being made. Adding certificate verification is strongly advised. See: https://urllib3.readthedocs.io/en/latest/advanced-usage.html#ssl-warnings\n",
      "  InsecureRequestWarning)\n",
      "C:\\Users\\allen\\Miniconda3\\envs\\idp\\lib\\site-packages\\urllib3\\connectionpool.py:858: InsecureRequestWarning: Unverified HTTPS request is being made. Adding certificate verification is strongly advised. See: https://urllib3.readthedocs.io/en/latest/advanced-usage.html#ssl-warnings\n",
      "  InsecureRequestWarning)\n",
      "C:\\Users\\allen\\Miniconda3\\envs\\idp\\lib\\site-packages\\urllib3\\connectionpool.py:858: InsecureRequestWarning: Unverified HTTPS request is being made. Adding certificate verification is strongly advised. See: https://urllib3.readthedocs.io/en/latest/advanced-usage.html#ssl-warnings\n",
      "  InsecureRequestWarning)\n",
      "C:\\Users\\allen\\Miniconda3\\envs\\idp\\lib\\site-packages\\urllib3\\connectionpool.py:858: InsecureRequestWarning: Unverified HTTPS request is being made. Adding certificate verification is strongly advised. See: https://urllib3.readthedocs.io/en/latest/advanced-usage.html#ssl-warnings\n",
      "  InsecureRequestWarning)\n",
      "C:\\Users\\allen\\Miniconda3\\envs\\idp\\lib\\site-packages\\urllib3\\connectionpool.py:858: InsecureRequestWarning: Unverified HTTPS request is being made. Adding certificate verification is strongly advised. See: https://urllib3.readthedocs.io/en/latest/advanced-usage.html#ssl-warnings\n",
      "  InsecureRequestWarning)\n",
      "C:\\Users\\allen\\Miniconda3\\envs\\idp\\lib\\site-packages\\urllib3\\connectionpool.py:858: InsecureRequestWarning: Unverified HTTPS request is being made. Adding certificate verification is strongly advised. See: https://urllib3.readthedocs.io/en/latest/advanced-usage.html#ssl-warnings\n",
      "  InsecureRequestWarning)\n",
      "C:\\Users\\allen\\Miniconda3\\envs\\idp\\lib\\site-packages\\urllib3\\connectionpool.py:858: InsecureRequestWarning: Unverified HTTPS request is being made. Adding certificate verification is strongly advised. See: https://urllib3.readthedocs.io/en/latest/advanced-usage.html#ssl-warnings\n",
      "  InsecureRequestWarning)\n",
      "C:\\Users\\allen\\Miniconda3\\envs\\idp\\lib\\site-packages\\urllib3\\connectionpool.py:858: InsecureRequestWarning: Unverified HTTPS request is being made. Adding certificate verification is strongly advised. See: https://urllib3.readthedocs.io/en/latest/advanced-usage.html#ssl-warnings\n",
      "  InsecureRequestWarning)\n",
      "C:\\Users\\allen\\Miniconda3\\envs\\idp\\lib\\site-packages\\urllib3\\connectionpool.py:858: InsecureRequestWarning: Unverified HTTPS request is being made. Adding certificate verification is strongly advised. See: https://urllib3.readthedocs.io/en/latest/advanced-usage.html#ssl-warnings\n",
      "  InsecureRequestWarning)\n",
      "C:\\Users\\allen\\Miniconda3\\envs\\idp\\lib\\site-packages\\urllib3\\connectionpool.py:858: InsecureRequestWarning: Unverified HTTPS request is being made. Adding certificate verification is strongly advised. See: https://urllib3.readthedocs.io/en/latest/advanced-usage.html#ssl-warnings\n",
      "  InsecureRequestWarning)\n",
      "C:\\Users\\allen\\Miniconda3\\envs\\idp\\lib\\site-packages\\urllib3\\connectionpool.py:858: InsecureRequestWarning: Unverified HTTPS request is being made. Adding certificate verification is strongly advised. See: https://urllib3.readthedocs.io/en/latest/advanced-usage.html#ssl-warnings\n",
      "  InsecureRequestWarning)\n",
      "C:\\Users\\allen\\Miniconda3\\envs\\idp\\lib\\site-packages\\urllib3\\connectionpool.py:858: InsecureRequestWarning: Unverified HTTPS request is being made. Adding certificate verification is strongly advised. See: https://urllib3.readthedocs.io/en/latest/advanced-usage.html#ssl-warnings\n",
      "  InsecureRequestWarning)\n",
      "C:\\Users\\allen\\Miniconda3\\envs\\idp\\lib\\site-packages\\urllib3\\connectionpool.py:858: InsecureRequestWarning: Unverified HTTPS request is being made. Adding certificate verification is strongly advised. See: https://urllib3.readthedocs.io/en/latest/advanced-usage.html#ssl-warnings\n",
      "  InsecureRequestWarning)\n",
      "C:\\Users\\allen\\Miniconda3\\envs\\idp\\lib\\site-packages\\urllib3\\connectionpool.py:858: InsecureRequestWarning: Unverified HTTPS request is being made. Adding certificate verification is strongly advised. See: https://urllib3.readthedocs.io/en/latest/advanced-usage.html#ssl-warnings\n",
      "  InsecureRequestWarning)\n",
      "C:\\Users\\allen\\Miniconda3\\envs\\idp\\lib\\site-packages\\urllib3\\connectionpool.py:858: InsecureRequestWarning: Unverified HTTPS request is being made. Adding certificate verification is strongly advised. See: https://urllib3.readthedocs.io/en/latest/advanced-usage.html#ssl-warnings\n",
      "  InsecureRequestWarning)\n",
      "C:\\Users\\allen\\Miniconda3\\envs\\idp\\lib\\site-packages\\urllib3\\connectionpool.py:858: InsecureRequestWarning: Unverified HTTPS request is being made. Adding certificate verification is strongly advised. See: https://urllib3.readthedocs.io/en/latest/advanced-usage.html#ssl-warnings\n",
      "  InsecureRequestWarning)\n",
      "C:\\Users\\allen\\Miniconda3\\envs\\idp\\lib\\site-packages\\urllib3\\connectionpool.py:858: InsecureRequestWarning: Unverified HTTPS request is being made. Adding certificate verification is strongly advised. See: https://urllib3.readthedocs.io/en/latest/advanced-usage.html#ssl-warnings\n",
      "  InsecureRequestWarning)\n"
     ]
    },
    {
     "name": "stderr",
     "output_type": "stream",
     "text": [
      "C:\\Users\\allen\\Miniconda3\\envs\\idp\\lib\\site-packages\\urllib3\\connectionpool.py:858: InsecureRequestWarning: Unverified HTTPS request is being made. Adding certificate verification is strongly advised. See: https://urllib3.readthedocs.io/en/latest/advanced-usage.html#ssl-warnings\n",
      "  InsecureRequestWarning)\n",
      "C:\\Users\\allen\\Miniconda3\\envs\\idp\\lib\\site-packages\\urllib3\\connectionpool.py:858: InsecureRequestWarning: Unverified HTTPS request is being made. Adding certificate verification is strongly advised. See: https://urllib3.readthedocs.io/en/latest/advanced-usage.html#ssl-warnings\n",
      "  InsecureRequestWarning)\n",
      "C:\\Users\\allen\\Miniconda3\\envs\\idp\\lib\\site-packages\\urllib3\\connectionpool.py:858: InsecureRequestWarning: Unverified HTTPS request is being made. Adding certificate verification is strongly advised. See: https://urllib3.readthedocs.io/en/latest/advanced-usage.html#ssl-warnings\n",
      "  InsecureRequestWarning)\n",
      "C:\\Users\\allen\\Miniconda3\\envs\\idp\\lib\\site-packages\\urllib3\\connectionpool.py:858: InsecureRequestWarning: Unverified HTTPS request is being made. Adding certificate verification is strongly advised. See: https://urllib3.readthedocs.io/en/latest/advanced-usage.html#ssl-warnings\n",
      "  InsecureRequestWarning)\n",
      "C:\\Users\\allen\\Miniconda3\\envs\\idp\\lib\\site-packages\\urllib3\\connectionpool.py:858: InsecureRequestWarning: Unverified HTTPS request is being made. Adding certificate verification is strongly advised. See: https://urllib3.readthedocs.io/en/latest/advanced-usage.html#ssl-warnings\n",
      "  InsecureRequestWarning)\n",
      "C:\\Users\\allen\\Miniconda3\\envs\\idp\\lib\\site-packages\\urllib3\\connectionpool.py:858: InsecureRequestWarning: Unverified HTTPS request is being made. Adding certificate verification is strongly advised. See: https://urllib3.readthedocs.io/en/latest/advanced-usage.html#ssl-warnings\n",
      "  InsecureRequestWarning)\n",
      "C:\\Users\\allen\\Miniconda3\\envs\\idp\\lib\\site-packages\\urllib3\\connectionpool.py:858: InsecureRequestWarning: Unverified HTTPS request is being made. Adding certificate verification is strongly advised. See: https://urllib3.readthedocs.io/en/latest/advanced-usage.html#ssl-warnings\n",
      "  InsecureRequestWarning)\n",
      "C:\\Users\\allen\\Miniconda3\\envs\\idp\\lib\\site-packages\\urllib3\\connectionpool.py:858: InsecureRequestWarning: Unverified HTTPS request is being made. Adding certificate verification is strongly advised. See: https://urllib3.readthedocs.io/en/latest/advanced-usage.html#ssl-warnings\n",
      "  InsecureRequestWarning)\n",
      "C:\\Users\\allen\\Miniconda3\\envs\\idp\\lib\\site-packages\\urllib3\\connectionpool.py:858: InsecureRequestWarning: Unverified HTTPS request is being made. Adding certificate verification is strongly advised. See: https://urllib3.readthedocs.io/en/latest/advanced-usage.html#ssl-warnings\n",
      "  InsecureRequestWarning)\n",
      "C:\\Users\\allen\\Miniconda3\\envs\\idp\\lib\\site-packages\\urllib3\\connectionpool.py:858: InsecureRequestWarning: Unverified HTTPS request is being made. Adding certificate verification is strongly advised. See: https://urllib3.readthedocs.io/en/latest/advanced-usage.html#ssl-warnings\n",
      "  InsecureRequestWarning)\n",
      "C:\\Users\\allen\\Miniconda3\\envs\\idp\\lib\\site-packages\\urllib3\\connectionpool.py:858: InsecureRequestWarning: Unverified HTTPS request is being made. Adding certificate verification is strongly advised. See: https://urllib3.readthedocs.io/en/latest/advanced-usage.html#ssl-warnings\n",
      "  InsecureRequestWarning)\n",
      "C:\\Users\\allen\\Miniconda3\\envs\\idp\\lib\\site-packages\\urllib3\\connectionpool.py:858: InsecureRequestWarning: Unverified HTTPS request is being made. Adding certificate verification is strongly advised. See: https://urllib3.readthedocs.io/en/latest/advanced-usage.html#ssl-warnings\n",
      "  InsecureRequestWarning)\n",
      "C:\\Users\\allen\\Miniconda3\\envs\\idp\\lib\\site-packages\\urllib3\\connectionpool.py:858: InsecureRequestWarning: Unverified HTTPS request is being made. Adding certificate verification is strongly advised. See: https://urllib3.readthedocs.io/en/latest/advanced-usage.html#ssl-warnings\n",
      "  InsecureRequestWarning)\n",
      "C:\\Users\\allen\\Miniconda3\\envs\\idp\\lib\\site-packages\\urllib3\\connectionpool.py:858: InsecureRequestWarning: Unverified HTTPS request is being made. Adding certificate verification is strongly advised. See: https://urllib3.readthedocs.io/en/latest/advanced-usage.html#ssl-warnings\n",
      "  InsecureRequestWarning)\n",
      "C:\\Users\\allen\\Miniconda3\\envs\\idp\\lib\\site-packages\\urllib3\\connectionpool.py:858: InsecureRequestWarning: Unverified HTTPS request is being made. Adding certificate verification is strongly advised. See: https://urllib3.readthedocs.io/en/latest/advanced-usage.html#ssl-warnings\n",
      "  InsecureRequestWarning)\n",
      "C:\\Users\\allen\\Miniconda3\\envs\\idp\\lib\\site-packages\\urllib3\\connectionpool.py:858: InsecureRequestWarning: Unverified HTTPS request is being made. Adding certificate verification is strongly advised. See: https://urllib3.readthedocs.io/en/latest/advanced-usage.html#ssl-warnings\n",
      "  InsecureRequestWarning)\n",
      "C:\\Users\\allen\\Miniconda3\\envs\\idp\\lib\\site-packages\\urllib3\\connectionpool.py:858: InsecureRequestWarning: Unverified HTTPS request is being made. Adding certificate verification is strongly advised. See: https://urllib3.readthedocs.io/en/latest/advanced-usage.html#ssl-warnings\n",
      "  InsecureRequestWarning)\n",
      "C:\\Users\\allen\\Miniconda3\\envs\\idp\\lib\\site-packages\\urllib3\\connectionpool.py:858: InsecureRequestWarning: Unverified HTTPS request is being made. Adding certificate verification is strongly advised. See: https://urllib3.readthedocs.io/en/latest/advanced-usage.html#ssl-warnings\n",
      "  InsecureRequestWarning)\n",
      "C:\\Users\\allen\\Miniconda3\\envs\\idp\\lib\\site-packages\\urllib3\\connectionpool.py:858: InsecureRequestWarning: Unverified HTTPS request is being made. Adding certificate verification is strongly advised. See: https://urllib3.readthedocs.io/en/latest/advanced-usage.html#ssl-warnings\n",
      "  InsecureRequestWarning)\n",
      "C:\\Users\\allen\\Miniconda3\\envs\\idp\\lib\\site-packages\\urllib3\\connectionpool.py:858: InsecureRequestWarning: Unverified HTTPS request is being made. Adding certificate verification is strongly advised. See: https://urllib3.readthedocs.io/en/latest/advanced-usage.html#ssl-warnings\n",
      "  InsecureRequestWarning)\n",
      "C:\\Users\\allen\\Miniconda3\\envs\\idp\\lib\\site-packages\\urllib3\\connectionpool.py:858: InsecureRequestWarning: Unverified HTTPS request is being made. Adding certificate verification is strongly advised. See: https://urllib3.readthedocs.io/en/latest/advanced-usage.html#ssl-warnings\n",
      "  InsecureRequestWarning)\n",
      "C:\\Users\\allen\\Miniconda3\\envs\\idp\\lib\\site-packages\\urllib3\\connectionpool.py:858: InsecureRequestWarning: Unverified HTTPS request is being made. Adding certificate verification is strongly advised. See: https://urllib3.readthedocs.io/en/latest/advanced-usage.html#ssl-warnings\n",
      "  InsecureRequestWarning)\n",
      "C:\\Users\\allen\\Miniconda3\\envs\\idp\\lib\\site-packages\\urllib3\\connectionpool.py:858: InsecureRequestWarning: Unverified HTTPS request is being made. Adding certificate verification is strongly advised. See: https://urllib3.readthedocs.io/en/latest/advanced-usage.html#ssl-warnings\n",
      "  InsecureRequestWarning)\n"
     ]
    }
   ],
   "source": [
    "# Naive Solution, gets raw HTML\n",
    "\n",
    "import urllib3\n",
    "http = urllib3.PoolManager()\n",
    "response = lambda url: http.request('GET', url).data\n",
    "\n",
    "\n",
    "def count_distinct_words(url):\n",
    "    \"\"\" Count distinct words of a URL \"\"\"\n",
    "    text = response(url)\n",
    "    return len(set(text.split()))\n",
    "\n",
    "\n",
    "def cmp_url_cached(a, b):\n",
    "    return cmp(word_counts[a], word_counts[b])\n",
    "\n",
    "\n",
    "\n",
    "word_counts = dict()\n",
    "\n",
    "for url in urls:\n",
    "    word_counts[url] = count_distinct_words(url)"
   ]
  },
  {
   "cell_type": "code",
   "execution_count": 110,
   "metadata": {
    "ExecuteTime": {
     "end_time": "2019-05-03T21:46:51.807817Z",
     "start_time": "2019-05-03T21:46:51.799875Z"
    }
   },
   "outputs": [
    {
     "data": {
      "text/plain": [
       "[('http://en.wikipedia.org/wiki/California', 20990),\n",
       " ('http://en.wikipedia.org/wiki/Texas', 19296),\n",
       " ('http://en.wikipedia.org/wiki/Massachusetts', 18947),\n",
       " ('http://en.wikipedia.org/wiki/Montana', 18738),\n",
       " ('http://en.wikipedia.org/wiki/Florida', 17741),\n",
       " ('http://en.wikipedia.org/wiki/Vermont', 16342),\n",
       " ('http://en.wikipedia.org/wiki/Alabama', 16294),\n",
       " ('http://en.wikipedia.org/wiki/Virginia', 16122),\n",
       " ('http://en.wikipedia.org/wiki/Louisiana', 16044),\n",
       " ('http://en.wikipedia.org/wiki/Oklahoma', 15905),\n",
       " ('http://en.wikipedia.org/wiki/Hawaii', 15576),\n",
       " ('http://en.wikipedia.org/wiki/Colorado', 15424),\n",
       " ('http://en.wikipedia.org/wiki/Iowa', 15417),\n",
       " ('http://en.wikipedia.org/wiki/Illinois', 15314),\n",
       " ('http://en.wikipedia.org/wiki/Kentucky', 15028),\n",
       " ('http://en.wikipedia.org/wiki/New_Jersey', 14971),\n",
       " ('http://en.wikipedia.org/wiki/Arizona', 14884),\n",
       " ('http://en.wikipedia.org/wiki/Connecticut', 14859),\n",
       " ('http://en.wikipedia.org/wiki/New_Mexico', 14571),\n",
       " ('http://en.wikipedia.org/wiki/Mississippi', 14524),\n",
       " ('http://en.wikipedia.org/wiki/Utah', 14409),\n",
       " ('http://en.wikipedia.org/wiki/Minnesota', 14407),\n",
       " ('http://en.wikipedia.org/wiki/Oregon', 14270),\n",
       " ('http://en.wikipedia.org/wiki/Alaska', 14238),\n",
       " ('http://en.wikipedia.org/wiki/Michigan', 14131),\n",
       " ('http://en.wikipedia.org/wiki/Kansas', 14012),\n",
       " ('http://en.wikipedia.org/wiki/Missouri', 13978),\n",
       " ('http://en.wikipedia.org/wiki/West_Virginia', 13927),\n",
       " ('http://en.wikipedia.org/wiki/North_Carolina', 13873),\n",
       " ('http://en.wikipedia.org/wiki/Indiana', 13756),\n",
       " ('http://en.wikipedia.org/wiki/Arkansas', 13688),\n",
       " ('http://en.wikipedia.org/wiki/Pennsylvania', 13326),\n",
       " ('http://en.wikipedia.org/wiki/Maryland', 13287),\n",
       " ('http://en.wikipedia.org/wiki/North_Dakota', 13247),\n",
       " ('http://en.wikipedia.org/wiki/Nevada', 12997),\n",
       " ('http://en.wikipedia.org/wiki/South_Carolina', 12894),\n",
       " ('http://en.wikipedia.org/wiki/Tennessee', 12865),\n",
       " ('http://en.wikipedia.org/wiki/Rhode_Island', 12760),\n",
       " ('http://en.wikipedia.org/wiki/Wisconsin', 12583),\n",
       " ('http://en.wikipedia.org/wiki/South_Dakota', 12546),\n",
       " ('http://en.wikipedia.org/wiki/Ohio', 12523),\n",
       " ('http://en.wikipedia.org/wiki/New_Hampshire', 11733),\n",
       " ('http://en.wikipedia.org/wiki/Maine', 11590),\n",
       " ('http://en.wikipedia.org/wiki/Idaho', 11230),\n",
       " ('http://en.wikipedia.org/wiki/Wyoming', 10983),\n",
       " ('http://en.wikipedia.org/wiki/Nebraska', 10698),\n",
       " ('http://en.wikipedia.org/wiki/Delaware', 10138),\n",
       " ('http://en.wikipedia.org/wiki/Washington', 2189),\n",
       " ('http://en.wikipedia.org/wiki/New_York', 2107),\n",
       " ('http://en.wikipedia.org/wiki/Georgia', 1755)]"
      ]
     },
     "execution_count": 110,
     "metadata": {},
     "output_type": "execute_result"
    }
   ],
   "source": [
    "import operator\n",
    "\n",
    "word_counts_sorted = sorted(word_counts.items(), key=operator.itemgetter(1))[::-1]\n",
    "\n",
    "word_counts_sorted"
   ]
  },
  {
   "cell_type": "markdown",
   "metadata": {},
   "source": [
    "## More on Memoization\n",
    "\n",
    "Establishing state is often required for performance.  Memoization captures a common tactic for higher performance code, particularly when repeated expensive operations must be avoided.  The `memoize` higher order function wraps this functionality into a simple function call or decorator."
   ]
  },
  {
   "cell_type": "markdown",
   "metadata": {},
   "source": [
    "# Pipe Function\n",
    "\n",
    "Functional code can end up containing a LOT of parentheses since we end up composing many functions together. In order to optimize our code for readability and easy syntax, we use a `pipe` function that composes together an arbitrary number of functions.\n",
    "\n",
    "Take for instance this cliche example:\n",
    "\n",
    "```\n",
    "# Do Laundry\n",
    "clothes = ...\n",
    "wet_clothes = wash(clothes)\n",
    "dry_clothes = dry(wet_clothes)\n",
    "result = fold(dry_clothes)\n",
    "```\n",
    "\n",
    "With a `pipe`, we can push our data (`clothes`) through a functional pattern to turn all of this into a single line of code at negligible expense:\n",
    "\n",
    "```\n",
    "result = pipe(clothes, wash, dry, fold)\n",
    "```"
   ]
  },
  {
   "cell_type": "code",
   "execution_count": 114,
   "metadata": {
    "ExecuteTime": {
     "end_time": "2019-05-03T22:38:45.563207Z",
     "start_time": "2019-05-03T22:38:45.554237Z"
    }
   },
   "outputs": [
    {
     "data": {
      "text/plain": [
       "'12'"
      ]
     },
     "execution_count": 114,
     "metadata": {},
     "output_type": "execute_result"
    }
   ],
   "source": [
    "from toolz import pipe, frequencies\n",
    "\n",
    "double = lambda x: 2*x\n",
    "\n",
    "pipe(3, double, double, str)"
   ]
  },
  {
   "cell_type": "code",
   "execution_count": 115,
   "metadata": {
    "ExecuteTime": {
     "end_time": "2019-05-03T22:38:46.993273Z",
     "start_time": "2019-05-03T22:38:46.982724Z"
    }
   },
   "outputs": [
    {
     "data": {
      "text/plain": [
       "{'your': 1,\n",
       " 'hair': 1,\n",
       " 'is': 1,\n",
       " 'on': 1,\n",
       " 'fire': 1,\n",
       " 'oh': 1,\n",
       " 'nevermind': 1,\n",
       " \"that's\": 1,\n",
       " 'just': 1,\n",
       " 'a': 1,\n",
       " 'baby': 1,\n",
       " 'dragon': 1}"
      ]
     },
     "execution_count": 115,
     "metadata": {},
     "output_type": "execute_result"
    }
   ],
   "source": [
    "from toolz.curried import map\n",
    "\n",
    "line = \"Your hair is on fire! Oh nevermind, that's just a baby dragon...\"\n",
    "\n",
    "stem = lambda word: word.lower().rstrip(\",.!)-*_?:;$'-\\\"\").lstrip(\"-*'\\\"(_$'\")\n",
    "\n",
    "wordcount = lambda sentence: pipe(sentence, str.split, map(stem), frequencies)\n",
    "\n",
    "wordcount(line)"
   ]
  },
  {
   "cell_type": "code",
   "execution_count": 119,
   "metadata": {
    "ExecuteTime": {
     "end_time": "2019-05-04T13:22:20.511140Z",
     "start_time": "2019-05-04T13:22:20.336704Z"
    }
   },
   "outputs": [
    {
     "data": {
      "text/plain": [
       "{'it': 2013,\n",
       " 'was': 1764,\n",
       " 'the': 8157,\n",
       " 'best': 40,\n",
       " 'of': 4119,\n",
       " 'times': 51,\n",
       " 'worst': 18,\n",
       " 'age': 20,\n",
       " 'wisdom': 2,\n",
       " 'foolishness': 1,\n",
       " 'epoch': 2,\n",
       " 'belief': 6,\n",
       " 'incredulity': 1,\n",
       " 'season': 7,\n",
       " 'light': 89,\n",
       " 'darkness': 28,\n",
       " 'spring': 5,\n",
       " 'hope': 84,\n",
       " 'winter': 11,\n",
       " 'despair': 6,\n",
       " 'we': 177,\n",
       " 'had': 1297,\n",
       " 'everything': 27,\n",
       " 'before': 232,\n",
       " 'us': 107,\n",
       " 'nothing': 149,\n",
       " 'were': 657,\n",
       " 'all': 571,\n",
       " 'going': 87,\n",
       " 'direct': 9,\n",
       " 'to': 3540,\n",
       " 'heaven': 35,\n",
       " 'other': 193,\n",
       " 'way': 180,\n",
       " 'in': 2634,\n",
       " 'short': 40,\n",
       " 'period': 5,\n",
       " 'so': 582,\n",
       " 'far': 81,\n",
       " 'like': 198,\n",
       " 'present': 41,\n",
       " 'that': 1904,\n",
       " 'some': 229,\n",
       " 'its': 227,\n",
       " 'noisiest': 1,\n",
       " 'authorities': 3,\n",
       " 'insisted': 2,\n",
       " 'on': 932,\n",
       " 'being': 134,\n",
       " 'received': 28,\n",
       " 'for': 971,\n",
       " 'good': 209,\n",
       " 'or': 434,\n",
       " 'evil': 9,\n",
       " 'superlative': 1,\n",
       " 'degree': 11,\n",
       " 'comparison': 4,\n",
       " 'only': 121,\n",
       " 'there': 567,\n",
       " 'a': 2967,\n",
       " 'king': 22,\n",
       " 'with': 1351,\n",
       " 'large': 37,\n",
       " 'jaw': 2,\n",
       " 'and': 4993,\n",
       " 'queen': 11,\n",
       " 'plain': 16,\n",
       " 'face': 187,\n",
       " 'throne': 3,\n",
       " 'england': 39,\n",
       " 'fair': 20,\n",
       " 'france': 57,\n",
       " 'both': 86,\n",
       " 'countries': 3,\n",
       " 'clearer': 1,\n",
       " 'than': 216,\n",
       " 'crystal': 1,\n",
       " 'lords': 6,\n",
       " 'state': 56,\n",
       " 'preserves': 1,\n",
       " 'loaves': 2,\n",
       " 'fishes': 1,\n",
       " 'things': 68,\n",
       " 'general': 32,\n",
       " 'settled': 5,\n",
       " 'ever': 117,\n",
       " 'year': 36,\n",
       " 'our': 105,\n",
       " 'lord': 25,\n",
       " 'one': 437,\n",
       " 'thousand': 26,\n",
       " 'seven': 24,\n",
       " 'hundred': 42,\n",
       " 'seventy-five': 5,\n",
       " 'spiritual': 2,\n",
       " 'revelations': 1,\n",
       " 'conceded': 1,\n",
       " 'at': 1043,\n",
       " 'favoured': 5,\n",
       " 'as': 1148,\n",
       " 'this': 588,\n",
       " 'mrs': 18,\n",
       " 'southcott': 1,\n",
       " 'recently': 2,\n",
       " 'attained': 1,\n",
       " 'her': 1038,\n",
       " 'five-and-twentieth': 1,\n",
       " 'blessed': 7,\n",
       " 'birthday': 2,\n",
       " 'whom': 70,\n",
       " 'prophetic': 3,\n",
       " 'private': 11,\n",
       " 'life': 147,\n",
       " 'guards': 3,\n",
       " 'heralded': 2,\n",
       " 'sublime': 3,\n",
       " 'appearance': 29,\n",
       " 'by': 576,\n",
       " 'announcing': 1,\n",
       " 'arrangements': 9,\n",
       " 'made': 184,\n",
       " 'swallowing': 3,\n",
       " 'up': 309,\n",
       " 'london': 27,\n",
       " 'westminster': 2,\n",
       " 'even': 127,\n",
       " 'cock-lane': 2,\n",
       " 'ghost': 15,\n",
       " 'been': 435,\n",
       " 'laid': 52,\n",
       " 'round': 65,\n",
       " 'dozen': 7,\n",
       " 'years': 86,\n",
       " 'after': 138,\n",
       " 'rapping': 1,\n",
       " 'out': 445,\n",
       " 'messages': 3,\n",
       " 'spirits': 10,\n",
       " 'very': 217,\n",
       " 'last': 133,\n",
       " 'past': 26,\n",
       " 'supernaturally': 1,\n",
       " 'deficient': 1,\n",
       " 'originality': 1,\n",
       " 'rapped': 2,\n",
       " 'theirs': 3,\n",
       " 'mere': 23,\n",
       " 'earthly': 5,\n",
       " 'order': 17,\n",
       " 'events': 7,\n",
       " 'lately': 4,\n",
       " 'come': 156,\n",
       " 'english': 46,\n",
       " 'crown': 5,\n",
       " 'people': 137,\n",
       " 'from': 529,\n",
       " 'congress': 1,\n",
       " 'british': 5,\n",
       " 'subjects': 3,\n",
       " 'america': 3,\n",
       " 'which': 409,\n",
       " 'strange': 23,\n",
       " 'relate': 3,\n",
       " 'have': 742,\n",
       " 'proved': 3,\n",
       " 'more': 261,\n",
       " 'important': 9,\n",
       " 'human': 23,\n",
       " 'race': 15,\n",
       " 'any': 261,\n",
       " 'communications': 3,\n",
       " 'yet': 108,\n",
       " 'through': 161,\n",
       " 'chickens': 1,\n",
       " 'brood': 2,\n",
       " 'less': 38,\n",
       " 'whole': 37,\n",
       " 'matters': 6,\n",
       " 'sister': 23,\n",
       " 'shield': 1,\n",
       " 'trident': 1,\n",
       " 'rolled': 11,\n",
       " 'exceeding': 1,\n",
       " 'smoothness': 1,\n",
       " 'down': 232,\n",
       " 'hill': 34,\n",
       " 'making': 33,\n",
       " 'paper': 48,\n",
       " 'money': 25,\n",
       " 'spending': 1,\n",
       " 'under': 145,\n",
       " 'guidance': 5,\n",
       " 'christian': 6,\n",
       " 'pastors': 1,\n",
       " 'she': 458,\n",
       " 'entertained': 1,\n",
       " 'herself': 41,\n",
       " 'besides': 18,\n",
       " 'such': 180,\n",
       " 'humane': 2,\n",
       " 'achievements': 1,\n",
       " 'sentencing': 1,\n",
       " 'youth': 9,\n",
       " 'his': 2005,\n",
       " 'hands': 112,\n",
       " 'cut': 10,\n",
       " 'off': 97,\n",
       " 'tongue': 7,\n",
       " 'torn': 10,\n",
       " 'pincers': 1,\n",
       " 'body': 20,\n",
       " 'burned': 3,\n",
       " 'alive': 10,\n",
       " 'because': 42,\n",
       " 'he': 1832,\n",
       " 'not': 860,\n",
       " 'kneeled': 5,\n",
       " 'rain': 15,\n",
       " 'do': 315,\n",
       " 'honour': 28,\n",
       " 'dirty': 6,\n",
       " 'procession': 9,\n",
       " 'monks': 1,\n",
       " 'passed': 67,\n",
       " 'within': 68,\n",
       " 'view': 7,\n",
       " 'distance': 22,\n",
       " 'fifty': 12,\n",
       " 'sixty': 7,\n",
       " 'yards': 4,\n",
       " 'is': 842,\n",
       " 'likely': 15,\n",
       " 'enough': 71,\n",
       " 'rooted': 3,\n",
       " 'woods': 3,\n",
       " 'norway': 1,\n",
       " 'growing': 11,\n",
       " 'trees': 14,\n",
       " 'when': 434,\n",
       " 'sufferer': 4,\n",
       " 'put': 111,\n",
       " 'death': 62,\n",
       " 'already': 41,\n",
       " 'marked': 8,\n",
       " 'woodman': 3,\n",
       " 'fate': 11,\n",
       " 'be': 781,\n",
       " 'sawn': 1,\n",
       " 'into': 319,\n",
       " 'boards': 1,\n",
       " 'make': 84,\n",
       " 'certain': 34,\n",
       " 'movable': 1,\n",
       " 'framework': 1,\n",
       " 'sack': 3,\n",
       " 'knife': 14,\n",
       " 'terrible': 15,\n",
       " 'history': 12,\n",
       " 'rough': 15,\n",
       " 'outhouses': 1,\n",
       " 'tillers': 1,\n",
       " 'heavy': 37,\n",
       " 'lands': 1,\n",
       " 'adjacent': 5,\n",
       " 'paris': 62,\n",
       " 'sheltered': 2,\n",
       " 'weather': 8,\n",
       " 'day': 169,\n",
       " 'rude': 2,\n",
       " 'carts': 8,\n",
       " 'bespattered': 1,\n",
       " 'rustic': 5,\n",
       " 'mire': 2,\n",
       " 'snuffed': 1,\n",
       " 'about': 169,\n",
       " 'pigs': 1,\n",
       " 'roosted': 1,\n",
       " 'poultry': 1,\n",
       " 'farmer': 3,\n",
       " 'set': 56,\n",
       " 'apart': 16,\n",
       " 'tumbrils': 15,\n",
       " 'revolution': 7,\n",
       " 'but': 654,\n",
       " 'though': 93,\n",
       " 'they': 564,\n",
       " 'work': 128,\n",
       " 'unceasingly': 1,\n",
       " 'silently': 11,\n",
       " 'no': 547,\n",
       " 'heard': 63,\n",
       " 'them': 393,\n",
       " 'went': 109,\n",
       " 'muffled': 4,\n",
       " 'tread': 9,\n",
       " 'rather': 43,\n",
       " 'forasmuch': 2,\n",
       " 'entertain': 2,\n",
       " 'suspicion': 13,\n",
       " 'awake': 7,\n",
       " 'atheistical': 1,\n",
       " 'traitorous': 2,\n",
       " 'scarcely': 17,\n",
       " 'an': 348,\n",
       " 'amount': 1,\n",
       " 'protection': 4,\n",
       " 'justify': 3,\n",
       " 'much': 181,\n",
       " 'national': 14,\n",
       " 'boasting': 1,\n",
       " 'daring': 1,\n",
       " 'burglaries': 1,\n",
       " 'armed': 14,\n",
       " 'men': 89,\n",
       " 'highway': 5,\n",
       " 'robberies': 1,\n",
       " 'took': 108,\n",
       " 'place': 108,\n",
       " 'capital': 4,\n",
       " 'itself': 47,\n",
       " 'every': 122,\n",
       " 'night': 180,\n",
       " 'families': 3,\n",
       " 'publicly': 3,\n",
       " 'cautioned': 1,\n",
       " 'go': 137,\n",
       " 'town': 13,\n",
       " 'without': 112,\n",
       " 'removing': 2,\n",
       " 'their': 318,\n",
       " 'furniture': 4,\n",
       " 'upholsterers': 1,\n",
       " 'warehouses': 1,\n",
       " 'security': 3,\n",
       " 'highwayman': 3,\n",
       " 'dark': 89,\n",
       " 'city': 38,\n",
       " 'tradesman': 14,\n",
       " 'recognised': 5,\n",
       " 'challenged': 1,\n",
       " 'fellow-tradesman': 1,\n",
       " 'stopped': 62,\n",
       " 'character': 19,\n",
       " 'captain': 1,\n",
       " 'gallantly': 1,\n",
       " 'shot': 9,\n",
       " 'him': 965,\n",
       " 'head': 172,\n",
       " 'rode': 8,\n",
       " 'away': 134,\n",
       " 'mail': 26,\n",
       " 'waylaid': 1,\n",
       " 'robbers': 2,\n",
       " 'guard': 36,\n",
       " 'three': 117,\n",
       " 'dead': 64,\n",
       " 'then': 253,\n",
       " 'got': 82,\n",
       " 'himself': 219,\n",
       " 'four': 41,\n",
       " 'consequence': 4,\n",
       " 'failure': 2,\n",
       " 'ammunition': 1,\n",
       " 'robbed': 4,\n",
       " 'peace': 11,\n",
       " 'magnificent': 4,\n",
       " 'potentate': 1,\n",
       " 'mayor': 1,\n",
       " 'stand': 18,\n",
       " 'deliver': 7,\n",
       " 'turnham': 1,\n",
       " 'green': 5,\n",
       " 'who': 375,\n",
       " 'despoiled': 1,\n",
       " 'illustrious': 6,\n",
       " 'creature': 23,\n",
       " 'sight': 40,\n",
       " 'retinue': 1,\n",
       " 'prisoners': 30,\n",
       " 'gaols': 2,\n",
       " 'fought': 2,\n",
       " 'battles': 1,\n",
       " 'turnkeys': 2,\n",
       " 'majesty': 3,\n",
       " 'law': 22,\n",
       " 'fired': 8,\n",
       " 'blunderbusses': 1,\n",
       " 'among': 106,\n",
       " 'loaded': 6,\n",
       " 'rounds': 2,\n",
       " 'ball': 6,\n",
       " 'thieves': 2,\n",
       " 'snipped': 1,\n",
       " 'diamond': 1,\n",
       " 'crosses': 1,\n",
       " 'necks': 2,\n",
       " 'noble': 13,\n",
       " 'court': 50,\n",
       " 'drawing-rooms': 1,\n",
       " 'musketeers': 3,\n",
       " 'st': 7,\n",
       " \"giles's\": 1,\n",
       " 'search': 7,\n",
       " 'contraband': 2,\n",
       " 'goods': 5,\n",
       " 'mob': 5,\n",
       " 'nobody': 15,\n",
       " 'thought': 61,\n",
       " 'these': 187,\n",
       " 'occurrences': 1,\n",
       " 'common': 22,\n",
       " 'midst': 14,\n",
       " 'hangman': 2,\n",
       " 'busy': 11,\n",
       " 'worse': 19,\n",
       " 'useless': 11,\n",
       " 'constant': 3,\n",
       " 'requisition': 2,\n",
       " 'now': 256,\n",
       " 'stringing': 1,\n",
       " 'long': 192,\n",
       " 'rows': 2,\n",
       " 'miscellaneous': 1,\n",
       " 'criminals': 2,\n",
       " 'hanging': 12,\n",
       " 'housebreaker': 1,\n",
       " 'saturday': 2,\n",
       " 'taken': 74,\n",
       " 'tuesday': 1,\n",
       " 'burning': 10,\n",
       " 'hand': 246,\n",
       " 'newgate': 3,\n",
       " 'pamphlets': 1,\n",
       " 'door': 119,\n",
       " 'hall': 12,\n",
       " 'to-day': 26,\n",
       " 'taking': 41,\n",
       " 'atrocious': 1,\n",
       " 'murderer': 2,\n",
       " 'to-morrow': 33,\n",
       " 'wretched': 13,\n",
       " 'pilferer': 1,\n",
       " \"farmer's\": 2,\n",
       " 'boy': 38,\n",
       " 'sixpence': 2,\n",
       " 'came': 140,\n",
       " 'pass': 31,\n",
       " 'close': 51,\n",
       " 'upon': 291,\n",
       " 'dear': 123,\n",
       " 'old': 186,\n",
       " 'environed': 2,\n",
       " 'while': 97,\n",
       " 'worked': 21,\n",
       " 'unheeded': 1,\n",
       " 'those': 111,\n",
       " 'two': 210,\n",
       " 'jaws': 2,\n",
       " 'faces': 53,\n",
       " 'trod': 5,\n",
       " 'stir': 5,\n",
       " 'carried': 45,\n",
       " 'divine': 3,\n",
       " 'rights': 5,\n",
       " 'high': 41,\n",
       " 'thus': 33,\n",
       " 'did': 161,\n",
       " 'conduct': 4,\n",
       " 'greatnesses': 2,\n",
       " 'myriads': 1,\n",
       " 'small': 44,\n",
       " 'creatures--the': 1,\n",
       " 'creatures': 6,\n",
       " 'chronicle': 1,\n",
       " 'rest--along': 1,\n",
       " 'roads': 54,\n",
       " 'lay': 66,\n",
       " 'ii': 3,\n",
       " 'dover': 16,\n",
       " 'road': 46,\n",
       " 'friday': 4,\n",
       " 'late': 22,\n",
       " 'november': 5,\n",
       " 'first': 115,\n",
       " 'persons': 8,\n",
       " 'has': 151,\n",
       " 'business': 123,\n",
       " 'beyond': 27,\n",
       " 'lumbered': 3,\n",
       " \"shooter's\": 3,\n",
       " 'walked': 43,\n",
       " 'side': 69,\n",
       " 'rest': 42,\n",
       " 'passengers': 19,\n",
       " 'least': 20,\n",
       " 'relish': 4,\n",
       " 'walking': 22,\n",
       " 'exercise': 10,\n",
       " 'circumstances': 21,\n",
       " 'harness': 6,\n",
       " 'mud': 16,\n",
       " 'horses': 35,\n",
       " 'stop': 18,\n",
       " 'once': 78,\n",
       " 'drawing': 18,\n",
       " 'coach': 41,\n",
       " 'across': 36,\n",
       " 'mutinous': 1,\n",
       " 'intent': 16,\n",
       " 'back': 134,\n",
       " 'blackheath': 1,\n",
       " 'reins': 1,\n",
       " 'whip': 5,\n",
       " 'coachman': 9,\n",
       " 'however': 30,\n",
       " 'combination': 2,\n",
       " 'read': 36,\n",
       " 'article': 2,\n",
       " 'war': 1,\n",
       " 'forbade': 2,\n",
       " 'purpose': 25,\n",
       " 'otherwise': 26,\n",
       " 'strongly': 12,\n",
       " 'favour': 20,\n",
       " 'argument': 1,\n",
       " 'brute': 2,\n",
       " 'animals': 2,\n",
       " 'are': 333,\n",
       " 'endued': 1,\n",
       " 'reason': 26,\n",
       " 'team': 1,\n",
       " 'capitulated': 1,\n",
       " 'returned': 78,\n",
       " 'duty': 18,\n",
       " 'drooping': 5,\n",
       " 'heads': 38,\n",
       " 'tremulous': 2,\n",
       " 'tails': 2,\n",
       " 'mashed': 1,\n",
       " 'thick': 4,\n",
       " 'floundering': 2,\n",
       " 'stumbling': 1,\n",
       " 'between': 63,\n",
       " 'whiles': 2,\n",
       " 'if': 471,\n",
       " 'falling': 12,\n",
       " 'pieces': 18,\n",
       " 'larger': 4,\n",
       " 'joints': 2,\n",
       " 'often': 42,\n",
       " 'driver': 5,\n",
       " 'rested': 12,\n",
       " 'brought': 80,\n",
       " 'wary': 2,\n",
       " 'wo-ho': 2,\n",
       " 'so-ho-then': 1,\n",
       " 'near': 44,\n",
       " 'leader': 4,\n",
       " 'violently': 4,\n",
       " 'shook': 29,\n",
       " 'it--like': 1,\n",
       " 'unusually': 4,\n",
       " 'emphatic': 4,\n",
       " 'horse': 21,\n",
       " 'denying': 1,\n",
       " 'could': 282,\n",
       " 'whenever': 6,\n",
       " 'rattle': 8,\n",
       " 'passenger': 23,\n",
       " 'started': 17,\n",
       " 'nervous': 2,\n",
       " 'might': 144,\n",
       " 'disturbed': 10,\n",
       " 'mind': 116,\n",
       " 'steaming': 3,\n",
       " 'mist': 16,\n",
       " 'hollows': 1,\n",
       " 'roamed': 1,\n",
       " 'forlornness': 1,\n",
       " 'spirit': 15,\n",
       " 'seeking': 6,\n",
       " 'finding': 4,\n",
       " 'none': 28,\n",
       " 'clammy': 1,\n",
       " 'intensely': 3,\n",
       " 'cold': 29,\n",
       " 'slow': 9,\n",
       " 'air': 67,\n",
       " 'ripples': 1,\n",
       " 'visibly': 2,\n",
       " 'followed': 34,\n",
       " 'overspread': 1,\n",
       " 'another': 132,\n",
       " 'waves': 5,\n",
       " 'unwholesome': 3,\n",
       " 'sea': 31,\n",
       " 'dense': 1,\n",
       " 'shut': 21,\n",
       " 'coach-lamps': 2,\n",
       " 'own': 159,\n",
       " 'workings': 3,\n",
       " 'few': 88,\n",
       " 'reek': 1,\n",
       " 'labouring': 2,\n",
       " 'steamed': 2,\n",
       " 'plodding': 2,\n",
       " 'wrapped': 6,\n",
       " 'cheekbones': 1,\n",
       " 'over': 172,\n",
       " 'ears': 23,\n",
       " 'wore': 20,\n",
       " 'jack-boots': 2,\n",
       " 'said': 660,\n",
       " 'anything': 57,\n",
       " 'saw': 85,\n",
       " 'what': 371,\n",
       " 'either': 32,\n",
       " 'each': 25,\n",
       " 'hidden': 10,\n",
       " 'almost': 46,\n",
       " 'many': 143,\n",
       " 'wrappers': 2,\n",
       " 'eyes': 163,\n",
       " 'companions': 6,\n",
       " 'days': 51,\n",
       " 'travellers': 3,\n",
       " 'shy': 1,\n",
       " 'confidential': 4,\n",
       " 'notice': 21,\n",
       " 'anybody': 8,\n",
       " 'robber': 1,\n",
       " 'league': 3,\n",
       " 'latter': 15,\n",
       " 'posting-house': 7,\n",
       " 'ale-house': 1,\n",
       " 'produce': 5,\n",
       " 'somebody': 13,\n",
       " \"captain's\": 1,\n",
       " 'pay': 14,\n",
       " 'ranging': 1,\n",
       " 'landlord': 1,\n",
       " 'lowest': 4,\n",
       " 'stable': 3,\n",
       " 'non-descript': 1,\n",
       " 'likeliest': 3,\n",
       " 'thing': 48,\n",
       " 'cards': 11,\n",
       " 'lumbering': 6,\n",
       " 'stood': 92,\n",
       " 'particular': 22,\n",
       " 'perch': 1,\n",
       " 'behind': 54,\n",
       " 'beating': 9,\n",
       " 'feet': 44,\n",
       " 'keeping': 15,\n",
       " 'eye': 34,\n",
       " 'arm-chest': 2,\n",
       " 'where': 158,\n",
       " 'blunderbuss': 4,\n",
       " 'top': 16,\n",
       " 'six': 16,\n",
       " 'eight': 15,\n",
       " 'horse-pistols': 1,\n",
       " 'deposited': 1,\n",
       " 'substratum': 1,\n",
       " 'cutlass': 1,\n",
       " 'usual': 48,\n",
       " 'genial': 1,\n",
       " 'position': 7,\n",
       " 'suspected': 13,\n",
       " 'everybody': 14,\n",
       " 'else': 25,\n",
       " 'sure': 39,\n",
       " 'cattle': 2,\n",
       " 'clear': 13,\n",
       " 'conscience': 3,\n",
       " 'oath': 2,\n",
       " 'testaments': 1,\n",
       " 'fit': 9,\n",
       " 'journey': 23,\n",
       " 'pull': 8,\n",
       " \"you're\": 10,\n",
       " 'damned': 1,\n",
       " 'you': 1455,\n",
       " 'i': 1913,\n",
       " 'trouble': 16,\n",
       " 'get': 61,\n",
       " 'it!--joe': 1,\n",
       " 'halloa': 4,\n",
       " 'replied': 18,\n",
       " \"o'clock\": 20,\n",
       " 'joe': 6,\n",
       " 'ten': 21,\n",
       " 'minutes': 25,\n",
       " 'eleven': 5,\n",
       " 'my': 653,\n",
       " 'blood': 31,\n",
       " 'ejaculated': 1,\n",
       " 'vexed': 3,\n",
       " 'atop': 1,\n",
       " 'tst': 7,\n",
       " 'yah': 3,\n",
       " 'most': 73,\n",
       " 'decided': 7,\n",
       " 'negative': 1,\n",
       " 'scramble': 1,\n",
       " 'suit': 10,\n",
       " 'struggled': 6,\n",
       " 'squashing': 1,\n",
       " 'along': 42,\n",
       " 'kept': 42,\n",
       " 'company': 17,\n",
       " 'hardihood': 1,\n",
       " 'propose': 3,\n",
       " 'walk': 10,\n",
       " 'little': 265,\n",
       " 'ahead': 2,\n",
       " 'would': 341,\n",
       " 'getting': 18,\n",
       " 'instantly': 7,\n",
       " 'burst': 10,\n",
       " 'summit': 3,\n",
       " 'breathe': 3,\n",
       " 'again': 227,\n",
       " 'skid': 1,\n",
       " 'wheel': 2,\n",
       " 'descent': 5,\n",
       " 'open': 48,\n",
       " 'coach-door': 3,\n",
       " 'let': 108,\n",
       " 'cried': 46,\n",
       " 'warning': 5,\n",
       " 'voice': 83,\n",
       " 'looking': 118,\n",
       " 'box': 8,\n",
       " 'say': 164,\n",
       " 'tom': 4,\n",
       " 'listened': 14,\n",
       " 'canter': 1,\n",
       " 'coming': 49,\n",
       " 'gallop': 5,\n",
       " 'leaving': 12,\n",
       " 'hold': 55,\n",
       " 'mounting': 1,\n",
       " 'nimbly': 3,\n",
       " 'gentlemen': 27,\n",
       " \"king's\": 8,\n",
       " 'name': 101,\n",
       " 'hurried': 17,\n",
       " 'adjuration': 1,\n",
       " 'cocked': 2,\n",
       " 'offensive': 3,\n",
       " 'booked': 2,\n",
       " 'coach-step': 1,\n",
       " 'follow': 17,\n",
       " 'remained': 25,\n",
       " 'step': 13,\n",
       " 'half': 55,\n",
       " 'below': 15,\n",
       " 'looked': 193,\n",
       " 'pricked': 2,\n",
       " 'contradicting': 1,\n",
       " 'stillness': 8,\n",
       " 'consequent': 2,\n",
       " 'cessation': 3,\n",
       " 'rumbling': 1,\n",
       " 'added': 32,\n",
       " 'quiet': 40,\n",
       " 'indeed': 44,\n",
       " 'panting': 4,\n",
       " 'communicated': 6,\n",
       " 'motion': 4,\n",
       " 'agitation': 9,\n",
       " 'hearts': 9,\n",
       " 'beat': 9,\n",
       " 'loud': 17,\n",
       " 'perhaps': 42,\n",
       " 'rate': 5,\n",
       " 'pause': 18,\n",
       " 'audibly': 2,\n",
       " 'expressive': 6,\n",
       " 'breath': 20,\n",
       " 'holding': 10,\n",
       " 'having': 71,\n",
       " 'pulses': 1,\n",
       " 'quickened': 3,\n",
       " 'expectation': 5,\n",
       " 'sound': 43,\n",
       " 'fast': 27,\n",
       " 'furiously': 1,\n",
       " 'so-ho': 1,\n",
       " 'sang': 2,\n",
       " 'roar': 12,\n",
       " 'yo': 1,\n",
       " 'shall': 100,\n",
       " 'fire': 52,\n",
       " 'pace': 4,\n",
       " 'suddenly': 20,\n",
       " 'checked': 4,\n",
       " 'splashing': 2,\n",
       " \"man's\": 15,\n",
       " 'called': 51,\n",
       " 'never': 192,\n",
       " 'retorted': 6,\n",
       " 'why': 70,\n",
       " 'want': 36,\n",
       " 'know': 230,\n",
       " 'mr': 620,\n",
       " 'jarvis': 19,\n",
       " 'lorry': 336,\n",
       " 'showed': 25,\n",
       " 'moment': 73,\n",
       " 'eyed': 2,\n",
       " 'distrustfully': 1,\n",
       " 'keep': 52,\n",
       " 'should': 138,\n",
       " 'mistake': 10,\n",
       " 'right': 54,\n",
       " 'your': 345,\n",
       " 'lifetime': 1,\n",
       " 'gentleman': 70,\n",
       " 'answer': 51,\n",
       " 'straight': 29,\n",
       " 'matter': 35,\n",
       " 'asked': 86,\n",
       " 'mildly': 2,\n",
       " 'quavering': 1,\n",
       " 'speech': 7,\n",
       " 'wants': 2,\n",
       " 'me': 522,\n",
       " 'jerry': 106,\n",
       " \"don't\": 132,\n",
       " \"jerry's\": 2,\n",
       " 'growled': 4,\n",
       " \"he's\": 4,\n",
       " 'hoarser': 1,\n",
       " 'suits': 1,\n",
       " 'yes': 117,\n",
       " 'despatch': 2,\n",
       " 'sent': 16,\n",
       " 'yonder': 5,\n",
       " 't': 1,\n",
       " 'co': 3,\n",
       " 'messenger': 15,\n",
       " 'road--assisted': 1,\n",
       " 'swiftly': 3,\n",
       " 'politely': 1,\n",
       " 'immediately': 20,\n",
       " 'scrambled': 2,\n",
       " 'pulled': 9,\n",
       " 'window': 49,\n",
       " 'may': 140,\n",
       " \"there's\": 7,\n",
       " 'wrong': 20,\n",
       " \"ain't\": 9,\n",
       " \"can't\": 20,\n",
       " 'nation': 4,\n",
       " 'gruff': 3,\n",
       " 'soliloquy': 1,\n",
       " 'hallo': 3,\n",
       " 'well': 167,\n",
       " 'hoarsely': 3,\n",
       " 'footpace': 1,\n",
       " \"d'ye\": 4,\n",
       " \"you've\": 7,\n",
       " 'holsters': 1,\n",
       " 'saddle': 5,\n",
       " 'o': 36,\n",
       " 'yourn': 1,\n",
       " 'see': 198,\n",
       " 'nigh': 2,\n",
       " 'em': 13,\n",
       " \"i'm\": 8,\n",
       " 'devil': 16,\n",
       " 'quick': 22,\n",
       " 'takes': 5,\n",
       " 'form': 18,\n",
       " 'lead': 11,\n",
       " \"let's\": 1,\n",
       " 'look': 140,\n",
       " 'figures': 16,\n",
       " 'rider': 5,\n",
       " 'slowly': 38,\n",
       " 'eddying': 1,\n",
       " 'stooped': 8,\n",
       " 'casting': 6,\n",
       " 'handed': 11,\n",
       " 'folded': 11,\n",
       " \"rider's\": 2,\n",
       " 'blown': 2,\n",
       " 'covered': 12,\n",
       " 'hoofs': 1,\n",
       " 'hat': 12,\n",
       " 'man': 279,\n",
       " 'tone': 27,\n",
       " 'confidence': 33,\n",
       " 'watchful': 6,\n",
       " 'stock': 9,\n",
       " 'raised': 30,\n",
       " 'left': 101,\n",
       " 'barrel': 1,\n",
       " 'horseman': 1,\n",
       " 'answered': 53,\n",
       " 'curtly': 1,\n",
       " 'sir': 99,\n",
       " 'apprehend': 2,\n",
       " 'belong': 6,\n",
       " \"tellson's\": 83,\n",
       " 'bank': 49,\n",
       " 'must': 111,\n",
       " 'am': 225,\n",
       " 'drink': 18,\n",
       " 'opened': 49,\n",
       " 'coach-lamp': 2,\n",
       " 'read--first': 1,\n",
       " 'aloud': 8,\n",
       " 'wait': 14,\n",
       " \"mam'selle\": 2,\n",
       " \"it's\": 34,\n",
       " 'recalled': 16,\n",
       " \"that's\": 30,\n",
       " 'blazing': 7,\n",
       " 'too': 116,\n",
       " 'hoarsest': 1,\n",
       " 'take': 88,\n",
       " 'message': 11,\n",
       " 'will': 295,\n",
       " 'wrote': 13,\n",
       " 'words': 77,\n",
       " 'assisted': 12,\n",
       " 'fellow-passengers': 1,\n",
       " 'expeditiously': 1,\n",
       " 'secreted': 2,\n",
       " 'watches': 5,\n",
       " 'purses': 1,\n",
       " 'boots': 9,\n",
       " 'pretence': 3,\n",
       " 'asleep': 21,\n",
       " 'definite': 2,\n",
       " 'escape': 11,\n",
       " 'hazard': 6,\n",
       " 'originating': 1,\n",
       " 'kind': 41,\n",
       " 'action': 20,\n",
       " 'heavier': 9,\n",
       " 'wreaths': 2,\n",
       " 'closing': 12,\n",
       " 'began': 48,\n",
       " 'soon': 55,\n",
       " 'replaced': 2,\n",
       " 'contents': 3,\n",
       " 'supplementary': 1,\n",
       " 'pistols': 2,\n",
       " 'belt': 1,\n",
       " 'smaller': 1,\n",
       " 'chest': 4,\n",
       " 'beneath': 5,\n",
       " 'seat': 24,\n",
       " \"smith's\": 3,\n",
       " 'tools': 15,\n",
       " 'couple': 1,\n",
       " 'torches': 2,\n",
       " 'tinder-box': 1,\n",
       " 'furnished': 5,\n",
       " 'completeness': 1,\n",
       " 'stormed': 1,\n",
       " 'occasionally': 9,\n",
       " 'happen': 9,\n",
       " 'inside': 11,\n",
       " 'flint': 2,\n",
       " 'steel': 3,\n",
       " 'sparks': 5,\n",
       " 'straw': 20,\n",
       " 'tolerable': 2,\n",
       " 'safety': 8,\n",
       " 'ease': 12,\n",
       " 'lucky': 2,\n",
       " 'five': 37,\n",
       " 'softly': 17,\n",
       " 'roof': 12,\n",
       " 'hear': 52,\n",
       " 'coincidence': 4,\n",
       " 'mused': 5,\n",
       " 'same': 79,\n",
       " 'myself': 57,\n",
       " 'alone': 52,\n",
       " 'dismounted': 1,\n",
       " 'meanwhile': 6,\n",
       " 'spent': 3,\n",
       " 'wipe': 2,\n",
       " 'shake': 6,\n",
       " 'wet': 11,\n",
       " 'hat-brim': 1,\n",
       " 'capable': 7,\n",
       " 'gallon': 1,\n",
       " 'standing': 27,\n",
       " 'bridle': 4,\n",
       " 'heavily-splashed': 1,\n",
       " 'arm': 60,\n",
       " 'until': 96,\n",
       " ...}"
      ]
     },
     "execution_count": 119,
     "metadata": {},
     "output_type": "execute_result"
    }
   ],
   "source": [
    "# multi-line text:\n",
    "from toolz import concat\n",
    "from toolz.curried import drop\n",
    "\n",
    "# PIPE PROCEDURE:\n",
    "# `open` the multi-line file\n",
    "# `drop` the first 112 lines, which include the gutenberg header\n",
    "# `map` str.split to each line in the file to break sentences down into words\n",
    "      # ^^ otherwise the algo will count letters!\n",
    "# `concat` lists of words into strings\n",
    "# `map` stem function to all words\n",
    "# count `frequency` of all words\n",
    "\n",
    "pipe('data/tale-of-two-cities.txt', open, drop(112), map(str.split), concat, map(stem), frequencies)"
   ]
  },
  {
   "cell_type": "markdown",
   "metadata": {},
   "source": [
    "Now just imagine all the code that we would write in order to perform this task, which we have effectively done in just a couple lines of code!"
   ]
  },
  {
   "cell_type": "code",
   "execution_count": null,
   "metadata": {},
   "outputs": [],
   "source": []
  }
 ],
 "metadata": {
  "kernelspec": {
   "display_name": "Python 3",
   "language": "python",
   "name": "python3"
  },
  "language_info": {
   "codemirror_mode": {
    "name": "ipython",
    "version": 3
   },
   "file_extension": ".py",
   "mimetype": "text/x-python",
   "name": "python",
   "nbconvert_exporter": "python",
   "pygments_lexer": "ipython3",
   "version": "3.6.7"
  },
  "toc": {
   "base_numbering": 1,
   "nav_menu": {},
   "number_sections": true,
   "sideBar": true,
   "skip_h1_title": false,
   "title_cell": "Table of Contents",
   "title_sidebar": "Contents",
   "toc_cell": true,
   "toc_position": {
    "height": "calc(100% - 180px)",
    "left": "10px",
    "top": "150px",
    "width": "346px"
   },
   "toc_section_display": true,
   "toc_window_display": true
  }
 },
 "nbformat": 4,
 "nbformat_minor": 1
}
